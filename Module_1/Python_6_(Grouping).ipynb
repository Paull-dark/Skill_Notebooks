{
 "cells": [
  {
   "cell_type": "code",
   "execution_count": 1,
   "metadata": {},
   "outputs": [],
   "source": [
    "import pandas as pd"
   ]
  },
  {
   "cell_type": "code",
   "execution_count": 2,
   "metadata": {},
   "outputs": [],
   "source": [
    "df = pd.read_csv('C:/Users/sarga/Python3/Module_1/data_sf.csv')"
   ]
  },
  {
   "cell_type": "code",
   "execution_count": null,
   "metadata": {},
   "outputs": [],
   "source": [
    "#small_df = df.iloc[[1,3,5],[1,2,3,4]]"
   ]
  },
  {
   "cell_type": "code",
   "execution_count": null,
   "metadata": {},
   "outputs": [],
   "source": [
    "small_df = df[df.columns[1:8]].head(25)\n",
    "small_df"
   ]
  },
  {
   "cell_type": "markdown",
   "metadata": {},
   "source": [
    "***ПОДСЧЕТ КОЛИЧЕСТВА ЗНАЧЕНИЙ ПО СТРОКОВЫМ ПРИЗНАКАМ***"
   ]
  },
  {
   "cell_type": "code",
   "execution_count": null,
   "metadata": {},
   "outputs": [],
   "source": [
    "# Cколько футболистов относится к каждой из представленных национальностей.\n",
    "\n",
    "s = small_df[\"Nationality\"].value_counts()\n",
    "display(s)"
   ]
  },
  {
   "cell_type": "code",
   "execution_count": null,
   "metadata": {},
   "outputs": [],
   "source": [
    "#Вызвав первый индекс переменной s мы получим страну с наибоьшим количеством футболистов\n",
    "s.index[0]"
   ]
  },
  {
   "cell_type": "code",
   "execution_count": null,
   "metadata": {},
   "outputs": [],
   "source": [
    "#Если мы вызовем функцию len для серии s, то получим количество уникальных значений исходной серии, то есть количество национальностей, которые встречаются в датафрейме \n",
    "#small_df:\n",
    "len(s.index)"
   ]
  },
  {
   "cell_type": "code",
   "execution_count": null,
   "metadata": {},
   "outputs": [],
   "source": [
    "# Получившуюся серию s можно отфильтровать по определенному значению.\n",
    "# Например, оставить только такие сборные, в которых больше \n",
    "# 1 футболиста:\n",
    "s.loc[s>1]"
   ]
  },
  {
   "cell_type": "code",
   "execution_count": null,
   "metadata": {},
   "outputs": [],
   "source": [
    "# Можно посчитать количество футболистов не \n",
    "# в абсолютных числах, а в процентах от общего числа в датасете. \n",
    "# Для этого надо вызвать функцию value_counts() с параметром normalize=True:\n",
    "df['Nationality'].value_counts(normalize = True)"
   ]
  },
  {
   "cell_type": "markdown",
   "metadata": {},
   "source": [
    "***ПОДСЧЕТ КОЛИЧЕСТВА ЗНАЧЕНИЙ ПО ЧИСЛЕННЫМ ПРИЗНАКАМ***"
   ]
  },
  {
   "cell_type": "code",
   "execution_count": null,
   "metadata": {},
   "outputs": [],
   "source": [
    "s = df['Age'].value_counts()\n",
    "display(s)"
   ]
  },
  {
   "cell_type": "code",
   "execution_count": null,
   "metadata": {},
   "outputs": [],
   "source": [
    "s = df[\"Wage\"].value_counts()\n",
    "s"
   ]
  },
  {
   "cell_type": "markdown",
   "metadata": {},
   "source": [
    "*Из-за того, что цифры зарплат повторяются не часто , трудно сделать какие-то выводы. Но всё будет более наглядно, если мы разобьем весь возможный диапазон зарплат на 4 равных промежутка и подсчитаем количество футболистов, попадающих в каждый из промежутков. Именно для этого нужен параметр bins:*"
   ]
  },
  {
   "cell_type": "code",
   "execution_count": null,
   "metadata": {},
   "outputs": [],
   "source": [
    "s=df[\"Wage\"].value_counts(bins = 4)\n",
    "s"
   ]
  },
  {
   "cell_type": "markdown",
   "metadata": {},
   "source": [
    "*Теперь видно, что распределение неравномерное и только 2 футболиста из 25 получают сверхвысокую зарплату.*"
   ]
  },
  {
   "cell_type": "code",
   "execution_count": null,
   "metadata": {},
   "outputs": [],
   "source": [
    "#Давайте посмотрим, что это за футболисты:\n",
    "df.loc[(df.Wage > s.index[3].left) & (df.Wage <= s.index[3].right)]"
   ]
  },
  {
   "cell_type": "code",
   "execution_count": null,
   "metadata": {},
   "outputs": [],
   "source": [
    "small_df = df[df.columns[0:7]].head(25)\n",
    "s = small_df['Wage'].value_counts(bins=4)\n",
    "small_df['Wage'] > s.index[3].left"
   ]
  },
  {
   "cell_type": "markdown",
   "metadata": {},
   "source": [
    "***Функции unique и nunique и преобразование серии value_counts в датафрейм***"
   ]
  },
  {
   "cell_type": "code",
   "execution_count": null,
   "metadata": {},
   "outputs": [],
   "source": [
    "small_df['Nationality'].unique()"
   ]
  },
  {
   "cell_type": "code",
   "execution_count": null,
   "metadata": {},
   "outputs": [],
   "source": [
    "len(small_df['Nationality'].unique())"
   ]
  },
  {
   "cell_type": "code",
   "execution_count": null,
   "metadata": {},
   "outputs": [],
   "source": [
    "small_df['Nationality'].nunique()"
   ]
  },
  {
   "cell_type": "markdown",
   "metadata": {},
   "source": [
    "***Преобразование серии value_counts в датафрейм***"
   ]
  },
  {
   "cell_type": "code",
   "execution_count": null,
   "metadata": {},
   "outputs": [],
   "source": [
    "s = small_df['Nationality'].value_counts()\n",
    "s_df = s.reset_index()\n",
    "s_df"
   ]
  },
  {
   "cell_type": "code",
   "execution_count": null,
   "metadata": {},
   "outputs": [],
   "source": [
    "s_df.columns = ['Nationality', 'Players Count']\n",
    "s_df"
   ]
  },
  {
   "cell_type": "markdown",
   "metadata": {},
   "source": [
    "*** ***"
   ]
  },
  {
   "cell_type": "markdown",
   "metadata": {},
   "source": [
    "***Pivot-Table Functions***"
   ]
  },
  {
   "cell_type": "code",
   "execution_count": 9,
   "metadata": {},
   "outputs": [
    {
     "data": {
      "text/html": [
       "<div>\n",
       "<style scoped>\n",
       "    .dataframe tbody tr th:only-of-type {\n",
       "        vertical-align: middle;\n",
       "    }\n",
       "\n",
       "    .dataframe tbody tr th {\n",
       "        vertical-align: top;\n",
       "    }\n",
       "\n",
       "    .dataframe thead th {\n",
       "        text-align: right;\n",
       "    }\n",
       "</style>\n",
       "<table border=\"1\" class=\"dataframe\">\n",
       "  <thead>\n",
       "    <tr style=\"text-align: right;\">\n",
       "      <th>Club</th>\n",
       "      <th>FC Barcelona</th>\n",
       "      <th>Juventus</th>\n",
       "      <th>Manchester United</th>\n",
       "      <th>Real Madrid</th>\n",
       "      <th>Shakhtar Donetsk</th>\n",
       "      <th>All</th>\n",
       "    </tr>\n",
       "    <tr>\n",
       "      <th>Nationality</th>\n",
       "      <th></th>\n",
       "      <th></th>\n",
       "      <th></th>\n",
       "      <th></th>\n",
       "      <th></th>\n",
       "      <th></th>\n",
       "    </tr>\n",
       "  </thead>\n",
       "  <tbody>\n",
       "    <tr>\n",
       "      <th>Argentina</th>\n",
       "      <td>565000.0</td>\n",
       "      <td>205000.0</td>\n",
       "      <td>206000.0</td>\n",
       "      <td>NaN</td>\n",
       "      <td>NaN</td>\n",
       "      <td>976000</td>\n",
       "    </tr>\n",
       "    <tr>\n",
       "      <th>Belgium</th>\n",
       "      <td>110000.0</td>\n",
       "      <td>NaN</td>\n",
       "      <td>230000.0</td>\n",
       "      <td>240000.0</td>\n",
       "      <td>NaN</td>\n",
       "      <td>580000</td>\n",
       "    </tr>\n",
       "    <tr>\n",
       "      <th>Bosnia Herzegovina</th>\n",
       "      <td>NaN</td>\n",
       "      <td>180000.0</td>\n",
       "      <td>NaN</td>\n",
       "      <td>NaN</td>\n",
       "      <td>NaN</td>\n",
       "      <td>180000</td>\n",
       "    </tr>\n",
       "    <tr>\n",
       "      <th>Brazil</th>\n",
       "      <td>465000.0</td>\n",
       "      <td>335000.0</td>\n",
       "      <td>91000.0</td>\n",
       "      <td>570000.0</td>\n",
       "      <td>3000.0</td>\n",
       "      <td>1464000</td>\n",
       "    </tr>\n",
       "    <tr>\n",
       "      <th>Chile</th>\n",
       "      <td>205000.0</td>\n",
       "      <td>NaN</td>\n",
       "      <td>215000.0</td>\n",
       "      <td>NaN</td>\n",
       "      <td>NaN</td>\n",
       "      <td>420000</td>\n",
       "    </tr>\n",
       "    <tr>\n",
       "      <th>Costa Rica</th>\n",
       "      <td>NaN</td>\n",
       "      <td>NaN</td>\n",
       "      <td>NaN</td>\n",
       "      <td>195000.0</td>\n",
       "      <td>NaN</td>\n",
       "      <td>195000</td>\n",
       "    </tr>\n",
       "    <tr>\n",
       "      <th>Croatia</th>\n",
       "      <td>260000.0</td>\n",
       "      <td>160000.0</td>\n",
       "      <td>NaN</td>\n",
       "      <td>420000.0</td>\n",
       "      <td>NaN</td>\n",
       "      <td>840000</td>\n",
       "    </tr>\n",
       "    <tr>\n",
       "      <th>Dominican Republic</th>\n",
       "      <td>NaN</td>\n",
       "      <td>NaN</td>\n",
       "      <td>NaN</td>\n",
       "      <td>140000.0</td>\n",
       "      <td>NaN</td>\n",
       "      <td>140000</td>\n",
       "    </tr>\n",
       "    <tr>\n",
       "      <th>Ecuador</th>\n",
       "      <td>NaN</td>\n",
       "      <td>NaN</td>\n",
       "      <td>120000.0</td>\n",
       "      <td>NaN</td>\n",
       "      <td>NaN</td>\n",
       "      <td>120000</td>\n",
       "    </tr>\n",
       "    <tr>\n",
       "      <th>England</th>\n",
       "      <td>NaN</td>\n",
       "      <td>NaN</td>\n",
       "      <td>478000.0</td>\n",
       "      <td>NaN</td>\n",
       "      <td>NaN</td>\n",
       "      <td>478000</td>\n",
       "    </tr>\n",
       "    <tr>\n",
       "      <th>France</th>\n",
       "      <td>495000.0</td>\n",
       "      <td>145000.0</td>\n",
       "      <td>375000.0</td>\n",
       "      <td>459000.0</td>\n",
       "      <td>NaN</td>\n",
       "      <td>1474000</td>\n",
       "    </tr>\n",
       "    <tr>\n",
       "      <th>Germany</th>\n",
       "      <td>240000.0</td>\n",
       "      <td>160000.0</td>\n",
       "      <td>NaN</td>\n",
       "      <td>355000.0</td>\n",
       "      <td>NaN</td>\n",
       "      <td>755000</td>\n",
       "    </tr>\n",
       "    <tr>\n",
       "      <th>Italy</th>\n",
       "      <td>NaN</td>\n",
       "      <td>460000.0</td>\n",
       "      <td>88000.0</td>\n",
       "      <td>NaN</td>\n",
       "      <td>NaN</td>\n",
       "      <td>548000</td>\n",
       "    </tr>\n",
       "    <tr>\n",
       "      <th>Ivory Coast</th>\n",
       "      <td>NaN</td>\n",
       "      <td>NaN</td>\n",
       "      <td>105000.0</td>\n",
       "      <td>NaN</td>\n",
       "      <td>NaN</td>\n",
       "      <td>105000</td>\n",
       "    </tr>\n",
       "    <tr>\n",
       "      <th>Morocco</th>\n",
       "      <td>NaN</td>\n",
       "      <td>160000.0</td>\n",
       "      <td>NaN</td>\n",
       "      <td>NaN</td>\n",
       "      <td>NaN</td>\n",
       "      <td>160000</td>\n",
       "    </tr>\n",
       "    <tr>\n",
       "      <th>Netherlands</th>\n",
       "      <td>135000.0</td>\n",
       "      <td>NaN</td>\n",
       "      <td>NaN</td>\n",
       "      <td>NaN</td>\n",
       "      <td>NaN</td>\n",
       "      <td>135000</td>\n",
       "    </tr>\n",
       "    <tr>\n",
       "      <th>Poland</th>\n",
       "      <td>NaN</td>\n",
       "      <td>125000.0</td>\n",
       "      <td>NaN</td>\n",
       "      <td>NaN</td>\n",
       "      <td>NaN</td>\n",
       "      <td>125000</td>\n",
       "    </tr>\n",
       "    <tr>\n",
       "      <th>Portugal</th>\n",
       "      <td>125000.0</td>\n",
       "      <td>405000.0</td>\n",
       "      <td>NaN</td>\n",
       "      <td>NaN</td>\n",
       "      <td>NaN</td>\n",
       "      <td>530000</td>\n",
       "    </tr>\n",
       "    <tr>\n",
       "      <th>Scotland</th>\n",
       "      <td>NaN</td>\n",
       "      <td>NaN</td>\n",
       "      <td>11000.0</td>\n",
       "      <td>NaN</td>\n",
       "      <td>NaN</td>\n",
       "      <td>11000</td>\n",
       "    </tr>\n",
       "    <tr>\n",
       "      <th>Serbia</th>\n",
       "      <td>NaN</td>\n",
       "      <td>NaN</td>\n",
       "      <td>165000.0</td>\n",
       "      <td>NaN</td>\n",
       "      <td>NaN</td>\n",
       "      <td>165000</td>\n",
       "    </tr>\n",
       "    <tr>\n",
       "      <th>Spain</th>\n",
       "      <td>912000.0</td>\n",
       "      <td>NaN</td>\n",
       "      <td>260000.0</td>\n",
       "      <td>1404000.0</td>\n",
       "      <td>NaN</td>\n",
       "      <td>2576000</td>\n",
       "    </tr>\n",
       "    <tr>\n",
       "      <th>Ukraine</th>\n",
       "      <td>NaN</td>\n",
       "      <td>NaN</td>\n",
       "      <td>NaN</td>\n",
       "      <td>NaN</td>\n",
       "      <td>7000.0</td>\n",
       "      <td>7000</td>\n",
       "    </tr>\n",
       "    <tr>\n",
       "      <th>Uruguay</th>\n",
       "      <td>455000.0</td>\n",
       "      <td>NaN</td>\n",
       "      <td>NaN</td>\n",
       "      <td>NaN</td>\n",
       "      <td>NaN</td>\n",
       "      <td>455000</td>\n",
       "    </tr>\n",
       "    <tr>\n",
       "      <th>Wales</th>\n",
       "      <td>NaN</td>\n",
       "      <td>NaN</td>\n",
       "      <td>13000.0</td>\n",
       "      <td>355000.0</td>\n",
       "      <td>NaN</td>\n",
       "      <td>368000</td>\n",
       "    </tr>\n",
       "    <tr>\n",
       "      <th>All</th>\n",
       "      <td>3967000.0</td>\n",
       "      <td>2335000.0</td>\n",
       "      <td>2357000.0</td>\n",
       "      <td>4138000.0</td>\n",
       "      <td>10000.0</td>\n",
       "      <td>12807000</td>\n",
       "    </tr>\n",
       "  </tbody>\n",
       "</table>\n",
       "</div>"
      ],
      "text/plain": [
       "Club                FC Barcelona   Juventus  Manchester United  Real Madrid  \\\n",
       "Nationality                                                                   \n",
       "Argentina               565000.0   205000.0           206000.0          NaN   \n",
       "Belgium                 110000.0        NaN           230000.0     240000.0   \n",
       "Bosnia Herzegovina           NaN   180000.0                NaN          NaN   \n",
       "Brazil                  465000.0   335000.0            91000.0     570000.0   \n",
       "Chile                   205000.0        NaN           215000.0          NaN   \n",
       "Costa Rica                   NaN        NaN                NaN     195000.0   \n",
       "Croatia                 260000.0   160000.0                NaN     420000.0   \n",
       "Dominican Republic           NaN        NaN                NaN     140000.0   \n",
       "Ecuador                      NaN        NaN           120000.0          NaN   \n",
       "England                      NaN        NaN           478000.0          NaN   \n",
       "France                  495000.0   145000.0           375000.0     459000.0   \n",
       "Germany                 240000.0   160000.0                NaN     355000.0   \n",
       "Italy                        NaN   460000.0            88000.0          NaN   \n",
       "Ivory Coast                  NaN        NaN           105000.0          NaN   \n",
       "Morocco                      NaN   160000.0                NaN          NaN   \n",
       "Netherlands             135000.0        NaN                NaN          NaN   \n",
       "Poland                       NaN   125000.0                NaN          NaN   \n",
       "Portugal                125000.0   405000.0                NaN          NaN   \n",
       "Scotland                     NaN        NaN            11000.0          NaN   \n",
       "Serbia                       NaN        NaN           165000.0          NaN   \n",
       "Spain                   912000.0        NaN           260000.0    1404000.0   \n",
       "Ukraine                      NaN        NaN                NaN          NaN   \n",
       "Uruguay                 455000.0        NaN                NaN          NaN   \n",
       "Wales                        NaN        NaN            13000.0     355000.0   \n",
       "All                    3967000.0  2335000.0          2357000.0    4138000.0   \n",
       "\n",
       "Club                Shakhtar Donetsk       All  \n",
       "Nationality                                     \n",
       "Argentina                        NaN    976000  \n",
       "Belgium                          NaN    580000  \n",
       "Bosnia Herzegovina               NaN    180000  \n",
       "Brazil                        3000.0   1464000  \n",
       "Chile                            NaN    420000  \n",
       "Costa Rica                       NaN    195000  \n",
       "Croatia                          NaN    840000  \n",
       "Dominican Republic               NaN    140000  \n",
       "Ecuador                          NaN    120000  \n",
       "England                          NaN    478000  \n",
       "France                           NaN   1474000  \n",
       "Germany                          NaN    755000  \n",
       "Italy                            NaN    548000  \n",
       "Ivory Coast                      NaN    105000  \n",
       "Morocco                          NaN    160000  \n",
       "Netherlands                      NaN    135000  \n",
       "Poland                           NaN    125000  \n",
       "Portugal                         NaN    530000  \n",
       "Scotland                         NaN     11000  \n",
       "Serbia                           NaN    165000  \n",
       "Spain                            NaN   2576000  \n",
       "Ukraine                       7000.0      7000  \n",
       "Uruguay                          NaN    455000  \n",
       "Wales                            NaN    368000  \n",
       "All                          10000.0  12807000  "
      ]
     },
     "metadata": {},
     "output_type": "display_data"
    }
   ],
   "source": [
    "pivot = df.loc[df['Club'].isin(['FC Barcelona', 'Real Madrid', 'Juventus', 'Manchester United',\n",
    "                                'Shakhtar Donetsk'])].pivot_table(values='Wage',\n",
    "                                                                  index='Nationality',\n",
    "                                                                  columns='Club',\n",
    "                                                                  aggfunc='sum',\n",
    "                                                                  margins=True)\n",
    "display(pivot)"
   ]
  },
  {
   "cell_type": "code",
   "execution_count": 10,
   "metadata": {},
   "outputs": [
    {
     "data": {
      "text/html": [
       "<div>\n",
       "<style scoped>\n",
       "    .dataframe tbody tr th:only-of-type {\n",
       "        vertical-align: middle;\n",
       "    }\n",
       "\n",
       "    .dataframe tbody tr th {\n",
       "        vertical-align: top;\n",
       "    }\n",
       "\n",
       "    .dataframe thead th {\n",
       "        text-align: right;\n",
       "    }\n",
       "</style>\n",
       "<table border=\"1\" class=\"dataframe\">\n",
       "  <thead>\n",
       "    <tr style=\"text-align: right;\">\n",
       "      <th>Club</th>\n",
       "      <th>FC Barcelona</th>\n",
       "      <th>Juventus</th>\n",
       "      <th>Manchester United</th>\n",
       "      <th>Real Madrid</th>\n",
       "      <th>Shakhtar Donetsk</th>\n",
       "      <th>All</th>\n",
       "    </tr>\n",
       "    <tr>\n",
       "      <th>Nationality</th>\n",
       "      <th></th>\n",
       "      <th></th>\n",
       "      <th></th>\n",
       "      <th></th>\n",
       "      <th></th>\n",
       "      <th></th>\n",
       "    </tr>\n",
       "  </thead>\n",
       "  <tbody>\n",
       "    <tr>\n",
       "      <th>Argentina</th>\n",
       "      <td>565000</td>\n",
       "      <td>205000</td>\n",
       "      <td>206000</td>\n",
       "      <td>0</td>\n",
       "      <td>0</td>\n",
       "      <td>976000</td>\n",
       "    </tr>\n",
       "    <tr>\n",
       "      <th>Belgium</th>\n",
       "      <td>110000</td>\n",
       "      <td>0</td>\n",
       "      <td>230000</td>\n",
       "      <td>240000</td>\n",
       "      <td>0</td>\n",
       "      <td>580000</td>\n",
       "    </tr>\n",
       "    <tr>\n",
       "      <th>Bosnia Herzegovina</th>\n",
       "      <td>0</td>\n",
       "      <td>180000</td>\n",
       "      <td>0</td>\n",
       "      <td>0</td>\n",
       "      <td>0</td>\n",
       "      <td>180000</td>\n",
       "    </tr>\n",
       "    <tr>\n",
       "      <th>Brazil</th>\n",
       "      <td>465000</td>\n",
       "      <td>335000</td>\n",
       "      <td>91000</td>\n",
       "      <td>570000</td>\n",
       "      <td>3000</td>\n",
       "      <td>1464000</td>\n",
       "    </tr>\n",
       "    <tr>\n",
       "      <th>Chile</th>\n",
       "      <td>205000</td>\n",
       "      <td>0</td>\n",
       "      <td>215000</td>\n",
       "      <td>0</td>\n",
       "      <td>0</td>\n",
       "      <td>420000</td>\n",
       "    </tr>\n",
       "    <tr>\n",
       "      <th>Costa Rica</th>\n",
       "      <td>0</td>\n",
       "      <td>0</td>\n",
       "      <td>0</td>\n",
       "      <td>195000</td>\n",
       "      <td>0</td>\n",
       "      <td>195000</td>\n",
       "    </tr>\n",
       "    <tr>\n",
       "      <th>Croatia</th>\n",
       "      <td>260000</td>\n",
       "      <td>160000</td>\n",
       "      <td>0</td>\n",
       "      <td>420000</td>\n",
       "      <td>0</td>\n",
       "      <td>840000</td>\n",
       "    </tr>\n",
       "    <tr>\n",
       "      <th>Dominican Republic</th>\n",
       "      <td>0</td>\n",
       "      <td>0</td>\n",
       "      <td>0</td>\n",
       "      <td>140000</td>\n",
       "      <td>0</td>\n",
       "      <td>140000</td>\n",
       "    </tr>\n",
       "    <tr>\n",
       "      <th>Ecuador</th>\n",
       "      <td>0</td>\n",
       "      <td>0</td>\n",
       "      <td>120000</td>\n",
       "      <td>0</td>\n",
       "      <td>0</td>\n",
       "      <td>120000</td>\n",
       "    </tr>\n",
       "    <tr>\n",
       "      <th>England</th>\n",
       "      <td>0</td>\n",
       "      <td>0</td>\n",
       "      <td>478000</td>\n",
       "      <td>0</td>\n",
       "      <td>0</td>\n",
       "      <td>478000</td>\n",
       "    </tr>\n",
       "    <tr>\n",
       "      <th>France</th>\n",
       "      <td>495000</td>\n",
       "      <td>145000</td>\n",
       "      <td>375000</td>\n",
       "      <td>459000</td>\n",
       "      <td>0</td>\n",
       "      <td>1474000</td>\n",
       "    </tr>\n",
       "    <tr>\n",
       "      <th>Germany</th>\n",
       "      <td>240000</td>\n",
       "      <td>160000</td>\n",
       "      <td>0</td>\n",
       "      <td>355000</td>\n",
       "      <td>0</td>\n",
       "      <td>755000</td>\n",
       "    </tr>\n",
       "    <tr>\n",
       "      <th>Italy</th>\n",
       "      <td>0</td>\n",
       "      <td>460000</td>\n",
       "      <td>88000</td>\n",
       "      <td>0</td>\n",
       "      <td>0</td>\n",
       "      <td>548000</td>\n",
       "    </tr>\n",
       "    <tr>\n",
       "      <th>Ivory Coast</th>\n",
       "      <td>0</td>\n",
       "      <td>0</td>\n",
       "      <td>105000</td>\n",
       "      <td>0</td>\n",
       "      <td>0</td>\n",
       "      <td>105000</td>\n",
       "    </tr>\n",
       "    <tr>\n",
       "      <th>Morocco</th>\n",
       "      <td>0</td>\n",
       "      <td>160000</td>\n",
       "      <td>0</td>\n",
       "      <td>0</td>\n",
       "      <td>0</td>\n",
       "      <td>160000</td>\n",
       "    </tr>\n",
       "    <tr>\n",
       "      <th>Netherlands</th>\n",
       "      <td>135000</td>\n",
       "      <td>0</td>\n",
       "      <td>0</td>\n",
       "      <td>0</td>\n",
       "      <td>0</td>\n",
       "      <td>135000</td>\n",
       "    </tr>\n",
       "    <tr>\n",
       "      <th>Poland</th>\n",
       "      <td>0</td>\n",
       "      <td>125000</td>\n",
       "      <td>0</td>\n",
       "      <td>0</td>\n",
       "      <td>0</td>\n",
       "      <td>125000</td>\n",
       "    </tr>\n",
       "    <tr>\n",
       "      <th>Portugal</th>\n",
       "      <td>125000</td>\n",
       "      <td>405000</td>\n",
       "      <td>0</td>\n",
       "      <td>0</td>\n",
       "      <td>0</td>\n",
       "      <td>530000</td>\n",
       "    </tr>\n",
       "    <tr>\n",
       "      <th>Scotland</th>\n",
       "      <td>0</td>\n",
       "      <td>0</td>\n",
       "      <td>11000</td>\n",
       "      <td>0</td>\n",
       "      <td>0</td>\n",
       "      <td>11000</td>\n",
       "    </tr>\n",
       "    <tr>\n",
       "      <th>Serbia</th>\n",
       "      <td>0</td>\n",
       "      <td>0</td>\n",
       "      <td>165000</td>\n",
       "      <td>0</td>\n",
       "      <td>0</td>\n",
       "      <td>165000</td>\n",
       "    </tr>\n",
       "    <tr>\n",
       "      <th>Spain</th>\n",
       "      <td>912000</td>\n",
       "      <td>0</td>\n",
       "      <td>260000</td>\n",
       "      <td>1404000</td>\n",
       "      <td>0</td>\n",
       "      <td>2576000</td>\n",
       "    </tr>\n",
       "    <tr>\n",
       "      <th>Ukraine</th>\n",
       "      <td>0</td>\n",
       "      <td>0</td>\n",
       "      <td>0</td>\n",
       "      <td>0</td>\n",
       "      <td>7000</td>\n",
       "      <td>7000</td>\n",
       "    </tr>\n",
       "    <tr>\n",
       "      <th>Uruguay</th>\n",
       "      <td>455000</td>\n",
       "      <td>0</td>\n",
       "      <td>0</td>\n",
       "      <td>0</td>\n",
       "      <td>0</td>\n",
       "      <td>455000</td>\n",
       "    </tr>\n",
       "    <tr>\n",
       "      <th>Wales</th>\n",
       "      <td>0</td>\n",
       "      <td>0</td>\n",
       "      <td>13000</td>\n",
       "      <td>355000</td>\n",
       "      <td>0</td>\n",
       "      <td>368000</td>\n",
       "    </tr>\n",
       "    <tr>\n",
       "      <th>All</th>\n",
       "      <td>3967000</td>\n",
       "      <td>2335000</td>\n",
       "      <td>2357000</td>\n",
       "      <td>4138000</td>\n",
       "      <td>10000</td>\n",
       "      <td>12807000</td>\n",
       "    </tr>\n",
       "  </tbody>\n",
       "</table>\n",
       "</div>"
      ],
      "text/plain": [
       "Club                FC Barcelona  Juventus  Manchester United  Real Madrid  \\\n",
       "Nationality                                                                  \n",
       "Argentina                 565000    205000             206000            0   \n",
       "Belgium                   110000         0             230000       240000   \n",
       "Bosnia Herzegovina             0    180000                  0            0   \n",
       "Brazil                    465000    335000              91000       570000   \n",
       "Chile                     205000         0             215000            0   \n",
       "Costa Rica                     0         0                  0       195000   \n",
       "Croatia                   260000    160000                  0       420000   \n",
       "Dominican Republic             0         0                  0       140000   \n",
       "Ecuador                        0         0             120000            0   \n",
       "England                        0         0             478000            0   \n",
       "France                    495000    145000             375000       459000   \n",
       "Germany                   240000    160000                  0       355000   \n",
       "Italy                          0    460000              88000            0   \n",
       "Ivory Coast                    0         0             105000            0   \n",
       "Morocco                        0    160000                  0            0   \n",
       "Netherlands               135000         0                  0            0   \n",
       "Poland                         0    125000                  0            0   \n",
       "Portugal                  125000    405000                  0            0   \n",
       "Scotland                       0         0              11000            0   \n",
       "Serbia                         0         0             165000            0   \n",
       "Spain                     912000         0             260000      1404000   \n",
       "Ukraine                        0         0                  0            0   \n",
       "Uruguay                   455000         0                  0            0   \n",
       "Wales                          0         0              13000       355000   \n",
       "All                      3967000   2335000            2357000      4138000   \n",
       "\n",
       "Club                Shakhtar Donetsk       All  \n",
       "Nationality                                     \n",
       "Argentina                          0    976000  \n",
       "Belgium                            0    580000  \n",
       "Bosnia Herzegovina                 0    180000  \n",
       "Brazil                          3000   1464000  \n",
       "Chile                              0    420000  \n",
       "Costa Rica                         0    195000  \n",
       "Croatia                            0    840000  \n",
       "Dominican Republic                 0    140000  \n",
       "Ecuador                            0    120000  \n",
       "England                            0    478000  \n",
       "France                             0   1474000  \n",
       "Germany                            0    755000  \n",
       "Italy                              0    548000  \n",
       "Ivory Coast                        0    105000  \n",
       "Morocco                            0    160000  \n",
       "Netherlands                        0    135000  \n",
       "Poland                             0    125000  \n",
       "Portugal                           0    530000  \n",
       "Scotland                           0     11000  \n",
       "Serbia                             0    165000  \n",
       "Spain                              0   2576000  \n",
       "Ukraine                         7000      7000  \n",
       "Uruguay                            0    455000  \n",
       "Wales                              0    368000  \n",
       "All                            10000  12807000  "
      ]
     },
     "metadata": {},
     "output_type": "display_data"
    }
   ],
   "source": [
    "pivot = df.loc[df['Club'].isin(['FC Barcelona', 'Real Madrid', 'Juventus', 'Manchester United',\n",
    "                                'Shakhtar Donetsk'])].pivot_table(values='Wage',\n",
    "                                                                  index='Nationality',\n",
    "                                                                  columns='Club',\n",
    "                                                                  aggfunc='sum',\n",
    "                                                                  margins=True,\n",
    "                                                                 fill_value = 0)\n",
    "display(pivot)"
   ]
  },
  {
   "cell_type": "code",
   "execution_count": 15,
   "metadata": {},
   "outputs": [
    {
     "data": {
      "text/plain": [
       "Index(['FC Barcelona', 'Juventus', 'Manchester United', 'Real Madrid',\n",
       "       'Shakhtar Donetsk', 'All'],\n",
       "      dtype='object', name='Club')"
      ]
     },
     "execution_count": 15,
     "metadata": {},
     "output_type": "execute_result"
    }
   ],
   "source": [
    "pivot.columns"
   ]
  },
  {
   "cell_type": "code",
   "execution_count": 20,
   "metadata": {},
   "outputs": [
    {
     "data": {
      "text/plain": [
       "565000"
      ]
     },
     "execution_count": 20,
     "metadata": {},
     "output_type": "execute_result"
    }
   ],
   "source": [
    "pivot.loc['Argentina']['FC Barcelona']"
   ]
  },
  {
   "cell_type": "code",
   "execution_count": 34,
   "metadata": {},
   "outputs": [
    {
     "name": "stdout",
     "output_type": "stream",
     "text": [
      "<class 'pandas.core.frame.DataFrame'>\n",
      "Index: 23 entries, Argentina to Wales\n",
      "Data columns (total 4 columns):\n",
      " #   Column             Non-Null Count  Dtype\n",
      "---  ------             --------------  -----\n",
      " 0   FC Barcelona       23 non-null     int64\n",
      " 1   Juventus           23 non-null     int64\n",
      " 2   Manchester United  23 non-null     int64\n",
      " 3   Real Madrid        23 non-null     int64\n",
      "dtypes: int64(4)\n",
      "memory usage: 920.0+ bytes\n"
     ]
    }
   ],
   "source": [
    "#V1\n",
    "pivot = df.loc[df['Club'].isin(['FC Barcelona', 'Real Madrid', 'Juventus',\n",
    "                                'Manchester United'])].pivot_table(values='Name',\n",
    "                                                                   index='Nationality',\n",
    "                                                                   columns='Club',\n",
    "                                                                   aggfunc='count',\n",
    "                                                                   fill_value=0)\n",
    "pivot.info()"
   ]
  },
  {
   "cell_type": "code",
   "execution_count": 28,
   "metadata": {},
   "outputs": [
    {
     "data": {
      "text/plain": [
       "2"
      ]
     },
     "execution_count": 28,
     "metadata": {},
     "output_type": "execute_result"
    }
   ],
   "source": [
    "pivot.loc['Argentina']['Manchester United']"
   ]
  },
  {
   "cell_type": "code",
   "execution_count": 31,
   "metadata": {},
   "outputs": [
    {
     "data": {
      "text/plain": [
       "2"
      ]
     },
     "execution_count": 31,
     "metadata": {},
     "output_type": "execute_result"
    }
   ],
   "source": [
    "#V2\n",
    "pivot = df.loc[df['Club'].isin(['FC Barcelona','Real Madrid','Juventus','Manchester United'])].pivot_table(values=['Name'],\n",
    "index=['Nationality'],\n",
    "columns=['Club'],\n",
    "aggfunc='count',\n",
    "fill_value=0)\n",
    "pivot.loc['Argentina']['Name']['Manchester United']"
   ]
  },
  {
   "cell_type": "code",
   "execution_count": 35,
   "metadata": {},
   "outputs": [
    {
     "name": "stdout",
     "output_type": "stream",
     "text": [
      "<class 'pandas.core.frame.DataFrame'>\n",
      "Index: 23 entries, Argentina to Wales\n",
      "Data columns (total 4 columns):\n",
      " #   Column             Non-Null Count  Dtype\n",
      "---  ------             --------------  -----\n",
      " 0   FC Barcelona       23 non-null     int64\n",
      " 1   Juventus           23 non-null     int64\n",
      " 2   Manchester United  23 non-null     int64\n",
      " 3   Real Madrid        23 non-null     int64\n",
      "dtypes: int64(4)\n",
      "memory usage: 920.0+ bytes\n"
     ]
    }
   ],
   "source": [
    "pivot.info()"
   ]
  },
  {
   "cell_type": "code",
   "execution_count": null,
   "metadata": {},
   "outputs": [],
   "source": []
  },
  {
   "cell_type": "code",
   "execution_count": null,
   "metadata": {},
   "outputs": [],
   "source": []
  },
  {
   "cell_type": "code",
   "execution_count": null,
   "metadata": {},
   "outputs": [],
   "source": []
  },
  {
   "cell_type": "code",
   "execution_count": null,
   "metadata": {},
   "outputs": [],
   "source": []
  },
  {
   "cell_type": "code",
   "execution_count": null,
   "metadata": {},
   "outputs": [],
   "source": []
  },
  {
   "cell_type": "code",
   "execution_count": null,
   "metadata": {},
   "outputs": [],
   "source": []
  },
  {
   "cell_type": "code",
   "execution_count": null,
   "metadata": {},
   "outputs": [],
   "source": []
  },
  {
   "cell_type": "markdown",
   "metadata": {},
   "source": [
    "ЗАДАНИЯ По ПАНДАС"
   ]
  },
  {
   "cell_type": "code",
   "execution_count": null,
   "metadata": {},
   "outputs": [],
   "source": [
    "#  Сколько футбольных клубов представлено в датасете?"
   ]
  },
  {
   "cell_type": "code",
   "execution_count": null,
   "metadata": {},
   "outputs": [],
   "source": [
    "club = df['Club'].value_counts()\n",
    "len(club.index)"
   ]
  },
  {
   "cell_type": "code",
   "execution_count": null,
   "metadata": {},
   "outputs": [],
   "source": [
    "#Отметьте названия футбольных клубов, представленных в датасете наибольшим \n",
    "#количеством игроков.\n",
    "\n",
    "club.head(3)"
   ]
  },
  {
   "cell_type": "code",
   "execution_count": null,
   "metadata": {},
   "outputs": [],
   "source": [
    "# Данные об игроках каких позиций (Position) занимают более 10% датасета?\n",
    "df['Position'].value_counts(normalize = True).tail(10)"
   ]
  },
  {
   "cell_type": "code",
   "execution_count": null,
   "metadata": {},
   "outputs": [],
   "source": [
    "#В каких пределах находятся худшие 20% \n",
    "#показателей точности ударов ногой (FKAccuracy)?\n",
    "\n",
    "df[\"FKAccuracy\"].value_counts(bins = 5)"
   ]
  },
  {
   "cell_type": "code",
   "execution_count": null,
   "metadata": {},
   "outputs": [],
   "source": [
    "small_df.groupby(\"Nationality\").agg(\"mean\")"
   ]
  },
  {
   "cell_type": "code",
   "execution_count": null,
   "metadata": {},
   "outputs": [],
   "source": [
    "# У какого процента испанских специалистов (Nationality = 'Spain') зарплата (Wage) находится в пределах\n",
    "# 25% минимума от наблюдаемого уровня зарплат? Ответ дайте в виде целого числа \n",
    "# (округлите полученный результат) без знака %.\n",
    "fb = df.loc[(df['Nationality'] == 'Spain')\n",
    "            ]['Wage'].value_counts(bins=4, normalize=True)\n",
    "fb\n"
   ]
  },
  {
   "cell_type": "code",
   "execution_count": null,
   "metadata": {},
   "outputs": [],
   "source": [
    "# Укажите количество уникальных сборных (Nationality), к которым относятся футболисты, выступающие за клуб \n",
    "#(Club) \"Manchester United\".\n",
    "fb = df.loc[(df['Club'] == 'Manchester United')]['Nationality'].nunique()\n",
    "fb"
   ]
  },
  {
   "cell_type": "code",
   "execution_count": null,
   "metadata": {},
   "outputs": [],
   "source": [
    "# С помощью функции unique определите двух футболистов из Бразилии (Nationality = 'Brazil'),\n",
    "# выступающих за клуб (Club) 'Juventus'. Перечислите их имена (Name, как в датафрейме)\n",
    "# через запятую в алфавитном порядке.\n",
    "df.loc[(df['Club'] == 'Juventus') & (\n",
    "    df['Nationality'] == 'Brazil')]['Name'].unique()"
   ]
  },
  {
   "cell_type": "code",
   "execution_count": null,
   "metadata": {},
   "outputs": [],
   "source": [
    "a = df.loc[(df.Club == \"Juventus\") & (df.Nationality == \"Brazil\")]\n",
    "a[\"Name\"].unique()"
   ]
  },
  {
   "cell_type": "code",
   "execution_count": null,
   "metadata": {},
   "outputs": [],
   "source": [
    "# Укажите, какой из клубов (Club) насчитывает большее количество футболистов возрастом (Age) \n",
    "#старше 35 лет.\n",
    "df.loc[(df.Age > 35)]['Club'].value_counts()\n"
   ]
  },
  {
   "cell_type": "code",
   "execution_count": null,
   "metadata": {},
   "outputs": [],
   "source": [
    "# С помощью функции value_counts с параметром bins разбейте всех футболистов сборной (Nationality) Аргентины ('Argentina') \n",
    "# на 4 равные группы. Укажите, сколько футболистов в возрасте от 34.75 до 41 года в сборной Аргентины.\n",
    "\n",
    "df.loc[df.Nationality == \"Argentina\"][\"Age\"].value_counts(bins = 4)"
   ]
  },
  {
   "cell_type": "code",
   "execution_count": null,
   "metadata": {},
   "outputs": [],
   "source": [
    "# Сколько процентов футболистов из Испании (Nationality = 'Spain') имеют возраст (Age) 21 год? Введите с точностью до 2 \n",
    "# знаков после запятой без указания знака % (например, 12.35).\n",
    "\n",
    "df.loc[df.Nationality == 'Spain']['Age'].value_counts(normalize = True)"
   ]
  },
  {
   "cell_type": "markdown",
   "metadata": {},
   "source": [
    "Groupby"
   ]
  },
  {
   "cell_type": "code",
   "execution_count": null,
   "metadata": {},
   "outputs": [],
   "source": [
    "#Отметьте позиции (Position), по которым общая сумма зарплат (Wage) игроков превышает 5 млн евро в год.\n",
    "wage = df.groupby([\"Position\"])[\"Wage\"].agg(sum).sort_values(ascending = False)\n",
    "wage"
   ]
  },
  {
   "cell_type": "code",
   "execution_count": null,
   "metadata": {},
   "outputs": [],
   "source": [
    "#Посчитайте среднюю зарплату (Wage) и цену (Value) игроков разных позиций (Position). \n",
    "#Представители какой позиции имеют самую высокую среднюю цену\n",
    "wage_m = df.groupby([\"Position\"])[['Wage','Value']].mean().sort_values(['Value'], ascending = False)\n",
    "wage_m"
   ]
  },
  {
   "cell_type": "code",
   "execution_count": null,
   "metadata": {},
   "outputs": [],
   "source": [
    "#Посчитайте среднюю (mean) и медианную (median) зарплату (Wage) футболистов из\n",
    "#разных клубов (Club). В скольких клубах средняя и медианная зарплаты совпадают?\n",
    "\n",
    "med = df.groupby(df['Club'])['Wage'].agg(['mean', 'median'])\n",
    "med.loc[(med['mean']) == (med['median'])].info()"
   ]
  },
  {
   "cell_type": "code",
   "execution_count": null,
   "metadata": {},
   "outputs": [],
   "source": [
    "#Продолжаем работать с клубами, в которых средняя зарплата совпадает с медианной. Каков максимальный размер \n",
    "#средней зарплаты в этой группе клубов?\n",
    "med = df.groupby(df['Club'])['Wage'].agg(['mean', 'median'])\n",
    "med.loc[(med['mean']) == (med['median'])].sort_values(\n",
    "    ['mean'], ascending=False).head(3)"
   ]
  },
  {
   "cell_type": "code",
   "execution_count": null,
   "metadata": {},
   "outputs": [],
   "source": [
    "# С помощью функции groupby посчитайте сумму зарплат (Wage) футболистов клуба (Club) \"Chelsea\".\n",
    "wage = df.groupby(df['Club'])['Wage'].sum()\n",
    "wage['Chelsea']"
   ]
  },
  {
   "cell_type": "code",
   "execution_count": null,
   "metadata": {},
   "outputs": [],
   "source": [
    "# Определите максимальную зарплату футболиста национальности (Nationality)\n",
    "# Аргентина (\"Argentina\") в возрасте 20 лет.\n",
    "rt = df.loc[(df['Age'] == 20)].groupby(df['Nationality'])['Wage'].max()\n",
    "rt['Argentina']"
   ]
  },
  {
   "cell_type": "code",
   "execution_count": null,
   "metadata": {},
   "outputs": [],
   "source": [
    "# Определите максимальную зарплату футболиста национальности (Nationality) Аргентина \n",
    "#(\"Argentina\") в возрасте 30 лет\n",
    "fb = df.loc[(df['Age'] == 30)].groupby(df['Nationality'])['Wage'].max()\n",
    "fb['Argentina']"
   ]
  },
  {
   "cell_type": "code",
   "execution_count": null,
   "metadata": {},
   "outputs": [],
   "source": [
    "# Определите минимальную зарплату футболиста национальности (Nationality) \n",
    "# Аргентина (\"Argentina\") в возрасте 30 лет.\n",
    "\n",
    "fb_min = df.loc[(df['Age'] == 30)].groupby(['Nationality'])['Wage'].max()\n",
    "fb_min['Argentina']"
   ]
  },
  {
   "cell_type": "code",
   "execution_count": null,
   "metadata": {},
   "outputs": [],
   "source": [
    "# Определите максимальную силу (Strength) и баланс (Balance) среди игроков клуба (Club) \"FC Barcelona\"\n",
    "# из Аргентины  (\"Argentina\"). Ответ введите через точку с запятой без пробела.\n",
    "\n",
    "fb = df.loc[(df['Club'] == 'FC Barcelona')].groupby(df['Nationality'])[['Balance','Strength']].max()\n",
    "fb.loc['Argentina']"
   ]
  },
  {
   "cell_type": "code",
   "execution_count": null,
   "metadata": {},
   "outputs": [],
   "source": []
  }
 ],
 "metadata": {
  "kernelspec": {
   "display_name": "Python 3",
   "language": "python",
   "name": "python3"
  },
  "language_info": {
   "codemirror_mode": {
    "name": "ipython",
    "version": 3
   },
   "file_extension": ".py",
   "mimetype": "text/x-python",
   "name": "python",
   "nbconvert_exporter": "python",
   "pygments_lexer": "ipython3",
   "version": "3.8.3"
  }
 },
 "nbformat": 4,
 "nbformat_minor": 4
}
