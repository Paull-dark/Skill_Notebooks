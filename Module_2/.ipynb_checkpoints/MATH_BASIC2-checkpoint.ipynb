{
 "cells": [
  {
   "cell_type": "code",
   "execution_count": 2,
   "metadata": {},
   "outputs": [],
   "source": [
    "from scipy.stats import norm\n",
    "import math\n",
    "import pandas as pd"
   ]
  },
  {
   "cell_type": "code",
   "execution_count": 6,
   "metadata": {},
   "outputs": [
    {
     "data": {
      "text/plain": [
       "0.6914624612740131"
      ]
     },
     "execution_count": 6,
     "metadata": {},
     "output_type": "execute_result"
    }
   ],
   "source": [
    "norm.cdf(0.5)"
   ]
  },
  {
   "cell_type": "code",
   "execution_count": 8,
   "metadata": {},
   "outputs": [
    {
     "data": {
      "text/plain": [
       "0.02275013194817921"
      ]
     },
     "execution_count": 8,
     "metadata": {},
     "output_type": "execute_result"
    }
   ],
   "source": [
    "1-norm.cdf(2)"
   ]
  },
  {
   "cell_type": "markdown",
   "metadata": {},
   "source": [
    "Z -  стандартная нормальная величина. Используя функцию norm.cdf(), найдите ниже указанные значения. Ответ округлите до 2 знаков после разделительной точки"
   ]
  },
  {
   "cell_type": "code",
   "execution_count": 11,
   "metadata": {},
   "outputs": [
    {
     "data": {
      "text/plain": [
       "0.8413447460685429"
      ]
     },
     "execution_count": 11,
     "metadata": {},
     "output_type": "execute_result"
    }
   ],
   "source": [
    "# P(Z<1) = \n",
    "norm.cdf(1)"
   ]
  },
  {
   "cell_type": "code",
   "execution_count": 12,
   "metadata": {},
   "outputs": [
    {
     "data": {
      "text/plain": [
       "0.8686431189572693"
      ]
     },
     "execution_count": 12,
     "metadata": {},
     "output_type": "execute_result"
    }
   ],
   "source": [
    "# P(Z<1.12) =\n",
    "norm.cdf(1.12)"
   ]
  },
  {
   "cell_type": "code",
   "execution_count": 14,
   "metadata": {},
   "outputs": [
    {
     "data": {
      "text/plain": [
       "0.030741908929465954"
      ]
     },
     "execution_count": 14,
     "metadata": {},
     "output_type": "execute_result"
    }
   ],
   "source": [
    "# P(Z<-1.87) =\n",
    "norm.cdf(-1.87)"
   ]
  },
  {
   "cell_type": "code",
   "execution_count": 15,
   "metadata": {},
   "outputs": [
    {
     "data": {
      "text/plain": [
       "0.02275013194817921"
      ]
     },
     "execution_count": 15,
     "metadata": {},
     "output_type": "execute_result"
    }
   ],
   "source": [
    "# P(Z>2) =\n",
    "1-norm.cdf(2)"
   ]
  },
  {
   "cell_type": "code",
   "execution_count": 3,
   "metadata": {},
   "outputs": [
    {
     "data": {
      "text/plain": [
       "0.047790352272814696"
      ]
     },
     "execution_count": 3,
     "metadata": {},
     "output_type": "execute_result"
    }
   ],
   "source": [
    "1-(norm.cdf(125,loc = 100,scale = 15))"
   ]
  },
  {
   "cell_type": "code",
   "execution_count": 18,
   "metadata": {},
   "outputs": [
    {
     "data": {
      "text/plain": [
       "45.31998860503082"
      ]
     },
     "execution_count": 18,
     "metadata": {},
     "output_type": "execute_result"
    }
   ],
   "source": [
    "norm.ppf(0.43952,loc = 45.46,scale = 0.92)"
   ]
  },
  {
   "cell_type": "code",
   "execution_count": 19,
   "metadata": {},
   "outputs": [
    {
     "data": {
      "text/plain": [
       "1.0"
      ]
     },
     "execution_count": 19,
     "metadata": {},
     "output_type": "execute_result"
    }
   ],
   "source": [
    "(75-70)/5"
   ]
  },
  {
   "cell_type": "code",
   "execution_count": 30,
   "metadata": {},
   "outputs": [
    {
     "data": {
      "text/plain": [
       "0.0318"
      ]
     },
     "execution_count": 30,
     "metadata": {},
     "output_type": "execute_result"
    }
   ],
   "source": [
    "a = round(1-norm.cdf(1),3)\n",
    "a/5"
   ]
  },
  {
   "cell_type": "code",
   "execution_count": 7,
   "metadata": {},
   "outputs": [
    {
     "data": {
      "text/plain": [
       "0.013"
      ]
     },
     "execution_count": 7,
     "metadata": {},
     "output_type": "execute_result"
    }
   ],
   "source": [
    "import math\n",
    "round(1-norm.cdf(75,loc = 70,scale = 5/math.sqrt(5)),3)"
   ]
  },
  {
   "cell_type": "code",
   "execution_count": 5,
   "metadata": {},
   "outputs": [
    {
     "data": {
      "text/plain": [
       "0.067"
      ]
     },
     "execution_count": 5,
     "metadata": {},
     "output_type": "execute_result"
    }
   ],
   "source": [
    "# Известно, что 20 % взрослого населения в городе Пало Альто, Калифорния, обладают машиной Tesla \n",
    "#(другими словами, p, истинная пропорция обладателей Tesla в городе равна  0.2).\n",
    "#Допустим, вы берете выборку из 225 взрослых людей из Пало Альто. Какова вероятность, \n",
    "#что выборочная пропорция не превысит 16 % (то есть вероятность что p<=0.16 )?\n",
    "#Укажите ответ в виде десяточной дроби с 3 знаками после точки-разделителя.\n",
    "\n",
    "n = 225\n",
    "p = 0.2\n",
    "\n",
    "sigma = math.sqrt(p*(1-p)/n)\n",
    "round(norm.cdf(0.16,loc=p,scale = sigma),3)"
   ]
  },
  {
   "cell_type": "code",
   "execution_count": 8,
   "metadata": {},
   "outputs": [
    {
     "data": {
      "text/plain": [
       "0.16"
      ]
     },
     "execution_count": 8,
     "metadata": {},
     "output_type": "execute_result"
    }
   ],
   "source": [
    "round(1-norm.cdf(820,loc = 700,scale = 120),2)"
   ]
  },
  {
   "cell_type": "code",
   "execution_count": 11,
   "metadata": {},
   "outputs": [
    {
     "name": "stdout",
     "output_type": "stream",
     "text": [
      "0.5987063256829237\n",
      "0.15865525393145707\n",
      "0.24\n"
     ]
    }
   ],
   "source": [
    "p1 = norm.cdf(730,loc = 700,scale = 120)\n",
    "p2 = 1-norm.cdf(820,loc = 700,scale = 120)\n",
    "p= 1-(p1+p2)\n",
    "print(p1)\n",
    "print(p2)\n",
    "print(round(1-(p1+p2),2))"
   ]
  },
  {
   "cell_type": "code",
   "execution_count": 15,
   "metadata": {},
   "outputs": [
    {
     "data": {
      "text/plain": [
       "502.61756476582326"
      ]
     },
     "execution_count": 15,
     "metadata": {},
     "output_type": "execute_result"
    }
   ],
   "source": [
    "norm.ppf(0.05,loc = 700,scale = 120)"
   ]
  },
  {
   "cell_type": "code",
   "execution_count": 4,
   "metadata": {},
   "outputs": [
    {
     "name": "stdout",
     "output_type": "stream",
     "text": [
      "0.022750131948179195\n",
      "0.21185539858339664\n",
      "0.77\n"
     ]
    }
   ],
   "source": [
    "p1 = norm.cdf(70,loc = 100,scale = 15)\n",
    "p2 = 1-norm.cdf(112,loc = 100,scale = 15)\n",
    "p= 1-(p1+p2)\n",
    "print(p1)\n",
    "print(p2)\n",
    "print(round(1-(p1+p2),2))"
   ]
  },
  {
   "cell_type": "code",
   "execution_count": 4,
   "metadata": {},
   "outputs": [
    {
     "data": {
      "text/plain": [
       "-1.64"
      ]
     },
     "execution_count": 4,
     "metadata": {},
     "output_type": "execute_result"
    }
   ],
   "source": [
    "round(norm.ppf(0.05),2)"
   ]
  },
  {
   "cell_type": "markdown",
   "metadata": {},
   "source": [
    "Управляющий супермаркета хочет оценить, сколько денег покупатели тратят за один поход в супермаркет в среднем. На основании ранее собранных данных известно, что расходы одного покупателя распределены приблизительно нормально. Управляющий взял случайную выборку из 15 покупателей и выяснил, что их средние расходы равны 2000 рублей, а выборочное стандартное отклонение равно 400  рублей.\n",
    "Давайте поможем управляющему, решив несколько задачек с помощью Python."
   ]
  },
  {
   "cell_type": "code",
   "execution_count": 3,
   "metadata": {},
   "outputs": [],
   "source": [
    "def confidence_interval_norm(alpha, sigma, n, mean):\n",
    "    value = -norm.ppf(alpha / 2) * sigma / math.sqrt(n)\n",
    "    return mean - value, mean + value"
   ]
  },
  {
   "cell_type": "code",
   "execution_count": null,
   "metadata": {},
   "outputs": [],
   "source": [
    "from scipy.stats import t\n",
    "import math\n",
    "\n",
    "def confidence_interval_t(alpha, s, n, mean):\n",
    "    value = -t.ppf(alpha / 2, n - 1) * s / math.sqrt(n)\n",
    "    return mean - value, mean + value\n",
    "a=confidence_interval_t(0.05,400,15,2000)\n",
    "print(round(a[0]))\n",
    "print(round(a[1]))"
   ]
  },
  {
   "cell_type": "code",
   "execution_count": 11,
   "metadata": {},
   "outputs": [
    {
     "name": "stdout",
     "output_type": "stream",
     "text": [
      "1693.0\n",
      "2307.0\n"
     ]
    }
   ],
   "source": [
    "from scipy.stats import t\n",
    "import math\n",
    "\n",
    "def confidence_interval_t(alpha, s, n, mean):\n",
    "    value = -t.ppf(alpha / 2, n - 1) * s / math.sqrt(n)\n",
    "    return mean - value, mean + value\n",
    "a=confidence_interval_t(0.01,400,15,2000)\n",
    "print(round(a[0]))\n",
    "print(round(a[1]))"
   ]
  },
  {
   "cell_type": "code",
   "execution_count": 16,
   "metadata": {},
   "outputs": [
    {
     "name": "stdout",
     "output_type": "stream",
     "text": [
      "3353.0\n",
      "3727.0\n"
     ]
    }
   ],
   "source": [
    "def confidence_interval_norm(alpha, sigma, n, mean):\n",
    "    value = -norm.ppf(alpha / 2) * sigma / math.sqrt(n)\n",
    "    return mean - value, mean + value\n",
    "a=confidence_interval_norm(0.01,1150,250,3540)\n",
    "print(round(a[0]))\n",
    "print(round(a[1]))"
   ]
  },
  {
   "cell_type": "markdown",
   "metadata": {},
   "source": [
    "Ниже представлена случайная выборка значений величины x , распределенной нормально. "
   ]
  },
  {
   "cell_type": "code",
   "execution_count": 28,
   "metadata": {},
   "outputs": [
    {
     "name": "stdout",
     "output_type": "stream",
     "text": [
      "1.3222222222222222\n",
      "10\n",
      "1.5012032211233466\n",
      "0.05\n",
      "2.59\n"
     ]
    }
   ],
   "source": [
    "import statistics\n",
    "data_first = [1.2, 0.2, 1.6, 1.9, -0.4,0.5, 1.4, 1.7,2.5, 1.3]\n",
    "# FIND mean (x)\n",
    "\n",
    "\n",
    "mean1 = sum(data_first)/(len(data_first)-1)\n",
    "n1 = len(data_first)\n",
    "variance1 = statistics.variance(data_first)\n",
    "std1 = math.sqrt(variance)\n",
    "\n",
    "print(mean1)\n",
    "print(n1)\n",
    "print(std1)\n",
    "\n",
    "def confidence_interval_t(alpha, s, n, mean):\n",
    "    value = -t.ppf(alpha / 2, n - 1) * s / math.sqrt(n)\n",
    "    return mean - value, mean + value\n",
    "a=confidence_interval_t(0.025,1.5,10,1.32)\n",
    "print(round(a[0],2))\n",
    "print(round(a[1],2))\n"
   ]
  },
  {
   "cell_type": "code",
   "execution_count": 44,
   "metadata": {},
   "outputs": [
    {
     "name": "stdout",
     "output_type": "stream",
     "text": [
      "mean 1.19\n",
      "n 10\n",
      "variance 0.7432222222222221\n",
      "std 0.8621033709609435\n",
      "0.050000000000000044\n",
      "Value 0.6167116000619031\n",
      "Lower 0.57\n",
      "upper 1.81\n"
     ]
    }
   ],
   "source": [
    "data_first = [1.2, 0.2, 1.6, 1.9, -0.4,0.5, 1.4, 1.7,2.5, 1.3]\n",
    "# FIND mean (x)\n",
    "\n",
    "\n",
    "mean = sum(data_first)/(len(data_first))\n",
    "n = len(data_first)\n",
    "variance = statistics.variance(data_first)\n",
    "std = math.sqrt(variance)\n",
    "\n",
    "print(f'mean {mean}')\n",
    "print(f'n {n}')\n",
    "print(f'variance {variance}')\n",
    "print(f'std {std}')\n",
    "\n",
    "alpha = (1-0.95)\n",
    "print(alpha)\n",
    "value = -t.ppf(alpha / 2, n - 1) * std / math.sqrt(n)\n",
    "lower_bound = round(mean - value, 2)\n",
    "uper_bound = round(mean  + value, 2)\n",
    "print(f'Value {value}')\n",
    "print(f'Lower {lower_bound}')\n",
    "print(f'upper {uper_bound}')"
   ]
  },
  {
   "cell_type": "markdown",
   "metadata": {},
   "source": [
    "Чтобы оценить удовлетворенность клиентов сети отелей, менеджер взял случайную выборку из 189  комментариев, оставленных посетителями на онлайн-платформе по бронированию, и провел анализ их содержания. Выяснилось, что 132  комментария были положительными, остальные — негативными.\n",
    "Давайте поможем менеджеру ответить на несколько вопросов!"
   ]
  },
  {
   "cell_type": "code",
   "execution_count": 62,
   "metadata": {},
   "outputs": [
    {
     "name": "stdout",
     "output_type": "stream",
     "text": [
      "0.6984126984126984\n",
      "0.3015873015873016\n"
     ]
    }
   ],
   "source": [
    "# Чему равна выборочная пропорция положительных комментариев? Укажите с точностью до трех знаков после разделительной точки.\n",
    "com = 189\n",
    "positive = 132\n",
    "p1 = positive/com\n",
    "p2 = 1-p\n",
    "print(p1)\n",
    "print(p2)"
   ]
  },
  {
   "cell_type": "markdown",
   "metadata": {},
   "source": [
    "Найдите 90 %-ный доверительный интервал для истинной пропорции положительных комментариев. Ответ введите с точностью до трех знаков после разделительной точки."
   ]
  },
  {
   "cell_type": "code",
   "execution_count": 73,
   "metadata": {},
   "outputs": [
    {
     "name": "stdout",
     "output_type": "stream",
     "text": [
      "Lower 0.644\n",
      "upper 0.753\n"
     ]
    },
    {
     "data": {
      "text/plain": [
       "0.6984126984126984"
      ]
     },
     "execution_count": 73,
     "metadata": {},
     "output_type": "execute_result"
    }
   ],
   "source": [
    "n_pos = com*p\n",
    "n_neg = (1-p)*com\n",
    "z = - norm.ppf(0.05)\n",
    "\n",
    "\n",
    "upper = p+(z*math.sqrt(p*(1-p)/com))\n",
    "lower = p-(z*math.sqrt(p*(1-p)/com)) \n",
    "upper = round(upper,3)\n",
    "lower = round(lower,3)\n",
    "\n",
    "print(f'Lower {lower}')\n",
    "print(f'upper {upper}')\n",
    "p"
   ]
  },
  {
   "cell_type": "code",
   "execution_count": 54,
   "metadata": {},
   "outputs": [
    {
     "data": {
      "text/plain": [
       "-1.6448536269514729"
      ]
     },
     "execution_count": 54,
     "metadata": {},
     "output_type": "execute_result"
    }
   ],
   "source": [
    "norm.ppf(0.05)"
   ]
  },
  {
   "cell_type": "code",
   "execution_count": 66,
   "metadata": {},
   "outputs": [
    {
     "data": {
      "text/plain": [
       "(0.6435017501091355, 0.7533236467162613)"
      ]
     },
     "execution_count": 66,
     "metadata": {},
     "output_type": "execute_result"
    }
   ],
   "source": [
    "def confidence_interval_norm(alpha, p, n):\n",
    "    value = -norm.ppf(alpha / 2) *  math.sqrt(p*(1-p)/n)\n",
    "    return p - value, p + value\n",
    "confidence_interval_norm (0.1, p1, com)"
   ]
  },
  {
   "cell_type": "code",
   "execution_count": 87,
   "metadata": {},
   "outputs": [
    {
     "data": {
      "text/plain": [
       "1.81"
      ]
     },
     "execution_count": 87,
     "metadata": {},
     "output_type": "execute_result"
    }
   ],
   "source": [
    "# Найдите z-критическое для интервала с уровнем доверия 93 %. Укажите с точностью до 2 знаков после разделительной точки.\n",
    "\n",
    "round(-norm.ppf((1-0.93)/2),2)"
   ]
  },
  {
   "cell_type": "markdown",
   "metadata": {},
   "source": [
    "Найдите критические значения для следующих доверительных интервалов (ответ укажите с точностью до двух знаков после разделительной точки):"
   ]
  },
  {
   "cell_type": "code",
   "execution_count": 89,
   "metadata": {},
   "outputs": [
    {
     "data": {
      "text/plain": [
       "2.58"
      ]
     },
     "execution_count": 89,
     "metadata": {},
     "output_type": "execute_result"
    }
   ],
   "source": [
    "# Доверительный интервал для среднего mu  нормально распределённой величины X , на выборке размером n=10 , \n",
    "# если σ известна, на 99 % уровне доверия\n",
    "round(-norm.ppf((1-0.99)/2),2)"
   ]
  },
  {
   "cell_type": "code",
   "execution_count": 90,
   "metadata": {},
   "outputs": [
    {
     "data": {
      "text/plain": [
       "3.25"
      ]
     },
     "execution_count": 90,
     "metadata": {},
     "output_type": "execute_result"
    }
   ],
   "source": [
    "round(-t.ppf((1-0.99)/2,9),2)"
   ]
  },
  {
   "cell_type": "code",
   "execution_count": 91,
   "metadata": {},
   "outputs": [
    {
     "data": {
      "text/plain": [
       "1.98"
      ]
     },
     "execution_count": 91,
     "metadata": {},
     "output_type": "execute_result"
    }
   ],
   "source": [
    "round(-t.ppf((1-0.95)/2,99),2)"
   ]
  },
  {
   "cell_type": "code",
   "execution_count": 3,
   "metadata": {},
   "outputs": [
    {
     "name": "stdout",
     "output_type": "stream",
     "text": [
      " Multiple Comparison of Means - Tukey HSD, FWER=0.05 \n",
      "=====================================================\n",
      "group1 group2 meandiff p-adj   lower    upper  reject\n",
      "-----------------------------------------------------\n",
      "     A      B  -0.9333    0.9  -5.5961  3.7294  False\n",
      "     A      C  -5.3333 0.0189  -9.9961 -0.6706   True\n",
      "     A      D     -7.4  0.001 -12.0628 -2.7372   True\n",
      "     B      C     -4.4 0.0712  -9.0628  0.2628  False\n",
      "     B      D  -6.4667 0.0029 -11.1294 -1.8039   True\n",
      "     C      D  -2.0667 0.6296  -6.7294  2.5961  False\n",
      "-----------------------------------------------------\n"
     ]
    }
   ],
   "source": [
    "from statsmodels.stats.multicomp import (pairwise_tukeyhsd, MultiComparison)\n",
    "\n",
    "data_stepik = pd.read_csv('https://stepik.org/media/attachments/lesson/8083/genetherapy.csv')\n",
    "\n",
    "MultiComp = MultiComparison(data_stepik['expr'], data_stepik['Therapy'])\n",
    "\n",
    "print(MultiComp.tukeyhsd().summary())"
   ]
  },
  {
   "cell_type": "code",
   "execution_count": 15,
   "metadata": {},
   "outputs": [
    {
     "data": {
      "text/plain": [
       "60"
      ]
     },
     "execution_count": 15,
     "metadata": {},
     "output_type": "execute_result"
    }
   ],
   "source": [
    "mean = data_stepik['expr'].mean() # mean in all data\n",
    "sst = 0\n",
    "for i in data_stepik['expr']: # Total sum of squares (SST)\n",
    "    sst += (i-mean)**2\n",
    "df = len(data_stepik['expr'])-1\n"
   ]
  },
  {
   "cell_type": "code",
   "execution_count": 16,
   "metadata": {},
   "outputs": [
    {
     "name": "stdout",
     "output_type": "stream",
     "text": [
      "<class 'pandas.core.frame.DataFrame'>\n",
      "RangeIndex: 60 entries, 0 to 59\n",
      "Data columns (total 2 columns):\n",
      " #   Column   Non-Null Count  Dtype \n",
      "---  ------   --------------  ----- \n",
      " 0   expr     60 non-null     int64 \n",
      " 1   Therapy  60 non-null     object\n",
      "dtypes: int64(1), object(1)\n",
      "memory usage: 1.1+ KB\n"
     ]
    }
   ],
   "source": [
    "data_stepik.info()"
   ]
  },
  {
   "cell_type": "code",
   "execution_count": null,
   "metadata": {},
   "outputs": [],
   "source": []
  }
 ],
 "metadata": {
  "kernelspec": {
   "display_name": "Python 3",
   "language": "python",
   "name": "python3"
  },
  "language_info": {
   "codemirror_mode": {
    "name": "ipython",
    "version": 3
   },
   "file_extension": ".py",
   "mimetype": "text/x-python",
   "name": "python",
   "nbconvert_exporter": "python",
   "pygments_lexer": "ipython3",
   "version": "3.8.3"
  }
 },
 "nbformat": 4,
 "nbformat_minor": 4
}
