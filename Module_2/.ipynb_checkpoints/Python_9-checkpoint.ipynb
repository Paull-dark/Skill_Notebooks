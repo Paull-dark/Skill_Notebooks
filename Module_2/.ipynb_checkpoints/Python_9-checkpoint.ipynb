{
 "cells": [
  {
   "cell_type": "code",
   "execution_count": 4,
   "metadata": {},
   "outputs": [],
   "source": [
    "import numpy as np\n"
   ]
  },
  {
   "cell_type": "markdown",
   "metadata": {},
   "source": [
    "*способы создания массива*"
   ]
  },
  {
   "cell_type": "code",
   "execution_count": null,
   "metadata": {},
   "outputs": [],
   "source": [
    "# одномерный массив из пяти элементов, память для которого выделена, но не инициализирована\n",
    "np.empty(5)\n",
    "# массив размером 10x7, заполненный нулями \n",
    "np.zeros((10,7))\n",
    "# массив размером 3х3х3, заполненный единицами\n",
    "np.ones((3,3,3))\n",
    "# единичная матрица (элементы главной диагонали равны 1, остальные — 0) размера 3х3\n",
    "np.eye(3)\n",
    "# # массив 3x5 заполненный числом 3.14\n",
    "np.full((3,5),3.14)\n",
    "# одномерный массив, заполненный числами в диапазоне от 0 до 20 с шагом 7\n",
    "np.arange(0,21,7)\n",
    "# массив из пяти чисел, равномерно распределённых в интервале между 0 и 1 включительно\n",
    "np.linspace(0,1,5)\n",
    " #массив размера 3х3, заполненный случайными числами из диапазона от 0 до 9 (включительно)\n",
    "np.random.randint(0, 10, (3, 3))"
   ]
  },
  {
   "cell_type": "code",
   "execution_count": 2,
   "metadata": {},
   "outputs": [
    {
     "data": {
      "text/plain": [
       "array([0, 1, 2, 3, 4, 5, 6, 7, 8, 9])"
      ]
     },
     "execution_count": 2,
     "metadata": {},
     "output_type": "execute_result"
    }
   ],
   "source": [
    "my_array = np.array([x for x in range(10)])\n",
    "my_array"
   ]
  },
  {
   "cell_type": "code",
   "execution_count": 3,
   "metadata": {},
   "outputs": [
    {
     "data": {
      "text/plain": [
       "5"
      ]
     },
     "execution_count": 3,
     "metadata": {},
     "output_type": "execute_result"
    }
   ],
   "source": [
    "my_array[5]"
   ]
  },
  {
   "cell_type": "code",
   "execution_count": 9,
   "metadata": {},
   "outputs": [
    {
     "data": {
      "text/plain": [
       "array([1, 4, 7])"
      ]
     },
     "execution_count": 9,
     "metadata": {},
     "output_type": "execute_result"
    }
   ],
   "source": [
    "my_array[1:8:3]"
   ]
  },
  {
   "cell_type": "code",
   "execution_count": 10,
   "metadata": {},
   "outputs": [],
   "source": [
    "my_array = np.array([[1,2,3,4], [10,11,12,13], [45,46,47,48]])"
   ]
  },
  {
   "cell_type": "code",
   "execution_count": 11,
   "metadata": {},
   "outputs": [
    {
     "data": {
      "text/plain": [
       "array([[ 1,  2,  3,  4],\n",
       "       [10, 11, 12, 13],\n",
       "       [45, 46, 47, 48]])"
      ]
     },
     "execution_count": 11,
     "metadata": {},
     "output_type": "execute_result"
    }
   ],
   "source": [
    "my_array"
   ]
  },
  {
   "cell_type": "code",
   "execution_count": 55,
   "metadata": {},
   "outputs": [
    {
     "data": {
      "text/plain": [
       "(3, 4)"
      ]
     },
     "execution_count": 55,
     "metadata": {},
     "output_type": "execute_result"
    }
   ],
   "source": [
    "my_array.shape"
   ]
  },
  {
   "cell_type": "code",
   "execution_count": 15,
   "metadata": {},
   "outputs": [
    {
     "data": {
      "text/plain": [
       "2"
      ]
     },
     "execution_count": 15,
     "metadata": {},
     "output_type": "execute_result"
    }
   ],
   "source": [
    "my_array[0][1]"
   ]
  },
  {
   "cell_type": "code",
   "execution_count": 17,
   "metadata": {},
   "outputs": [
    {
     "data": {
      "text/plain": [
       "array([ 3, 12, 47])"
      ]
     },
     "execution_count": 17,
     "metadata": {},
     "output_type": "execute_result"
    }
   ],
   "source": [
    "my_array[:,2]"
   ]
  },
  {
   "cell_type": "code",
   "execution_count": 46,
   "metadata": {},
   "outputs": [
    {
     "data": {
      "text/plain": [
       "array([[ 4],\n",
       "       [13],\n",
       "       [48]])"
      ]
     },
     "execution_count": 46,
     "metadata": {},
     "output_type": "execute_result"
    }
   ],
   "source": [
    "my_array[0:,3:4]"
   ]
  },
  {
   "cell_type": "code",
   "execution_count": 86,
   "metadata": {},
   "outputs": [
    {
     "data": {
      "text/plain": [
       "array([[ 2,  3,  4],\n",
       "       [11, 12, 13],\n",
       "       [46, 47, 48]])"
      ]
     },
     "execution_count": 86,
     "metadata": {},
     "output_type": "execute_result"
    }
   ],
   "source": [
    "my_array[:,-3:]"
   ]
  },
  {
   "cell_type": "markdown",
   "metadata": {},
   "source": [
    "***Особенность индексирования***"
   ]
  },
  {
   "cell_type": "markdown",
   "metadata": {},
   "source": [
    "**Важное отличие массивов NumPy от списков Python — при изменении среза или отдельных элементов все изменения касаются не только самого среза, но и падают в исходный массив, даже если перед внесением изменений срез был сохранён в виде отдельной переменной. Изначально NumPy проектировался для работы с большими массивами данных, поэтому при бесконтрольном копировании фрагментов массивов возникли бы проблемы с быстродействием и памятью.\n",
    "\n",
    "Создадим массив 4 х 6:**"
   ]
  },
  {
   "cell_type": "code",
   "execution_count": 30,
   "metadata": {},
   "outputs": [
    {
     "data": {
      "text/plain": [
       "array([[79, 98, 67, 93, 90, 14],\n",
       "       [22,  4, 43, 25, 59, 91],\n",
       "       [90, 36, 46, 31,  6, 91],\n",
       "       [68, 81, 79, 84, 60, 10]])"
      ]
     },
     "execution_count": 30,
     "metadata": {},
     "output_type": "execute_result"
    }
   ],
   "source": [
    "my_array = np.random.randint(1,100,(4,6))\n",
    "my_array"
   ]
  },
  {
   "cell_type": "code",
   "execution_count": 31,
   "metadata": {},
   "outputs": [
    {
     "data": {
      "text/plain": [
       "array([[43, 25],\n",
       "       [46, 31]])"
      ]
     },
     "execution_count": 31,
     "metadata": {},
     "output_type": "execute_result"
    }
   ],
   "source": [
    "my_slice = my_array[1:3,2:4]\n",
    "my_slice\n"
   ]
  },
  {
   "cell_type": "code",
   "execution_count": 184,
   "metadata": {},
   "outputs": [
    {
     "data": {
      "text/plain": [
       "array([[62,  4, 18,  3, 49, 65]])"
      ]
     },
     "execution_count": 184,
     "metadata": {},
     "output_type": "execute_result"
    }
   ],
   "source": [
    "my_array[-1:]\n"
   ]
  },
  {
   "cell_type": "code",
   "execution_count": 110,
   "metadata": {},
   "outputs": [],
   "source": [
    "my_slice[:] = 0"
   ]
  },
  {
   "cell_type": "code",
   "execution_count": 111,
   "metadata": {},
   "outputs": [
    {
     "data": {
      "text/plain": [
       "array([[35, 93, 82, 36, 25, 79],\n",
       "       [67, 99,  0,  0,  5,  1],\n",
       "       [35, 14,  0,  0, 64, 37],\n",
       "       [80, 57, 62, 41, 31, 65]])"
      ]
     },
     "execution_count": 111,
     "metadata": {},
     "output_type": "execute_result"
    }
   ],
   "source": [
    "my_array"
   ]
  },
  {
   "cell_type": "code",
   "execution_count": 106,
   "metadata": {},
   "outputs": [],
   "source": [
    "#my_array = np.random.randint(1,100,(4,6))\n",
    "#my_slice = my_array[1:3,2:4].copy()\n",
    "#my_slice[:] = 0\n",
    "#my_array"
   ]
  },
  {
   "cell_type": "markdown",
   "metadata": {},
   "source": [
    "*** Операции с массивами***"
   ]
  },
  {
   "cell_type": "markdown",
   "metadata": {},
   "source": [
    "*У нас есть два массива: найдём их сумму, разность, произведение, частное и умножим один из массивов на число:*"
   ]
  },
  {
   "cell_type": "code",
   "execution_count": 146,
   "metadata": {},
   "outputs": [
    {
     "name": "stdout",
     "output_type": "stream",
     "text": [
      "Сумма: [18 21 27]\n",
      "Разность: [12  9  9]\n",
      "Произведение: [ 45  90 162]\n",
      "Частное: [0.2 0.4 0.5]\n",
      "Умножение на число: [ 6 12 18]\n"
     ]
    }
   ],
   "source": [
    "a = np.array([3,6,9])\n",
    "b = np.array([15,15,18])\n",
    "result1 = a+b\n",
    "result2 = b-a\n",
    "result3 = a*b\n",
    "result4 = a/b\n",
    "result5 = a*2\n",
    "print('Сумма: {}\\nРазность: {}\\nПроизведение: {}\\nЧастное: {}\\nУмножение на число: {}'.format(result1, result2, result3, result4, result5))"
   ]
  },
  {
   "cell_type": "markdown",
   "metadata": {},
   "source": [
    "***Универсальные функции***"
   ]
  },
  {
   "cell_type": "code",
   "execution_count": null,
   "metadata": {},
   "outputs": [],
   "source": []
  },
  {
   "cell_type": "markdown",
   "metadata": {},
   "source": [
    "***Изменение размерности массива***"
   ]
  },
  {
   "cell_type": "code",
   "execution_count": 148,
   "metadata": {},
   "outputs": [
    {
     "data": {
      "text/plain": [
       "array([[ 1,  6],\n",
       "       [ 2,  7],\n",
       "       [ 3,  8],\n",
       "       [ 4,  9],\n",
       "       [ 5, 10]])"
      ]
     },
     "execution_count": 148,
     "metadata": {},
     "output_type": "execute_result"
    }
   ],
   "source": [
    "my_array = np.array([[1,2,3,4,5], [6,7,8,9,10]])\n",
    "my_array.T"
   ]
  },
  {
   "cell_type": "code",
   "execution_count": 150,
   "metadata": {},
   "outputs": [
    {
     "data": {
      "text/plain": [
       "array([4, 9, 4, 8, 5, 6, 4, 5, 7, 9, 5, 2, 7, 0, 5, 3, 2, 8, 8, 1])"
      ]
     },
     "execution_count": 150,
     "metadata": {},
     "output_type": "execute_result"
    }
   ],
   "source": [
    "my_array = np.random.randint(0, 10, 20)\n",
    "my_array"
   ]
  },
  {
   "cell_type": "code",
   "execution_count": 151,
   "metadata": {},
   "outputs": [
    {
     "data": {
      "text/plain": [
       "array([[4, 9, 4, 8, 5],\n",
       "       [6, 4, 5, 7, 9],\n",
       "       [5, 2, 7, 0, 5],\n",
       "       [3, 2, 8, 8, 1]])"
      ]
     },
     "execution_count": 151,
     "metadata": {},
     "output_type": "execute_result"
    }
   ],
   "source": [
    "my_array.reshape((4,5))"
   ]
  },
  {
   "cell_type": "code",
   "execution_count": 152,
   "metadata": {},
   "outputs": [
    {
     "data": {
      "text/plain": [
       "array([  1,   2,   3,  11,  22,  33, 111, 222, 333])"
      ]
     },
     "execution_count": 152,
     "metadata": {},
     "output_type": "execute_result"
    }
   ],
   "source": [
    "# Для преобразования многомерного массива в одномерный используется метод flatten:\n",
    "my_array = np.array([[1,2,3], [11,22,33], [111,222,333]])\n",
    "my_array.flatten()"
   ]
  },
  {
   "cell_type": "code",
   "execution_count": 153,
   "metadata": {},
   "outputs": [
    {
     "data": {
      "text/plain": [
       "array([[0, 7, 2, 2],\n",
       "       [8, 2, 8, 3],\n",
       "       [1, 6, 3, 0]])"
      ]
     },
     "execution_count": 153,
     "metadata": {},
     "output_type": "execute_result"
    }
   ],
   "source": [
    "my_array = np.random.randint(0, 10, (3,4))\n",
    "my_array"
   ]
  },
  {
   "cell_type": "code",
   "execution_count": 154,
   "metadata": {},
   "outputs": [
    {
     "data": {
      "text/plain": [
       "array([[ True, False,  True,  True],\n",
       "       [False,  True, False,  True],\n",
       "       [ True, False,  True,  True]])"
      ]
     },
     "execution_count": 154,
     "metadata": {},
     "output_type": "execute_result"
    }
   ],
   "source": [
    "my_array<5"
   ]
  },
  {
   "cell_type": "code",
   "execution_count": 155,
   "metadata": {},
   "outputs": [
    {
     "data": {
      "text/plain": [
       "array([0, 2, 2, 2, 3, 1, 3, 0])"
      ]
     },
     "execution_count": 155,
     "metadata": {},
     "output_type": "execute_result"
    }
   ],
   "source": [
    "my_array[my_array<5]"
   ]
  },
  {
   "cell_type": "code",
   "execution_count": 158,
   "metadata": {},
   "outputs": [
    {
     "data": {
      "text/plain": [
       "array([[0, 2],\n",
       "       [8, 8],\n",
       "       [1, 3]])"
      ]
     },
     "execution_count": 158,
     "metadata": {},
     "output_type": "execute_result"
    }
   ],
   "source": [
    "mask = np.array([1,0,1,0],bool)\n",
    "my_array[:,mask]"
   ]
  },
  {
   "cell_type": "markdown",
   "metadata": {},
   "source": [
    "**Сортировка двумерных массивов**"
   ]
  },
  {
   "cell_type": "code",
   "execution_count": 160,
   "metadata": {},
   "outputs": [
    {
     "data": {
      "text/plain": [
       "array([[5, 4, 4, 3, 8, 6],\n",
       "       [7, 5, 5, 0, 7, 2],\n",
       "       [1, 2, 1, 2, 6, 0],\n",
       "       [4, 1, 8, 1, 3, 0]])"
      ]
     },
     "execution_count": 160,
     "metadata": {},
     "output_type": "execute_result"
    }
   ],
   "source": [
    "my_array = np.random.randint(0,10,(4,6))\n",
    "my_array"
   ]
  },
  {
   "cell_type": "code",
   "execution_count": 162,
   "metadata": {},
   "outputs": [
    {
     "data": {
      "text/plain": [
       "array([[3, 4, 4, 5, 6, 8],\n",
       "       [0, 2, 5, 5, 7, 7],\n",
       "       [0, 1, 1, 2, 2, 6],\n",
       "       [0, 1, 1, 3, 4, 8]])"
      ]
     },
     "execution_count": 162,
     "metadata": {},
     "output_type": "execute_result"
    }
   ],
   "source": [
    "np.sort(my_array,axis=1)"
   ]
  },
  {
   "cell_type": "code",
   "execution_count": 163,
   "metadata": {
    "collapsed": true
   },
   "outputs": [
    {
     "data": {
      "text/plain": [
       "array([[1, 1, 1, 0, 3, 0],\n",
       "       [4, 2, 4, 1, 6, 0],\n",
       "       [5, 4, 5, 2, 7, 2],\n",
       "       [7, 5, 8, 3, 8, 6]])"
      ]
     },
     "execution_count": 163,
     "metadata": {},
     "output_type": "execute_result"
    }
   ],
   "source": [
    "np.sort(my_array, axis=0)"
   ]
  },
  {
   "cell_type": "markdown",
   "metadata": {},
   "source": [
    "# 9.5. Математические и статистические операции"
   ]
  },
  {
   "cell_type": "markdown",
   "metadata": {},
   "source": [
    "**Математические и статистические операции\n",
    "Модуль NumPy содержит множество базовых статистических функций, которые помогают описать имеющиеся данные: среднее арифметическое (mean), медиана (median), стандартное отклонение (std), корреляция (corrcoef) и прочие. Давайте посмотрим, как они работают**"
   ]
  },
  {
   "cell_type": "code",
   "execution_count": 7,
   "metadata": {},
   "outputs": [
    {
     "data": {
      "text/plain": [
       "array([[  1. , 135. ,  34. ,   4. ],\n",
       "       [  2. , 160. ,  43. ,   5. ],\n",
       "       [  3. , 163. ,  40. ,   4.3],\n",
       "       [  4. , 147. ,  44. ,   5. ],\n",
       "       [  5. , 138. ,  41. ,   4.7],\n",
       "       [  6. , 149. ,  54. ,   3.9],\n",
       "       [  7. , 136. ,  39. ,   4.2],\n",
       "       [  8. , 154. ,  48. ,   4.9],\n",
       "       [  9. , 137. ,  35. ,   3.7],\n",
       "       [ 10. , 165. ,  60. ,   4.6]])"
      ]
     },
     "execution_count": 7,
     "metadata": {},
     "output_type": "execute_result"
    }
   ],
   "source": [
    "students = np.array([[1, 135, 34, 4], [2, 160, 43, 5],\n",
    "                     [3, 163, 40, 4.3], [4, 147, 44, 5], [5, 138, 41, 4.7],\n",
    "                     [6, 149, 54, 3.9], [7, 136, 39, 4.2], [8, 154, 48, 4.9],\n",
    "                     [9, 137, 35, 3.7], [10, 165, 60, 4.6]])\n",
    "students"
   ]
  },
  {
   "cell_type": "markdown",
   "metadata": {},
   "source": [
    "**Средние величины**"
   ]
  },
  {
   "cell_type": "markdown",
   "metadata": {},
   "source": [
    "*Среднее арифметическое (mean) — сумма всех значений, делённая на их количество, показывает общую тенденцию данных и описывает их одним числом. Узнаем среднюю успеваемость школьников в классе, используя функцию mean:*"
   ]
  },
  {
   "cell_type": "code",
   "execution_count": 195,
   "metadata": {},
   "outputs": [
    {
     "data": {
      "text/plain": [
       "4.430000000000001"
      ]
     },
     "execution_count": 195,
     "metadata": {},
     "output_type": "execute_result"
    }
   ],
   "source": [
    "mean = np.mean(students[:,-1])\n",
    "mean"
   ]
  },
  {
   "cell_type": "markdown",
   "metadata": {},
   "source": [
    "*Медиана — это такое число, что ровно половина элементов из выборки больше него, а другая половина меньше него. Если в выборке есть выбросы (значения, которые принимают величину существенно выше или ниже среднего и выделяются из всей выборки), то медиана будет лучше характеризовать всю выборку, чем среднее арифметическо*"
   ]
  },
  {
   "cell_type": "code",
   "execution_count": 197,
   "metadata": {},
   "outputs": [
    {
     "data": {
      "text/plain": [
       "4.449999999999999"
      ]
     },
     "execution_count": 197,
     "metadata": {},
     "output_type": "execute_result"
    }
   ],
   "source": [
    "median = np.median(students[:,-1])\n",
    "median"
   ]
  },
  {
   "cell_type": "code",
   "execution_count": 200,
   "metadata": {},
   "outputs": [
    {
     "data": {
      "text/plain": [
       "42.0"
      ]
     },
     "execution_count": 200,
     "metadata": {},
     "output_type": "execute_result"
    }
   ],
   "source": [
    "#Чему равно медианное значение массы тела школьников?\n",
    "median = np.median(students[:,-2])\n",
    "median"
   ]
  },
  {
   "cell_type": "code",
   "execution_count": 205,
   "metadata": {},
   "outputs": [
    {
     "data": {
      "text/plain": [
       "1.7999999999999972"
      ]
     },
     "execution_count": 205,
     "metadata": {},
     "output_type": "execute_result"
    }
   ],
   "source": [
    "mean = np.mean(students[:,-2])\n",
    "mean-median"
   ]
  },
  {
   "cell_type": "markdown",
   "metadata": {},
   "source": [
    "**Коэффициент корреляции**\n",
    "*Корреляция — статистическая взаимосвязь случайных величин. Мерой корреляции служит одноименный коэффициент, который показывает, насколько сильно связаны величины, он может быть положительным или отрицательным, а по модулю принимает значение от 0 до 1. Отрицательный коэффициент говорит о том, что случайные величины связаны, но при увеличении одной из них вторая уменьшается. Если коэффициент положительный, то величины изменяются в одном направлении.*\n",
    "\n",
    "*Аналитики часто оперируют в своей работе данной величиной и ошибаются, делая ложные выводы о данных. Связано это с тем, что не всегда наличие корреляции между двумя показателями говорит о том, что между ними есть причинно-следственная связь.*"
   ]
  },
  {
   "cell_type": "code",
   "execution_count": 11,
   "metadata": {},
   "outputs": [
    {
     "data": {
      "text/plain": [
       "array([[1.        , 0.64314431],\n",
       "       [0.64314431, 1.        ]])"
      ]
     },
     "execution_count": 11,
     "metadata": {},
     "output_type": "execute_result"
    }
   ],
   "source": [
    "# узнаем, как связан рост и вес наших школьников, посчитав коэффициент корреляции столбцов матрицы:\n",
    "corr = np.corrcoef(students[:,1],students[:,2])\n",
    "corr"
   ]
  },
  {
   "cell_type": "code",
   "execution_count": 13,
   "metadata": {},
   "outputs": [
    {
     "name": "stdout",
     "output_type": "stream",
     "text": [
      "[[1.         0.46293714]\n",
      " [0.46293714 1.        ]]\n",
      "[[1.         0.29801325]\n",
      " [0.29801325 1.        ]]\n"
     ]
    }
   ],
   "source": [
    "#Между какой парой признаков в массиве students наблюдается минимальная корреляция?\n",
    "corr1 = np.corrcoef(students[:,1],students[:,3])\n",
    "corr2 = np.corrcoef(students[:,2],students[:,3])\n",
    "print(corr1)\n",
    "print(corr2)"
   ]
  },
  {
   "cell_type": "markdown",
   "metadata": {},
   "source": [
    "**Показатели вариации**"
   ]
  },
  {
   "cell_type": "markdown",
   "metadata": {},
   "source": [
    "Математическое ожидание — среднее значение случайной величины при стремлении числа её измерений к бесконечности. Если число измерений конечно, то для оценки среднего значения величины используется среднее арифметическое."
   ]
  },
  {
   "cell_type": "code",
   "execution_count": 14,
   "metadata": {},
   "outputs": [
    {
     "data": {
      "text/plain": [
       "11.083320801997928"
      ]
     },
     "execution_count": 14,
     "metadata": {},
     "output_type": "execute_result"
    }
   ],
   "source": [
    "#Узнаем, насколько разный у школьников рост, посчитав стандартное отклонение std:\n",
    "std = np.std(students[:,1])\n",
    "std"
   ]
  },
  {
   "cell_type": "code",
   "execution_count": 15,
   "metadata": {},
   "outputs": [
    {
     "data": {
      "text/plain": [
       "0.4517742799230607"
      ]
     },
     "execution_count": 15,
     "metadata": {},
     "output_type": "execute_result"
    }
   ],
   "source": [
    "#Используя имеющийся набор данных о школьниках, найдите, чему равно стандартное отклонение их средних баллов.\n",
    "std = np.std(students[:,-1])\n",
    "std"
   ]
  },
  {
   "cell_type": "code",
   "execution_count": 21,
   "metadata": {},
   "outputs": [
    {
     "data": {
      "text/plain": [
       "60.36"
      ]
     },
     "execution_count": 21,
     "metadata": {},
     "output_type": "execute_result"
    }
   ],
   "source": [
    "#Посчитайте, чему равна дисперсия значений веса школьников.\n",
    "var = np.var(students[:,2])\n",
    "#V.2\n",
    "stu = students[:,2].copy()\n",
    "list1 = stu.tolist() # Numpy Array to List\n",
    "#calc mean\n",
    "mean = sum(list1)/len(list1)\n",
    "var_1 = sum([(xi-mean)**2 for xi in list1])/len(list1)\n",
    "var_1\n"
   ]
  },
  {
   "cell_type": "code",
   "execution_count": null,
   "metadata": {},
   "outputs": [],
   "source": []
  },
  {
   "cell_type": "code",
   "execution_count": null,
   "metadata": {},
   "outputs": [],
   "source": []
  },
  {
   "cell_type": "code",
   "execution_count": null,
   "metadata": {},
   "outputs": [],
   "source": []
  },
  {
   "cell_type": "markdown",
   "metadata": {},
   "source": [
    "**Упражнения**"
   ]
  },
  {
   "cell_type": "code",
   "execution_count": 2,
   "metadata": {},
   "outputs": [
    {
     "data": {
      "text/plain": [
       "array([[ 294.       ],\n",
       "       [  33.1662479],\n",
       "       [2500.       ],\n",
       "       [  33.1662479],\n",
       "       [ 294.       ]])"
      ]
     },
     "execution_count": 2,
     "metadata": {},
     "output_type": "execute_result"
    }
   ],
   "source": [
    "first_line = [x*y for x in range(2, 100, 6) for y in range (7, 1, -2)]\n",
    "second_line = [x ** 0.5 for x in range(1000, 1101, 2)]\n",
    "third_line = [x**2 for x in range(51)]\n",
    "big_secret = np.array([first_line, second_line, third_line, second_line, first_line])\n",
    "big_secret[0:,50:51]\n"
   ]
  },
  {
   "cell_type": "code",
   "execution_count": 3,
   "metadata": {},
   "outputs": [
    {
     "data": {
      "text/plain": [
       "3154.332495807108"
      ]
     },
     "execution_count": 3,
     "metadata": {},
     "output_type": "execute_result"
    }
   ],
   "source": [
    "#Чему равна сумма элементов последнего столбца массива? Ответ округлите до двух\n",
    "# цифр после запятой:\n",
    "summa = 0\n",
    "for j in big_secret[0:,50:51]:\n",
    "    summa += j\n",
    "summa\n",
    "big_secret[0:,50:51].sum()"
   ]
  },
  {
   "cell_type": "code",
   "execution_count": 89,
   "metadata": {},
   "outputs": [
    {
     "data": {
      "text/plain": [
       "array([[14.        , 10.        ,  6.        , 56.        , 40.        ],\n",
       "       [31.6227766 , 31.65438358, 31.68595904, 31.71750305, 31.74901573],\n",
       "       [ 0.        ,  1.        ,  4.        ,  9.        , 16.        ],\n",
       "       [31.6227766 , 31.65438358, 31.68595904, 31.71750305, 31.74901573],\n",
       "       [14.        , 10.        ,  6.        , 56.        , 40.        ]])"
      ]
     },
     "execution_count": 89,
     "metadata": {},
     "output_type": "execute_result"
    }
   ],
   "source": [
    "# Выделите из каждой строки массива big_secret первые 5 элементов.\n",
    "#Чему равна сумма элементов главной диагонали получившейся матрицы?\n",
    "# Округлите ответ до двух цифр после запятой:\n",
    "bs = big_secret[:,:5]\n",
    "eye = [bs[i][i] for i in range(5)]\n",
    "eye\n",
    "summa = 0\n",
    "for x in eye:\n",
    "    summa +=x\n",
    "round(summa,2)\n",
    "bs"
   ]
  },
  {
   "cell_type": "code",
   "execution_count": 97,
   "metadata": {},
   "outputs": [
    {
     "name": "stdout",
     "output_type": "stream",
     "text": [
      "341505315559.2347\n"
     ]
    }
   ],
   "source": [
    "# Выделите из каждой строки массива big_secret последние 5 элементов. Чему равно произведение элементов главной диагонали получившейся матрицы? \n",
    "# Введите полученный результат без изменений и округлений.\n",
    "mult = 1\n",
    "bs = big_secret[:,-5:]\n",
    "eye = [bs[i][i] for i in range(5)]\n",
    "for i in eye:\n",
    "    mult *=i\n",
    "print(mult)\n",
    "    "
   ]
  },
  {
   "cell_type": "markdown",
   "metadata": {},
   "source": [
    "*Проверим знания! Продолжим работать с массивом big_secret. Замените на 1 все элементы, у которых оба индекса нечётные, и на -1 все элементы, у которых оба индекса чётные.*"
   ]
  },
  {
   "cell_type": "code",
   "execution_count": 129,
   "metadata": {
    "scrolled": true
   },
   "outputs": [
    {
     "data": {
      "text/plain": [
       "array([[-1.        , 10.        , -1.        , 56.        , -1.        ],\n",
       "       [31.6227766 ,  1.        , 31.68595904,  1.        , 31.74901573],\n",
       "       [-1.        ,  1.        , -1.        ,  9.        , -1.        ],\n",
       "       [31.6227766 ,  1.        , 31.68595904,  1.        , 31.74901573],\n",
       "       [-1.        , 10.        , -1.        , 56.        , -1.        ]])"
      ]
     },
     "execution_count": 129,
     "metadata": {},
     "output_type": "execute_result"
    }
   ],
   "source": [
    "big_secret[::2, ::2] = -1\n",
    "big_secret[1::2,1::2] = 1\n"
   ]
  },
  {
   "cell_type": "code",
   "execution_count": 134,
   "metadata": {},
   "outputs": [
    {
     "data": {
      "text/plain": [
       "-1.0"
      ]
     },
     "execution_count": 134,
     "metadata": {},
     "output_type": "execute_result"
    }
   ],
   "source": [
    "#Выделите из каждой строки обновлённого массива big_secret первые 5 элементов. Чему равна сумма элементов главной диагонали получившейся матрицы? \n",
    "# Введите полученный ответ без изменений и округлений.\n",
    "\n",
    "bs = big_secret[:,:5]\n",
    "eye = [bs[i][i] for i in range(5)]\n",
    "summa = 0\n",
    "for x in eye:\n",
    "    summa +=x\n",
    "round(summa)\n",
    "summa"
   ]
  },
  {
   "cell_type": "code",
   "execution_count": 143,
   "metadata": {},
   "outputs": [
    {
     "data": {
      "text/plain": [
       "-1.0"
      ]
     },
     "execution_count": 143,
     "metadata": {},
     "output_type": "execute_result"
    }
   ],
   "source": [
    "#Выделите из каждой строки обновлённого массива big_secret последние 5 элементов. Чему равно произведение элементов главной диагонали получившейся матрицы? Введите \n",
    "#полученный результат без изменений и округлений.\n",
    "bs = big_secret[:,-5:]\n",
    "eye = [bs[i][i] for i in range(5)]\n",
    "mult = 1\n",
    "for x in eye:\n",
    "    mult *= x\n",
    "mult    "
   ]
  },
  {
   "cell_type": "code",
   "execution_count": 186,
   "metadata": {},
   "outputs": [],
   "source": [
    "first = [x**(1/2) for x in range(100)]\n",
    "second = [x**(1/3) for x in range(100,200)]\n",
    "third = [x/y for x in range(200,300,2) for y in [3,5]]\n",
    "\n",
    "great_sc = np.array([first,second,third]).T"
   ]
  },
  {
   "cell_type": "code",
   "execution_count": 166,
   "metadata": {},
   "outputs": [
    {
     "data": {
      "text/plain": [
       "(100, 3)"
      ]
     },
     "execution_count": 166,
     "metadata": {},
     "output_type": "execute_result"
    }
   ],
   "source": [
    "# Сколько столбцов содержит массив great_secret?\n",
    "great_sc.shape"
   ]
  },
  {
   "cell_type": "code",
   "execution_count": 170,
   "metadata": {},
   "outputs": [
    {
     "data": {
      "text/plain": [
       "0.16006721889793019"
      ]
     },
     "execution_count": 170,
     "metadata": {},
     "output_type": "execute_result"
    }
   ],
   "source": [
    "# Чему равна сумма косинусов элементов первой строки массива great_secret? \n",
    "# Ответ округлите до двух знаков после запятой.\n",
    "gbs = great_sc[:1, :]\n",
    "np.cos(gbs).sum()"
   ]
  },
  {
   "cell_type": "code",
   "execution_count": 171,
   "metadata": {},
   "outputs": [
    {
     "data": {
      "text/plain": [
       "5470.0"
      ]
     },
     "execution_count": 171,
     "metadata": {},
     "output_type": "execute_result"
    }
   ],
   "source": [
    "#Чему равна сумма элементов массива great_secret, \n",
    "#значение которых больше 50?\n",
    "great_sc[great_sc>50].sum()"
   ]
  },
  {
   "cell_type": "code",
   "execution_count": 172,
   "metadata": {},
   "outputs": [
    {
     "data": {
      "text/plain": [
       "7.0710678118654755"
      ]
     },
     "execution_count": 172,
     "metadata": {},
     "output_type": "execute_result"
    }
   ],
   "source": [
    "#Переведите массив great_secret в одномерную форму. Какое значение в получившемся массиве имеет элемент с индексом 150? Скопируйте ответ из \n",
    "#Jupyter Notebook без изменений.\n",
    "great_sc.flatten()[150]"
   ]
  },
  {
   "cell_type": "code",
   "execution_count": 185,
   "metadata": {},
   "outputs": [
    {
     "data": {
      "text/plain": [
       "115.12148016521353"
      ]
     },
     "execution_count": 185,
     "metadata": {},
     "output_type": "execute_result"
    }
   ],
   "source": [
    "# Отсортируйте значения столбцов массива great_secret по возрастанию. Чему равна сумма элементов последней строки\n",
    "# отсортированного массива? Ответ округлите до двух цифр после запятой.\n",
    "np.sort(great_sc, axis=0)[-1:].sum()"
   ]
  },
  {
   "cell_type": "code",
   "execution_count": 34,
   "metadata": {},
   "outputs": [
    {
     "data": {
      "text/plain": [
       "array([[ 7,  8,  9],\n",
       "       [12, 13, 14],\n",
       "       [17, 18, 19]])"
      ]
     },
     "execution_count": 34,
     "metadata": {},
     "output_type": "execute_result"
    }
   ],
   "source": [
    "# Перед вами массив my_array, созданный с помощью кода выше. Напишите код, с помощью которого можно извлечь \n",
    "# из него центральный фрагмент размером 3 х 3, с числами 7, 8, 9, 12, 13, 14, 17, 18, 19.\n",
    "my_array = np.array([[1,2,3,4,5],\n",
    "                     [6,7,8,9,10],\n",
    "                     [11,12,13,14,15],\n",
    "                     [16,17,18,19,20],\n",
    "                     [21,22,23,24,25]])\n",
    "my_slice = my_array[1:4,1:4]\n",
    "my_slice"
   ]
  },
  {
   "cell_type": "code",
   "execution_count": 45,
   "metadata": {},
   "outputs": [
    {
     "name": "stdout",
     "output_type": "stream",
     "text": [
      "-0.058\n"
     ]
    }
   ],
   "source": [
    "# Создайте массив my_sin, состоящий из синусов элементов массива my_array. \n",
    "# Посчитайте, чему равна сумма элементов полученного массива. Ответ округлите до трёх цифр после запятой.\n",
    "# my_sin = np.sin(my_array).sum()\n",
    "my_sin = np.sin(my_array)\n",
    "print(round(my_sin.sum(),3))\n"
   ]
  },
  {
   "cell_type": "code",
   "execution_count": 53,
   "metadata": {},
   "outputs": [
    {
     "data": {
      "text/plain": [
       "7.572"
      ]
     },
     "execution_count": 53,
     "metadata": {},
     "output_type": "execute_result"
    }
   ],
   "source": [
    "# Замените элементы в центральном фрагменте 3 х 3 массива my_sin на единицы.Чему равна сумма элементов изменённого массива? \n",
    "# Ответ округлите до трёх знаков после запятой.\n",
    "my_sin[1:4,1:4] = 1\n",
    "round(my_sin.sum(),3)"
   ]
  },
  {
   "cell_type": "code",
   "execution_count": 54,
   "metadata": {},
   "outputs": [],
   "source": [
    "# Преобразуйте первые четыре столбца массива my_sin в массив из 10 строк и 2 столбцов. Чему равна \n",
    "# сумма элементов первого столбца получившегося массива? Ответ округлите до трёх заков после точки-разделителя. \n",
    "# Используйте преобразованный в предыдущем задании массив my_sin\n"
   ]
  },
  {
   "cell_type": "code",
   "execution_count": 64,
   "metadata": {},
   "outputs": [
    {
     "data": {
      "text/plain": [
       "2.406"
      ]
     },
     "execution_count": 64,
     "metadata": {},
     "output_type": "execute_result"
    }
   ],
   "source": [
    "new1 = my_sin[:,:4].reshape((10,2))\n",
    "round(new1[:,:1].sum(),3)"
   ]
  },
  {
   "cell_type": "code",
   "execution_count": 69,
   "metadata": {},
   "outputs": [],
   "source": [
    "# Создайте массив bigdata, содержащий квадраты всех нечётных чисел в диапазоне от 100 до 1000.\n",
    "first = [x**2 for x in range(100,1000) if x%2 !=0]\n",
    "bigdata = np.array(first)"
   ]
  },
  {
   "cell_type": "code",
   "execution_count": 70,
   "metadata": {},
   "outputs": [
    {
     "data": {
      "text/plain": [
       "302501.0"
      ]
     },
     "execution_count": 70,
     "metadata": {},
     "output_type": "execute_result"
    }
   ],
   "source": [
    "#Чему равна медиана массива bigdata?\n",
    "median = np.median(bigdata)\n",
    "median"
   ]
  },
  {
   "cell_type": "code",
   "execution_count": 71,
   "metadata": {},
   "outputs": [
    {
     "data": {
      "text/plain": [
       "292095.0301991155"
      ]
     },
     "execution_count": 71,
     "metadata": {},
     "output_type": "execute_result"
    }
   ],
   "source": [
    "#Чему равно стандартное отклонение для массива bigdata? Ответ округлите до целых:\n",
    "std = np.std(bigdata)\n",
    "std"
   ]
  },
  {
   "cell_type": "code",
   "execution_count": 78,
   "metadata": {},
   "outputs": [
    {
     "data": {
      "text/plain": [
       "array([[1.        , 0.99999973],\n",
       "       [0.99999973, 1.        ]])"
      ]
     },
     "execution_count": 78,
     "metadata": {},
     "output_type": "execute_result"
    }
   ],
   "source": [
    "# Чему равен коэффициент корреляции между элементами массива bigdata с чётными и нечётными индексами? \n",
    "# Введите полученный ответ без изменений и округлений.\n",
    "corr = np.corrcoef(bigdata[::2],bigdata[1::2])\n",
    "corr"
   ]
  },
  {
   "cell_type": "code",
   "execution_count": 74,
   "metadata": {},
   "outputs": [
    {
     "data": {
      "text/plain": [
       "array([ 10201,  11025,  11881,  12769,  13689,  14641,  15625,  16641,\n",
       "        17689,  18769,  19881,  21025,  22201,  23409,  24649,  25921,\n",
       "        27225,  28561,  29929,  31329,  32761,  34225,  35721,  37249,\n",
       "        38809,  40401,  42025,  43681,  45369,  47089,  48841,  50625,\n",
       "        52441,  54289,  56169,  58081,  60025,  62001,  64009,  66049,\n",
       "        68121,  70225,  72361,  74529,  76729,  78961,  81225,  83521,\n",
       "        85849,  88209,  90601,  93025,  95481,  97969, 100489, 103041,\n",
       "       105625, 108241, 110889, 113569, 116281, 119025, 121801, 124609,\n",
       "       127449, 130321, 133225, 136161, 139129, 142129, 145161, 148225,\n",
       "       151321, 154449, 157609, 160801, 164025, 167281, 170569, 173889,\n",
       "       177241, 180625, 184041, 187489, 190969, 194481, 198025, 201601,\n",
       "       205209, 208849, 212521, 216225, 219961, 223729, 227529, 231361,\n",
       "       235225, 239121, 243049, 247009, 251001, 255025, 259081, 263169,\n",
       "       267289, 271441, 275625, 279841, 284089, 288369, 292681, 297025,\n",
       "       301401, 305809, 310249, 314721, 319225, 323761, 328329, 332929,\n",
       "       337561, 342225, 346921, 351649, 356409, 361201, 366025, 370881,\n",
       "       375769, 380689, 385641, 390625, 395641, 400689, 405769, 410881,\n",
       "       416025, 421201, 426409, 431649, 436921, 442225, 447561, 452929,\n",
       "       458329, 463761, 469225, 474721, 480249, 485809, 491401, 497025,\n",
       "       502681, 508369, 514089, 519841, 525625, 531441, 537289, 543169,\n",
       "       549081, 555025, 561001, 567009, 573049, 579121, 585225, 591361,\n",
       "       597529, 603729, 609961, 616225, 622521, 628849, 635209, 641601,\n",
       "       648025, 654481, 660969, 667489, 674041, 680625, 687241, 693889,\n",
       "       700569, 707281, 714025, 720801, 727609, 734449, 741321, 748225,\n",
       "       755161, 762129, 769129, 776161, 783225, 790321, 797449, 804609,\n",
       "       811801, 819025, 826281, 833569, 840889, 848241, 855625, 863041,\n",
       "       870489, 877969, 885481, 893025, 900601, 908209, 915849, 923521,\n",
       "       931225, 938961, 946729, 954529, 962361, 970225, 978121, 986049,\n",
       "       994009])"
      ]
     },
     "execution_count": 74,
     "metadata": {},
     "output_type": "execute_result"
    }
   ],
   "source": [
    "bigdata[::2]"
   ]
  },
  {
   "cell_type": "code",
   "execution_count": 76,
   "metadata": {},
   "outputs": [
    {
     "data": {
      "text/plain": [
       "array([ 10609,  11449,  12321,  13225,  14161,  15129,  16129,  17161,\n",
       "        18225,  19321,  20449,  21609,  22801,  24025,  25281,  26569,\n",
       "        27889,  29241,  30625,  32041,  33489,  34969,  36481,  38025,\n",
       "        39601,  41209,  42849,  44521,  46225,  47961,  49729,  51529,\n",
       "        53361,  55225,  57121,  59049,  61009,  63001,  65025,  67081,\n",
       "        69169,  71289,  73441,  75625,  77841,  80089,  82369,  84681,\n",
       "        87025,  89401,  91809,  94249,  96721,  99225, 101761, 104329,\n",
       "       106929, 109561, 112225, 114921, 117649, 120409, 123201, 126025,\n",
       "       128881, 131769, 134689, 137641, 140625, 143641, 146689, 149769,\n",
       "       152881, 156025, 159201, 162409, 165649, 168921, 172225, 175561,\n",
       "       178929, 182329, 185761, 189225, 192721, 196249, 199809, 203401,\n",
       "       207025, 210681, 214369, 218089, 221841, 225625, 229441, 233289,\n",
       "       237169, 241081, 245025, 249001, 253009, 257049, 261121, 265225,\n",
       "       269361, 273529, 277729, 281961, 286225, 290521, 294849, 299209,\n",
       "       303601, 308025, 312481, 316969, 321489, 326041, 330625, 335241,\n",
       "       339889, 344569, 349281, 354025, 358801, 363609, 368449, 373321,\n",
       "       378225, 383161, 388129, 393129, 398161, 403225, 408321, 413449,\n",
       "       418609, 423801, 429025, 434281, 439569, 444889, 450241, 455625,\n",
       "       461041, 466489, 471969, 477481, 483025, 488601, 494209, 499849,\n",
       "       505521, 511225, 516961, 522729, 528529, 534361, 540225, 546121,\n",
       "       552049, 558009, 564001, 570025, 576081, 582169, 588289, 594441,\n",
       "       600625, 606841, 613089, 619369, 625681, 632025, 638401, 644809,\n",
       "       651249, 657721, 664225, 670761, 677329, 683929, 690561, 697225,\n",
       "       703921, 710649, 717409, 724201, 731025, 737881, 744769, 751689,\n",
       "       758641, 765625, 772641, 779689, 786769, 793881, 801025, 808201,\n",
       "       815409, 822649, 829921, 837225, 844561, 851929, 859329, 866761,\n",
       "       874225, 881721, 889249, 896809, 904401, 912025, 919681, 927369,\n",
       "       935089, 942841, 950625, 958441, 966289, 974169, 982081, 990025,\n",
       "       998001])"
      ]
     },
     "execution_count": 76,
     "metadata": {},
     "output_type": "execute_result"
    }
   ],
   "source": [
    "bigdata[1::2]"
   ]
  },
  {
   "cell_type": "code",
   "execution_count": null,
   "metadata": {},
   "outputs": [],
   "source": []
  }
 ],
 "metadata": {
  "kernelspec": {
   "display_name": "Python 3",
   "language": "python",
   "name": "python3"
  },
  "language_info": {
   "codemirror_mode": {
    "name": "ipython",
    "version": 3
   },
   "file_extension": ".py",
   "mimetype": "text/x-python",
   "name": "python",
   "nbconvert_exporter": "python",
   "pygments_lexer": "ipython3",
   "version": "3.8.3"
  }
 },
 "nbformat": 4,
 "nbformat_minor": 4
}
