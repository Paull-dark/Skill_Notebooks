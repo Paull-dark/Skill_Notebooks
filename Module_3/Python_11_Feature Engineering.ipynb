{
 "cells": [
  {
   "cell_type": "code",
   "execution_count": 2,
   "metadata": {},
   "outputs": [],
   "source": [
    "import pandas as pd\n",
    "import numpy as np"
   ]
  },
  {
   "cell_type": "code",
   "execution_count": 3,
   "metadata": {},
   "outputs": [],
   "source": [
    "log = pd.read_csv('log.csv', header=None)\n",
    "users = pd.read_csv('users.csv',sep='\\t',encoding='KOI8-R')"
   ]
  },
  {
   "cell_type": "code",
   "execution_count": 196,
   "metadata": {},
   "outputs": [],
   "source": [
    "# Теперь нужно сделать так, чтобы с колонками было удобно работать.\n",
    "log.columns = ['user_id','time','bet','win']\n",
    "users.columns = ['user_id','email','geo']"
   ]
  },
  {
   "cell_type": "code",
   "execution_count": 5,
   "metadata": {},
   "outputs": [],
   "source": [
    "log['time'] = log['time'].str.replace('[','')"
   ]
  },
  {
   "cell_type": "code",
   "execution_count": 6,
   "metadata": {},
   "outputs": [
    {
     "data": {
      "text/plain": [
       "15"
      ]
     },
     "execution_count": 6,
     "metadata": {},
     "output_type": "execute_result"
    }
   ],
   "source": [
    "#  Посчитайте количество пропусков в столбце time.\n",
    "log['time'].isna().sum()"
   ]
  },
  {
   "cell_type": "markdown",
   "metadata": {},
   "source": [
    "<span style=\"color: orange; font-weight: bold; font-size:16pt\">Удаление пропусков</span>\n",
    "\n",
    "Пропуски можно удалять автоматически. Во многих случаях это правильно, так как данные с большим количеством пропусков часто не имеют смысла и не приносят никакой пользы. \n",
    "\n",
    "Удалять данные с пропусками можно с помощью метода ***dropna().***\n",
    "\n",
    "Параметр axis в методе ***dropna()*** говорит методу, по какой оси удалять значения.  \n",
    "\n",
    "Если нужно удалить строки, в которых встречается пропуск (NaN), следует указать axis=0.  Зачем это делать? Например, у нас из 1000 примеров данных про пользователей пропуски есть в пяти. Разумно их удалить, так как их количество пренебрежимо мало.\n",
    "\n",
    "Если нужно удалить столбцы, в которых встречается пропуск (NaN), нужно указывать axis=1. Зачем? Иногда в одном конкретном столбце пропусков настолько много, что с ними просто не хочется возиться - смысла в них все равно почти нет. \n",
    "\n",
    "Еще один интересный параметр - ***subset***. Что он делает? Если передать в него список значений по одной оси (например, названия столбцов) и задать при этом в параметре axis другую ось (в нашем случае 0), то мы удалим те строки, для которых в данных столбцах находится пропуск. То же самое работает и наоборот: нужно поменять axis на 1 и вместо названий столбцов передавать индексы строк."
   ]
  },
  {
   "cell_type": "code",
   "execution_count": 7,
   "metadata": {},
   "outputs": [
    {
     "data": {
      "text/html": [
       "<div>\n",
       "<style scoped>\n",
       "    .dataframe tbody tr th:only-of-type {\n",
       "        vertical-align: middle;\n",
       "    }\n",
       "\n",
       "    .dataframe tbody tr th {\n",
       "        vertical-align: top;\n",
       "    }\n",
       "\n",
       "    .dataframe thead th {\n",
       "        text-align: right;\n",
       "    }\n",
       "</style>\n",
       "<table border=\"1\" class=\"dataframe\">\n",
       "  <thead>\n",
       "    <tr style=\"text-align: right;\">\n",
       "      <th></th>\n",
       "      <th>user_id</th>\n",
       "    </tr>\n",
       "  </thead>\n",
       "  <tbody>\n",
       "    <tr>\n",
       "      <th>0</th>\n",
       "      <td>Запись пользователя № - user_919</td>\n",
       "    </tr>\n",
       "    <tr>\n",
       "      <th>1</th>\n",
       "      <td>Запись пользователя № - user_973</td>\n",
       "    </tr>\n",
       "    <tr>\n",
       "      <th>2</th>\n",
       "      <td>Запись пользователя № - user_903</td>\n",
       "    </tr>\n",
       "    <tr>\n",
       "      <th>3</th>\n",
       "      <td>Запись пользователя № - user_954</td>\n",
       "    </tr>\n",
       "    <tr>\n",
       "      <th>4</th>\n",
       "      <td>Запись пользователя № - user_954</td>\n",
       "    </tr>\n",
       "    <tr>\n",
       "      <th>...</th>\n",
       "      <td>...</td>\n",
       "    </tr>\n",
       "    <tr>\n",
       "      <th>995</th>\n",
       "      <td>Запись пользователя № - user_984</td>\n",
       "    </tr>\n",
       "    <tr>\n",
       "      <th>996</th>\n",
       "      <td>#error</td>\n",
       "    </tr>\n",
       "    <tr>\n",
       "      <th>997</th>\n",
       "      <td>#error</td>\n",
       "    </tr>\n",
       "    <tr>\n",
       "      <th>998</th>\n",
       "      <td>#error</td>\n",
       "    </tr>\n",
       "    <tr>\n",
       "      <th>999</th>\n",
       "      <td>#error</td>\n",
       "    </tr>\n",
       "  </tbody>\n",
       "</table>\n",
       "<p>1000 rows × 1 columns</p>\n",
       "</div>"
      ],
      "text/plain": [
       "                              user_id\n",
       "0    Запись пользователя № - user_919\n",
       "1    Запись пользователя № - user_973\n",
       "2    Запись пользователя № - user_903\n",
       "3    Запись пользователя № - user_954\n",
       "4    Запись пользователя № - user_954\n",
       "..                                ...\n",
       "995  Запись пользователя № - user_984\n",
       "996                            #error\n",
       "997                            #error\n",
       "998                            #error\n",
       "999                            #error\n",
       "\n",
       "[1000 rows x 1 columns]"
      ]
     },
     "execution_count": 7,
     "metadata": {},
     "output_type": "execute_result"
    }
   ],
   "source": [
    "# Удалите все столбцы, где есть пропуски. Запишите в поле, сколько осталось столбцов в данных после этого.\n",
    "log1 = log.copy()\n",
    "log1.dropna(axis=1)"
   ]
  },
  {
   "cell_type": "code",
   "execution_count": 8,
   "metadata": {},
   "outputs": [
    {
     "data": {
      "text/html": [
       "<div>\n",
       "<style scoped>\n",
       "    .dataframe tbody tr th:only-of-type {\n",
       "        vertical-align: middle;\n",
       "    }\n",
       "\n",
       "    .dataframe tbody tr th {\n",
       "        vertical-align: top;\n",
       "    }\n",
       "\n",
       "    .dataframe thead th {\n",
       "        text-align: right;\n",
       "    }\n",
       "</style>\n",
       "<table border=\"1\" class=\"dataframe\">\n",
       "  <thead>\n",
       "    <tr style=\"text-align: right;\">\n",
       "      <th></th>\n",
       "      <th>user_id</th>\n",
       "      <th>time</th>\n",
       "      <th>bet</th>\n",
       "      <th>win</th>\n",
       "    </tr>\n",
       "  </thead>\n",
       "  <tbody>\n",
       "    <tr>\n",
       "      <th>14</th>\n",
       "      <td>Запись пользователя № - user_917</td>\n",
       "      <td>2019-01-02 8:57:36</td>\n",
       "      <td>145732.0</td>\n",
       "      <td>1987653.0</td>\n",
       "    </tr>\n",
       "    <tr>\n",
       "      <th>29</th>\n",
       "      <td>Запись пользователя № - user_942</td>\n",
       "      <td>2019-01-04 13:59:42</td>\n",
       "      <td>1678321.0</td>\n",
       "      <td>9876543.0</td>\n",
       "    </tr>\n",
       "    <tr>\n",
       "      <th>151</th>\n",
       "      <td>Запись пользователя № - user_982</td>\n",
       "      <td>2019-01-16 21:54:22</td>\n",
       "      <td>100.0</td>\n",
       "      <td>4749.0</td>\n",
       "    </tr>\n",
       "    <tr>\n",
       "      <th>189</th>\n",
       "      <td>Запись пользователя № - user_964</td>\n",
       "      <td>2019-01-21 18:34:44</td>\n",
       "      <td>200.0</td>\n",
       "      <td>4667.0</td>\n",
       "    </tr>\n",
       "    <tr>\n",
       "      <th>205</th>\n",
       "      <td>Запись пользователя № - user_931</td>\n",
       "      <td>2019-01-22 5:26:59</td>\n",
       "      <td>300.0</td>\n",
       "      <td>4319.0</td>\n",
       "    </tr>\n",
       "    <tr>\n",
       "      <th>...</th>\n",
       "      <td>...</td>\n",
       "      <td>...</td>\n",
       "      <td>...</td>\n",
       "      <td>...</td>\n",
       "    </tr>\n",
       "    <tr>\n",
       "      <th>967</th>\n",
       "      <td>Запись пользователя № - user_975</td>\n",
       "      <td>2019-04-19 22:25:15</td>\n",
       "      <td>1000.0</td>\n",
       "      <td>6108.0</td>\n",
       "    </tr>\n",
       "    <tr>\n",
       "      <th>971</th>\n",
       "      <td>Запись пользователя № - user_912</td>\n",
       "      <td>2019-04-20 10:35:49</td>\n",
       "      <td>10554.0</td>\n",
       "      <td>31799.0</td>\n",
       "    </tr>\n",
       "    <tr>\n",
       "      <th>972</th>\n",
       "      <td>Запись пользователя № - user_926</td>\n",
       "      <td>2019-04-20 10:35:50</td>\n",
       "      <td>10354.0</td>\n",
       "      <td>30244.0</td>\n",
       "    </tr>\n",
       "    <tr>\n",
       "      <th>976</th>\n",
       "      <td>Запись пользователя № - user_970</td>\n",
       "      <td>2019-04-20 10:35:54</td>\n",
       "      <td>10354.0</td>\n",
       "      <td>30691.0</td>\n",
       "    </tr>\n",
       "    <tr>\n",
       "      <th>991</th>\n",
       "      <td>Запись пользователя № - user_965</td>\n",
       "      <td>2019-04-20 12:55:41</td>\n",
       "      <td>800.0</td>\n",
       "      <td>6927.0</td>\n",
       "    </tr>\n",
       "  </tbody>\n",
       "</table>\n",
       "<p>133 rows × 4 columns</p>\n",
       "</div>"
      ],
      "text/plain": [
       "                              user_id                 time        bet  \\\n",
       "14   Запись пользователя № - user_917   2019-01-02 8:57:36   145732.0   \n",
       "29   Запись пользователя № - user_942  2019-01-04 13:59:42  1678321.0   \n",
       "151  Запись пользователя № - user_982  2019-01-16 21:54:22      100.0   \n",
       "189  Запись пользователя № - user_964  2019-01-21 18:34:44      200.0   \n",
       "205  Запись пользователя № - user_931   2019-01-22 5:26:59      300.0   \n",
       "..                                ...                  ...        ...   \n",
       "967  Запись пользователя № - user_975  2019-04-19 22:25:15     1000.0   \n",
       "971  Запись пользователя № - user_912  2019-04-20 10:35:49    10554.0   \n",
       "972  Запись пользователя № - user_926  2019-04-20 10:35:50    10354.0   \n",
       "976  Запись пользователя № - user_970  2019-04-20 10:35:54    10354.0   \n",
       "991  Запись пользователя № - user_965  2019-04-20 12:55:41      800.0   \n",
       "\n",
       "           win  \n",
       "14   1987653.0  \n",
       "29   9876543.0  \n",
       "151     4749.0  \n",
       "189     4667.0  \n",
       "205     4319.0  \n",
       "..         ...  \n",
       "967     6108.0  \n",
       "971    31799.0  \n",
       "972    30244.0  \n",
       "976    30691.0  \n",
       "991     6927.0  \n",
       "\n",
       "[133 rows x 4 columns]"
      ]
     },
     "execution_count": 8,
     "metadata": {},
     "output_type": "execute_result"
    }
   ],
   "source": [
    "# Удалите все строки, где есть пропуски. Запишите в поле, сколько осталось строк в данных после этого.\n",
    "\n",
    "log2 = log.copy()\n",
    "log2.dropna(axis=0)"
   ]
  },
  {
   "cell_type": "markdown",
   "metadata": {},
   "source": [
    "С данными в столбцах bet и win мы разберемся позже: пропуски в этих столбцах требуют особого подхода.\n",
    "\n",
    "А сейчас:\n",
    "\n",
    "если есть пропуски в столбце user_id - удалите столбец user_id,\n",
    "\n",
    "если есть пропуски в столбце time - удалите столбец time.\n",
    "\n",
    "Запишите в поле ответа, количество оставшихся столбцов в данных, после этих действий."
   ]
  },
  {
   "cell_type": "code",
   "execution_count": 9,
   "metadata": {},
   "outputs": [
    {
     "data": {
      "text/html": [
       "<div>\n",
       "<style scoped>\n",
       "    .dataframe tbody tr th:only-of-type {\n",
       "        vertical-align: middle;\n",
       "    }\n",
       "\n",
       "    .dataframe tbody tr th {\n",
       "        vertical-align: top;\n",
       "    }\n",
       "\n",
       "    .dataframe thead th {\n",
       "        text-align: right;\n",
       "    }\n",
       "</style>\n",
       "<table border=\"1\" class=\"dataframe\">\n",
       "  <thead>\n",
       "    <tr style=\"text-align: right;\">\n",
       "      <th></th>\n",
       "      <th>Column</th>\n",
       "      <th>Count</th>\n",
       "    </tr>\n",
       "  </thead>\n",
       "  <tbody>\n",
       "    <tr>\n",
       "      <th>0</th>\n",
       "      <td>time</td>\n",
       "      <td>15</td>\n",
       "    </tr>\n",
       "    <tr>\n",
       "      <th>1</th>\n",
       "      <td>bet</td>\n",
       "      <td>515</td>\n",
       "    </tr>\n",
       "    <tr>\n",
       "      <th>2</th>\n",
       "      <td>win</td>\n",
       "      <td>862</td>\n",
       "    </tr>\n",
       "  </tbody>\n",
       "</table>\n",
       "</div>"
      ],
      "text/plain": [
       "  Column  Count\n",
       "0   time     15\n",
       "1    bet    515\n",
       "2    win    862"
      ]
     },
     "metadata": {},
     "output_type": "display_data"
    }
   ],
   "source": [
    "empty_data = log.isna().sum()[log.isna().sum() > 0].reset_index()\n",
    "empty_data.columns = ['Column', 'Count']\n",
    "display(empty_data)"
   ]
  },
  {
   "cell_type": "code",
   "execution_count": 10,
   "metadata": {},
   "outputs": [
    {
     "data": {
      "text/html": [
       "<div>\n",
       "<style scoped>\n",
       "    .dataframe tbody tr th:only-of-type {\n",
       "        vertical-align: middle;\n",
       "    }\n",
       "\n",
       "    .dataframe tbody tr th {\n",
       "        vertical-align: top;\n",
       "    }\n",
       "\n",
       "    .dataframe thead th {\n",
       "        text-align: right;\n",
       "    }\n",
       "</style>\n",
       "<table border=\"1\" class=\"dataframe\">\n",
       "  <thead>\n",
       "    <tr style=\"text-align: right;\">\n",
       "      <th></th>\n",
       "      <th>user_id</th>\n",
       "      <th>bet</th>\n",
       "      <th>win</th>\n",
       "    </tr>\n",
       "  </thead>\n",
       "  <tbody>\n",
       "    <tr>\n",
       "      <th>0</th>\n",
       "      <td>Запись пользователя № - user_919</td>\n",
       "      <td>NaN</td>\n",
       "      <td>NaN</td>\n",
       "    </tr>\n",
       "    <tr>\n",
       "      <th>1</th>\n",
       "      <td>Запись пользователя № - user_973</td>\n",
       "      <td>NaN</td>\n",
       "      <td>NaN</td>\n",
       "    </tr>\n",
       "    <tr>\n",
       "      <th>2</th>\n",
       "      <td>Запись пользователя № - user_903</td>\n",
       "      <td>NaN</td>\n",
       "      <td>NaN</td>\n",
       "    </tr>\n",
       "    <tr>\n",
       "      <th>3</th>\n",
       "      <td>Запись пользователя № - user_954</td>\n",
       "      <td>NaN</td>\n",
       "      <td>NaN</td>\n",
       "    </tr>\n",
       "    <tr>\n",
       "      <th>4</th>\n",
       "      <td>Запись пользователя № - user_954</td>\n",
       "      <td>NaN</td>\n",
       "      <td>NaN</td>\n",
       "    </tr>\n",
       "    <tr>\n",
       "      <th>...</th>\n",
       "      <td>...</td>\n",
       "      <td>...</td>\n",
       "      <td>...</td>\n",
       "    </tr>\n",
       "    <tr>\n",
       "      <th>995</th>\n",
       "      <td>Запись пользователя № - user_984</td>\n",
       "      <td>9754.0</td>\n",
       "      <td>NaN</td>\n",
       "    </tr>\n",
       "    <tr>\n",
       "      <th>996</th>\n",
       "      <td>#error</td>\n",
       "      <td>10054.0</td>\n",
       "      <td>29265.0</td>\n",
       "    </tr>\n",
       "    <tr>\n",
       "      <th>997</th>\n",
       "      <td>#error</td>\n",
       "      <td>10454.0</td>\n",
       "      <td>NaN</td>\n",
       "    </tr>\n",
       "    <tr>\n",
       "      <th>998</th>\n",
       "      <td>#error</td>\n",
       "      <td>1000.0</td>\n",
       "      <td>NaN</td>\n",
       "    </tr>\n",
       "    <tr>\n",
       "      <th>999</th>\n",
       "      <td>#error</td>\n",
       "      <td>10754.0</td>\n",
       "      <td>NaN</td>\n",
       "    </tr>\n",
       "  </tbody>\n",
       "</table>\n",
       "<p>1000 rows × 3 columns</p>\n",
       "</div>"
      ],
      "text/plain": [
       "                              user_id      bet      win\n",
       "0    Запись пользователя № - user_919      NaN      NaN\n",
       "1    Запись пользователя № - user_973      NaN      NaN\n",
       "2    Запись пользователя № - user_903      NaN      NaN\n",
       "3    Запись пользователя № - user_954      NaN      NaN\n",
       "4    Запись пользователя № - user_954      NaN      NaN\n",
       "..                                ...      ...      ...\n",
       "995  Запись пользователя № - user_984   9754.0      NaN\n",
       "996                            #error  10054.0  29265.0\n",
       "997                            #error  10454.0      NaN\n",
       "998                            #error   1000.0      NaN\n",
       "999                            #error  10754.0      NaN\n",
       "\n",
       "[1000 rows x 3 columns]"
      ]
     },
     "execution_count": 10,
     "metadata": {},
     "output_type": "execute_result"
    }
   ],
   "source": [
    "log2 = log.copy()\n",
    "log2 = log2.drop(['time'], axis=1)\n",
    "log2"
   ]
  },
  {
   "cell_type": "markdown",
   "metadata": {},
   "source": [
    "<span style=\"color: orange; font-weight: bold; font-size:16pt\">Дубли</span>\n",
    "\n",
    "Дубли - это повторяющиеся строки в данных. В сложных случаях строки могут быть практически одинаковые, но не совсем.\n",
    "\n",
    "Самая частая причина очень банальна: дубли появляются из-за человеческих ошибок или невнимательности.\n",
    "\n",
    "Например, при добавлении записи в систему вы случайно два раза нажали на кнопку \"добавить\". Если система позволяет иметь одинаковые записи, поздравляю - у вас в данных появились дубли.\n",
    "\n",
    "Еще одна причина - слияние баз данных. Например, вы переносите телефоны из контактной книжки (физической, в которую заносили номера ручкой на бумагу, такие были популярны в прошлом) в телефон. Назвали в одном месте Сашу Сашей, а в другом Александром. Да, это тоже дубль, просто сам случай немного более сложный.\n",
    "\n",
    "Сложным случаям типа последнего можно посвятить очень много времени, так что это материал для другого, более продвинутого курса по анализу данных. Скажу лишь, что в каждом конкретном случае подозрительные случаи нужно рассматривать отдельно, это требует кропотливой работы. \n",
    "\n",
    "Мы же рассмотрим простой случай, когда у вас в данных есть идентичные строки."
   ]
  },
  {
   "cell_type": "markdown",
   "metadata": {},
   "source": [
    "В pandas есть метод для удаления дублей (дубликатов) - **drop_duplicates()**. Он просто удаляет повторяющиеся строки.\n",
    "\n",
    "У данного метода тоже есть параметр subset, в этом случае нужно передавать список содержащий названия столбцов.  "
   ]
  },
  {
   "cell_type": "code",
   "execution_count": 11,
   "metadata": {},
   "outputs": [
    {
     "data": {
      "text/html": [
       "<div>\n",
       "<style scoped>\n",
       "    .dataframe tbody tr th:only-of-type {\n",
       "        vertical-align: middle;\n",
       "    }\n",
       "\n",
       "    .dataframe tbody tr th {\n",
       "        vertical-align: top;\n",
       "    }\n",
       "\n",
       "    .dataframe thead th {\n",
       "        text-align: right;\n",
       "    }\n",
       "</style>\n",
       "<table border=\"1\" class=\"dataframe\">\n",
       "  <thead>\n",
       "    <tr style=\"text-align: right;\">\n",
       "      <th></th>\n",
       "      <th>user_id</th>\n",
       "      <th>time</th>\n",
       "    </tr>\n",
       "  </thead>\n",
       "  <tbody>\n",
       "    <tr>\n",
       "      <th>0</th>\n",
       "      <td>Запись пользователя № - user_919</td>\n",
       "      <td>2019-01-01 14:06:51</td>\n",
       "    </tr>\n",
       "    <tr>\n",
       "      <th>1</th>\n",
       "      <td>Запись пользователя № - user_973</td>\n",
       "      <td>2019-01-01 14:51:16</td>\n",
       "    </tr>\n",
       "    <tr>\n",
       "      <th>2</th>\n",
       "      <td>Запись пользователя № - user_903</td>\n",
       "      <td>2019-01-01 16:31:16</td>\n",
       "    </tr>\n",
       "    <tr>\n",
       "      <th>3</th>\n",
       "      <td>Запись пользователя № - user_954</td>\n",
       "      <td>2019-01-01 17:17:51</td>\n",
       "    </tr>\n",
       "    <tr>\n",
       "      <th>4</th>\n",
       "      <td>Запись пользователя № - user_954</td>\n",
       "      <td>2019-01-01 21:31:18</td>\n",
       "    </tr>\n",
       "    <tr>\n",
       "      <th>...</th>\n",
       "      <td>...</td>\n",
       "      <td>...</td>\n",
       "    </tr>\n",
       "    <tr>\n",
       "      <th>991</th>\n",
       "      <td>Запись пользователя № - user_965</td>\n",
       "      <td>2019-04-20 12:55:41</td>\n",
       "    </tr>\n",
       "    <tr>\n",
       "      <th>992</th>\n",
       "      <td>Запись пользователя № - user_967</td>\n",
       "      <td>2019-04-20 14:59:36</td>\n",
       "    </tr>\n",
       "    <tr>\n",
       "      <th>993</th>\n",
       "      <td>Запись пользователя № - user_973</td>\n",
       "      <td>2019-04-20 17:09:56</td>\n",
       "    </tr>\n",
       "    <tr>\n",
       "      <th>994</th>\n",
       "      <td>Запись пользователя № - user_977</td>\n",
       "      <td>2019-04-20 18:10:07</td>\n",
       "    </tr>\n",
       "    <tr>\n",
       "      <th>995</th>\n",
       "      <td>Запись пользователя № - user_984</td>\n",
       "      <td>2019-04-20 9:59:58</td>\n",
       "    </tr>\n",
       "  </tbody>\n",
       "</table>\n",
       "<p>986 rows × 2 columns</p>\n",
       "</div>"
      ],
      "text/plain": [
       "                              user_id                 time\n",
       "0    Запись пользователя № - user_919  2019-01-01 14:06:51\n",
       "1    Запись пользователя № - user_973  2019-01-01 14:51:16\n",
       "2    Запись пользователя № - user_903  2019-01-01 16:31:16\n",
       "3    Запись пользователя № - user_954  2019-01-01 17:17:51\n",
       "4    Запись пользователя № - user_954  2019-01-01 21:31:18\n",
       "..                                ...                  ...\n",
       "991  Запись пользователя № - user_965  2019-04-20 12:55:41\n",
       "992  Запись пользователя № - user_967  2019-04-20 14:59:36\n",
       "993  Запись пользователя № - user_973  2019-04-20 17:09:56\n",
       "994  Запись пользователя № - user_977  2019-04-20 18:10:07\n",
       "995  Запись пользователя № - user_984   2019-04-20 9:59:58\n",
       "\n",
       "[986 rows x 2 columns]"
      ]
     },
     "execution_count": 11,
     "metadata": {},
     "output_type": "execute_result"
    }
   ],
   "source": [
    "# Удалите дубли среди столбцов user_id и time. Запишите в поле ниже, сколько осталось строк после удаления дублей.\n",
    "log1 = log[['user_id', 'time']].copy()\n",
    "log1 = log1.drop_duplicates()\n",
    "log1"
   ]
  },
  {
   "cell_type": "markdown",
   "metadata": {},
   "source": [
    "<span style=\"color: orange; font-weight: bold; font-size:16pt\">Преобразование к datetime</span>\n",
    "\n",
    "Для преобразования столбца с датой в виде текста в дату формата datetime (см. Модуль \"С1. Работа с датами\"), необходимо использовать метод to_datetime() в библиотеке pandas.\n",
    "\n",
    "Внутрь метода нужно передать тот столбец, который требуется преобразовать."
   ]
  },
  {
   "cell_type": "code",
   "execution_count": 12,
   "metadata": {},
   "outputs": [
    {
     "data": {
      "text/plain": [
       "Timestamp('2019-04-20 12:55:41')"
      ]
     },
     "execution_count": 12,
     "metadata": {},
     "output_type": "execute_result"
    }
   ],
   "source": [
    "#  Уберите лишний символ, преобразуйте признак time к datetime. После этого найдите наибольшую дату и выведите ее без времени.\n",
    "\n",
    "log5 = log.copy()\n",
    "log5 = log5.dropna(axis = 0)\n",
    "log5['time'] = pd.to_datetime(log5['time'])\n",
    "log5['time'].max()"
   ]
  },
  {
   "cell_type": "code",
   "execution_count": 13,
   "metadata": {},
   "outputs": [
    {
     "data": {
      "text/plain": [
       "13     57\n",
       "28     59\n",
       "150    54\n",
       "188    34\n",
       "204    26\n",
       "Name: time, dtype: int64"
      ]
     },
     "execution_count": 13,
     "metadata": {},
     "output_type": "execute_result"
    }
   ],
   "source": [
    "logg = pd.read_csv(\"log.csv\")  \n",
    "logg = logg.dropna()  \n",
    "logg.columns = ['user_id', 'time', 'bet', 'win']  \n",
    "logg['time'] = logg['time'].apply(lambda x: x[1:])  \n",
    "logg['time'] = pd.to_datetime(logg['time'])  \n",
    "logg['time'] = logg.time.apply(lambda x: x.minute)\n",
    "logg['time'].head() "
   ]
  },
  {
   "cell_type": "markdown",
   "metadata": {},
   "source": [
    "<span style=\"color: orange; font-weight: bold; font-size:16pt\">Извлечение признаков времени</span>\n"
   ]
  },
  {
   "cell_type": "markdown",
   "metadata": {},
   "source": [
    "**Извлечение признаков времени**\n",
    "\n",
    "Для начала вспомним, что мы можем делать с datetime. Вот примеры атрибутов, по которым мы можем обращаться к данным объектам:\n",
    "\n",
    "year: возвращает год\n",
    "month: возвращает месяц\n",
    "day: возвращает день\n",
    "hour, minute, second - час, минута, секунда\n",
    "dayofweek - день недели, от 0 до 6, где 0 - понедельник, 6 - воскресенье\n",
    "\n",
    "Кроме них, есть и другие интересные атрибуты, советуем посмотреть здесь.\n",
    "\n",
    "https://pandas.pydata.org/pandas-docs/stable/reference/api/pandas.Timestamp.html"
   ]
  },
  {
   "cell_type": "markdown",
   "metadata": {},
   "source": [
    "Ранее в курсе вы разбирали метод apply(). Он позволяет применить определенную функцию к каждому элементу в столбце.\n",
    "\n",
    "В метод apply() можно передавать обычные и lambda-функции.\n",
    "\n",
    "Например, если мы хотим получить столбец, в котором каждым значением будет год из другого столбца (это и есть feature engineering - создание новых признаков из старых), мы можем сделать следующее:"
   ]
  },
  {
   "cell_type": "code",
   "execution_count": 14,
   "metadata": {},
   "outputs": [],
   "source": [
    "log1 = log.copy()\n",
    "log1['time'] = pd.to_datetime(log1['time'])  \n",
    "year_column = log1['time'].apply(lambda x: x.year) "
   ]
  },
  {
   "cell_type": "markdown",
   "metadata": {},
   "source": [
    "Библиотека pandas позволяет использовать аксессор dt для упрощения подобной работы:"
   ]
  },
  {
   "cell_type": "code",
   "execution_count": 15,
   "metadata": {},
   "outputs": [],
   "source": [
    "year_colums = log1['time'].dt.year"
   ]
  },
  {
   "cell_type": "markdown",
   "metadata": {},
   "source": [
    "Аксессор - это атрибут столбца, который хранит переменные типа Timestamp, то есть переменные, которые были строковым представлением времени, а затем изменены с помощью pd.to_datetime(). Если вы попытаетесь обратиться к dt у столбца, в котором лежит что-то отличное от времени, вы получите ошибку.\n",
    "Чуть больше можно увидеть здесь (не забудьте посмотреть в исходный код).\n",
    "https://pandas.pydata.org/pandas-docs/stable/reference/api/pandas.Series.dt.html\n",
    "\n",
    "\n",
    "Вы можете пользоваться любым из предложенных выше способов. \n"
   ]
  },
  {
   "cell_type": "code",
   "execution_count": 16,
   "metadata": {},
   "outputs": [
    {
     "data": {
      "text/plain": [
       "36.0    25\n",
       "31.0    23\n",
       "6.0     22\n",
       "50.0    22\n",
       "14.0    21\n",
       "29.0    21\n",
       "12.0    21\n",
       "5.0     21\n",
       "40.0    21\n",
       "18.0    21\n",
       "43.0    21\n",
       "53.0    21\n",
       "58.0    20\n",
       "57.0    20\n",
       "45.0    20\n",
       "48.0    20\n",
       "2.0     20\n",
       "21.0    19\n",
       "56.0    19\n",
       "27.0    19\n",
       "9.0     18\n",
       "54.0    18\n",
       "47.0    18\n",
       "20.0    18\n",
       "34.0    18\n",
       "35.0    18\n",
       "3.0     18\n",
       "33.0    18\n",
       "51.0    17\n",
       "10.0    17\n",
       "55.0    16\n",
       "25.0    16\n",
       "17.0    16\n",
       "49.0    15\n",
       "28.0    15\n",
       "24.0    15\n",
       "30.0    15\n",
       "38.0    15\n",
       "15.0    15\n",
       "37.0    15\n",
       "16.0    15\n",
       "7.0     14\n",
       "4.0     14\n",
       "44.0    14\n",
       "19.0    14\n",
       "32.0    14\n",
       "59.0    13\n",
       "41.0    13\n",
       "1.0     13\n",
       "0.0     12\n",
       "23.0    12\n",
       "39.0    12\n",
       "22.0    11\n",
       "13.0    11\n",
       "42.0    11\n",
       "52.0    10\n",
       "46.0    10\n",
       "8.0      9\n",
       "26.0     9\n",
       "11.0     6\n",
       "Name: time, dtype: int64"
      ]
     },
     "execution_count": 16,
     "metadata": {},
     "output_type": "execute_result"
    }
   ],
   "source": [
    "# Используйте оригинальные данные log.csv, столбец time.\n",
    "# Найдите минуту, которая встречалась в данных чаще всего. Введите ответ в поле ниже.\n",
    "log2 = log.copy()\n",
    "log2['time'] = pd.to_datetime(log2['time']) \n",
    "\n",
    "minute = log2['time'].dt.minute\n",
    "minute.value_counts()"
   ]
  },
  {
   "cell_type": "code",
   "execution_count": 17,
   "metadata": {},
   "outputs": [
    {
     "data": {
      "text/plain": [
       "4.0    170\n",
       "2.0    259\n",
       "3.0    264\n",
       "1.0    292\n",
       "Name: time, dtype: int64"
      ]
     },
     "execution_count": 17,
     "metadata": {},
     "output_type": "execute_result"
    }
   ],
   "source": [
    "# Найдите месяц, который встречался в данных реже всего. Введите ответ в поле ниже.\n",
    "month = log2['time'].dt.month\n",
    "month.value_counts(ascending = True)\n"
   ]
  },
  {
   "cell_type": "code",
   "execution_count": 18,
   "metadata": {},
   "outputs": [
    {
     "name": "stdout",
     "output_type": "stream",
     "text": [
      "5.0    152\n",
      "Name: time, dtype: int64\n",
      "6.0    131\n",
      "Name: time, dtype: int64\n"
     ]
    },
    {
     "data": {
      "text/plain": [
       "283"
      ]
     },
     "execution_count": 18,
     "metadata": {},
     "output_type": "execute_result"
    }
   ],
   "source": [
    "# Посчитайте, сколько дней в данных являются выходными (то есть субботой или воскресеньем). Введите ответ в поле ниже.\n",
    "#V1\n",
    "weekdays = log2['time'].dt.weekday\n",
    "a = weekdays[weekdays == 5].value_counts()\n",
    "b = weekdays[weekdays == 6].value_counts()\n",
    "print(a)\n",
    "print(b)\n",
    "152+131"
   ]
  },
  {
   "cell_type": "code",
   "execution_count": 19,
   "metadata": {},
   "outputs": [
    {
     "data": {
      "text/plain": [
       "user_id    283\n",
       "time       283\n",
       "bet        127\n",
       "win         37\n",
       "weekday    283\n",
       "dtype: int64"
      ]
     },
     "execution_count": 19,
     "metadata": {},
     "output_type": "execute_result"
    }
   ],
   "source": [
    "# V2\n",
    "log2['weekday'] = log2['time'].dt.weekday\n",
    "#weekday_counts = log2.groupby('weekday').aggregate(sum)\n",
    "log2[(log2['weekday'] == 5) | (log2['weekday'] == 6)].count()"
   ]
  },
  {
   "cell_type": "code",
   "execution_count": 21,
   "metadata": {},
   "outputs": [
    {
     "data": {
      "text/plain": [
       "283"
      ]
     },
     "execution_count": 21,
     "metadata": {},
     "output_type": "execute_result"
    }
   ],
   "source": [
    "#V3\n",
    "log2 = log.copy()\n",
    "log2['time'] = pd.to_datetime(log['time']) # convert to date\n",
    "log2['time'].dt.weekday.apply(lambda x: x==5 or x==6).sum()"
   ]
  },
  {
   "cell_type": "code",
   "execution_count": 43,
   "metadata": {},
   "outputs": [
    {
     "name": "stdout",
     "output_type": "stream",
     "text": [
      "Night 228\n",
      "Morning 206\n",
      "Day 198\n",
      "Evening 185\n"
     ]
    },
    {
     "data": {
      "text/html": [
       "<div>\n",
       "<style scoped>\n",
       "    .dataframe tbody tr th:only-of-type {\n",
       "        vertical-align: middle;\n",
       "    }\n",
       "\n",
       "    .dataframe tbody tr th {\n",
       "        vertical-align: top;\n",
       "    }\n",
       "\n",
       "    .dataframe thead th {\n",
       "        text-align: right;\n",
       "    }\n",
       "</style>\n",
       "<table border=\"1\" class=\"dataframe\">\n",
       "  <thead>\n",
       "    <tr style=\"text-align: right;\">\n",
       "      <th></th>\n",
       "      <th>index</th>\n",
       "      <th>time</th>\n",
       "    </tr>\n",
       "  </thead>\n",
       "  <tbody>\n",
       "    <tr>\n",
       "      <th>0</th>\n",
       "      <td>7.0</td>\n",
       "      <td>32</td>\n",
       "    </tr>\n",
       "    <tr>\n",
       "      <th>1</th>\n",
       "      <td>19.0</td>\n",
       "      <td>33</td>\n",
       "    </tr>\n",
       "    <tr>\n",
       "      <th>2</th>\n",
       "      <td>16.0</td>\n",
       "      <td>33</td>\n",
       "    </tr>\n",
       "    <tr>\n",
       "      <th>3</th>\n",
       "      <td>11.0</td>\n",
       "      <td>34</td>\n",
       "    </tr>\n",
       "    <tr>\n",
       "      <th>4</th>\n",
       "      <td>21.0</td>\n",
       "      <td>35</td>\n",
       "    </tr>\n",
       "    <tr>\n",
       "      <th>5</th>\n",
       "      <td>15.0</td>\n",
       "      <td>37</td>\n",
       "    </tr>\n",
       "    <tr>\n",
       "      <th>6</th>\n",
       "      <td>20.0</td>\n",
       "      <td>37</td>\n",
       "    </tr>\n",
       "    <tr>\n",
       "      <th>7</th>\n",
       "      <td>0.0</td>\n",
       "      <td>37</td>\n",
       "    </tr>\n",
       "    <tr>\n",
       "      <th>8</th>\n",
       "      <td>9.0</td>\n",
       "      <td>39</td>\n",
       "    </tr>\n",
       "    <tr>\n",
       "      <th>9</th>\n",
       "      <td>23.0</td>\n",
       "      <td>39</td>\n",
       "    </tr>\n",
       "    <tr>\n",
       "      <th>10</th>\n",
       "      <td>2.0</td>\n",
       "      <td>40</td>\n",
       "    </tr>\n",
       "    <tr>\n",
       "      <th>11</th>\n",
       "      <td>13.0</td>\n",
       "      <td>41</td>\n",
       "    </tr>\n",
       "    <tr>\n",
       "      <th>12</th>\n",
       "      <td>22.0</td>\n",
       "      <td>41</td>\n",
       "    </tr>\n",
       "    <tr>\n",
       "      <th>13</th>\n",
       "      <td>12.0</td>\n",
       "      <td>42</td>\n",
       "    </tr>\n",
       "    <tr>\n",
       "      <th>14</th>\n",
       "      <td>14.0</td>\n",
       "      <td>42</td>\n",
       "    </tr>\n",
       "    <tr>\n",
       "      <th>15</th>\n",
       "      <td>18.0</td>\n",
       "      <td>42</td>\n",
       "    </tr>\n",
       "    <tr>\n",
       "      <th>16</th>\n",
       "      <td>4.0</td>\n",
       "      <td>43</td>\n",
       "    </tr>\n",
       "    <tr>\n",
       "      <th>17</th>\n",
       "      <td>5.0</td>\n",
       "      <td>45</td>\n",
       "    </tr>\n",
       "    <tr>\n",
       "      <th>18</th>\n",
       "      <td>17.0</td>\n",
       "      <td>45</td>\n",
       "    </tr>\n",
       "    <tr>\n",
       "      <th>19</th>\n",
       "      <td>6.0</td>\n",
       "      <td>47</td>\n",
       "    </tr>\n",
       "    <tr>\n",
       "      <th>20</th>\n",
       "      <td>8.0</td>\n",
       "      <td>49</td>\n",
       "    </tr>\n",
       "    <tr>\n",
       "      <th>21</th>\n",
       "      <td>1.0</td>\n",
       "      <td>50</td>\n",
       "    </tr>\n",
       "    <tr>\n",
       "      <th>22</th>\n",
       "      <td>3.0</td>\n",
       "      <td>50</td>\n",
       "    </tr>\n",
       "    <tr>\n",
       "      <th>23</th>\n",
       "      <td>10.0</td>\n",
       "      <td>52</td>\n",
       "    </tr>\n",
       "  </tbody>\n",
       "</table>\n",
       "</div>"
      ],
      "text/plain": [
       "    index  time\n",
       "0     7.0    32\n",
       "1    19.0    33\n",
       "2    16.0    33\n",
       "3    11.0    34\n",
       "4    21.0    35\n",
       "5    15.0    37\n",
       "6    20.0    37\n",
       "7     0.0    37\n",
       "8     9.0    39\n",
       "9    23.0    39\n",
       "10    2.0    40\n",
       "11   13.0    41\n",
       "12   22.0    41\n",
       "13   12.0    42\n",
       "14   14.0    42\n",
       "15   18.0    42\n",
       "16    4.0    43\n",
       "17    5.0    45\n",
       "18   17.0    45\n",
       "19    6.0    47\n",
       "20    8.0    49\n",
       "21    1.0    50\n",
       "22    3.0    50\n",
       "23   10.0    52"
      ]
     },
     "metadata": {},
     "output_type": "display_data"
    }
   ],
   "source": [
    "# Посчитайте, какое время дня встречается в данных реже всего. Введите ответ в поле ниже: ночь, утро, день или вечер.\n",
    "# Договоримся, что с 0 до 5 часов - ночь, с 6 до 11 - утро, с 12 до 17 - день, с 18 до 23 - вечер.\n",
    "# Подсказка: можно использовать value_counts(). Кроме этого, потребуется написать функцию, которая преобразует дату во время дня\n",
    "log_d = log.copy()\n",
    "#log_d = log_d.dropna(axis = 0)\n",
    "log_d['time'] = pd.to_datetime(log_d['time'])\n",
    "res = log_d['time'].dt.hour.value_counts().sort_values().reset_index()\n",
    "# res сколько раз каждый час встречается в дата сете\n",
    "print('Night', res.query('0 < index <= 5')['time'].sum())  # night\n",
    "print('Morning', res.query('6 < index <= 11')['time'].sum())  # Morn\n",
    "print('Day', res.query('12 < index <= 17')['time'].sum())  # Day\n",
    "print('Evening', res.query('18 < index <= 23')['time'].sum())  # Even\n",
    "display(res)"
   ]
  },
  {
   "cell_type": "markdown",
   "metadata": {},
   "source": [
    "Давайте повторим то, что мы прошли в этой секции. Напишите код, который создаст признак hour из признака time в датасете log.csv. Для этого:\n",
    "\n",
    "1. загрузите датасет log.csv в переменную log, дальше работать будем с ней;\n",
    "\n",
    "2. установите имена столбцов: ['user_id', 'time', 'bet', 'win'];\n",
    "\n",
    "3. избавьтесь от пропусков в log;\n",
    "\n",
    "4. приведите переменную time к подходящему для извлечения признаков виду;\n",
    "\n",
    "5. получите значение часа для каждой строки в переменной time и запишите в столбец hour в log.\n",
    "\n",
    "Результатом будет таблица log со столбцом hour внутри."
   ]
  },
  {
   "cell_type": "code",
   "execution_count": 54,
   "metadata": {},
   "outputs": [
    {
     "data": {
      "text/html": [
       "<div>\n",
       "<style scoped>\n",
       "    .dataframe tbody tr th:only-of-type {\n",
       "        vertical-align: middle;\n",
       "    }\n",
       "\n",
       "    .dataframe tbody tr th {\n",
       "        vertical-align: top;\n",
       "    }\n",
       "\n",
       "    .dataframe thead th {\n",
       "        text-align: right;\n",
       "    }\n",
       "</style>\n",
       "<table border=\"1\" class=\"dataframe\">\n",
       "  <thead>\n",
       "    <tr style=\"text-align: right;\">\n",
       "      <th></th>\n",
       "      <th>user_id</th>\n",
       "      <th>time</th>\n",
       "      <th>bet</th>\n",
       "      <th>win</th>\n",
       "      <th>hour</th>\n",
       "    </tr>\n",
       "  </thead>\n",
       "  <tbody>\n",
       "    <tr>\n",
       "      <th>14</th>\n",
       "      <td>Запись пользователя № - user_917</td>\n",
       "      <td>2019-01-02 08:57:36</td>\n",
       "      <td>145732.0</td>\n",
       "      <td>1987653.0</td>\n",
       "      <td>8</td>\n",
       "    </tr>\n",
       "    <tr>\n",
       "      <th>29</th>\n",
       "      <td>Запись пользователя № - user_942</td>\n",
       "      <td>2019-01-04 13:59:42</td>\n",
       "      <td>1678321.0</td>\n",
       "      <td>9876543.0</td>\n",
       "      <td>13</td>\n",
       "    </tr>\n",
       "    <tr>\n",
       "      <th>151</th>\n",
       "      <td>Запись пользователя № - user_982</td>\n",
       "      <td>2019-01-16 21:54:22</td>\n",
       "      <td>100.0</td>\n",
       "      <td>4749.0</td>\n",
       "      <td>21</td>\n",
       "    </tr>\n",
       "    <tr>\n",
       "      <th>189</th>\n",
       "      <td>Запись пользователя № - user_964</td>\n",
       "      <td>2019-01-21 18:34:44</td>\n",
       "      <td>200.0</td>\n",
       "      <td>4667.0</td>\n",
       "      <td>18</td>\n",
       "    </tr>\n",
       "    <tr>\n",
       "      <th>205</th>\n",
       "      <td>Запись пользователя № - user_931</td>\n",
       "      <td>2019-01-22 05:26:59</td>\n",
       "      <td>300.0</td>\n",
       "      <td>4319.0</td>\n",
       "      <td>5</td>\n",
       "    </tr>\n",
       "    <tr>\n",
       "      <th>...</th>\n",
       "      <td>...</td>\n",
       "      <td>...</td>\n",
       "      <td>...</td>\n",
       "      <td>...</td>\n",
       "      <td>...</td>\n",
       "    </tr>\n",
       "    <tr>\n",
       "      <th>967</th>\n",
       "      <td>Запись пользователя № - user_975</td>\n",
       "      <td>2019-04-19 22:25:15</td>\n",
       "      <td>1000.0</td>\n",
       "      <td>6108.0</td>\n",
       "      <td>22</td>\n",
       "    </tr>\n",
       "    <tr>\n",
       "      <th>971</th>\n",
       "      <td>Запись пользователя № - user_912</td>\n",
       "      <td>2019-04-20 10:35:49</td>\n",
       "      <td>10554.0</td>\n",
       "      <td>31799.0</td>\n",
       "      <td>10</td>\n",
       "    </tr>\n",
       "    <tr>\n",
       "      <th>972</th>\n",
       "      <td>Запись пользователя № - user_926</td>\n",
       "      <td>2019-04-20 10:35:50</td>\n",
       "      <td>10354.0</td>\n",
       "      <td>30244.0</td>\n",
       "      <td>10</td>\n",
       "    </tr>\n",
       "    <tr>\n",
       "      <th>976</th>\n",
       "      <td>Запись пользователя № - user_970</td>\n",
       "      <td>2019-04-20 10:35:54</td>\n",
       "      <td>10354.0</td>\n",
       "      <td>30691.0</td>\n",
       "      <td>10</td>\n",
       "    </tr>\n",
       "    <tr>\n",
       "      <th>991</th>\n",
       "      <td>Запись пользователя № - user_965</td>\n",
       "      <td>2019-04-20 12:55:41</td>\n",
       "      <td>800.0</td>\n",
       "      <td>6927.0</td>\n",
       "      <td>12</td>\n",
       "    </tr>\n",
       "  </tbody>\n",
       "</table>\n",
       "<p>133 rows × 5 columns</p>\n",
       "</div>"
      ],
      "text/plain": [
       "                              user_id                time        bet  \\\n",
       "14   Запись пользователя № - user_917 2019-01-02 08:57:36   145732.0   \n",
       "29   Запись пользователя № - user_942 2019-01-04 13:59:42  1678321.0   \n",
       "151  Запись пользователя № - user_982 2019-01-16 21:54:22      100.0   \n",
       "189  Запись пользователя № - user_964 2019-01-21 18:34:44      200.0   \n",
       "205  Запись пользователя № - user_931 2019-01-22 05:26:59      300.0   \n",
       "..                                ...                 ...        ...   \n",
       "967  Запись пользователя № - user_975 2019-04-19 22:25:15     1000.0   \n",
       "971  Запись пользователя № - user_912 2019-04-20 10:35:49    10554.0   \n",
       "972  Запись пользователя № - user_926 2019-04-20 10:35:50    10354.0   \n",
       "976  Запись пользователя № - user_970 2019-04-20 10:35:54    10354.0   \n",
       "991  Запись пользователя № - user_965 2019-04-20 12:55:41      800.0   \n",
       "\n",
       "           win  hour  \n",
       "14   1987653.0     8  \n",
       "29   9876543.0    13  \n",
       "151     4749.0    21  \n",
       "189     4667.0    18  \n",
       "205     4319.0     5  \n",
       "..         ...   ...  \n",
       "967     6108.0    22  \n",
       "971    31799.0    10  \n",
       "972    30244.0    10  \n",
       "976    30691.0    10  \n",
       "991     6927.0    12  \n",
       "\n",
       "[133 rows x 5 columns]"
      ]
     },
     "execution_count": 54,
     "metadata": {},
     "output_type": "execute_result"
    }
   ],
   "source": [
    "log = pd.read_csv('log.csv', header=None)\n",
    "log.columns = ['user_id','time','bet','win']\n",
    "log = log.dropna(axis=0)\n",
    "log['time'] = log['time'].str.replace('[','')\n",
    "log['time'] = pd.to_datetime(log['time'])\n",
    "log['hour'] = log.time.dt.hour\n"
   ]
  },
  {
   "cell_type": "markdown",
   "metadata": {},
   "source": [
    "<span style=\"color: orange; font-weight: bold; font-size:16pt\">Обработка пропусков</span>\n",
    "\n",
    "Ранее мы говорили о пропусках - местах в данных, где по какой-то причине ничего нет.\n",
    "\n",
    "Что мы делали с пропусками? Удаляли их.\n",
    "\n",
    "На самом деле, удаление пропусков - довольно грубое решение, потому что мы можем случайно выбросить что-то полезное. Например, у вас есть данные о людях: пол, возраст, цвет глаз, город. При этом для большинства людей не записан цвет глаз. Удалять строки с пропусками может быть неудачным решением -  у нас почти не останется данных. Удалить столбец с цветом глаз - решение получше. Возможно, есть решение еще лучше - например, заполнить все пропуски цветом глаз \"карие\". Ответ на вопрос \"Правильно ли будет так сделать?\" можно получить после уточнения информации: в каких-то странах преобладает один цвет глаз, в каких-то - другой.\n",
    "\n",
    "Поэтому довольно часто можно заполнить пропуски, сделав некоторые обоснованные предположения.\n",
    "\n",
    "Сейчас мы познакомимся с самым простым способом заполнять пропуски - заполнением константой.\n",
    "\n",
    "каждый пропуск в столбце мы заполним одним и тем же числом.\n",
    "\n",
    "Почему мы вообще говорим о заполнении пропусков вместо того, чтобы просто удалить их? Потому что после удаления пропусков у нас останется слишком мало данных, а нам хочется получить какие-то инсайты из них."
   ]
  },
  {
   "cell_type": "markdown",
   "metadata": {},
   "source": [
    "<span style=\"color: orange; font-weight: bold; font-size:16pt\">Заполнение константой</span>\n",
    "\n",
    "Что такое константа? Это просто число.\n",
    "\n",
    "Посмотрим на признак bet в наших данных (log.csv).\n",
    "\n",
    "\"Bet\" означает \"ставка\".  Некоторые значения в данных заполнены цифрами - поэтому мы можем сделать предположение, что это сумма в рублях, т.е. ставка. \n",
    "\n",
    "Можно также предположить, что если в данных в этом месте пропуск - значит, человек не делал ставку. Другими словами, ставка в данном случае равна 0.\n",
    "\n",
    "Чтобы заполнить пропуски в столбце каким-то значением, можно использовать метод *fillna()* у самого столбца. Аргументом этого метода будет число, которое появится на месте пропусков."
   ]
  },
  {
   "cell_type": "code",
   "execution_count": 118,
   "metadata": {},
   "outputs": [
    {
     "data": {
      "text/plain": [
       "0.0          515\n",
       "500.0         50\n",
       "100.0         48\n",
       "300.0         42\n",
       "800.0         42\n",
       "200.0         40\n",
       "400.0         40\n",
       "700.0         38\n",
       "600.0         37\n",
       "1000.0        37\n",
       "900.0         30\n",
       "9754.0        10\n",
       "10554.0       10\n",
       "10154.0        7\n",
       "10254.0        7\n",
       "10454.0        6\n",
       "9954.0         6\n",
       "10754.0        5\n",
       "10654.0        5\n",
       "10354.0        4\n",
       "10054.0        4\n",
       "9854.0         2\n",
       "5000.0         1\n",
       "27000.0        1\n",
       "9876.0         1\n",
       "156789.0       1\n",
       "12945.0        1\n",
       "12548.0        1\n",
       "145732.0       1\n",
       "1678321.0      1\n",
       "98753.0        1\n",
       "123981.0       1\n",
       "104540.0       1\n",
       "8700.0         1\n",
       "950.0          1\n",
       "8734.0         1\n",
       "7650.0         1\n",
       "Name: bet, dtype: int64"
      ]
     },
     "execution_count": 118,
     "metadata": {},
     "output_type": "execute_result"
    }
   ],
   "source": [
    "# Посчитайте, сколько раз люди приходили, но не делали ставок. Для этого заполните пропуски в столбце \n",
    "# bet значением 0 и посчитайте количество таких значений.\n",
    "\n",
    "log = pd.read_csv('log.csv', header=None)\n",
    "log.columns = ['user_id','time','bet','win']\n",
    "log1 = log.copy()\n",
    "log1['bet'] = log1['bet'].fillna(0)\n",
    "log1['bet'].value_counts()"
   ]
  },
  {
   "cell_type": "markdown",
   "metadata": {},
   "source": [
    "<span style=\"color: orange; font-weight: bold; font-size:16pt\">Заполнение с помощью функции</span>\n",
    "\n",
    "Теперь поработаем с признаком win, в котором тоже есть пропуски.\n",
    "\n",
    "Иногда нужно заполнять пропуски не одним и тем же числом, а разными, в зависимости от какого-то условия. Перед нами именно этот случай.\n",
    "\n",
    "Предположим, что если в признаке win находится пропуск, то выигрыша не было. Здесь два возможных случая:\n",
    "\n",
    "Человек не делал ставки и ничего не выиграл. То есть просто пришел, посмотрел и ушел.\n",
    "Человек делал ставку, но не выиграл. Значит, выигрыш на самом деле является отрицательным значением - это проигрыш.\n",
    "Предлагаем вам написать метод, который заполнит пропуски в признаке win в соответствии с предположением выше. \n",
    "\n",
    "Для этого можно применить метод apply() ко всей таблице и передать ему функцию, которая вычисляет размер выигрыша (или проигрыша) по следующей схеме:\n",
    "\n",
    "Если значение в столбце win существует (не пропуск) - вернуть это же значение. Это значит, что человек выиграл.\n",
    "Если вместо значения в столбце win пропуск, вернуть 0.\n",
    "На выходе получится столбец без пропусков. Следующим шагом будет замена старого столбца win на новый."
   ]
  },
  {
   "cell_type": "code",
   "execution_count": 119,
   "metadata": {},
   "outputs": [
    {
     "data": {
      "text/html": [
       "<div>\n",
       "<style scoped>\n",
       "    .dataframe tbody tr th:only-of-type {\n",
       "        vertical-align: middle;\n",
       "    }\n",
       "\n",
       "    .dataframe tbody tr th {\n",
       "        vertical-align: top;\n",
       "    }\n",
       "\n",
       "    .dataframe thead th {\n",
       "        text-align: right;\n",
       "    }\n",
       "</style>\n",
       "<table border=\"1\" class=\"dataframe\">\n",
       "  <thead>\n",
       "    <tr style=\"text-align: right;\">\n",
       "      <th></th>\n",
       "      <th>user_id</th>\n",
       "      <th>time</th>\n",
       "      <th>bet</th>\n",
       "      <th>win</th>\n",
       "    </tr>\n",
       "  </thead>\n",
       "  <tbody>\n",
       "    <tr>\n",
       "      <th>0</th>\n",
       "      <td>Запись пользователя № - user_919</td>\n",
       "      <td>[2019-01-01 14:06:51</td>\n",
       "      <td>0.0</td>\n",
       "      <td>0.0</td>\n",
       "    </tr>\n",
       "    <tr>\n",
       "      <th>1</th>\n",
       "      <td>Запись пользователя № - user_973</td>\n",
       "      <td>[2019-01-01 14:51:16</td>\n",
       "      <td>0.0</td>\n",
       "      <td>0.0</td>\n",
       "    </tr>\n",
       "    <tr>\n",
       "      <th>2</th>\n",
       "      <td>Запись пользователя № - user_903</td>\n",
       "      <td>[2019-01-01 16:31:16</td>\n",
       "      <td>0.0</td>\n",
       "      <td>0.0</td>\n",
       "    </tr>\n",
       "    <tr>\n",
       "      <th>3</th>\n",
       "      <td>Запись пользователя № - user_954</td>\n",
       "      <td>[2019-01-01 17:17:51</td>\n",
       "      <td>0.0</td>\n",
       "      <td>0.0</td>\n",
       "    </tr>\n",
       "    <tr>\n",
       "      <th>4</th>\n",
       "      <td>Запись пользователя № - user_954</td>\n",
       "      <td>[2019-01-01 21:31:18</td>\n",
       "      <td>0.0</td>\n",
       "      <td>0.0</td>\n",
       "    </tr>\n",
       "    <tr>\n",
       "      <th>...</th>\n",
       "      <td>...</td>\n",
       "      <td>...</td>\n",
       "      <td>...</td>\n",
       "      <td>...</td>\n",
       "    </tr>\n",
       "    <tr>\n",
       "      <th>995</th>\n",
       "      <td>Запись пользователя № - user_984</td>\n",
       "      <td>[2019-04-20 9:59:58</td>\n",
       "      <td>9754.0</td>\n",
       "      <td>0.0</td>\n",
       "    </tr>\n",
       "    <tr>\n",
       "      <th>996</th>\n",
       "      <td>#error</td>\n",
       "      <td>NaN</td>\n",
       "      <td>10054.0</td>\n",
       "      <td>29265.0</td>\n",
       "    </tr>\n",
       "    <tr>\n",
       "      <th>997</th>\n",
       "      <td>#error</td>\n",
       "      <td>NaN</td>\n",
       "      <td>10454.0</td>\n",
       "      <td>0.0</td>\n",
       "    </tr>\n",
       "    <tr>\n",
       "      <th>998</th>\n",
       "      <td>#error</td>\n",
       "      <td>NaN</td>\n",
       "      <td>1000.0</td>\n",
       "      <td>0.0</td>\n",
       "    </tr>\n",
       "    <tr>\n",
       "      <th>999</th>\n",
       "      <td>#error</td>\n",
       "      <td>NaN</td>\n",
       "      <td>10754.0</td>\n",
       "      <td>0.0</td>\n",
       "    </tr>\n",
       "  </tbody>\n",
       "</table>\n",
       "<p>1000 rows × 4 columns</p>\n",
       "</div>"
      ],
      "text/plain": [
       "                              user_id                  time      bet      win\n",
       "0    Запись пользователя № - user_919  [2019-01-01 14:06:51      0.0      0.0\n",
       "1    Запись пользователя № - user_973  [2019-01-01 14:51:16      0.0      0.0\n",
       "2    Запись пользователя № - user_903  [2019-01-01 16:31:16      0.0      0.0\n",
       "3    Запись пользователя № - user_954  [2019-01-01 17:17:51      0.0      0.0\n",
       "4    Запись пользователя № - user_954  [2019-01-01 21:31:18      0.0      0.0\n",
       "..                                ...                   ...      ...      ...\n",
       "995  Запись пользователя № - user_984   [2019-04-20 9:59:58   9754.0      0.0\n",
       "996                            #error                   NaN  10054.0  29265.0\n",
       "997                            #error                   NaN  10454.0      0.0\n",
       "998                            #error                   NaN   1000.0      0.0\n",
       "999                            #error                   NaN  10754.0      0.0\n",
       "\n",
       "[1000 rows x 4 columns]"
      ]
     },
     "execution_count": 119,
     "metadata": {},
     "output_type": "execute_result"
    }
   ],
   "source": [
    "def fillna_win(row):  \n",
    "    if row.isna().win == True:\n",
    "        return 0\n",
    "    return row.loc['win'] \n",
    "    \n",
    "new_win = log1.apply(lambda row: fillna_win(row), axis=1)  \n",
    "\n",
    "# Заменяем старый столбец с пропусками на новый без пропусков  \n",
    "log1['win'] = new_win \n",
    "log1"
   ]
  },
  {
   "cell_type": "code",
   "execution_count": 122,
   "metadata": {},
   "outputs": [
    {
     "data": {
      "text/plain": [
       "347"
      ]
     },
     "execution_count": 122,
     "metadata": {},
     "output_type": "execute_result"
    }
   ],
   "source": [
    "# Посчитайте, сколько раз участники ставок проиграли деньги. То есть посчитайте количество строк, \n",
    "# для которых в столбце win находится отрицательное значение.\n",
    "def fillna_win(row):  \n",
    "    if row.win == 0:\n",
    "        return 0 - row.loc['bet']\n",
    "    return row.loc['win'] \n",
    "    \n",
    "new_win = log1.apply(lambda row: fillna_win(row), axis=1)  \n",
    "\n",
    "# Заменяем старый столбец с пропусками на новый без пропусков  \n",
    "log1['win'] = new_win \n",
    "log1['win'].apply(lambda x: x<0).sum()\n"
   ]
  },
  {
   "cell_type": "markdown",
   "metadata": {},
   "source": [
    "Используйте модифицированный в прошлой секции датасет log.csv. Результат запишите числом в поле ниже.\n",
    "\n",
    "Подсказка: можно использовать sum().\n",
    "Создайте признак net, хранящий сумму выигрыша с учетом ставки. Для этого используйте следующий алгоритм:\n",
    "- если значение признака win меньше 0 - присвоить значение признака win признаку net;\n",
    "\n",
    "- во всех остальных случаях - из значения признака win вычтите значение признака bet и полученное значение присвойте признаку net.\n",
    "\n",
    "После этого посчитайте, у скольких людей выигрыш положительный."
   ]
  },
  {
   "cell_type": "code",
   "execution_count": 126,
   "metadata": {},
   "outputs": [
    {
     "data": {
      "text/plain": [
       "138"
      ]
     },
     "execution_count": 126,
     "metadata": {},
     "output_type": "execute_result"
    }
   ],
   "source": [
    "def net_net(row):\n",
    "    if row.win < 0:\n",
    "        return row.loc['win']\n",
    "    return row.loc['win'] - row.loc['bet']\n",
    "log1['net'] = log1.apply(lambda row: net_net(row),axis=1)\n",
    "log1['net'].apply(lambda x: x>0).sum()"
   ]
  },
  {
   "cell_type": "markdown",
   "metadata": {},
   "source": [
    "Используйте датасет log.csv, получившийся в результате выполнения предыдущего задания. Посчитайте среднее значение выигрыша (из столбца net) в тех случаях, когда выигрыш больше 0. Результат округлите до целого, отбросив дробную часть.\n",
    "\n",
    "Подсказка: можно использовать mean()."
   ]
  },
  {
   "cell_type": "code",
   "execution_count": 129,
   "metadata": {},
   "outputs": [
    {
     "data": {
      "text/plain": [
       "80253.33333333333"
      ]
     },
     "execution_count": 129,
     "metadata": {},
     "output_type": "execute_result"
    }
   ],
   "source": [
    "log1[log1['net']>0]['net'].mean()"
   ]
  },
  {
   "cell_type": "markdown",
   "metadata": {},
   "source": [
    "Посчитайте медианное значение выигрыша (из столбца net) в тех случаях, когда выигрыш больше 0. Результат округлите до целого, отбросив дробную часть."
   ]
  },
  {
   "cell_type": "code",
   "execution_count": 130,
   "metadata": {},
   "outputs": [
    {
     "data": {
      "text/plain": [
       "5347.0"
      ]
     },
     "execution_count": 130,
     "metadata": {},
     "output_type": "execute_result"
    }
   ],
   "source": [
    "log1[log1['net']>0]['net'].median()"
   ]
  },
  {
   "cell_type": "markdown",
   "metadata": {},
   "source": [
    "Как можно посчитать среднее значение для столбца bet, не учитывая при подсчете пропуски?"
   ]
  },
  {
   "cell_type": "code",
   "execution_count": 132,
   "metadata": {},
   "outputs": [
    {
     "data": {
      "text/plain": [
       "6785.738144329897"
      ]
     },
     "execution_count": 132,
     "metadata": {},
     "output_type": "execute_result"
    }
   ],
   "source": [
    "log.bet.mean()\n",
    "#log.bet.sum() / log.bet.dropna().shape[0]\n",
    "#log['bet'].dropna().mean()\n",
    "#np.mean(log.bet)"
   ]
  },
  {
   "cell_type": "markdown",
   "metadata": {},
   "source": [
    "Используйте модифицированный исходный датасет log.csv.\n",
    "\n",
    "При модификации датасета log.csv, пропущенные значения в столбцах bet и win замените на 0, cоздайте столбец net, хранящий сумму выигрыша с учетом ставки (для этого из столбца win поэлементно вычтите столбец bet и запишите в новый столбец).\n",
    "\n",
    "Посчитайте, какой процент посещений букмекерской конторы оборачивался ставкой. Для этого поделите количество ставок (значений больше 0) на общее количество посещений конторы. Результат округлите до одного знака после запятой."
   ]
  },
  {
   "cell_type": "code",
   "execution_count": 169,
   "metadata": {},
   "outputs": [
    {
     "data": {
      "text/plain": [
       "48.5"
      ]
     },
     "execution_count": 169,
     "metadata": {},
     "output_type": "execute_result"
    }
   ],
   "source": [
    "round(len(log1[log1['bet']>0]['win'])/len(log1),3)*100"
   ]
  },
  {
   "cell_type": "markdown",
   "metadata": {},
   "source": [
    "Используйте датасет log.csv, получившийся в результате модификации при выполнении первого задания этого блока.\n",
    "\n",
    "Посчитайте среднее значение ставки (из столбца bet) в тех случаях, когда ставка была сделана. Запишите результат, отбросив дробную часть.\n",
    "Подсказка: можно использовать mean()."
   ]
  },
  {
   "cell_type": "code",
   "execution_count": 170,
   "metadata": {},
   "outputs": [
    {
     "data": {
      "text/plain": [
       "6785.738144329897"
      ]
     },
     "execution_count": 170,
     "metadata": {},
     "output_type": "execute_result"
    }
   ],
   "source": [
    "log1[log1['bet']>0]['bet'].mean()\n"
   ]
  },
  {
   "cell_type": "markdown",
   "metadata": {},
   "source": [
    "Используйте датасет log.csv, получившийся в результате модификации при выполнении первого задания этого блока.\n",
    "\n",
    "Посчитайте средний выигрыш (из столбца net) в тех случаях, когда ставка была сделана. В ответ запишите полученное число с отброшенной дробной частью.\n",
    "Пояснение: выигрыш в данном случае означает изменение количества денег и может быть отрицательным. В таком случае это проигрыш.\n",
    "\n",
    "Подсказка: можно использовать mean()."
   ]
  },
  {
   "cell_type": "code",
   "execution_count": 176,
   "metadata": {},
   "outputs": [
    {
     "data": {
      "text/plain": [
       "20421.892783505155"
      ]
     },
     "execution_count": 176,
     "metadata": {},
     "output_type": "execute_result"
    }
   ],
   "source": [
    "log1[(log1['bet']>0)]['net'].mean()"
   ]
  },
  {
   "cell_type": "markdown",
   "metadata": {},
   "source": [
    "Посчитайте среднее значение потерь при проигрыше (из столбца net). Результат округлите до целого, отбросив дробную часть"
   ]
  },
  {
   "cell_type": "code",
   "execution_count": 180,
   "metadata": {},
   "outputs": [
    {
     "data": {
      "text/plain": [
       "-3372.743515850144"
      ]
     },
     "execution_count": 180,
     "metadata": {},
     "output_type": "execute_result"
    }
   ],
   "source": [
    "log1[(log1['bet']>0)&(log1['net']<0)]['net'].mean()"
   ]
  },
  {
   "cell_type": "markdown",
   "metadata": {},
   "source": [
    "Посчитайте, какой процент ставок заканчивается выигрышем, а какой - проигрышем. Сравните эти значения и ответьте, какое из них больше."
   ]
  },
  {
   "cell_type": "code",
   "execution_count": 187,
   "metadata": {},
   "outputs": [
    {
     "name": "stdout",
     "output_type": "stream",
     "text": [
      "34.699999999999996\n",
      "13.8\n"
     ]
    }
   ],
   "source": [
    "print(len(log1[(log1['bet']>0)&(log1['net']<0)])/len(log1)*100) # Lose\n",
    "print(len(log1[(log1['bet']>0)&(log1['net']>0)])/len(log1)*100) # win"
   ]
  },
  {
   "cell_type": "markdown",
   "metadata": {},
   "source": [
    "Давайте повторим то, что мы прошли в этой секции. Напишите код, который узнает, чему была равна минимальная ставка и сколько людей сделали такую ставку. Для этого:\n",
    "\n",
    "1. загрузите датасет log.csv;\n",
    "\n",
    "2. посчитайте, чему равна минимальная ставка;\n",
    "\n",
    "3. посчитайте, сколько раз была сделана минимальная ставка, и запишите результат в переменную min_bet_amount в виде целого числа."
   ]
  },
  {
   "cell_type": "code",
   "execution_count": 194,
   "metadata": {},
   "outputs": [],
   "source": [
    "log = pd.read_csv('log.csv', header=None)\n",
    "log.columns = ['user_id','time','bet','win']\n",
    "log['bet'].min()\n",
    "min_bet_amount = log[log['bet'] == log['bet'].min()]['bet'].count()"
   ]
  },
  {
   "cell_type": "markdown",
   "metadata": {},
   "source": [
    "<span style=\"color: orange; font-weight: bold; font-size:16pt\">Повторение merge/groupby</span>\n",
    "\n",
    "Повторим часть предобработки, которую мы должны были выполнить ранее:\n"
   ]
  },
  {
   "cell_type": "code",
   "execution_count": 218,
   "metadata": {},
   "outputs": [
    {
     "data": {
      "text/html": [
       "<div>\n",
       "<style scoped>\n",
       "    .dataframe tbody tr th:only-of-type {\n",
       "        vertical-align: middle;\n",
       "    }\n",
       "\n",
       "    .dataframe tbody tr th {\n",
       "        vertical-align: top;\n",
       "    }\n",
       "\n",
       "    .dataframe thead th {\n",
       "        text-align: right;\n",
       "    }\n",
       "</style>\n",
       "<table border=\"1\" class=\"dataframe\">\n",
       "  <thead>\n",
       "    <tr style=\"text-align: right;\">\n",
       "      <th></th>\n",
       "      <th>user_id</th>\n",
       "      <th>time</th>\n",
       "      <th>bet</th>\n",
       "      <th>win</th>\n",
       "      <th>net</th>\n",
       "    </tr>\n",
       "  </thead>\n",
       "  <tbody>\n",
       "    <tr>\n",
       "      <th>0</th>\n",
       "      <td>user_919</td>\n",
       "      <td>[2019-01-01 14:06:51</td>\n",
       "      <td>0.0</td>\n",
       "      <td>0.0</td>\n",
       "      <td>0.0</td>\n",
       "    </tr>\n",
       "    <tr>\n",
       "      <th>1</th>\n",
       "      <td>user_973</td>\n",
       "      <td>[2019-01-01 14:51:16</td>\n",
       "      <td>0.0</td>\n",
       "      <td>0.0</td>\n",
       "      <td>0.0</td>\n",
       "    </tr>\n",
       "    <tr>\n",
       "      <th>2</th>\n",
       "      <td>user_903</td>\n",
       "      <td>[2019-01-01 16:31:16</td>\n",
       "      <td>0.0</td>\n",
       "      <td>0.0</td>\n",
       "      <td>0.0</td>\n",
       "    </tr>\n",
       "    <tr>\n",
       "      <th>3</th>\n",
       "      <td>user_954</td>\n",
       "      <td>[2019-01-01 17:17:51</td>\n",
       "      <td>0.0</td>\n",
       "      <td>0.0</td>\n",
       "      <td>0.0</td>\n",
       "    </tr>\n",
       "    <tr>\n",
       "      <th>4</th>\n",
       "      <td>user_954</td>\n",
       "      <td>[2019-01-01 21:31:18</td>\n",
       "      <td>0.0</td>\n",
       "      <td>0.0</td>\n",
       "      <td>0.0</td>\n",
       "    </tr>\n",
       "    <tr>\n",
       "      <th>...</th>\n",
       "      <td>...</td>\n",
       "      <td>...</td>\n",
       "      <td>...</td>\n",
       "      <td>...</td>\n",
       "      <td>...</td>\n",
       "    </tr>\n",
       "    <tr>\n",
       "      <th>991</th>\n",
       "      <td>user_965</td>\n",
       "      <td>[2019-04-20 12:55:41</td>\n",
       "      <td>800.0</td>\n",
       "      <td>6927.0</td>\n",
       "      <td>6127.0</td>\n",
       "    </tr>\n",
       "    <tr>\n",
       "      <th>992</th>\n",
       "      <td>user_967</td>\n",
       "      <td>[2019-04-20 14:59:36</td>\n",
       "      <td>10154.0</td>\n",
       "      <td>-10154.0</td>\n",
       "      <td>-10154.0</td>\n",
       "    </tr>\n",
       "    <tr>\n",
       "      <th>993</th>\n",
       "      <td>user_973</td>\n",
       "      <td>[2019-04-20 17:09:56</td>\n",
       "      <td>10254.0</td>\n",
       "      <td>-10254.0</td>\n",
       "      <td>-10254.0</td>\n",
       "    </tr>\n",
       "    <tr>\n",
       "      <th>994</th>\n",
       "      <td>user_977</td>\n",
       "      <td>[2019-04-20 18:10:07</td>\n",
       "      <td>10354.0</td>\n",
       "      <td>-10354.0</td>\n",
       "      <td>-10354.0</td>\n",
       "    </tr>\n",
       "    <tr>\n",
       "      <th>995</th>\n",
       "      <td>user_984</td>\n",
       "      <td>[2019-04-20 9:59:58</td>\n",
       "      <td>9754.0</td>\n",
       "      <td>-9754.0</td>\n",
       "      <td>-9754.0</td>\n",
       "    </tr>\n",
       "  </tbody>\n",
       "</table>\n",
       "<p>985 rows × 5 columns</p>\n",
       "</div>"
      ],
      "text/plain": [
       "      user_id                  time      bet      win      net\n",
       "0    user_919  [2019-01-01 14:06:51      0.0      0.0      0.0\n",
       "1    user_973  [2019-01-01 14:51:16      0.0      0.0      0.0\n",
       "2    user_903  [2019-01-01 16:31:16      0.0      0.0      0.0\n",
       "3    user_954  [2019-01-01 17:17:51      0.0      0.0      0.0\n",
       "4    user_954  [2019-01-01 21:31:18      0.0      0.0      0.0\n",
       "..        ...                   ...      ...      ...      ...\n",
       "991  user_965  [2019-04-20 12:55:41    800.0   6927.0   6127.0\n",
       "992  user_967  [2019-04-20 14:59:36  10154.0 -10154.0 -10154.0\n",
       "993  user_973  [2019-04-20 17:09:56  10254.0 -10254.0 -10254.0\n",
       "994  user_977  [2019-04-20 18:10:07  10354.0 -10354.0 -10354.0\n",
       "995  user_984   [2019-04-20 9:59:58   9754.0  -9754.0  -9754.0\n",
       "\n",
       "[985 rows x 5 columns]"
      ]
     },
     "execution_count": 218,
     "metadata": {},
     "output_type": "execute_result"
    }
   ],
   "source": [
    "users.user_id = users.user_id.apply(lambda x: x.lower()) \n",
    "\n",
    "log1 = lo1g[log1.user_id != '#error']    \n",
    "log1.user_id = log1.user_id.str.split(' - ').apply(lambda x: x[1])"
   ]
  },
  {
   "cell_type": "markdown",
   "metadata": {},
   "source": [
    "Tеперь объединим данные с помощью метода pd.merge():"
   ]
  },
  {
   "cell_type": "code",
   "execution_count": 229,
   "metadata": {},
   "outputs": [
    {
     "data": {
      "text/html": [
       "<div>\n",
       "<style scoped>\n",
       "    .dataframe tbody tr th:only-of-type {\n",
       "        vertical-align: middle;\n",
       "    }\n",
       "\n",
       "    .dataframe tbody tr th {\n",
       "        vertical-align: top;\n",
       "    }\n",
       "\n",
       "    .dataframe thead th {\n",
       "        text-align: right;\n",
       "    }\n",
       "</style>\n",
       "<table border=\"1\" class=\"dataframe\">\n",
       "  <thead>\n",
       "    <tr style=\"text-align: right;\">\n",
       "      <th></th>\n",
       "      <th>user_id</th>\n",
       "      <th>time</th>\n",
       "      <th>bet</th>\n",
       "      <th>win</th>\n",
       "      <th>net</th>\n",
       "      <th>email</th>\n",
       "      <th>geo</th>\n",
       "    </tr>\n",
       "  </thead>\n",
       "  <tbody>\n",
       "    <tr>\n",
       "      <th>0</th>\n",
       "      <td>user_919</td>\n",
       "      <td>[2019-01-01 14:06:51</td>\n",
       "      <td>0.0</td>\n",
       "      <td>0.0</td>\n",
       "      <td>0.0</td>\n",
       "      <td>Chikkaverle@icloud.com</td>\n",
       "      <td>Хабаровск</td>\n",
       "    </tr>\n",
       "    <tr>\n",
       "      <th>1</th>\n",
       "      <td>user_919</td>\n",
       "      <td>[2019-01-30 10:06:00</td>\n",
       "      <td>0.0</td>\n",
       "      <td>0.0</td>\n",
       "      <td>0.0</td>\n",
       "      <td>Chikkaverle@icloud.com</td>\n",
       "      <td>Хабаровск</td>\n",
       "    </tr>\n",
       "    <tr>\n",
       "      <th>2</th>\n",
       "      <td>user_919</td>\n",
       "      <td>[2019-02-05 14:33:44</td>\n",
       "      <td>0.0</td>\n",
       "      <td>0.0</td>\n",
       "      <td>0.0</td>\n",
       "      <td>Chikkaverle@icloud.com</td>\n",
       "      <td>Хабаровск</td>\n",
       "    </tr>\n",
       "    <tr>\n",
       "      <th>3</th>\n",
       "      <td>user_919</td>\n",
       "      <td>[2019-02-14 11:38:05</td>\n",
       "      <td>0.0</td>\n",
       "      <td>0.0</td>\n",
       "      <td>0.0</td>\n",
       "      <td>Chikkaverle@icloud.com</td>\n",
       "      <td>Хабаровск</td>\n",
       "    </tr>\n",
       "    <tr>\n",
       "      <th>4</th>\n",
       "      <td>user_919</td>\n",
       "      <td>[2019-03-02 4:23:36</td>\n",
       "      <td>300.0</td>\n",
       "      <td>-300.0</td>\n",
       "      <td>-300.0</td>\n",
       "      <td>Chikkaverle@icloud.com</td>\n",
       "      <td>Хабаровск</td>\n",
       "    </tr>\n",
       "    <tr>\n",
       "      <th>...</th>\n",
       "      <td>...</td>\n",
       "      <td>...</td>\n",
       "      <td>...</td>\n",
       "      <td>...</td>\n",
       "      <td>...</td>\n",
       "      <td>...</td>\n",
       "      <td>...</td>\n",
       "    </tr>\n",
       "    <tr>\n",
       "      <th>970</th>\n",
       "      <td>user_932</td>\n",
       "      <td>[2019-02-24 22:40:06</td>\n",
       "      <td>0.0</td>\n",
       "      <td>0.0</td>\n",
       "      <td>0.0</td>\n",
       "      <td>BraceWalker@bk.ru</td>\n",
       "      <td>Красноярск</td>\n",
       "    </tr>\n",
       "    <tr>\n",
       "      <th>971</th>\n",
       "      <td>user_932</td>\n",
       "      <td>[2019-03-15 10:56:14</td>\n",
       "      <td>0.0</td>\n",
       "      <td>0.0</td>\n",
       "      <td>0.0</td>\n",
       "      <td>BraceWalker@bk.ru</td>\n",
       "      <td>Красноярск</td>\n",
       "    </tr>\n",
       "    <tr>\n",
       "      <th>972</th>\n",
       "      <td>user_932</td>\n",
       "      <td>[2019-03-18 10:13:24</td>\n",
       "      <td>0.0</td>\n",
       "      <td>0.0</td>\n",
       "      <td>0.0</td>\n",
       "      <td>BraceWalker@bk.ru</td>\n",
       "      <td>Красноярск</td>\n",
       "    </tr>\n",
       "    <tr>\n",
       "      <th>973</th>\n",
       "      <td>user_932</td>\n",
       "      <td>[2019-03-27 12:18:24</td>\n",
       "      <td>0.0</td>\n",
       "      <td>0.0</td>\n",
       "      <td>0.0</td>\n",
       "      <td>BraceWalker@bk.ru</td>\n",
       "      <td>Красноярск</td>\n",
       "    </tr>\n",
       "    <tr>\n",
       "      <th>974</th>\n",
       "      <td>user_932</td>\n",
       "      <td>[2019-04-18 14:55:26</td>\n",
       "      <td>700.0</td>\n",
       "      <td>6640.0</td>\n",
       "      <td>5940.0</td>\n",
       "      <td>BraceWalker@bk.ru</td>\n",
       "      <td>Красноярск</td>\n",
       "    </tr>\n",
       "  </tbody>\n",
       "</table>\n",
       "<p>975 rows × 7 columns</p>\n",
       "</div>"
      ],
      "text/plain": [
       "      user_id                  time    bet     win     net  \\\n",
       "0    user_919  [2019-01-01 14:06:51    0.0     0.0     0.0   \n",
       "1    user_919  [2019-01-30 10:06:00    0.0     0.0     0.0   \n",
       "2    user_919  [2019-02-05 14:33:44    0.0     0.0     0.0   \n",
       "3    user_919  [2019-02-14 11:38:05    0.0     0.0     0.0   \n",
       "4    user_919   [2019-03-02 4:23:36  300.0  -300.0  -300.0   \n",
       "..        ...                   ...    ...     ...     ...   \n",
       "970  user_932  [2019-02-24 22:40:06    0.0     0.0     0.0   \n",
       "971  user_932  [2019-03-15 10:56:14    0.0     0.0     0.0   \n",
       "972  user_932  [2019-03-18 10:13:24    0.0     0.0     0.0   \n",
       "973  user_932  [2019-03-27 12:18:24    0.0     0.0     0.0   \n",
       "974  user_932  [2019-04-18 14:55:26  700.0  6640.0  5940.0   \n",
       "\n",
       "                      email         geo  \n",
       "0    Chikkaverle@icloud.com   Хабаровск  \n",
       "1    Chikkaverle@icloud.com   Хабаровск  \n",
       "2    Chikkaverle@icloud.com   Хабаровск  \n",
       "3    Chikkaverle@icloud.com   Хабаровск  \n",
       "4    Chikkaverle@icloud.com   Хабаровск  \n",
       "..                      ...         ...  \n",
       "970       BraceWalker@bk.ru  Красноярск  \n",
       "971       BraceWalker@bk.ru  Красноярск  \n",
       "972       BraceWalker@bk.ru  Красноярск  \n",
       "973       BraceWalker@bk.ru  Красноярск  \n",
       "974       BraceWalker@bk.ru  Красноярск  \n",
       "\n",
       "[975 rows x 7 columns]"
      ]
     },
     "execution_count": 229,
     "metadata": {},
     "output_type": "execute_result"
    }
   ],
   "source": [
    "df = pd.merge(log1, users, on='user_id')\n",
    "df"
   ]
  },
  {
   "cell_type": "markdown",
   "metadata": {},
   "source": [
    "**Groupby**"
   ]
  },
  {
   "cell_type": "code",
   "execution_count": 233,
   "metadata": {},
   "outputs": [
    {
     "data": {
      "text/plain": [
       "0.0"
      ]
     },
     "execution_count": 233,
     "metadata": {},
     "output_type": "execute_result"
    }
   ],
   "source": [
    "df.groupby('user_id').win.median().median()"
   ]
  },
  {
   "cell_type": "markdown",
   "metadata": {},
   "source": [
    "В данном случае мы группируем данные по признаку user_id.\n",
    "\n",
    "После этого мы в каждой группе выбираем признак win.\n",
    "\n",
    "Затем мы берем медиану каждой группы по признаку win и на выходе получаем таблицу, в которой индексом является признак user_id. В этой таблице единственный столбец - медиана по каждой группе (то есть по каждому пользователю).\n",
    "\n",
    "Наконец, последний вызов median() дает нам медиану по предыдущему столбцу, то есть возвращает одно число."
   ]
  },
  {
   "cell_type": "markdown",
   "metadata": {},
   "source": [
    "Используйте датасет, который получился в результате всех преобразований выше (в том числе, заполнение пропусков). Ответ запишите в поле ниже в виде целого числа (отбросьте дробную часть).\n",
    "\n",
    "Посчитайте медиану баланса по каждому пользователю. Для этого сгруппируйте по пользователям, возьмите признак net, просуммируйте по каждому пользователю и получите медиану."
   ]
  },
  {
   "cell_type": "code",
   "execution_count": 237,
   "metadata": {},
   "outputs": [
    {
     "data": {
      "text/plain": [
       "1986.0"
      ]
     },
     "execution_count": 237,
     "metadata": {},
     "output_type": "execute_result"
    }
   ],
   "source": [
    "df.groupby('user_id').net.sum().median()"
   ]
  },
  {
   "cell_type": "markdown",
   "metadata": {},
   "source": [
    "Сколько раз в среднем каждый человек приходит, не делая ставок, при условии, что у этого человека все-таки есть хотя бы одна ставка? Например: Человек посетил букмекерскую контору 5 раз из них 1 раз сделал ставку, 4 раза нет - условие выполняется. Человек посетил букмекерскую контору 5 раз из них ни разу ставку не сделал - условие не выполняется. Для того, чтобы узнать это, просуммируйте в каждой группе количество записей со ставкой, равной 0, и поделите на общее количество групп. Если при этом в группе нет записей со ставкой больше 0, считаем количество записей в данной группе равным 0."
   ]
  },
  {
   "cell_type": "code",
   "execution_count": 275,
   "metadata": {},
   "outputs": [
    {
     "data": {
      "text/html": [
       "<div>\n",
       "<style scoped>\n",
       "    .dataframe tbody tr th:only-of-type {\n",
       "        vertical-align: middle;\n",
       "    }\n",
       "\n",
       "    .dataframe tbody tr th {\n",
       "        vertical-align: top;\n",
       "    }\n",
       "\n",
       "    .dataframe thead th {\n",
       "        text-align: right;\n",
       "    }\n",
       "</style>\n",
       "<table border=\"1\" class=\"dataframe\">\n",
       "  <thead>\n",
       "    <tr style=\"text-align: right;\">\n",
       "      <th></th>\n",
       "      <th>user_id</th>\n",
       "      <th>bet</th>\n",
       "    </tr>\n",
       "  </thead>\n",
       "  <tbody>\n",
       "    <tr>\n",
       "      <th>2</th>\n",
       "      <td>user_901</td>\n",
       "      <td>600.0</td>\n",
       "    </tr>\n",
       "    <tr>\n",
       "      <th>5</th>\n",
       "      <td>user_904</td>\n",
       "      <td>600.0</td>\n",
       "    </tr>\n",
       "    <tr>\n",
       "      <th>33</th>\n",
       "      <td>user_932</td>\n",
       "      <td>700.0</td>\n",
       "    </tr>\n",
       "    <tr>\n",
       "      <th>37</th>\n",
       "      <td>user_936</td>\n",
       "      <td>800.0</td>\n",
       "    </tr>\n",
       "    <tr>\n",
       "      <th>91</th>\n",
       "      <td>user_991</td>\n",
       "      <td>800.0</td>\n",
       "    </tr>\n",
       "    <tr>\n",
       "      <th>...</th>\n",
       "      <td>...</td>\n",
       "      <td>...</td>\n",
       "    </tr>\n",
       "    <tr>\n",
       "      <th>87</th>\n",
       "      <td>user_987</td>\n",
       "      <td>46128.0</td>\n",
       "    </tr>\n",
       "    <tr>\n",
       "      <th>6</th>\n",
       "      <td>user_905</td>\n",
       "      <td>53395.0</td>\n",
       "    </tr>\n",
       "    <tr>\n",
       "      <th>11</th>\n",
       "      <td>user_910</td>\n",
       "      <td>232121.0</td>\n",
       "    </tr>\n",
       "    <tr>\n",
       "      <th>18</th>\n",
       "      <td>user_917</td>\n",
       "      <td>304221.0</td>\n",
       "    </tr>\n",
       "    <tr>\n",
       "      <th>43</th>\n",
       "      <td>user_942</td>\n",
       "      <td>1791528.0</td>\n",
       "    </tr>\n",
       "  </tbody>\n",
       "</table>\n",
       "<p>100 rows × 2 columns</p>\n",
       "</div>"
      ],
      "text/plain": [
       "     user_id        bet\n",
       "2   user_901      600.0\n",
       "5   user_904      600.0\n",
       "33  user_932      700.0\n",
       "37  user_936      800.0\n",
       "91  user_991      800.0\n",
       "..       ...        ...\n",
       "87  user_987    46128.0\n",
       "6   user_905    53395.0\n",
       "11  user_910   232121.0\n",
       "18  user_917   304221.0\n",
       "43  user_942  1791528.0\n",
       "\n",
       "[100 rows x 2 columns]"
      ]
     },
     "execution_count": 275,
     "metadata": {},
     "output_type": "execute_result"
    }
   ],
   "source": [
    "\n",
    "mid = df.groupby('user_id')['bet'].sum().reset_index()\n",
    "#df[df['user_id'] == 'user_942']\n",
    "#df[df['bet']==0]['user_id'].value_counts()\n",
    "mid.sort_values('bet')\n"
   ]
  },
  {
   "cell_type": "code",
   "execution_count": 270,
   "metadata": {},
   "outputs": [
    {
     "data": {
      "text/html": [
       "<div>\n",
       "<style scoped>\n",
       "    .dataframe tbody tr th:only-of-type {\n",
       "        vertical-align: middle;\n",
       "    }\n",
       "\n",
       "    .dataframe tbody tr th {\n",
       "        vertical-align: top;\n",
       "    }\n",
       "\n",
       "    .dataframe thead th {\n",
       "        text-align: right;\n",
       "    }\n",
       "</style>\n",
       "<table border=\"1\" class=\"dataframe\">\n",
       "  <thead>\n",
       "    <tr style=\"text-align: right;\">\n",
       "      <th></th>\n",
       "      <th>user_id</th>\n",
       "      <th>bet</th>\n",
       "    </tr>\n",
       "  </thead>\n",
       "  <tbody>\n",
       "    <tr>\n",
       "      <th>2</th>\n",
       "      <td>user_901</td>\n",
       "      <td>600.0</td>\n",
       "    </tr>\n",
       "    <tr>\n",
       "      <th>5</th>\n",
       "      <td>user_904</td>\n",
       "      <td>600.0</td>\n",
       "    </tr>\n",
       "    <tr>\n",
       "      <th>33</th>\n",
       "      <td>user_932</td>\n",
       "      <td>700.0</td>\n",
       "    </tr>\n",
       "    <tr>\n",
       "      <th>37</th>\n",
       "      <td>user_936</td>\n",
       "      <td>800.0</td>\n",
       "    </tr>\n",
       "    <tr>\n",
       "      <th>91</th>\n",
       "      <td>user_991</td>\n",
       "      <td>800.0</td>\n",
       "    </tr>\n",
       "    <tr>\n",
       "      <th>...</th>\n",
       "      <td>...</td>\n",
       "      <td>...</td>\n",
       "    </tr>\n",
       "    <tr>\n",
       "      <th>87</th>\n",
       "      <td>user_987</td>\n",
       "      <td>46128.0</td>\n",
       "    </tr>\n",
       "    <tr>\n",
       "      <th>6</th>\n",
       "      <td>user_905</td>\n",
       "      <td>53395.0</td>\n",
       "    </tr>\n",
       "    <tr>\n",
       "      <th>11</th>\n",
       "      <td>user_910</td>\n",
       "      <td>232121.0</td>\n",
       "    </tr>\n",
       "    <tr>\n",
       "      <th>18</th>\n",
       "      <td>user_917</td>\n",
       "      <td>304221.0</td>\n",
       "    </tr>\n",
       "    <tr>\n",
       "      <th>43</th>\n",
       "      <td>user_942</td>\n",
       "      <td>1791528.0</td>\n",
       "    </tr>\n",
       "  </tbody>\n",
       "</table>\n",
       "<p>100 rows × 2 columns</p>\n",
       "</div>"
      ],
      "text/plain": [
       "     user_id        bet\n",
       "2   user_901      600.0\n",
       "5   user_904      600.0\n",
       "33  user_932      700.0\n",
       "37  user_936      800.0\n",
       "91  user_991      800.0\n",
       "..       ...        ...\n",
       "87  user_987    46128.0\n",
       "6   user_905    53395.0\n",
       "11  user_910   232121.0\n",
       "18  user_917   304221.0\n",
       "43  user_942  1791528.0\n",
       "\n",
       "[100 rows x 2 columns]"
      ]
     },
     "execution_count": 270,
     "metadata": {},
     "output_type": "execute_result"
    }
   ],
   "source": [
    "\n"
   ]
  },
  {
   "cell_type": "code",
   "execution_count": null,
   "metadata": {},
   "outputs": [],
   "source": []
  }
 ],
 "metadata": {
  "kernelspec": {
   "display_name": "Python 3",
   "language": "python",
   "name": "python3"
  },
  "language_info": {
   "codemirror_mode": {
    "name": "ipython",
    "version": 3
   },
   "file_extension": ".py",
   "mimetype": "text/x-python",
   "name": "python",
   "nbconvert_exporter": "python",
   "pygments_lexer": "ipython3",
   "version": "3.8.3"
  }
 },
 "nbformat": 4,
 "nbformat_minor": 4
}
