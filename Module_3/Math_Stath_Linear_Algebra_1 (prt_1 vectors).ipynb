{
 "cells": [
  {
   "cell_type": "code",
   "execution_count": 3,
   "metadata": {},
   "outputs": [],
   "source": [
    "import numpy as np\n",
    "import pandas as pd"
   ]
  },
  {
   "cell_type": "markdown",
   "metadata": {},
   "source": [
    "<span style=\"color: orange; font-weight: bold; font-size:16pt\">Векторы</span>"
   ]
  },
  {
   "cell_type": "markdown",
   "metadata": {},
   "source": [
    "Что такое вектор?\n",
    "В школьной геометрии: направленный отрезок.\n",
    "\n",
    "В линейной алгебре: элемент векторного пространства.\n",
    "\n",
    "В Python: числовой массив (например, массив NumPy).\n",
    "\n",
    "\n",
    "К основным характеристикам вектора относятся его координаты и размерность.\n",
    "\n",
    "*Определение:* Координаты вектора — это числа, из которых он состоит. \n",
    "\n",
    "*Определение:* Размерность вектора — это количество координат.\n"
   ]
  },
  {
   "cell_type": "code",
   "execution_count": 2,
   "metadata": {},
   "outputs": [
    {
     "name": "stdout",
     "output_type": "stream",
     "text": [
      "50\n",
      "4\n"
     ]
    }
   ],
   "source": [
    "s = np.array([33,65,50,45])\n",
    "print(s[2])\n",
    "print(len(s))"
   ]
  },
  {
   "cell_type": "markdown",
   "metadata": {},
   "source": [
    "##### Рассмотрим предложение на покупку\n",
    "На рынке новостроек появилось предложение от застройщика \"Гарантия\" — двухкомнатная квартира общей площадью **59.5** кв.м, жилой площадью **31.4** кв.м на **19-м** этаже **22-х** этажного дома. В доме  **2**  подъезда. Цена за квадратный метр квартиры у этого застройщика составляет **60550** рублей.\n",
    "\n",
    "Признаков может быть сколько угодно много. Таким образом, мы можем описать нашу квартиру числовой последовательностью важных для нас признаков при покупке квартиры:\n"
   ]
  },
  {
   "cell_type": "code",
   "execution_count": 9,
   "metadata": {},
   "outputs": [],
   "source": [
    "appartment = np.array([59.1,31.40, 19, 22, 60550, 2])"
   ]
  },
  {
   "cell_type": "markdown",
   "metadata": {},
   "source": [
    "Эта последовательность чисел и называется вектором. Вектор характеризует конкретный объект — конкретную квартиру. А число в той или иной позиции вектора описывает конкретный признак объекта. То есть вектор — это, по сути, одномерный массив: "
   ]
  },
  {
   "cell_type": "code",
   "execution_count": null,
   "metadata": {},
   "outputs": [],
   "source": [
    "# В NumPy вектор и массив - одно и то же. \n",
    "# Исключение - понятие вектор-столбец и вектор-строка - фактически двумерные массивы, \n",
    "# где один из атрибутов shape равен 1.\n",
    "\n",
    "print(\"ndim:\", x.ndim) # число осей (измерений) массива - n.dim: 1\n",
    "print(\"shape:\", x.shape) # размеры массива, для вектора определена только длина - shape: (6, )"
   ]
  },
  {
   "cell_type": "markdown",
   "metadata": {},
   "source": [
    "Давайте, как настоящие исследователи данных, попробуем извлечь полезную информацию из вектора, при этом уменьшив его! \n",
    "\n",
    "Упростим себе задачу оценки новой квартиры — сгенерируем новый признак — отношение жилой площади к общей. А от старых признаков смело избавимся, сократив векторное пространство нашего объекта.\n",
    "\n",
    "Возьмём квартиру из описания выше и представим её неким вектором apartment:\n",
    "\n",
    "Для того, чтобы сгенерировать новый параметр share_living_space (доля жилой площади в квартире) из старых признаков, содержащихся в векторе-описании apartment нашей квартиры, нам необходимо вспомнить обращение к элементам массива. Разделим значение жилой площади на её общее количество:"
   ]
  },
  {
   "cell_type": "code",
   "execution_count": 10,
   "metadata": {},
   "outputs": [
    {
     "data": {
      "text/plain": [
       "0.5313028764805414"
      ]
     },
     "execution_count": 10,
     "metadata": {},
     "output_type": "execute_result"
    }
   ],
   "source": [
    "# вычислим долю жилой площади в квартире\n",
    "share_living_space = appartment[1]/appartment[0]\n",
    "share_living_space"
   ]
  },
  {
   "cell_type": "markdown",
   "metadata": {},
   "source": [
    "**Избавимся от старых признаков**, посредством функции delete(), которую предоставляет библиотека numpy. Передадим в значение функции индексы признаков, которые необходимо удалить из нашего массива apartment:"
   ]
  },
  {
   "cell_type": "code",
   "execution_count": 11,
   "metadata": {},
   "outputs": [
    {
     "data": {
      "text/plain": [
       "array([1.90000000e+01, 2.20000000e+01, 6.05500000e+04, 2.00000000e+00,\n",
       "       5.31302876e-01])"
      ]
     },
     "execution_count": 11,
     "metadata": {},
     "output_type": "execute_result"
    }
   ],
   "source": [
    "appartment = np.delete(appartment,[0,1])\n",
    "#  добавим в конец нашего массива новый признак share_living_space, который сочетает в себе смысл двух старых признаков:\n",
    "appartment = np.append(appartment,share_living_space)"
   ]
  },
  {
   "cell_type": "code",
   "execution_count": 16,
   "metadata": {},
   "outputs": [
    {
     "name": "stdout",
     "output_type": "stream",
     "text": [
      "[0.53130288]\n",
      "shape: (5,)\n"
     ]
    }
   ],
   "source": [
    "# Введите значение получившегося нового признака share_living_space.\n",
    "print(appartment[-1:])\n",
    "\n",
    "# Укажите размерность конечного массива apartment после преобразования (ввода новой переменной и удаления старых).\n",
    "print('shape:', appartment.shape)"
   ]
  },
  {
   "cell_type": "markdown",
   "metadata": {},
   "source": [
    "<span style=\"color: red; font-weight: bold; font-size:12pt\">Задание 1.2.3</span>"
   ]
  },
  {
   "cell_type": "markdown",
   "metadata": {},
   "source": [
    "Пусть дан вектор в python  содержащий информацию о средней температуре воздуха (в градусах Цельсия) в Риме с января по декабрь включительно. Cчитаем, что в январе t_0,то есть отсчет индексов с нуля."
   ]
  },
  {
   "cell_type": "code",
   "execution_count": 18,
   "metadata": {},
   "outputs": [
    {
     "data": {
      "text/plain": [
       "28"
      ]
     },
     "execution_count": 18,
     "metadata": {},
     "output_type": "execute_result"
    }
   ],
   "source": [
    "t = np.array([12, 14, 17, 19, 24, 28, 31, 31, 27, 22, 17, 13])\n",
    "t[5]"
   ]
  },
  {
   "cell_type": "code",
   "execution_count": 21,
   "metadata": {},
   "outputs": [
    {
     "data": {
      "text/plain": [
       "array([10, 13])"
      ]
     },
     "execution_count": 21,
     "metadata": {},
     "output_type": "execute_result"
    }
   ],
   "source": [
    "a = np.array([5,2])\n",
    "b = np.array([-5,-11])\n",
    "a-b"
   ]
  },
  {
   "cell_type": "code",
   "execution_count": 26,
   "metadata": {},
   "outputs": [
    {
     "name": "stdout",
     "output_type": "stream",
     "text": [
      "[144. 216. 180.]\n",
      "[394. 496. 400.]\n"
     ]
    }
   ],
   "source": [
    "a = np.array([120,150,90])\n",
    "zhena = np.array([130,130,130])\n",
    "t = np.array([2,3,2.5])\n",
    "\n",
    "print(t*72)\n",
    "\n",
    "print(a+zhena+(t*72))"
   ]
  },
  {
   "cell_type": "markdown",
   "metadata": {},
   "source": [
    "<span style=\"color: orange; font-weight: bold; font-size:16pt\">1.4. Линейная комбинация векторов</span>"
   ]
  },
  {
   "cell_type": "markdown",
   "metadata": {},
   "source": [
    "Линейная комбинация — это объединение двух предыдущих операций в одну: каждый вектор умножается на соответствующий ему коэффициент, все умноженные векторы складываются\n",
    "\n",
    "Линейная комбинация — это сумма векторов, умноженных на некоторые числа. "
   ]
  },
  {
   "cell_type": "code",
   "execution_count": 3,
   "metadata": {},
   "outputs": [
    {
     "data": {
      "text/plain": [
       "array([1800, 3000, 2700])"
      ]
     },
     "execution_count": 3,
     "metadata": {},
     "output_type": "execute_result"
    }
   ],
   "source": [
    "p = np.array([2,4,5])\n",
    "v = np.array([8,10,2])\n",
    "s = np.array([0,12,7])\n",
    "500*p+100*v+0*s"
   ]
  },
  {
   "cell_type": "markdown",
   "metadata": {},
   "source": [
    "*Нулевая линейная комбинация*\n",
    "\n",
    "Из заданного набора векторов можно получить нулевую линейную комбинацию, умножив каждый вектор на ноль. Такие комбинации называются **тривиальными.** \n",
    "\n",
    "Определение: Линейная комбинация называется **тривиальной**, если все коэффициенты равны нулю.\n",
    "\n",
    "Далее мы будем рассматривать только **нетривиальные** линейные комбинации, в которых не все коэффициенты равны нулю.\n",
    "\n",
    "Определение: Линейная комбинация называется **нетривиальной**, если хотя бы один из коэффициентов не равен нулю."
   ]
  },
  {
   "cell_type": "markdown",
   "metadata": {},
   "source": [
    "Можно ли получить нулевой вектор?\n",
    "\n",
    "ДА\n",
    "\n",
    "Пусть из заданного набора векторов нам удалось составить нулевую нетривиальную линейную комбинацию.\n",
    "\n",
    "Определение: Векторы называются линейно зависимыми, если существует нулевая нетривиальная комбинация этих векторов. \n",
    "\n",
    "При этом один из линейно зависимых векторов, но не обязательно любой, можно выразить через другие, то есть представить как их линейную комбинацию.\n",
    "\n",
    "НЕТ\n",
    "\n",
    "Вариант второй, пусть из заданного набора векторов нам не удалось составить нулевую нетривиальную линейную комбинацию.\n",
    "\n",
    "Определение: Векторы называются линейно независимыми, если не существует нулевой нетривиальной комбинации этих векторов."
   ]
  },
  {
   "cell_type": "markdown",
   "metadata": {},
   "source": [
    "<span style=\"color: red; font-weight: bold; font-size:12pt\">Задание 1.4.1</span>"
   ]
  },
  {
   "cell_type": "code",
   "execution_count": 6,
   "metadata": {},
   "outputs": [
    {
     "data": {
      "text/plain": [
       "array([7, 7])"
      ]
     },
     "execution_count": 6,
     "metadata": {},
     "output_type": "execute_result"
    }
   ],
   "source": [
    "x = np.array([4,5])\n",
    "y = np.array([2,1])\n",
    "u = np.array([1,0])\n",
    "(2*x)+(-3*y)+(5*u)"
   ]
  },
  {
   "cell_type": "markdown",
   "metadata": {},
   "source": [
    "<span style=\"color: red; font-weight: bold; font-size:12pt\">Задание 1.4.2</span>\n",
    "\n",
    "Юный предприниматель Вовочка мастерит ракеты на водном топливе и продает их. За 4 недели он смастерил 3, 4, 5 и 9 ракет, а продал 1, 5, 3 и 6 ракет соответственно.\n",
    "\n",
    "На изготовление одной ракеты он тратит 200  рублей, а продаёт их по 400  рублей за штуку.\n",
    "\n",
    "Найдите вектор прибыли Вовочки за эти 4 недели."
   ]
  },
  {
   "cell_type": "code",
   "execution_count": 12,
   "metadata": {},
   "outputs": [
    {
     "data": {
      "text/plain": [
       "array([-200, 1200,  200,  600])"
      ]
     },
     "execution_count": 12,
     "metadata": {},
     "output_type": "execute_result"
    }
   ],
   "source": [
    "rocket = np.array([3,4,5,9])\n",
    "sell = np.array([1,5,3,6])\n",
    "400*sell - 200*rocket"
   ]
  },
  {
   "cell_type": "markdown",
   "metadata": {},
   "source": [
    "<span style=\"color: orange; font-weight: bold; font-size:16pt\">1.5. Скалярное произведение векторов</span>"
   ]
  },
  {
   "cell_type": "markdown",
   "metadata": {},
   "source": [
    "Всего есть четыре основных способа умножить векторы:\n",
    "\n",
    "Скалярное произведение. Результат — число. \n",
    "\n",
    "Векторное произведение. Результат — вектор.\n",
    "\n",
    "Смешанное произведение. Результат — число. \n",
    "\n",
    "Тензорное произведение. Результат — матрица.\n"
   ]
  },
  {
   "cell_type": "markdown",
   "metadata": {},
   "source": [
    "*Скалярное произведение*"
   ]
  },
  {
   "cell_type": "code",
   "execution_count": 13,
   "metadata": {},
   "outputs": [
    {
     "data": {
      "text/plain": [
       "102.0"
      ]
     },
     "execution_count": 13,
     "metadata": {},
     "output_type": "execute_result"
    }
   ],
   "source": [
    "a = np.array([65,70,120,30])\n",
    "w = np.array([0.4,0.4,0.2,0.8])\n",
    "np.dot(a,w)"
   ]
  },
  {
   "cell_type": "markdown",
   "metadata": {},
   "source": [
    "**Длина вектора**\n",
    "\n",
    "Длина вектора вычисляется как квадратный корень из скалярного произведения вектора с самим собой. Для нас это это просто корень из суммы квадратов координат, как в теореме Пифагора — для случая с размерностью вектора равной двум (геометрически это длина отрезка).\n",
    "\n",
    "<img src=\"https://lms.skillfactory.ru/assets/courseware/v1/affd1f727b091e910b468cd27ca9ba4a/asset-v1:Skillfactory+DST-PRO+15APR2020+type@asset+block/MAT_1_%D0%BC%D0%BE%D0%B4%D1%83%D0%BB%D1%8C_43.png\" width=\"600px\">"
   ]
  },
  {
   "cell_type": "markdown",
   "metadata": {},
   "source": [
    "Длина вектора всегда неотрицательна и показывает, как близок вектор к нулевому.\n",
    "\n",
    "Вычисление длин векторов в Python обсудим в скринкасте в одном из следующих разделов.\n",
    "\n",
    "Свойство скалярного произведения векторов (линейность)\n",
    "Всем знакомо правило раскрытия скобок при умножении чисел\n"
   ]
  },
  {
   "cell_type": "markdown",
   "metadata": {},
   "source": [
    "**Особый случай. Ортогональность векторов**\n",
    "\n",
    "Векторы a и b называются ортогональными, если их скалярное произведение равно нулю.\n",
    "\n",
    "<img src=\"https://lms.skillfactory.ru/assets/courseware/v1/c045b1311b0122f0a6058b9f852a82cb/asset-v1:Skillfactory+DST-PRO+15APR2020+type@asset+block/MAT_1_%D0%BC%D0%BE%D0%B4%D1%83%D0%BB%D1%8C_48_1.png\" width=\"600px\">"
   ]
  },
  {
   "cell_type": "code",
   "execution_count": 16,
   "metadata": {},
   "outputs": [
    {
     "data": {
      "text/plain": [
       "7"
      ]
     },
     "execution_count": 16,
     "metadata": {},
     "output_type": "execute_result"
    }
   ],
   "source": [
    "x = np.array([4,5,-1])\n",
    "y = np.array([2,0,1])\n",
    "np.dot(x,y)"
   ]
  },
  {
   "cell_type": "code",
   "execution_count": 19,
   "metadata": {},
   "outputs": [
    {
     "data": {
      "text/plain": [
       "7.280109889280518"
      ]
     },
     "execution_count": 19,
     "metadata": {},
     "output_type": "execute_result"
    }
   ],
   "source": [
    "# Вычислите длину вектора\n",
    "x = np.array([4,6,1])\n",
    "a=np.dot(x,x)\n",
    "a**0.5"
   ]
  },
  {
   "cell_type": "code",
   "execution_count": 24,
   "metadata": {},
   "outputs": [
    {
     "data": {
      "text/plain": [
       "0"
      ]
     },
     "execution_count": 24,
     "metadata": {},
     "output_type": "execute_result"
    }
   ],
   "source": [
    "# Ортогональные вектора\n",
    "x = np.array([4,-1])\n",
    "y = np.array([1,4])\n",
    "np.dot(x,y)"
   ]
  },
  {
   "cell_type": "markdown",
   "metadata": {},
   "source": [
    "<span style=\"color: orange; font-weight: bold; font-size:16pt\">1.6. Некоторые операции</span>"
   ]
  },
  {
   "cell_type": "code",
   "execution_count": 4,
   "metadata": {},
   "outputs": [
    {
     "name": "stdout",
     "output_type": "stream",
     "text": [
      "Data Frame:\n",
      "     $$  2.Area  3.Rooms  4.Floor  5.Demo\n",
      "0   65      50        3        5       8\n",
      "1   70      52        2       12       4\n",
      "2  120      80        1       10       5\n",
      "3   35      33        1        3      10\n"
     ]
    }
   ],
   "source": [
    "# преобразовать из Pandas DataFrame\n",
    "d = {'$$': [65, 70, 120, 35], '2.Area': [50, 52, 80, 33],'3.Rooms':[3,2,1,1], \n",
    "     '4.Floor':[5,12,10,3], '5.Demo':[8,4,5,10]}\n",
    "df = pd.DataFrame(d)\n",
    "print('Data Frame:\\n',df)"
   ]
  },
  {
   "cell_type": "code",
   "execution_count": 9,
   "metadata": {},
   "outputs": [
    {
     "name": "stdout",
     "output_type": "stream",
     "text": [
      "Matrix:\n",
      " [[ 65  50   3   5   8]\n",
      " [ 70  52   2  12   4]\n",
      " [120  80   1  10   5]\n",
      " [ 35  33   1   3  10]]\n"
     ]
    }
   ],
   "source": [
    "A = df.values\n",
    "print(f'Matrix:\\n {A}')"
   ]
  },
  {
   "cell_type": "code",
   "execution_count": 10,
   "metadata": {},
   "outputs": [
    {
     "name": "stdout",
     "output_type": "stream",
     "text": [
      "Second apartment vector:\n",
      " [70 52  2 12  4]\n",
      "type of x: <class 'numpy.ndarray'>\n"
     ]
    }
   ],
   "source": [
    "x = A[1]\n",
    "print('Second apartment vector:\\n',x)\n",
    "print('type of x:',type(x))"
   ]
  },
  {
   "cell_type": "code",
   "execution_count": 11,
   "metadata": {},
   "outputs": [
    {
     "name": "stdout",
     "output_type": "stream",
     "text": [
      "$$ vector:\n",
      " [ 65  70 120  35]\n"
     ]
    }
   ],
   "source": [
    "y=A[:,0] # первый столбец матрицы А\n",
    "print('$$ vector:\\n',y)"
   ]
  },
  {
   "cell_type": "code",
   "execution_count": 13,
   "metadata": {},
   "outputs": [
    {
     "name": "stdout",
     "output_type": "stream",
     "text": [
      "$$ vector:\n",
      " 120\n"
     ]
    }
   ],
   "source": [
    "# индексация векторов - поиск нужной координаты\n",
    "print('$$ vector:\\n',y[2])"
   ]
  },
  {
   "cell_type": "code",
   "execution_count": 14,
   "metadata": {},
   "outputs": [
    {
     "name": "stdout",
     "output_type": "stream",
     "text": [
      "Number of apartments = dim(y): 4\n"
     ]
    }
   ],
   "source": [
    "# размерность вектора\n",
    "print('Number of apartments = dim(y):', len(y))"
   ]
  },
  {
   "cell_type": "code",
   "execution_count": 16,
   "metadata": {},
   "outputs": [
    {
     "name": "stdout",
     "output_type": "stream",
     "text": [
      "a+b: [ 7  9 11]\n",
      "2*a: [2 4 6]\n"
     ]
    }
   ],
   "source": [
    "# сумма векторов и умножение на число\n",
    "a=np.array([1,2,3])\n",
    "b=np.array([6,7,8])\n",
    "print('a+b:',a+b)\n",
    "print('2*a:',2*a)"
   ]
  },
  {
   "cell_type": "code",
   "execution_count": 17,
   "metadata": {},
   "outputs": [
    {
     "name": "stdout",
     "output_type": "stream",
     "text": [
      "linear combination: [17 18 25]\n"
     ]
    }
   ],
   "source": [
    "# линейная комбинация с коэффициентами 2, 2, 3\n",
    "a=np.array([1,2,3])\n",
    "b=np.array([6,7,8])\n",
    "c=np.array([1,0,1])\n",
    "\n",
    "d=2*a+2*b+3*c\n",
    "print('linear combination:',d)"
   ]
  },
  {
   "cell_type": "code",
   "execution_count": 18,
   "metadata": {},
   "outputs": [
    {
     "name": "stdout",
     "output_type": "stream",
     "text": [
      "scalar product: 44\n",
      "coordinate product: [ 6 14 24]\n"
     ]
    }
   ],
   "source": [
    "# скалярное произведение\n",
    "\n",
    "s=np.dot(a,b)\n",
    "print('scalar product:',s)\n",
    "\n",
    "# покоординатное умножение\n",
    "print('coordinate product:',a*b)"
   ]
  },
  {
   "cell_type": "code",
   "execution_count": 19,
   "metadata": {},
   "outputs": [
    {
     "name": "stdout",
     "output_type": "stream",
     "text": [
      "scalar product: 44\n"
     ]
    }
   ],
   "source": [
    "# скалярное произведение - еще один способ\n",
    "s1=a@b\n",
    "print('scalar product:',s1)"
   ]
  },
  {
   "cell_type": "code",
   "execution_count": 21,
   "metadata": {},
   "outputs": [
    {
     "name": "stdout",
     "output_type": "stream",
     "text": [
      "length of a: 3.7416573867739413\n"
     ]
    }
   ],
   "source": [
    "# длина вектора\n",
    "l=np.linalg.norm(a)\n",
    "print('length of a:',l)"
   ]
  },
  {
   "cell_type": "code",
   "execution_count": 22,
   "metadata": {},
   "outputs": [
    {
     "name": "stdout",
     "output_type": "stream",
     "text": [
      "a_norm: [0.26726124 0.53452248 0.80178373]\n",
      "length of a_norm: 1.0\n"
     ]
    }
   ],
   "source": [
    "# нормировка\n",
    "a_norm=a/np.linalg.norm(a)\n",
    "print('a_norm:',a_norm)\n",
    "print('length of a_norm:',np.linalg.norm(a_norm))"
   ]
  },
  {
   "cell_type": "code",
   "execution_count": 23,
   "metadata": {},
   "outputs": [
    {
     "name": "stdout",
     "output_type": "stream",
     "text": [
      "a: [1 2 1]\n",
      "b: [2 4 2]\n",
      "c: [-1  1 -1]\n"
     ]
    }
   ],
   "source": [
    "#пропорциональность и ортогональность\n",
    "a=np.array([1,2,1])\n",
    "b=a*2\n",
    "c=np.array([-1,1,-1])\n",
    "print('a:',a)\n",
    "print('b:',b)\n",
    "print('c:',c)"
   ]
  },
  {
   "cell_type": "code",
   "execution_count": 24,
   "metadata": {},
   "outputs": [
    {
     "name": "stdout",
     "output_type": "stream",
     "text": [
      "(a,b): 12\n",
      "(a,c): 0\n",
      "(b,c): 0\n"
     ]
    }
   ],
   "source": [
    "#пропорциональность и ортогональность\n",
    "print(\"(a,b):\",np.dot(a,b))\n",
    "print(\"(a,c):\",np.dot(a,c))\n",
    "print(\"(b,c):\",np.dot(b,c))"
   ]
  },
  {
   "cell_type": "code",
   "execution_count": 25,
   "metadata": {},
   "outputs": [
    {
     "name": "stdout",
     "output_type": "stream",
     "text": [
      "a: [1 0 1]\n",
      "b: [0 1 0]\n",
      "c: [ 1  0 -1]\n"
     ]
    }
   ],
   "source": [
    "# попарная ортогональность - да\n",
    "a=np.array([1,0,1])\n",
    "b=np.array([0,1,0])\n",
    "c=np.array([1,0,-1])\n",
    "print('a:',a)\n",
    "print('b:',b)\n",
    "print('c:',c)"
   ]
  },
  {
   "cell_type": "code",
   "execution_count": 26,
   "metadata": {},
   "outputs": [
    {
     "name": "stdout",
     "output_type": "stream",
     "text": [
      "(a,b): 0\n",
      "(b,c): 0\n",
      "(a,c): 0\n"
     ]
    }
   ],
   "source": [
    "# попарная ортогональность - да\n",
    "print('(a,b):',np.dot(a,b))\n",
    "print('(b,c):',np.dot(b,c))\n",
    "print('(a,c):',np.dot(a,c))"
   ]
  },
  {
   "cell_type": "code",
   "execution_count": 27,
   "metadata": {},
   "outputs": [
    {
     "name": "stdout",
     "output_type": "stream",
     "text": [
      "a: [1 0 1]\n",
      "b: [0 1 0]\n",
      "с1: [1 0 4]\n"
     ]
    }
   ],
   "source": [
    "# попарная ортогональность - нет\n",
    "c1=np.array([1,0,4])\n",
    "print('a:',a)\n",
    "print('b:',b)\n",
    "print('с1:',c1)"
   ]
  },
  {
   "cell_type": "code",
   "execution_count": 28,
   "metadata": {},
   "outputs": [
    {
     "name": "stdout",
     "output_type": "stream",
     "text": [
      "(a,b): 0\n",
      "(b,c1): 0\n",
      "(a,c1): 5\n"
     ]
    }
   ],
   "source": [
    "# попарная ортогональность - нет\n",
    "print('(a,b):',a@b)\n",
    "print('(b,c1):',b@c1)\n",
    "print('(a,c1):',a@c1)"
   ]
  },
  {
   "cell_type": "markdown",
   "metadata": {},
   "source": [
    "<span style=\"color: red; font-weight: bold; font-size:16pt\">1.6. Практика. Векторы</span>"
   ]
  },
  {
   "cell_type": "markdown",
   "metadata": {},
   "source": [
    "<span style=\"color: red; font-weight: bold; font-size:16pt\">Задача 1</span>"
   ]
  },
  {
   "cell_type": "markdown",
   "metadata": {},
   "source": [
    "В Hut_Paradise_DF представлен фрагмент базы данных агенства «Рай в Шалаше». По строкам расположены квартиры, по столбцам — параметры: арендная плата, общая площадь, количество комнат, этаж, количество показов на две недели и жилая площадь:"
   ]
  },
  {
   "cell_type": "code",
   "execution_count": 30,
   "metadata": {},
   "outputs": [],
   "source": [
    "Hut_Paradise_DF = pd.DataFrame({'1.Rent': [65, 70, 120, 35, 40, 50, 100, 90, 85], \n",
    "                                '2.Area': [50, 52, 80, 33, 33, 44, 80, 65, 65], \n",
    "                                '3.Rooms':[3, 2, 1, 1, 1, 2, 4, 3, 2],\n",
    "                                '4.Floor':[5, 12, 10, 3, 6, 13, 8, 21, 5], \n",
    "                                '5.Demo two weeks':[8, 4, 5, 10, 20, 12, 5, 1, 10], \n",
    "                                '6.Liv.Area': [37, 40, 65, 20, 16, 35, 60, 50, 40]})"
   ]
  },
  {
   "cell_type": "code",
   "execution_count": 36,
   "metadata": {},
   "outputs": [
    {
     "data": {
      "text/plain": [
       "array([[ 65,  50,   3,   5,   8,  37],\n",
       "       [ 70,  52,   2,  12,   4,  40],\n",
       "       [120,  80,   1,  10,   5,  65],\n",
       "       [ 35,  33,   1,   3,  10,  20],\n",
       "       [ 40,  33,   1,   6,  20,  16],\n",
       "       [ 50,  44,   2,  13,  12,  35],\n",
       "       [100,  80,   4,   8,   5,  60],\n",
       "       [ 90,  65,   3,  21,   1,  50],\n",
       "       [ 85,  65,   2,   5,  10,  40]], dtype=int64)"
      ]
     },
     "execution_count": 36,
     "metadata": {},
     "output_type": "execute_result"
    }
   ],
   "source": [
    "matr = Hut_Paradise_DF.values\n",
    "matr"
   ]
  },
  {
   "cell_type": "code",
   "execution_count": 35,
   "metadata": {},
   "outputs": [
    {
     "data": {
      "text/plain": [
       "array([40, 33,  1,  6, 20, 16], dtype=int64)"
      ]
     },
     "execution_count": 35,
     "metadata": {},
     "output_type": "execute_result"
    }
   ],
   "source": [
    "#  Найдите вектор параметров квартиры номер 5:\n",
    "matr[4]"
   ]
  },
  {
   "cell_type": "code",
   "execution_count": 38,
   "metadata": {},
   "outputs": [
    {
     "data": {
      "text/plain": [
       "array([ 5, 12, 10,  3,  6, 13,  8, 21,  5], dtype=int64)"
      ]
     },
     "execution_count": 38,
     "metadata": {},
     "output_type": "execute_result"
    }
   ],
   "source": [
    "# Найдите вектор этажей всех квартир:\n",
    "floor = matr[:,3]\n",
    "floor"
   ]
  },
  {
   "cell_type": "code",
   "execution_count": 39,
   "metadata": {},
   "outputs": [
    {
     "data": {
      "text/plain": [
       "10"
      ]
     },
     "execution_count": 39,
     "metadata": {},
     "output_type": "execute_result"
    }
   ],
   "source": [
    "# На каком этаже расположена квартира номер 3?\n",
    "floor[2]"
   ]
  },
  {
   "cell_type": "code",
   "execution_count": 41,
   "metadata": {},
   "outputs": [
    {
     "data": {
      "text/plain": [
       "9"
      ]
     },
     "execution_count": 41,
     "metadata": {},
     "output_type": "execute_result"
    }
   ],
   "source": [
    "# Найдите количество квартир:\n",
    "\n",
    "len(floor)"
   ]
  },
  {
   "cell_type": "code",
   "execution_count": 47,
   "metadata": {},
   "outputs": [
    {
     "data": {
      "text/plain": [
       "array([13, 12, 15, 13, 17,  9, 20, 15, 25], dtype=int64)"
      ]
     },
     "execution_count": 47,
     "metadata": {},
     "output_type": "execute_result"
    }
   ],
   "source": [
    "# Вычислите вектор нежилой площади:\n",
    "liv_ar = matr[:,-1]\n",
    "whole_ar = matr[:,1]\n",
    "non_ar = whole_a - liv_ar\n",
    "non_ar"
   ]
  },
  {
   "cell_type": "code",
   "execution_count": 53,
   "metadata": {},
   "outputs": [
    {
     "data": {
      "text/plain": [
       "array([26., 28., 48., 14., 16., 20., 40., 36., 34.])"
      ]
     },
     "execution_count": 53,
     "metadata": {},
     "output_type": "execute_result"
    }
   ],
   "source": [
    "#  Арендная плата измеряется в тысячах рублей. Пересчитайте стоимость аренды каждой квартиры в \\\n",
    "#  тысячах гривен, если курс 10 руб = 4 гривны:\n",
    "rent = matr[:,0]\n",
    "rent*0.4"
   ]
  },
  {
   "cell_type": "code",
   "execution_count": 63,
   "metadata": {},
   "outputs": [
    {
     "data": {
      "text/plain": [
       "1348"
      ]
     },
     "execution_count": 63,
     "metadata": {},
     "output_type": "execute_result"
    }
   ],
   "source": [
    "#  Пусть в первой квартире один просмотр занимает 10 минут, во второй — 20 минут, в третьей — полчаса,\n",
    "# в четверой — 15 минут, в пятой — 5 минут, в шестой — 40 минут, в седьмой — 20 минут, \n",
    "# в восьмой — 8 минут и в девятой — 20 минут. Найдите продолжительность просмотров в минутах \n",
    "#  во всех квартирах за 2 недели:\n",
    "demo_time = np.array([10,20,30,15,5,40,20,8,20])\n",
    "demo_count = matr[:,4]\n",
    "# скалярное произведение\n",
    "demo_count@demo_time"
   ]
  },
  {
   "cell_type": "markdown",
   "metadata": {},
   "source": [
    "<span style=\"color: red; font-weight: bold; font-size:16pt\">Задача 2</span>"
   ]
  },
  {
   "cell_type": "code",
   "execution_count": 65,
   "metadata": {},
   "outputs": [],
   "source": [
    "u=np.array([3,0,1,1,1])\n",
    "v=np.array([0,1,0,2,-2])\n",
    "w=np.array([1,-4,-1,0,-2])"
   ]
  },
  {
   "cell_type": "code",
   "execution_count": 67,
   "metadata": {},
   "outputs": [
    {
     "name": "stdout",
     "output_type": "stream",
     "text": [
      "(u,v): 0\n",
      "(u,w): 0\n",
      "(v,w): 0\n"
     ]
    }
   ],
   "source": [
    "#  Проверьте, являются ли векторы попарно ортогональными.\n",
    "\n",
    "print('(u,v):',u@v)\n",
    "print('(u,w):',u@w)\n",
    "print('(v,w):',v@w)\n",
    "\n",
    "# Yes. Yhey are ortogonal"
   ]
  },
  {
   "cell_type": "code",
   "execution_count": 70,
   "metadata": {},
   "outputs": [
    {
     "data": {
      "text/plain": [
       "array([-3, 14,  3,  4,  2])"
      ]
     },
     "execution_count": 70,
     "metadata": {},
     "output_type": "execute_result"
    }
   ],
   "source": [
    "#  Составьте линейную комбинацию векторов v и w с коэффициентами 2 и -3:\n",
    "\n",
    "c = 2*v+(-3)*w\n",
    "c"
   ]
  },
  {
   "cell_type": "code",
   "execution_count": 72,
   "metadata": {},
   "outputs": [
    {
     "name": "stdout",
     "output_type": "stream",
     "text": [
      "0\n"
     ]
    }
   ],
   "source": [
    "#  Будет ли эта комбинация ортогональна вектору u?\n",
    "\n",
    "print(c@u)\n",
    "\n",
    "# Yes"
   ]
  },
  {
   "cell_type": "code",
   "execution_count": 85,
   "metadata": {},
   "outputs": [
    {
     "name": "stdout",
     "output_type": "stream",
     "text": [
      "u_norm: [0.8660254  0.         0.28867513 0.28867513 0.28867513]\n",
      "length of u: 3.4641016151377544\n",
      "v_norm: [ 0.          0.33333333  0.          0.66666667 -0.66666667]\n",
      "length of v: 3.0\n",
      "w_norm: [ 0.21320072 -0.85280287 -0.21320072  0.         -0.42640143]\n",
      "length of w: 4.69041575982343\n",
      "0.289\n",
      "0.667\n",
      "0.213\n"
     ]
    }
   ],
   "source": [
    "#  Нормируйте векторы . В ответ запишите, округлив до трёх знаков после точки:\\\n",
    "\n",
    "# нормировка\n",
    "u_norm=u/np.linalg.norm(u)\n",
    "print('u_norm:',u_norm)\n",
    "print('length of u:',np.linalg.norm(u))\n",
    "\n",
    "v_norm=v/np.linalg.norm(v)\n",
    "print('v_norm:',v_norm)\n",
    "print('length of v:',np.linalg.norm(v))\n",
    "\n",
    "w_norm=w/np.linalg.norm(w)\n",
    "print('w_norm:',w_norm)\n",
    "print('length of w:',np.linalg.norm(w))\n",
    "\n",
    "print(round(u_norm[2],3))\n",
    "print(round(v_norm[3],3))\n",
    "print(round(w_norm[0],3))\n"
   ]
  },
  {
   "cell_type": "code",
   "execution_count": 78,
   "metadata": {},
   "outputs": [
    {
     "data": {
      "text/plain": [
       "array([0.86605081, 0.        , 0.2886836 , 0.2886836 , 0.2886836 ])"
      ]
     },
     "execution_count": 78,
     "metadata": {},
     "output_type": "execute_result"
    }
   ],
   "source": [
    "u/3.464"
   ]
  },
  {
   "cell_type": "code",
   "execution_count": null,
   "metadata": {},
   "outputs": [],
   "source": []
  }
 ],
 "metadata": {
  "kernelspec": {
   "display_name": "Python 3",
   "language": "python",
   "name": "python3"
  },
  "language_info": {
   "codemirror_mode": {
    "name": "ipython",
    "version": 3
   },
   "file_extension": ".py",
   "mimetype": "text/x-python",
   "name": "python",
   "nbconvert_exporter": "python",
   "pygments_lexer": "ipython3",
   "version": "3.8.3"
  }
 },
 "nbformat": 4,
 "nbformat_minor": 4
}
