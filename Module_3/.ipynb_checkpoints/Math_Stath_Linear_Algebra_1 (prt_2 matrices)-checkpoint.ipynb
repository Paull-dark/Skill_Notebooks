{
 "cells": [
  {
   "cell_type": "code",
   "execution_count": 1,
   "metadata": {},
   "outputs": [],
   "source": [
    "import numpy as np\n",
    "import pandas as pd"
   ]
  },
  {
   "cell_type": "markdown",
   "metadata": {},
   "source": [
    "<span style=\"color: orange; font-weight: bold; font-size:16pt\">1.9. Базовые действия над матрицами</span>"
   ]
  },
  {
   "cell_type": "markdown",
   "metadata": {},
   "source": [
    "**Сложение матриц**\n",
    "\n",
    "Матрицы складываются и вычитаются поэлементно. Складывать и вычитать можно только матрицы одинакового размера."
   ]
  },
  {
   "cell_type": "markdown",
   "metadata": {},
   "source": [
    "<img src=\"https://lms.skillfactory.ru/assets/courseware/v1/a48adde1a4c8f50ed15ff66902b3eef9/asset-v1:Skillfactory+DST-PRO+15APR2020+type@asset+block/MAT_1_%D0%BC%D0%BE%D0%B4%D1%83%D0%BB%D1%8C_53_1.png\" width=\"300px\">\n",
    "\n",
    "<img src=\"https://lms.skillfactory.ru/assets/courseware/v1/3a450d5972499dae648cac1571722e42/asset-v1:Skillfactory+DST-PRO+15APR2020+type@asset+block/MAT_1_%D0%BC%D0%BE%D0%B4%D1%83%D0%BB%D1%8C_53_2.png\" width=\"400px\">"
   ]
  },
  {
   "cell_type": "markdown",
   "metadata": {},
   "source": [
    "**Умножение матрицы на число**\n",
    "\n",
    "Умножение матрицы на скаляр снова аналогично векторной операции. Числовые множители также можно выносить из матрицы."
   ]
  },
  {
   "cell_type": "markdown",
   "metadata": {},
   "source": [
    "<img src=\"https://lms.skillfactory.ru/assets/courseware/v1/d29fc89d2e6ee0fc059391d39e2e3de6/asset-v1:Skillfactory+DST-PRO+15APR2020+type@asset+block/MAT_1_%D0%BC%D0%BE%D0%B4%D1%83%D0%BB%D1%8C_53_4.png\" width=\"800px\">"
   ]
  },
  {
   "cell_type": "markdown",
   "metadata": {},
   "source": [
    "**Транспонирование матриц**\n",
    "\n",
    "При транспонировании строки матрицы записываются в столбцы и матрица переворачивается."
   ]
  },
  {
   "cell_type": "markdown",
   "metadata": {},
   "source": [
    "<img src=\"https://lms.skillfactory.ru/assets/courseware/v1/b02793f224687211ef4fa572f424a3dd/asset-v1:Skillfactory+DST-PRO+15APR2020+type@asset+block/MAT_1_%D0%BC%D0%BE%D0%B4%D1%83%D0%BB%D1%8C_53_5_1.png\" width=\"400px\">"
   ]
  },
  {
   "cell_type": "markdown",
   "metadata": {},
   "source": [
    "<img src=\"https://lms.skillfactory.ru/assets/courseware/v1/10e0165ffda37d49e9cab011d088bb2c/asset-v1:Skillfactory+DST-PRO+15APR2020+type@asset+block/MAT_1_%D0%BC%D0%BE%D0%B4%D1%83%D0%BB%D1%8C_53_6.png\" width=\"800px\">"
   ]
  },
  {
   "cell_type": "code",
   "execution_count": 7,
   "metadata": {},
   "outputs": [
    {
     "name": "stdout",
     "output_type": "stream",
     "text": [
      "[[ 1 -5]\n",
      " [ 2  2]\n",
      " [ 0  3]]\n",
      "\n",
      "[[ 1  2  0]\n",
      " [-5  2  3]]\n"
     ]
    }
   ],
   "source": [
    "A = np.matrix('1,-5;2,2;0,3')\n",
    "print(A)\n",
    "print()\n",
    "print(A.T)"
   ]
  },
  {
   "cell_type": "markdown",
   "metadata": {},
   "source": [
    "**Транспонирование симметричных матриц**"
   ]
  },
  {
   "cell_type": "markdown",
   "metadata": {},
   "source": [
    "<img src=\"https://lms.skillfactory.ru/assets/courseware/v1/38b57c5574a5c2a9ff54140d2ab640ba/asset-v1:Skillfactory+DST-PRO+15APR2020+type@asset+block/MAT_1_%D0%BC%D0%BE%D0%B4%D1%83%D0%BB%D1%8C_54.png\" width=\"800px\">"
   ]
  },
  {
   "cell_type": "markdown",
   "metadata": {},
   "source": [
    "<img src=\"https://lms.skillfactory.ru/assets/courseware/v1/4b9a3ccd9a7944bd70bad792de63aa4a/asset-v1:Skillfactory+DST-PRO+15APR2020+type@asset+block/MAT_1_%D0%BC%D0%BE%D0%B4%D1%83%D0%BB%D1%8C_54_1.png\" width=\"800px\">"
   ]
  },
  {
   "cell_type": "markdown",
   "metadata": {},
   "source": [
    "**Резюме**\n",
    "\n",
    "Матрицы складываются и вычитаются поэлементно.\n",
    "\n",
    "Результат — матрица того же размера.\n",
    "\n",
    "Матрицы умножаются на число поэлементно.\n",
    "\n",
    "Результат — матрица того же размера.\n",
    "\n",
    "При транспонировании строки превращаются в столбцы.\n",
    "\n",
    "Размер прямоугольной матрицы меняется.\n",
    "\n",
    "Инварианты транспонирования: симметричные матрицы."
   ]
  },
  {
   "cell_type": "markdown",
   "metadata": {},
   "source": [
    "<span style=\"color: orange; font-weight: bold; font-size:16pt\">1.9. 1.10. --> Практика. Базовые действия над матрицами</span>"
   ]
  },
  {
   "cell_type": "markdown",
   "metadata": {},
   "source": [
    "<span style=\"color: red; font-weight: bold; font-size:12pt\">Задание 1.10.2</span>"
   ]
  },
  {
   "cell_type": "code",
   "execution_count": 11,
   "metadata": {},
   "outputs": [],
   "source": [
    "Husband_Income = np.array([100,220,140])\n",
    "Wife_Income = np.array([150,200,130])\n",
    "Mother_In_Law_Income = np.array([90,80,100])\n",
    "\n",
    "Husband_Сonsumption = np.array([50,50,60])\n",
    "Wife_Сonsumption = np.array([100,80,140])\n",
    "Mother_In_Law_Сonsumption = np.array([100,20,140])"
   ]
  },
  {
   "cell_type": "code",
   "execution_count": 22,
   "metadata": {},
   "outputs": [
    {
     "name": "stdout",
     "output_type": "stream",
     "text": [
      "100 200 100\n"
     ]
    }
   ],
   "source": [
    "# Составьте матрицу Inc доходов семьи, расположив доходы мужа, жены и тещи в первый, второй и третий столбцы.\n",
    "inc = np.array([Husband_Income,Wife_Income,Mother_In_Law_Income]).T\n",
    "print(inc[0,0],inc[1,1],inc[2,2])\n"
   ]
  },
  {
   "cell_type": "code",
   "execution_count": 26,
   "metadata": {},
   "outputs": [
    {
     "name": "stdout",
     "output_type": "stream",
     "text": [
      "100 80 60\n"
     ]
    }
   ],
   "source": [
    "# Составьте матрицу Cons расходов семьи, расположив расходы мужа, жены и тещи в первый, второй и третий столбцы.\n",
    "Cons = np.array([Husband_Сonsumption,Wife_Сonsumption,Mother_In_Law_Сonsumption]).T\n",
    "print(Cons[0,2],Cons[1,1],Cons[2,0])"
   ]
  },
  {
   "cell_type": "markdown",
   "metadata": {},
   "source": [
    "<span style=\"color: red; font-weight: bold; font-size:12pt\">Задание 1.10.3</span>\n",
    "\n",
    "Доходы представлены до уплаты налогов. Налоговая ставка - 13%. Вычислите матрицу доходов семьи Ивановых после уплаты налогов."
   ]
  },
  {
   "cell_type": "code",
   "execution_count": 30,
   "metadata": {},
   "outputs": [
    {
     "data": {
      "text/plain": [
       "array([[ 87. , 130.5,  78.3],\n",
       "       [191.4, 174. ,  69.6],\n",
       "       [121.8, 113.1,  87. ]])"
      ]
     },
     "execution_count": 30,
     "metadata": {},
     "output_type": "execute_result"
    }
   ],
   "source": [
    "inc_tax = inc - (inc*0.13)\n",
    "inc_tax"
   ]
  },
  {
   "cell_type": "markdown",
   "metadata": {},
   "source": [
    "<span style=\"color: red; font-weight: bold; font-size:12pt\">Задание 1.10.4</span>\n",
    "\n",
    "Вычислите матрицу P, которая покажет баланс семьи Ивановых за один месяц (то есть разницу между доходами и расходами)"
   ]
  },
  {
   "cell_type": "code",
   "execution_count": 32,
   "metadata": {},
   "outputs": [
    {
     "data": {
      "text/plain": [
       "array([[ 37. ,  30.5, -21.7],\n",
       "       [141.4,  94. ,  49.6],\n",
       "       [ 61.8, -26.9, -53. ]])"
      ]
     },
     "execution_count": 32,
     "metadata": {},
     "output_type": "execute_result"
    }
   ],
   "source": [
    "P = inc_tax-Cons\n",
    "P"
   ]
  },
  {
   "cell_type": "markdown",
   "metadata": {},
   "source": [
    "<span style=\"color: orange; font-weight: bold; font-size:16pt\">1.11. Умножение матриц</span>"
   ]
  },
  {
   "cell_type": "markdown",
   "metadata": {},
   "source": [
    "<img src=\"https://lms.skillfactory.ru/assets/courseware/v1/48cc0922ef79077b53aca4471d62a0de/asset-v1:Skillfactory+DST-PRO+15APR2020+type@asset+block/MAT_1_%D0%BC%D0%BE%D0%B4%D1%83%D0%BB%D1%8C_55_5.png\" width=\"800px\">\n",
    "\n",
    "<img src=\"https://lms.skillfactory.ru/assets/courseware/v1/804b7c2be4542096f68b8a0b477538f1/asset-v1:Skillfactory+DST-PRO+15APR2020+type@asset+block/MAT_1_%D0%BC%D0%BE%D0%B4%D1%83%D0%BB%D1%8C_55_6.png\" width=\"800px\">\n"
   ]
  },
  {
   "cell_type": "markdown",
   "metadata": {},
   "source": [
    "Операция умножения двух матриц возможна только в том случае, если число столбцов в первой матрице равно числу строк во второй."
   ]
  },
  {
   "cell_type": "markdown",
   "metadata": {},
   "source": [
    "**Размер итоговой матрицы**\n",
    "\n",
    "Если матрица A содержит m строк, а матрица B содержит n столбцов, то результатом их умножения будет матрица С размера  m × n.\n",
    "\n",
    "<img src=\"https://lms.skillfactory.ru/assets/courseware/v1/f65df3b812e8127375a24ff697f669e7/asset-v1:Skillfactory+DST-PRO+15APR2020+type@asset+block/MAT_1_%D0%BC%D0%BE%D0%B4%D1%83%D0%BB%D1%8C_55_2.png\" width=\"600px\">"
   ]
  },
  {
   "cell_type": "markdown",
   "metadata": {},
   "source": [
    "Умножение матриц **некоммутативно**, то есть  AB ≠ BA.\n",
    "\n",
    "<img src=\"https://lms.skillfactory.ru/assets/courseware/v1/052f6e7889db85831b43cf14b502a2e1/asset-v1:Skillfactory+DST-PRO+15APR2020+type@asset+block/MAT_1_%D0%BC%D0%BE%D0%B4%D1%83%D0%BB%D1%8C_55_3.png\" width=\"600px\">\n",
    "\n",
    "<img src=\"https://lms.skillfactory.ru/assets/courseware/v1/df2bc6a5cd9170b4046da8bd9f8f0d62/asset-v1:Skillfactory+DST-PRO+15APR2020+type@asset+block/MAT_1_%D0%BC%D0%BE%D0%B4%D1%83%D0%BB%D1%8C_55_4.png\" width=\"800px\">\n",
    "\n",
    "Ответ: результаты умножения не только отличаются численно, но и имеют разный размер."
   ]
  },
  {
   "cell_type": "markdown",
   "metadata": {},
   "source": [
    "**Умножение вектора и матрицы** \n",
    "\n",
    "<img src=\"https://lms.skillfactory.ru/assets/courseware/v1/2a36d095ee64fd01084f3d171ef6a64a/asset-v1:Skillfactory+DST-PRO+15APR2020+type@asset+block/MAT_1_%D0%BC%D0%BE%D0%B4%D1%83%D0%BB%D1%8C_55_8.png\" width=\"800px\">\n",
    "\n",
    "<img src=\"https://lms.skillfactory.ru/assets/courseware/v1/413f8e7b44b7f7aaf72fce7ca3c405c9/asset-v1:Skillfactory+DST-PRO+15APR2020+type@asset+block/MAT_1_%D0%BC%D0%BE%D0%B4%D1%83%D0%BB%D1%8C_55_10.png\" width=\"800px\">"
   ]
  },
  {
   "cell_type": "markdown",
   "metadata": {},
   "source": [
    "<img src=\"https://lms.skillfactory.ru/assets/courseware/v1/73fd6b2a9d45a802b4b538d6f033a5b1/asset-v1:Skillfactory+DST-PRO+15APR2020+type@asset+block/MAT_1_%D0%BC%D0%BE%D0%B4%D1%83%D0%BB%D1%8C_56.png\" width=\"800px\">\n",
    "\n",
    "<img src=\"https://lms.skillfactory.ru/assets/courseware/v1/ceddf05e9091e7293a9349115e673b25/asset-v1:Skillfactory+DST-PRO+15APR2020+type@asset+block/MAT_1_%D0%BC%D0%BE%D0%B4%D1%83%D0%BB%D1%8C_56_1.png\" width=\"400px\">"
   ]
  },
  {
   "cell_type": "markdown",
   "metadata": {},
   "source": [
    "**Тензорное произведение векторов**\n",
    "\n",
    "<img src=\"https://lms.skillfactory.ru/assets/courseware/v1/8da78293ed72c5dc06fed5eaf93ed89f/asset-v1:Skillfactory+DST-PRO+15APR2020+type@asset+block/MAT_1_%D0%BC%D0%BE%D0%B4%D1%83%D0%BB%D1%8C_56_2.png\" width=\"600px\">\n",
    "\n",
    "<img src=\"https://lms.skillfactory.ru/assets/courseware/v1/1139574a4ff70e02160e5ac6916a7f23/asset-v1:Skillfactory+DST-PRO+15APR2020+type@asset+block/MAT_1_%D0%BC%D0%BE%D0%B4%D1%83%D0%BB%D1%8C_56_3.png\" width=\"800px\">"
   ]
  },
  {
   "cell_type": "markdown",
   "metadata": {},
   "source": [
    "<img src=\"https://lms.skillfactory.ru/assets/courseware/v1/4ce0b03b2b0afde90da7060f91e9b623/asset-v1:Skillfactory+DST-PRO+15APR2020+type@asset+block/MAT_1_%D0%BC%D0%BE%D0%B4%D1%83%D0%BB%D1%8C_56_4.png\" width=\"600px\">"
   ]
  },
  {
   "cell_type": "code",
   "execution_count": 42,
   "metadata": {},
   "outputs": [
    {
     "data": {
      "text/plain": [
       "0"
      ]
     },
     "execution_count": 42,
     "metadata": {},
     "output_type": "execute_result"
    }
   ],
   "source": [
    "A = np.matrix('1,-1,2,4,0;8,2,0,5,3;0,1,2,1,2')\n",
    "B = np.matrix('1,0,1,1;0,0,2,-1;1,0,1,1;0,1,1,1;1,1,0,-1')\n",
    "C=A*B\n",
    "C[2,3]"
   ]
  },
  {
   "cell_type": "markdown",
   "metadata": {},
   "source": [
    "<span style=\"color: orange; font-weight: bold; font-size:16pt\">Умножение на специальные матрицы</span>"
   ]
  },
  {
   "cell_type": "markdown",
   "metadata": {},
   "source": [
    "**Умножение на нулевую матрицу**\n",
    "\n",
    "\n",
    "<img src=\"https://lms.skillfactory.ru/assets/courseware/v1/a61384f7fc646f58f31feb4d36817ce4/asset-v1:Skillfactory+DST-PRO+15APR2020+type@asset+block/MAT_1_%D0%BC%D0%BE%D0%B4%D1%83%D0%BB%D1%8C_57.png\" width=\"600px\">\n",
    "\n",
    "<img src=\"https://lms.skillfactory.ru/assets/courseware/v1/660d85528b31647af7fd85c67399d42d/asset-v1:Skillfactory+DST-PRO+15APR2020+type@asset+block/MAT_1_%D0%BC%D0%BE%D0%B4%D1%83%D0%BB%D1%8C_57_1.png\" width=\"800px\">\n",
    "\n",
    "Нулевая матрица играет роль нуля не только в сложении, но в умножении матриц (независимо от порядка)."
   ]
  },
  {
   "cell_type": "markdown",
   "metadata": {},
   "source": [
    "**Умножение на единичную и шаровую матрицу**\n",
    "\n",
    "\n",
    "<img src=\"https://lms.skillfactory.ru/assets/courseware/v1/15038376a6188b1ec31388433d437829/asset-v1:Skillfactory+DST-PRO+15APR2020+type@asset+block/MAT_1_%D0%BC%D0%BE%D0%B4%D1%83%D0%BB%D1%8C_0003.png\" width=\"600px\">\n",
    "\n",
    "<img src=\"https://lms.skillfactory.ru/assets/courseware/v1/20522d61840b0652f9e3e29edcb01625/asset-v1:Skillfactory+DST-PRO+15APR2020+type@asset+block/MAT_1_%D0%BC%D0%BE%D0%B4%D1%83%D0%BB%D1%8C_57_4.png\" width=\"800px\">\n",
    "\n",
    "Единичная матрица играет роль единицы: при умножении на неё ничего не меняется. При умножении на шаровую матрицу каждый элемент матрицы A умножился на 2, что равносильно умножению матрицы A  на число 2.\n",
    "\n",
    "Единичная и шаровая матрицы перестановочны с любой квадратной матрицей, результат не зависит от порядка умножения."
   ]
  },
  {
   "cell_type": "markdown",
   "metadata": {},
   "source": [
    "**Умножение на диагональную матрицу**\n",
    "\n",
    "\n",
    "<img src=\"https://lms.skillfactory.ru/assets/courseware/v1/568919b8eed29adba2c040bd09e2ae47/asset-v1:Skillfactory+DST-PRO+15APR2020+type@asset+block/MAT_1_%D0%BC%D0%BE%D0%B4%D1%83%D0%BB%D1%8C_57_2.png\" width=\"600px\">\n",
    "\n",
    "<img src=\"https://lms.skillfactory.ru/assets/courseware/v1/87459b217a027912860ce73109c1b81f/asset-v1:Skillfactory+DST-PRO+15APR2020+type@asset+block/MAT_1_%D0%BC%D0%BE%D0%B4%D1%83%D0%BB%D1%8C_57_5.png\" width=\"800px\">\n",
    "\n",
    "\n",
    "Пример 2\n",
    "\n",
    "<img src=\"https://lms.skillfactory.ru/assets/courseware/v1/9da1c2384517e230729dc9960745af42/asset-v1:Skillfactory+DST-PRO+15APR2020+type@asset+block/MAT_1_%D0%BC%D0%BE%D0%B4%D1%83%D0%BB%D1%8C_0005.png\" width=\"600px\">\n",
    "\n",
    "<img src=\"https://lms.skillfactory.ru/assets/courseware/v1/7f2410ac742766d6608ac0e52e18bdfd/asset-v1:Skillfactory+DST-PRO+15APR2020+type@asset+block/MAT_1_%D0%BC%D0%BE%D0%B4%D1%83%D0%BB%D1%8C_57_7.png\" width=\"800px\">\n",
    "\n",
    "Диагональные матрицы неперестановочны с другими в общем случае. Но перестановочны между собой. Это их свойство будет активно использоваться при работе с матрицами ковариаций многомерных нормальных распределений."
   ]
  },
  {
   "cell_type": "markdown",
   "metadata": {},
   "source": [
    "Нулевая и единичная матрица играют роль нуля и единицы в матричном умножении.\n",
    "\n",
    "Умножение на шаровую матрицу — то же самое, что умножение на скаляр\n",
    "\n",
    " Умножение на диагональную матрицу даёт растяжение каждого столбца или строки в зависимости от порядка.\n",
    " \n",
    " Диагональные матрицы коммутируют между собой."
   ]
  },
  {
   "cell_type": "markdown",
   "metadata": {},
   "source": [
    "<span style=\"color: orange; font-weight: bold; font-size:16pt\">Делители нуля</span>"
   ]
  },
  {
   "cell_type": "markdown",
   "metadata": {},
   "source": [
    " Делители нуля — это специальные ненулевые элементы, которые дают ноль при умножении.\n",
    " \n",
    " <img src=\"https://lms.skillfactory.ru/assets/courseware/v1/d688da258c8ec157d4b377604d781406/asset-v1:Skillfactory+DST-PRO+15APR2020+type@asset+block/MAT_1_%D0%BC%D0%BE%D0%B4%D1%83%D0%BB%D1%8C_58.png\" width=\"800px\">\n",
    " \n",
    "  <img src=\"https://lms.skillfactory.ru/assets/courseware/v1/a1811d6a0e1760d91a0acb207cf07c79/asset-v1:Skillfactory+DST-PRO+15APR2020+type@asset+block/MAT_1_%D0%BC%D0%BE%D0%B4%D1%83%D0%BB%D1%8C_58_1.png\" width=\"800px\">\n",
    "  \n",
    "  Матрицы А и В — примеры делителей нуля."
   ]
  },
  {
   "cell_type": "markdown",
   "metadata": {},
   "source": [
    "<span style=\"color: orange; font-weight: bold; font-size:16pt\">1.14. Умножение и транспонирование матриця</span>"
   ]
  },
  {
   "cell_type": "markdown",
   "metadata": {},
   "source": [
    " <img src=\"https://lms.skillfactory.ru/assets/courseware/v1/71d801cf347455615f5a560a19d9a883/asset-v1:Skillfactory+DST-PRO+15APR2020+type@asset+block/MAT_1_%D0%BC%D0%BE%D0%B4%D1%83%D0%BB%D1%8C_59.png\" width=\"400px\">"
   ]
  },
  {
   "cell_type": "markdown",
   "metadata": {},
   "source": [
    "**Матрица Грама**\n",
    "\n",
    " Матрицей Грама системы векторов называется матрица, составленная из их скалярных произведений.\n",
    " \n",
    "  <img src=\"https://lms.skillfactory.ru/assets/courseware/v1/3257f47d8cb4d83c724422b8264568f8/asset-v1:Skillfactory+DST-PRO+15APR2020+type@asset+block/MAT_1_%D0%BC%D0%BE%D0%B4%D1%83%D0%BB%D1%8C_60_1.png\" width=\"400px\">\n",
    "  \n",
    "  <img src=\"https://lms.skillfactory.ru/assets/courseware/v1/c6ad51558b9fd49648e1682349202018/asset-v1:Skillfactory+DST-PRO+15APR2020+type@asset+block/MAT_1_%D0%BC%D0%BE%D0%B4%D1%83%D0%BB%D1%8C_60_2.png\" width=\"400px\">\n",
    "  \n",
    "  Матрица скалярных произведений строк матрицы Х или матрица Грама для векторов (1, 1), (1, 2) и (0, -1).\n",
    " \n",
    "<img src=\"https://lms.skillfactory.ru/assets/courseware/v1/4ee8d93b553fcc043082c18a5ff660d4/asset-v1:Skillfactory+DST-PRO+15APR2020+type@asset+block/MAT_1_%D0%BC%D0%BE%D0%B4%D1%83%D0%BB%D1%8C_0002.png\" width=\"400px\">\n",
    "\n",
    "Матрица скалярных произведений столбцов матрицы Х или матрица Грама для векторов (1, 1, 0) и (1, 2, -1).\n",
    "\n",
    "Как видите, обе матрицы Грама симметричны. Забегая вперёд отметим, что матрица Грама системы векторов всегда имеет вещественные собственные числа и диагонализируется, а если векторы линейно независимы, то ещё и обратима. Этим мы будем пользоваться при построении и апгрейдах модели линейной регрессии.\n",
    "\n",
    "Матрицы Х и ХТ можно умножать в любом порядке. В обоих случаях получится симметричная квадратная матрица."
   ]
  },
  {
   "cell_type": "markdown",
   "metadata": {},
   "source": [
    "<span style=\"color: orange; font-weight: bold; font-size:16pt\">1.15. --> Практика. Умножение матриц</span>"
   ]
  },
  {
   "cell_type": "code",
   "execution_count": 5,
   "metadata": {},
   "outputs": [],
   "source": [
    "# произведение матриц\n",
    "A = np.random.randint(5,12,(3,3))\n",
    "B = np.random.randint(-2,4,(3,3))"
   ]
  },
  {
   "cell_type": "code",
   "execution_count": 6,
   "metadata": {},
   "outputs": [
    {
     "data": {
      "text/plain": [
       "array([[10,  5, 10],\n",
       "       [ 5,  8, 11],\n",
       "       [11, 10, 10]])"
      ]
     },
     "execution_count": 6,
     "metadata": {},
     "output_type": "execute_result"
    }
   ],
   "source": [
    "A"
   ]
  },
  {
   "cell_type": "code",
   "execution_count": 7,
   "metadata": {},
   "outputs": [
    {
     "data": {
      "text/plain": [
       "array([[-2, -2,  0],\n",
       "       [-2,  2,  3],\n",
       "       [ 1, -1, -2]])"
      ]
     },
     "execution_count": 7,
     "metadata": {},
     "output_type": "execute_result"
    }
   ],
   "source": [
    "B"
   ]
  },
  {
   "cell_type": "code",
   "execution_count": 8,
   "metadata": {},
   "outputs": [
    {
     "data": {
      "text/plain": [
       "array([[-20, -10,   0],\n",
       "       [-10,  16,  33],\n",
       "       [ 11, -10, -20]])"
      ]
     },
     "execution_count": 8,
     "metadata": {},
     "output_type": "execute_result"
    }
   ],
   "source": [
    "# Поэлементное умножение\n",
    "A*B"
   ]
  },
  {
   "cell_type": "code",
   "execution_count": 9,
   "metadata": {},
   "outputs": [
    {
     "name": "stdout",
     "output_type": "stream",
     "text": [
      "[[-20 -20  -5]\n",
      " [-15  -5   2]\n",
      " [-32 -12  10]]\n"
     ]
    }
   ],
   "source": [
    "# тип np.matrix\n",
    "A_m=np.matrix(A)\n",
    "B_m=np.matrix(B)\n",
    "print(A_m*B_m)"
   ]
  },
  {
   "cell_type": "code",
   "execution_count": 10,
   "metadata": {},
   "outputs": [
    {
     "data": {
      "text/plain": [
       "array([[-20, -20,  -5],\n",
       "       [-15,  -5,   2],\n",
       "       [-32, -12,  10]])"
      ]
     },
     "execution_count": 10,
     "metadata": {},
     "output_type": "execute_result"
    }
   ],
   "source": [
    "# Матричное умножение\n",
    "np.dot(A,B)"
   ]
  },
  {
   "cell_type": "code",
   "execution_count": 11,
   "metadata": {},
   "outputs": [
    {
     "data": {
      "text/plain": [
       "array([[-20, -20,  -5],\n",
       "       [-15,  -5,   2],\n",
       "       [-32, -12,  10]])"
      ]
     },
     "execution_count": 11,
     "metadata": {},
     "output_type": "execute_result"
    }
   ],
   "source": [
    "# Матричное умножение\n",
    "A@B"
   ]
  },
  {
   "cell_type": "code",
   "execution_count": 12,
   "metadata": {},
   "outputs": [
    {
     "data": {
      "text/plain": [
       "array([[-30, -26, -42],\n",
       "       [ 23,  36,  32],\n",
       "       [-17, -23, -21]])"
      ]
     },
     "execution_count": 12,
     "metadata": {},
     "output_type": "execute_result"
    }
   ],
   "source": [
    "# Порядок умножения AB != BA\n",
    "B@A"
   ]
  },
  {
   "cell_type": "code",
   "execution_count": 13,
   "metadata": {},
   "outputs": [
    {
     "name": "stdout",
     "output_type": "stream",
     "text": [
      "A:\n",
      " [[ 9 10  8  8  5]\n",
      " [ 7  7  8 11  7]\n",
      " [ 8  5 11  8  6]]\n",
      "B:\n",
      " [[-1  0]\n",
      " [-1  0]\n",
      " [ 1  1]\n",
      " [ 1  3]\n",
      " [ 0  3]]\n"
     ]
    }
   ],
   "source": [
    "# Умножение прямоугольных матриц возможно не в любом порядке\n",
    "A=np.random.randint(5, 12, (3,5))\n",
    "B=np.random.randint(-2, 4, (5,2))\n",
    "print('A:\\n',A)\n",
    "print('B:\\n',B)"
   ]
  },
  {
   "cell_type": "code",
   "execution_count": 14,
   "metadata": {},
   "outputs": [
    {
     "data": {
      "text/plain": [
       "array([[-3, 47],\n",
       "       [ 5, 62],\n",
       "       [ 6, 53]])"
      ]
     },
     "execution_count": 14,
     "metadata": {},
     "output_type": "execute_result"
    }
   ],
   "source": [
    "# Умножение прямоугольных матриц возможно не в любом порядке\n",
    "A@B"
   ]
  },
  {
   "cell_type": "code",
   "execution_count": 15,
   "metadata": {},
   "outputs": [
    {
     "ename": "ValueError",
     "evalue": "matmul: Input operand 1 has a mismatch in its core dimension 0, with gufunc signature (n?,k),(k,m?)->(n?,m?) (size 3 is different from 2)",
     "output_type": "error",
     "traceback": [
      "\u001b[1;31m---------------------------------------------------------------------------\u001b[0m",
      "\u001b[1;31mValueError\u001b[0m                                Traceback (most recent call last)",
      "\u001b[1;32m<ipython-input-15-776a30abbcf0>\u001b[0m in \u001b[0;36m<module>\u001b[1;34m\u001b[0m\n\u001b[0;32m      1\u001b[0m \u001b[1;31m# Умножение прямоугольных матриц возможно не в любом порядке\u001b[0m\u001b[1;33m\u001b[0m\u001b[1;33m\u001b[0m\u001b[1;33m\u001b[0m\u001b[0m\n\u001b[1;32m----> 2\u001b[1;33m \u001b[0mB\u001b[0m\u001b[1;33m@\u001b[0m\u001b[0mA\u001b[0m\u001b[1;33m\u001b[0m\u001b[1;33m\u001b[0m\u001b[0m\n\u001b[0m",
      "\u001b[1;31mValueError\u001b[0m: matmul: Input operand 1 has a mismatch in its core dimension 0, with gufunc signature (n?,k),(k,m?)->(n?,m?) (size 3 is different from 2)"
     ]
    }
   ],
   "source": [
    "# Умножение прямоугольных матриц возможно не в любом порядке\n",
    "B@A"
   ]
  },
  {
   "cell_type": "code",
   "execution_count": 16,
   "metadata": {},
   "outputs": [
    {
     "name": "stdout",
     "output_type": "stream",
     "text": [
      "shape of A: (3, 5)\n",
      "shape of B: (5, 2)\n",
      "shape of AB: (3, 2)\n"
     ]
    }
   ],
   "source": [
    "# размер произведения матриц\n",
    "print('shape of A:', np.shape(A))\n",
    "print('shape of B:', np.shape(B))\n",
    "print('shape of AB:', np.shape(A@B))"
   ]
  },
  {
   "cell_type": "code",
   "execution_count": 17,
   "metadata": {},
   "outputs": [
    {
     "name": "stdout",
     "output_type": "stream",
     "text": [
      "A:\n",
      " [[ 1 -1  3 -3]\n",
      " [ 3 -3 -4  0]\n",
      " [-2 -4 -1 -2]\n",
      " [-3 -3 -4  3]]\n",
      "D:\n",
      " [[ 1  0  0  0]\n",
      " [ 0  2  0  0]\n",
      " [ 0  0  0  0]\n",
      " [ 0  0  0 -1]]\n",
      "AD:\n",
      " [[ 1 -2  0  3]\n",
      " [ 3 -6  0  0]\n",
      " [-2 -8  0  2]\n",
      " [-3 -6  0 -3]]\n",
      "DA:\n",
      " [[ 1 -1  3 -3]\n",
      " [ 6 -6 -8  0]\n",
      " [ 0  0  0  0]\n",
      " [ 3  3  4 -3]]\n"
     ]
    }
   ],
   "source": [
    "# умножение на специальные матрицы\n",
    "A=np.random.randint(-4, 4, (4,4))\n",
    "D=np.diag([1,2,0,-1])\n",
    "print('A:\\n',A)\n",
    "print('D:\\n',D)\n",
    "print('AD:\\n',A@D)\n",
    "print('DA:\\n',D@A)"
   ]
  },
  {
   "cell_type": "code",
   "execution_count": 18,
   "metadata": {},
   "outputs": [
    {
     "data": {
      "text/plain": [
       "array([2, 6])"
      ]
     },
     "execution_count": 18,
     "metadata": {},
     "output_type": "execute_result"
    }
   ],
   "source": [
    "# умножение на одномерный массив numpy\n",
    "A=np.array([[1,0,1],[1,1,1]])\n",
    "b=np.array([-3,4,5])\n",
    "A@b"
   ]
  },
  {
   "cell_type": "code",
   "execution_count": 23,
   "metadata": {},
   "outputs": [
    {
     "name": "stdout",
     "output_type": "stream",
     "text": [
      "[[ 1  1  1]\n",
      " [ 1  0 -1]\n",
      " [-1  2 -1]] <class 'numpy.ndarray'>\n"
     ]
    }
   ],
   "source": [
    "# матрица Грама ортогональной системы векторов\n",
    "x=np.array([1,1,1])\n",
    "y=np.array([1,0,-1])\n",
    "z=np.array([-1,2,-1])\n",
    "A=np.array([x,y,z])\n",
    "print (A, type(A))"
   ]
  },
  {
   "cell_type": "code",
   "execution_count": 24,
   "metadata": {},
   "outputs": [
    {
     "data": {
      "text/plain": [
       "array([[3, 0, 0],\n",
       "       [0, 2, 0],\n",
       "       [0, 0, 6]])"
      ]
     },
     "execution_count": 24,
     "metadata": {},
     "output_type": "execute_result"
    }
   ],
   "source": [
    "# матрица Грама ортогональной системы векторов\n",
    "A@A.T\n",
    "# Система векторов xyz является ортогональной"
   ]
  },
  {
   "cell_type": "code",
   "execution_count": 25,
   "metadata": {},
   "outputs": [
    {
     "name": "stdout",
     "output_type": "stream",
     "text": [
      "[[ 0.57735027  0.57735027  0.57735027]\n",
      " [ 0.70710678  0.         -0.70710678]\n",
      " [-0.40824829  0.81649658 -0.40824829]] <class 'numpy.ndarray'>\n"
     ]
    }
   ],
   "source": [
    "# матрица Грама ортонормированной системы векторов\n",
    "x_norm=x/np.linalg.norm(x)\n",
    "y_norm=y/np.linalg.norm(y)\n",
    "z_norm=z/np.linalg.norm(z)\n",
    "A_norm=np.array([x_norm,y_norm,z_norm])\n",
    "print (A_norm, type(A_norm))"
   ]
  },
  {
   "cell_type": "code",
   "execution_count": 26,
   "metadata": {},
   "outputs": [
    {
     "data": {
      "text/plain": [
       "array([[ 1.00000000e+00, -1.77961928e-17,  1.66584120e-17],\n",
       "       [-1.77961928e-17,  1.00000000e+00, -2.45142679e-17],\n",
       "       [ 1.66584120e-17, -2.45142679e-17,  1.00000000e+00]])"
      ]
     },
     "execution_count": 26,
     "metadata": {},
     "output_type": "execute_result"
    }
   ],
   "source": [
    "# матрица Грама ортонормированной системы векторов\n",
    "A_norm@A_norm.T"
   ]
  },
  {
   "cell_type": "code",
   "execution_count": 27,
   "metadata": {},
   "outputs": [
    {
     "data": {
      "text/plain": [
       "array([[ 1., -0.,  0.],\n",
       "       [-0.,  1., -0.],\n",
       "       [ 0., -0.,  1.]])"
      ]
     },
     "execution_count": 27,
     "metadata": {},
     "output_type": "execute_result"
    }
   ],
   "source": [
    "# ортонормированные системы рулят! :)\n",
    "np.round(A_norm@A_norm.T,1)"
   ]
  },
  {
   "cell_type": "markdown",
   "metadata": {},
   "source": [
    "<span style=\"color: red; font-weight: bold; font-size:12pt\"> Задача 1. Условие</span>\n",
    "\n",
    "Даны матрица A и вектор x ."
   ]
  },
  {
   "cell_type": "code",
   "execution_count": 28,
   "metadata": {},
   "outputs": [
    {
     "name": "stdout",
     "output_type": "stream",
     "text": [
      "[[ 5 -1  3  1  2]\n",
      " [-2  8  5 -1  1]]\n",
      "[1 2 3 4 5]\n"
     ]
    }
   ],
   "source": [
    "A = np.array([[5,-1,3,1,2], [-2,8,5,-1,1]])\n",
    "x = np.array([1,2,3,4,5])\n",
    "print(A)\n",
    "print(x)"
   ]
  },
  {
   "cell_type": "code",
   "execution_count": 32,
   "metadata": {},
   "outputs": [
    {
     "data": {
      "text/plain": [
       "array([26, 30])"
      ]
     },
     "execution_count": 32,
     "metadata": {},
     "output_type": "execute_result"
    }
   ],
   "source": [
    "# Найдите произведение матрицы A и вектора x  в том порядке, в котором их можно умножить.\n",
    "A@x"
   ]
  },
  {
   "cell_type": "markdown",
   "metadata": {},
   "source": [
    "<span style=\"color: red; font-weight: bold; font-size:12pt\"> Задача 2. Условие</span>\n"
   ]
  },
  {
   "cell_type": "code",
   "execution_count": 37,
   "metadata": {},
   "outputs": [
    {
     "name": "stdout",
     "output_type": "stream",
     "text": [
      "A:\n",
      " (5, 4)\n",
      "B:\n",
      " (2, 5)\n"
     ]
    }
   ],
   "source": [
    "A=np.array( [ [1,9,8,5] , [3,6,3,2] , [3,3,3,3], [0,2,5,9], [4,4,1,2] ] )\n",
    "B=np.array( [ [1,-1,0,1,1] , [-2,0,2,-1,1] ] )\n",
    "print(f'A:\\n {np.shape(A)}')\n",
    "print(f'B:\\n {np.shape(B)}')"
   ]
  },
  {
   "cell_type": "code",
   "execution_count": 42,
   "metadata": {},
   "outputs": [
    {
     "data": {
      "text/plain": [
       "array([[  2,   9,  11,  14],\n",
       "       [  8, -10, -14, -11]])"
      ]
     },
     "execution_count": 42,
     "metadata": {},
     "output_type": "execute_result"
    }
   ],
   "source": [
    "# Найдите произведение матриц A и B в том порядке, в котором их можно умножить.\n",
    "B@A"
   ]
  },
  {
   "cell_type": "markdown",
   "metadata": {},
   "source": [
    "<span style=\"color: red; font-weight: bold; font-size:12pt\"> Задача 3. Условие</span>\n"
   ]
  },
  {
   "cell_type": "code",
   "execution_count": 44,
   "metadata": {},
   "outputs": [],
   "source": [
    "x = np.array([1,2,1,0,4])\n",
    "y = np.array([2,1,-1,1,0])\n",
    "z = np.array([-1,1,-1,0,0])"
   ]
  },
  {
   "cell_type": "code",
   "execution_count": 47,
   "metadata": {},
   "outputs": [
    {
     "data": {
      "text/plain": [
       "array([[22,  3,  0],\n",
       "       [ 3,  7,  0],\n",
       "       [ 0,  0,  3]])"
      ]
     },
     "execution_count": 47,
     "metadata": {},
     "output_type": "execute_result"
    }
   ],
   "source": [
    "# Найдите матрицу Грама системы векторов \n",
    "\n",
    "sys = np.array([x,y,z])\n",
    "sys@sys.T\n"
   ]
  },
  {
   "cell_type": "markdown",
   "metadata": {},
   "source": [
    "<span style=\"color: red; font-weight: bold; font-size:12pt\"> Задача 4. Условие</span>\n",
    "\n",
    "В салоне красоты «Феи ножниц» работает 8 стилистов: Аня, Борис, Вика, Галя, Дима, Егор, Женя и Юра.\n",
    "\n",
    "В dataframe Count_DF содержится информация по количеству услуг, оказанных каждым стилистом за апрель.\n",
    "\n",
    "В dataframe Price_DF содержится информация по стоимости услуг у каждого стилиста в тысячах рублей."
   ]
  },
  {
   "cell_type": "code",
   "execution_count": 76,
   "metadata": {},
   "outputs": [],
   "source": [
    "count_df = pd.DataFrame({'Женские стрижки': [10, 2, 12, 4, 6, 10, 22, 7], \n",
    "                                'Мужские стрижки': [5, 21, 12, 8, 25, 3, 1, 0], \n",
    "                                'Окрашивания':[12, 3, 0, 18, 27, 2, 4, 31],\n",
    "                              'Укладка':[15, 25, 30, 14, 25, 17, 25, 31],\n",
    "                                'Уход':[10, 6, 4, 5, 18, 12, 20, 28]\n",
    "                                }, \n",
    "                               index=['Аня', 'Борис', 'Вика', 'Галя', 'Дима', 'Егор', 'Женя','Юра'])\n",
    "price_df = pd.DataFrame({'Женские стрижки': [2, 1.8, 2, 1.8, 2.5, 5, 1.1, 4.5], \n",
    "                                'Мужские стрижки': [1.5, 2.5, 2, 1.2, 3.5, 5, 1, 4], \n",
    "                                'Окрашивания':[1, 1, 0, 2.8, 2, 3, 1.5, 2.5],\n",
    "                              'Укладка':[0.8, 1, 0.5, 0.8, 1, 2, 0.5, 1],\n",
    "                                'Уход':[1, 1, 2, 2, 1.5, 2.5, 1.7, 2] \n",
    "                                }, \n",
    "                               index=['Аня', 'Борис', 'Вика', 'Галя', 'Дима', 'Егор', 'Женя','Юра'])"
   ]
  },
  {
   "cell_type": "code",
   "execution_count": 63,
   "metadata": {},
   "outputs": [],
   "source": [
    "count = count_df.values\n",
    "price = price_df.values"
   ]
  },
  {
   "cell_type": "code",
   "execution_count": 74,
   "metadata": {},
   "outputs": [
    {
     "data": {
      "text/plain": [
       "array([[ 3.6, 52.5,  3. , 25. ,  6. ]])"
      ]
     },
     "execution_count": 74,
     "metadata": {},
     "output_type": "execute_result"
    }
   ],
   "source": [
    "#  Найдите вектор выручки Бориса. V1\n",
    "b_c = count[1:2]\n",
    "b_p = price[1:2]\n",
    "\n",
    "b_c*b_p\n"
   ]
  },
  {
   "cell_type": "code",
   "execution_count": 68,
   "metadata": {},
   "outputs": [
    {
     "data": {
      "text/plain": [
       "array([ 3.6, 52.5,  3. , 25. ,  6. ])"
      ]
     },
     "execution_count": 68,
     "metadata": {},
     "output_type": "execute_result"
    }
   ],
   "source": [
    "# V2\n",
    "boris_inc = count[1]*price[1]\n",
    "boris_inc"
   ]
  },
  {
   "cell_type": "code",
   "execution_count": 82,
   "metadata": {},
   "outputs": [
    {
     "data": {
      "text/plain": [
       "array([11.3 , 15.22, 11.9 , 20.6 , 41.9 , 21.2 , 11.49, 38.25])"
      ]
     },
     "execution_count": 82,
     "metadata": {},
     "output_type": "execute_result"
    }
   ],
   "source": [
    "#Найдите вектор прибыли салона по стилистам, если за каждую услугу стилисты платят определенную комиссию салону.\n",
    "\n",
    "# Вектор комиссий com = [0.2, 0.2, 0.3, 0.1, 0.1]\n",
    "com = [0.2, 0.2, 0.3, 0.1, 0.1]\n",
    "summa = count*price\n",
    "summa@com"
   ]
  },
  {
   "cell_type": "code",
   "execution_count": 85,
   "metadata": {},
   "outputs": [
    {
     "data": {
      "text/plain": [
       "array([ 50.2 ,  74.88,  59.1 ,  67.8 , 166.6 , 113.8 ,  66.21, 157.75])"
      ]
     },
     "execution_count": 85,
     "metadata": {},
     "output_type": "execute_result"
    }
   ],
   "source": [
    "# Найдите вектор прибыли стилистов\n",
    "summa@(np.ones(5)-com)"
   ]
  },
  {
   "cell_type": "code",
   "execution_count": 86,
   "metadata": {},
   "outputs": [],
   "source": [
    "styl = (price*count)@(np.ones(5)-com)"
   ]
  },
  {
   "cell_type": "code",
   "execution_count": 87,
   "metadata": {},
   "outputs": [
    {
     "data": {
      "text/plain": [
       "array([ 50.2 ,  74.88,  59.1 ,  67.8 , 166.6 , 113.8 ,  66.21, 157.75])"
      ]
     },
     "execution_count": 87,
     "metadata": {},
     "output_type": "execute_result"
    }
   ],
   "source": [
    "styl"
   ]
  },
  {
   "cell_type": "markdown",
   "metadata": {},
   "source": [
    "<span style=\"color: orange; font-weight: bold; font-size:16pt\">1.16. Обратная матрица</span>"
   ]
  },
  {
   "cell_type": "markdown",
   "metadata": {},
   "source": [
    "<img src=\"https://lms.skillfactory.ru/assets/courseware/v1/676f50037d58ec7c52b561b59ca254f3/asset-v1:Skillfactory+DST-PRO+15APR2020+type@asset+block/MAT_1_%D0%BC%D0%BE%D0%B4%D1%83%D0%BB%D1%8C_52_10.png\" width=\"400px\">\n",
    "\n",
    "<img src=\"https://lms.skillfactory.ru/assets/courseware/v1/cea7d817f44b427ae34a8146a1281a8a/asset-v1:Skillfactory+DST-PRO+15APR2020+type@asset+block/MAT_1_%D0%BC%D0%BE%D0%B4%D1%83%D0%BB%D1%8C_61_4.png\" width=\"600px\">\n",
    "\n",
    "Перед нами встаёт задача научиться подбирать такую матрицу, которая даст в произведении с исходной единичную.\n",
    "\n",
    "<img src=\"https://lms.skillfactory.ru/assets/courseware/v1/ffd1b918b252b083c3d7eaf8df852096/asset-v1:Skillfactory+DST-PRO+15APR2020+type@asset+block/MAT_1_%D0%BC%D0%BE%D0%B4%D1%83%D0%BB%D1%8C_61_5.png\" width=\"400px\">\n",
    "\n",
    "Умножим справа:\n",
    "\n",
    "<img src=\"https://lms.skillfactory.ru/assets/courseware/v1/c190979eaba857e6a6c497ae91f381ff/asset-v1:Skillfactory+DST-PRO+15APR2020+type@asset+block/MAT_1_%D0%BC%D0%BE%D0%B4%D1%83%D0%BB%D1%8C_61_7.png\" width=\"300px\">\n",
    "\n",
    "Умножим слева:\n",
    "\n",
    "<img src=\"https://lms.skillfactory.ru/assets/courseware/v1/ec336f28d2385d8864f52e24356aa391/asset-v1:Skillfactory+DST-PRO+15APR2020+type@asset+block/MAT_1_%D0%BC%D0%BE%D0%B4%D1%83%D0%BB%D1%8C_61_8.png\" width=\"300px\">"
   ]
  },
  {
   "cell_type": "markdown",
   "metadata": {},
   "source": [
    "Мы ответили на наш первый вопрос:\n",
    "<img src=\"https://lms.skillfactory.ru/assets/courseware/v1/403c707dc39b1a91404cfad2df03e0fc/asset-v1:Skillfactory+DST-PRO+15APR2020+type@asset+block/MAT_1_%D0%BC%D0%BE%D0%B4%D1%83%D0%BB%D1%8C_61_6.png\" width=\"300px\">"
   ]
  },
  {
   "cell_type": "markdown",
   "metadata": {},
   "source": [
    "<img src=\"https://lms.skillfactory.ru/assets/courseware/v1/b86395dbd33746495f02f97e3f607cd4/asset-v1:Skillfactory+DST-PRO+15APR2020+type@asset+block/MAT_1_%D0%BC%D0%BE%D0%B4%D1%83%D0%BB%D1%8C_62.png\" width=\"400px\">\n",
    "\n",
    "Решение:\n",
    "\n",
    "<img src=\"https://lms.skillfactory.ru/assets/courseware/v1/c6d75d48703c651285ba860523585388/asset-v1:Skillfactory+DST-PRO+15APR2020+type@asset+block/MAT_1_%D0%BC%D0%BE%D0%B4%D1%83%D0%BB%D1%8C_62_1.png\" width=\"800px\">\n",
    "\n",
    "\n",
    "<img src=\"https://lms.skillfactory.ru/assets/courseware/v1/3910c0399527f070b81c9e104cde2971/asset-v1:Skillfactory+DST-PRO+15APR2020+type@asset+block/MAT_1_%D0%BC%D0%BE%D0%B4%D1%83%D0%BB%D1%8C_62_2.png\" width=\"400px\">"
   ]
  },
  {
   "cell_type": "markdown",
   "metadata": {},
   "source": [
    "<span style=\"color: orange; font-weight: bold; font-size:16pt\">1.17. Определитель матрицы</span>\n",
    "\n",
    " Определитель матрицы — это число, специальная числовая характеристика квадратных матриц, которая является своего рода мерой вырожденности матрицы и для размерности 2 × 2 вычисляется по следующему правилу:\n",
    " \n",
    " <img src=\"https://lms.skillfactory.ru/assets/courseware/v1/ab4865170852c9aafa62cff53433bb3c/asset-v1:Skillfactory+DST-PRO+15APR2020+type@asset+block/MAT_1_%D0%BC%D0%BE%D0%B4%D1%83%D0%BB%D1%8C_63_3.png\" width=\"400px\">"
   ]
  },
  {
   "cell_type": "markdown",
   "metadata": {},
   "source": [
    "Если det (A) = 0, то:\n",
    "\n",
    "матрица А вырожденная;\n",
    "\n",
    "у матрицы А не существует обратной;\n",
    "\n",
    "столбцы и строки матрицы А линейно зависимы."
   ]
  },
  {
   "cell_type": "code",
   "execution_count": 92,
   "metadata": {},
   "outputs": [
    {
     "name": "stdout",
     "output_type": "stream",
     "text": [
      "7.999999999999998\n",
      "0.12500000000000003\n"
     ]
    }
   ],
   "source": [
    "A = np.matrix('2,0,0;0,1,0;0,0,4')\n",
    "print(np.linalg.det(A))\n",
    "A_1 = np.linalg.inv(A)\n",
    "print(np.linalg.det(A_1))"
   ]
  },
  {
   "cell_type": "markdown",
   "metadata": {},
   "source": [
    "<span style=\"color: orange; font-weight: bold; font-size:16pt\">1.17. Линейная (не)зависимость</span>"
   ]
  },
  {
   "cell_type": "markdown",
   "metadata": {},
   "source": [
    "***Как определить при помощи ранга, являются ли векторы линейно зависимыми***\n",
    "\n",
    "Ранг матрицы — количество линейно независимых столбцов.\n",
    "\n",
    "Ранг системы векторов — размерность этой системы. \n",
    "\n",
    "После преобразований матрицы к ступенчатому виду ранг равен количеству ступенек.\n",
    "\n",
    " <img src=\"https://lms.skillfactory.ru/assets/courseware/v1/5776b5add03dab6568992bf3cc7a283e/asset-v1:Skillfactory+DST-PRO+15APR2020+type@asset+block/MAT_1_unit_010.png\" width=\"400px\">\n",
    "\n",
    "Ранг системы векторов равен количеству линейно независимых векторов, т.е. размерности всей системы.\n",
    "\n",
    "Чтобы исследовать систему векторов на линейную зависимость / независимость с помощью ранга, достаточно записать эти векторы в матрицу по столбцам и найти ранг полученной матрицы. Ранг будет равен количеству линейно независимых векторов в системе.\n",
    "\n",
    "Базис — максимальная линейно независимая подсистема векторов.\n",
    "\n",
    "В системе векторов можно выбрать ровно столько линейно независимых векторов, какой у нее ранг.\n",
    "\n",
    "Базис матрицы — максимальная линейно независимая подсистема столбцов матрицы.\n",
    "\n",
    "\n"
   ]
  },
  {
   "cell_type": "markdown",
   "metadata": {},
   "source": [
    "<span style=\"color: orange; font-weight: bold; font-size:16pt\">1.20. --> Практика. Обратная матрица, ранг, определитель</span>"
   ]
  },
  {
   "cell_type": "code",
   "execution_count": 99,
   "metadata": {},
   "outputs": [
    {
     "name": "stdout",
     "output_type": "stream",
     "text": [
      "A1:\n",
      " [[ 1  2  3]\n",
      " [ 4  5  6]\n",
      " [ 7  8 10]]\n"
     ]
    }
   ],
   "source": [
    "# обратная матрица - все ок\n",
    "A1=np.array([[1,2,3],[4,5,6],[7,8,10]])\n",
    "print('A1:\\n',A1)"
   ]
  },
  {
   "cell_type": "code",
   "execution_count": 100,
   "metadata": {},
   "outputs": [
    {
     "name": "stdout",
     "output_type": "stream",
     "text": [
      "rk(A3):\n",
      " 3\n"
     ]
    }
   ],
   "source": [
    "print('rk(A3):\\n',np.linalg.matrix_rank(A1))"
   ]
  },
  {
   "cell_type": "code",
   "execution_count": 101,
   "metadata": {},
   "outputs": [
    {
     "name": "stdout",
     "output_type": "stream",
     "text": [
      "A1 inversed:\n",
      " [[-0.66666667 -1.33333333  1.        ]\n",
      " [-0.66666667  3.66666667 -2.        ]\n",
      " [ 1.         -2.          1.        ]]\n"
     ]
    }
   ],
   "source": [
    "# обратная матрица - все ок\n",
    "A1_inv=np.linalg.inv(A1)\n",
    "print('A1 inversed:\\n',A1_inv)\n"
   ]
  },
  {
   "cell_type": "code",
   "execution_count": 102,
   "metadata": {},
   "outputs": [
    {
     "name": "stdout",
     "output_type": "stream",
     "text": [
      "A1 @ A1 inversed=E check:\n",
      " [[ 1.00000000e+00 -4.44089210e-16 -1.11022302e-16]\n",
      " [ 4.44089210e-16  1.00000000e+00 -2.22044605e-16]\n",
      " [ 4.44089210e-16  8.88178420e-16  1.00000000e+00]] 1\n",
      "[[ 1. -0. -0.]\n",
      " [ 0.  1. -0.]\n",
      " [ 0.  0.  1.]]\n",
      "check OK\n"
     ]
    }
   ],
   "source": [
    "# обратная матрица - все ок\n",
    "print('A1 @ A1 inversed=E check:\\n',A1@A1_inv,1)\n",
    "print(np.round(A1@A1_inv,1))\n",
    "print('check OK')"
   ]
  },
  {
   "cell_type": "code",
   "execution_count": 103,
   "metadata": {},
   "outputs": [
    {
     "name": "stdout",
     "output_type": "stream",
     "text": [
      "A2:\n",
      " [[1 2 3]\n",
      " [4 5 6]\n",
      " [1 2 3]]\n"
     ]
    }
   ],
   "source": [
    "# обратная матрица - вырожденный случай\n",
    "A2=np.array([[1,2,3],[4,5,6],[1,2,3]])\n",
    "print('A2:\\n',A2)"
   ]
  },
  {
   "cell_type": "code",
   "execution_count": 104,
   "metadata": {},
   "outputs": [
    {
     "name": "stdout",
     "output_type": "stream",
     "text": [
      "rk(A3):\n",
      " 2\n"
     ]
    }
   ],
   "source": [
    "# обратная матрица - вырожденный случай\n",
    "print('rk(A3):\\n',np.linalg.matrix_rank(A2))"
   ]
  },
  {
   "cell_type": "code",
   "execution_count": 106,
   "metadata": {},
   "outputs": [],
   "source": [
    "# обратная матрица - вырожденный случай\n",
    "#np.linalg.inv(A2)"
   ]
  },
  {
   "cell_type": "code",
   "execution_count": 107,
   "metadata": {},
   "outputs": [
    {
     "name": "stdout",
     "output_type": "stream",
     "text": [
      "A3:\n",
      " [[1 2 3]\n",
      " [4 5 6]\n",
      " [7 8 9]]\n"
     ]
    }
   ],
   "source": [
    "# обратная матрица - magic\n",
    "A3=np.array([[1,2,3],[4,5,6],[7,8,9]])\n",
    "print('A3:\\n',A3)"
   ]
  },
  {
   "cell_type": "code",
   "execution_count": 108,
   "metadata": {},
   "outputs": [
    {
     "name": "stdout",
     "output_type": "stream",
     "text": [
      "rk(A3):\n",
      " 2\n"
     ]
    }
   ],
   "source": [
    "# обратная матрица - magic\n",
    "print('rk(A3):\\n',np.linalg.matrix_rank(A3))"
   ]
  },
  {
   "cell_type": "code",
   "execution_count": 109,
   "metadata": {},
   "outputs": [
    {
     "name": "stdout",
     "output_type": "stream",
     "text": [
      "A3 inversed:\n",
      " [[ 3.15251974e+15 -6.30503948e+15  3.15251974e+15]\n",
      " [-6.30503948e+15  1.26100790e+16 -6.30503948e+15]\n",
      " [ 3.15251974e+15 -6.30503948e+15  3.15251974e+15]]\n"
     ]
    }
   ],
   "source": [
    "# обратная матрица - magic\n",
    "print('A3 inversed:\\n',np.linalg.inv(A3))"
   ]
  },
  {
   "cell_type": "code",
   "execution_count": 110,
   "metadata": {},
   "outputs": [
    {
     "name": "stdout",
     "output_type": "stream",
     "text": [
      "A3 @ A3 inversed = E check:\n",
      " [[ 0.   1.  -0.5]\n",
      " [ 0.   2.  -1. ]\n",
      " [ 0.   3.   2.5]]\n",
      "check failed\n"
     ]
    }
   ],
   "source": [
    "# обратная матрица - magic\n",
    "print('A3 @ A3 inversed = E check:\\n',A3@np.linalg.inv(A3))\n",
    "print('check failed')"
   ]
  },
  {
   "cell_type": "code",
   "execution_count": 111,
   "metadata": {},
   "outputs": [
    {
     "name": "stdout",
     "output_type": "stream",
     "text": [
      "det(A1)):\n",
      " -3.000000000000001\n",
      "det(A2)):\n",
      " 0.0\n",
      "det(A3)):\n",
      " -9.51619735392994e-16\n"
     ]
    }
   ],
   "source": [
    "print('det(A1)):\\n',np.linalg.det(A1))\n",
    "print('det(A2)):\\n',np.linalg.det(A2))\n",
    "print('det(A3)):\\n',np.linalg.det(A3))"
   ]
  },
  {
   "cell_type": "markdown",
   "metadata": {},
   "source": [
    "<span style=\"color: red; font-weight: bold; font-size:12pt\"> Задача 1. Условие</span>"
   ]
  },
  {
   "cell_type": "code",
   "execution_count": 113,
   "metadata": {},
   "outputs": [],
   "source": [
    "A=np.array( [[ 8 , 6 ,11],[ 7 , 5 , 9],[ 6 ,10,  6]])"
   ]
  },
  {
   "cell_type": "code",
   "execution_count": 115,
   "metadata": {},
   "outputs": [
    {
     "data": {
      "text/plain": [
       "array([[-1.875  ,  2.3125 , -0.03125],\n",
       "       [ 0.375  , -0.5625 ,  0.15625],\n",
       "       [ 1.25   , -1.375  , -0.0625 ]])"
      ]
     },
     "execution_count": 115,
     "metadata": {},
     "output_type": "execute_result"
    }
   ],
   "source": [
    "# Найдите обратную матрицу к матрице А.\n",
    "inv = np.linalg.inv(A)\n",
    "inv"
   ]
  },
  {
   "cell_type": "markdown",
   "metadata": {},
   "source": [
    "<span style=\"color: red; font-weight: bold; font-size:12pt\"> Задача 2. Условие</span>"
   ]
  },
  {
   "cell_type": "code",
   "execution_count": 119,
   "metadata": {},
   "outputs": [],
   "source": [
    "v1 = np.array([9, 10, 7, 7, 9])\n",
    "v2 = np.array([2, 0, 5, 1, 4])\n",
    "v3 = np.array([4, 0, 0, 4, 1])\n",
    "v4 = np.array([3, -4, 3, -1, -4])"
   ]
  },
  {
   "cell_type": "code",
   "execution_count": 125,
   "metadata": {},
   "outputs": [
    {
     "data": {
      "text/plain": [
       "4"
      ]
     },
     "execution_count": 125,
     "metadata": {},
     "output_type": "execute_result"
    }
   ],
   "source": [
    "# Найдите ранг системы векторов v1, v2, v3, v4.\n",
    "\n",
    "A = np.array([v1,v2,v3,v4])\n",
    "rank = np.linalg.matrix_rank(A)\n",
    "rank"
   ]
  },
  {
   "cell_type": "code",
   "execution_count": 126,
   "metadata": {},
   "outputs": [
    {
     "data": {
      "text/plain": [
       "array([[360,  96,  73, -35],\n",
       "       [ 96,  46,  16,   4],\n",
       "       [ 73,  16,  33,   4],\n",
       "       [-35,   4,   4,  51]])"
      ]
     },
     "execution_count": 126,
     "metadata": {},
     "output_type": "execute_result"
    }
   ],
   "source": [
    "gram = A@A.T\n",
    "gram"
   ]
  },
  {
   "cell_type": "code",
   "execution_count": 127,
   "metadata": {},
   "outputs": [
    {
     "data": {
      "text/plain": [
       "3716647.9999999995"
      ]
     },
     "execution_count": 127,
     "metadata": {},
     "output_type": "execute_result"
    }
   ],
   "source": [
    "# Найдите определитель матрицы Грама системы v1, v2, v3, v4.\n",
    "np.linalg.det(gram)"
   ]
  },
  {
   "cell_type": "code",
   "execution_count": 128,
   "metadata": {},
   "outputs": [
    {
     "data": {
      "text/plain": [
       "array([[ 0.01711488, -0.02798543, -0.02623063,  0.01599775],\n",
       "       [-0.02798543,  0.071967  ,  0.03031441, -0.02722776],\n",
       "       [-0.02623063,  0.03031441,  0.07683106, -0.02640498],\n",
       "       [ 0.01599775, -0.02722776, -0.02640498,  0.03479318]])"
      ]
     },
     "execution_count": 128,
     "metadata": {},
     "output_type": "execute_result"
    }
   ],
   "source": [
    "# Найдите обратную матрицу к матрице Грама системы v1, v2, v3, v4.\n",
    "np.linalg.inv(gram)"
   ]
  },
  {
   "cell_type": "code",
   "execution_count": null,
   "metadata": {},
   "outputs": [],
   "source": []
  }
 ],
 "metadata": {
  "kernelspec": {
   "display_name": "Python 3",
   "language": "python",
   "name": "python3"
  },
  "language_info": {
   "codemirror_mode": {
    "name": "ipython",
    "version": 3
   },
   "file_extension": ".py",
   "mimetype": "text/x-python",
   "name": "python",
   "nbconvert_exporter": "python",
   "pygments_lexer": "ipython3",
   "version": "3.8.3"
  }
 },
 "nbformat": 4,
 "nbformat_minor": 4
}
