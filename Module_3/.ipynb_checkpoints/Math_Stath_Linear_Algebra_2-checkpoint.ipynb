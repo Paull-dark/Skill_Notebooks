{
 "cells": [
  {
   "cell_type": "code",
   "execution_count": 26,
   "metadata": {},
   "outputs": [],
   "source": [
    "import numpy as np\n",
    "import matplotlib.pyplot as plt\n",
    "import math\n",
    "from mpl_toolkits.mplot3d import Axes3D\n",
    "from sympy import *"
   ]
  },
  {
   "cell_type": "markdown",
   "metadata": {},
   "source": [
    "Задание 2.6.3\n",
    "Найдите OLS оценку для коэффициентов w1, w2 СЛАУ\n",
    "\n",
    "<img src=\"https://lms.skillfactory.ru/assets/courseware/v1/383591e2497d4aa53bf3b92b3c5acdf5/asset-v1:Skillfactory+DST-PRO+15APR2020+type@asset+block/MAT_unit_2_013.jpg\" width=\"300px\">"
   ]
  },
  {
   "cell_type": "markdown",
   "metadata": {},
   "source": [
    "a) Вычислите матрицу Грама столбцов А: ATA ="
   ]
  },
  {
   "cell_type": "code",
   "execution_count": 12,
   "metadata": {},
   "outputs": [
    {
     "name": "stdout",
     "output_type": "stream",
     "text": [
      "Matrix Gram: [[12  0]\n",
      " [ 0 10]]\n",
      "\n",
      "Inverted Matrix Gram: [[0.08333333 0.        ]\n",
      " [0.         0.1       ]]\n",
      "\n"
     ]
    }
   ],
   "source": [
    "# create a matrix A\n",
    "A = np.array([[1,2],[-3,1],[1,2],[1,-1]])\n",
    "\n",
    "# create a vector b\n",
    "\n",
    "b = np.array([[1],[4],[5],[0]])\n",
    "\n",
    "Gram = A.T@A\n",
    "print(f'Matrix Gram: {Gram}')\n",
    "print('')\n",
    "\n",
    "# finf inverse matrix of Gram M\n",
    "Gram_inv = np.linalg.inv(Gram)\n",
    "print(f'Inverted Matrix Gram: {Gram_inv}')\n",
    "print('')\n"
   ]
  },
  {
   "cell_type": "markdown",
   "metadata": {},
   "source": [
    "Задание 2.6.3_3\n",
    "\n",
    "A.T@b"
   ]
  },
  {
   "cell_type": "code",
   "execution_count": 7,
   "metadata": {},
   "outputs": [],
   "source": [
    "ATb=A.T@b"
   ]
  },
  {
   "cell_type": "code",
   "execution_count": 11,
   "metadata": {},
   "outputs": [
    {
     "data": {
      "text/plain": [
       "array([[-0.5],\n",
       "       [ 1.6]])"
      ]
     },
     "execution_count": 11,
     "metadata": {},
     "output_type": "execute_result"
    }
   ],
   "source": [
    "# find coordinastes of vector w\n",
    "w_=Gram_inv@ATb \n",
    "w_"
   ]
  },
  {
   "cell_type": "code",
   "execution_count": 15,
   "metadata": {},
   "outputs": [
    {
     "name": "stdout",
     "output_type": "stream",
     "text": [
      "Vector b [[1 4 5 0]]\n",
      "Projection: [[ 2.7  3.1  2.7 -2.1]]\n",
      "Magnitide of projected vector: 5.347896782848375\n"
     ]
    }
   ],
   "source": [
    "# Option 2\n",
    "\n",
    "\n",
    "# vector b\n",
    "b = np.array([[1],[4],[5],[0]])\n",
    "\n",
    "# matrix A\n",
    "A = np.array([[1,2],[-3,1],[1,2],[1,-1]])\n",
    "\n",
    "\n",
    "# find vector Ax (projection of vector b)\n",
    "x = np.linalg.solve(A.T@A,A.T@b)\n",
    "Ax = A@x\n",
    "\n",
    "print(f'Vector b {b.T}')\n",
    "print(f'Projection: {Ax.T}')\n",
    "# Magnitude of vector projected vector Ax\n",
    "print(f'Magnitide of projected vector: {np.linalg.norm(Ax)}')"
   ]
  },
  {
   "cell_type": "code",
   "execution_count": 19,
   "metadata": {},
   "outputs": [
    {
     "name": "stdout",
     "output_type": "stream",
     "text": [
      "[[-1.7]\n",
      " [ 0.9]\n",
      " [ 2.3]\n",
      " [ 2.1]]\n",
      "3.660601043544625\n"
     ]
    }
   ],
   "source": [
    "# coordinates of vector the orthogonal to Ax vector (i.e error vector)\n",
    "err = b-Ax\n",
    "print(err)\n",
    "# length orthogonal to Ax vector\n",
    "print(np.linalg.norm(err))"
   ]
  },
  {
   "cell_type": "code",
   "execution_count": 21,
   "metadata": {},
   "outputs": [
    {
     "data": {
      "text/plain": [
       "array([[ 2.7],\n",
       "       [ 3.1],\n",
       "       [ 2.7],\n",
       "       [-2.1]])"
      ]
     },
     "execution_count": 21,
     "metadata": {},
     "output_type": "execute_result"
    }
   ],
   "source": [
    "Ax"
   ]
  },
  {
   "cell_type": "code",
   "execution_count": 28,
   "metadata": {},
   "outputs": [
    {
     "name": "stdout",
     "output_type": "stream",
     "text": [
      "[[1 0]\n",
      " [0 1]\n",
      " [0 0]]\n",
      " \n"
     ]
    }
   ],
   "source": [
    "# make some random matrices (using sympy package)\n",
    "A = Matrix(np.array([[1,2],[-3,1],[1,-1]]) )\n",
    "\n",
    "# compute RREF\n",
    "rrefA = A.rref()\n",
    "\n",
    "# print out the matrix and its rref\n",
    "print(np.array(rrefA[0]))\n",
    "print(' ')"
   ]
  },
  {
   "cell_type": "code",
   "execution_count": null,
   "metadata": {},
   "outputs": [],
   "source": []
  }
 ],
 "metadata": {
  "kernelspec": {
   "display_name": "Python 3",
   "language": "python",
   "name": "python3"
  },
  "language_info": {
   "codemirror_mode": {
    "name": "ipython",
    "version": 3
   },
   "file_extension": ".py",
   "mimetype": "text/x-python",
   "name": "python",
   "nbconvert_exporter": "python",
   "pygments_lexer": "ipython3",
   "version": "3.8.3"
  }
 },
 "nbformat": 4,
 "nbformat_minor": 4
}
