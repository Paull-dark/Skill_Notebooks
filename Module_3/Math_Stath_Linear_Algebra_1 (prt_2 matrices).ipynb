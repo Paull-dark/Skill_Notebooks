{
 "cells": [
  {
   "cell_type": "code",
   "execution_count": 1,
   "metadata": {},
   "outputs": [],
   "source": [
    "import numpy as np\n",
    "import pandas as pd"
   ]
  },
  {
   "cell_type": "markdown",
   "metadata": {},
   "source": [
    "<span style=\"color: orange; font-weight: bold; font-size:16pt\">1.9. Базовые действия над матрицами</span>"
   ]
  },
  {
   "cell_type": "markdown",
   "metadata": {},
   "source": [
    "**Сложение матриц**\n",
    "\n",
    "Матрицы складываются и вычитаются поэлементно. Складывать и вычитать можно только матрицы одинакового размера."
   ]
  },
  {
   "cell_type": "markdown",
   "metadata": {},
   "source": [
    "<img src=\"https://lms.skillfactory.ru/assets/courseware/v1/a48adde1a4c8f50ed15ff66902b3eef9/asset-v1:Skillfactory+DST-PRO+15APR2020+type@asset+block/MAT_1_%D0%BC%D0%BE%D0%B4%D1%83%D0%BB%D1%8C_53_1.png\" width=\"300px\">\n",
    "\n",
    "<img src=\"https://lms.skillfactory.ru/assets/courseware/v1/3a450d5972499dae648cac1571722e42/asset-v1:Skillfactory+DST-PRO+15APR2020+type@asset+block/MAT_1_%D0%BC%D0%BE%D0%B4%D1%83%D0%BB%D1%8C_53_2.png\" width=\"400px\">"
   ]
  },
  {
   "cell_type": "markdown",
   "metadata": {},
   "source": [
    "**Умножение матрицы на число**\n",
    "\n",
    "Умножение матрицы на скаляр снова аналогично векторной операции. Числовые множители также можно выносить из матрицы."
   ]
  },
  {
   "cell_type": "markdown",
   "metadata": {},
   "source": [
    "<img src=\"https://lms.skillfactory.ru/assets/courseware/v1/d29fc89d2e6ee0fc059391d39e2e3de6/asset-v1:Skillfactory+DST-PRO+15APR2020+type@asset+block/MAT_1_%D0%BC%D0%BE%D0%B4%D1%83%D0%BB%D1%8C_53_4.png\" width=\"800px\">"
   ]
  },
  {
   "cell_type": "markdown",
   "metadata": {},
   "source": [
    "**Транспонирование матриц**\n",
    "\n",
    "При транспонировании строки матрицы записываются в столбцы и матрица переворачивается."
   ]
  },
  {
   "cell_type": "markdown",
   "metadata": {},
   "source": [
    "<img src=\"https://lms.skillfactory.ru/assets/courseware/v1/b02793f224687211ef4fa572f424a3dd/asset-v1:Skillfactory+DST-PRO+15APR2020+type@asset+block/MAT_1_%D0%BC%D0%BE%D0%B4%D1%83%D0%BB%D1%8C_53_5_1.png\" width=\"400px\">"
   ]
  },
  {
   "cell_type": "markdown",
   "metadata": {},
   "source": [
    "<img src=\"https://lms.skillfactory.ru/assets/courseware/v1/10e0165ffda37d49e9cab011d088bb2c/asset-v1:Skillfactory+DST-PRO+15APR2020+type@asset+block/MAT_1_%D0%BC%D0%BE%D0%B4%D1%83%D0%BB%D1%8C_53_6.png\" width=\"800px\">"
   ]
  },
  {
   "cell_type": "code",
   "execution_count": 7,
   "metadata": {},
   "outputs": [
    {
     "name": "stdout",
     "output_type": "stream",
     "text": [
      "[[ 1 -5]\n",
      " [ 2  2]\n",
      " [ 0  3]]\n",
      "\n",
      "[[ 1  2  0]\n",
      " [-5  2  3]]\n"
     ]
    }
   ],
   "source": [
    "A = np.matrix('1,-5;2,2;0,3')\n",
    "print(A)\n",
    "print()\n",
    "print(A.T)"
   ]
  },
  {
   "cell_type": "markdown",
   "metadata": {},
   "source": [
    "**Транспонирование симметричных матриц**"
   ]
  },
  {
   "cell_type": "markdown",
   "metadata": {},
   "source": [
    "<img src=\"https://lms.skillfactory.ru/assets/courseware/v1/38b57c5574a5c2a9ff54140d2ab640ba/asset-v1:Skillfactory+DST-PRO+15APR2020+type@asset+block/MAT_1_%D0%BC%D0%BE%D0%B4%D1%83%D0%BB%D1%8C_54.png\" width=\"800px\">"
   ]
  },
  {
   "cell_type": "markdown",
   "metadata": {},
   "source": [
    "<img src=\"https://lms.skillfactory.ru/assets/courseware/v1/4b9a3ccd9a7944bd70bad792de63aa4a/asset-v1:Skillfactory+DST-PRO+15APR2020+type@asset+block/MAT_1_%D0%BC%D0%BE%D0%B4%D1%83%D0%BB%D1%8C_54_1.png\" width=\"800px\">"
   ]
  },
  {
   "cell_type": "markdown",
   "metadata": {},
   "source": [
    "**Резюме**\n",
    "\n",
    "Матрицы складываются и вычитаются поэлементно.\n",
    "\n",
    "Результат — матрица того же размера.\n",
    "\n",
    "Матрицы умножаются на число поэлементно.\n",
    "\n",
    "Результат — матрица того же размера.\n",
    "\n",
    "При транспонировании строки превращаются в столбцы.\n",
    "\n",
    "Размер прямоугольной матрицы меняется.\n",
    "\n",
    "Инварианты транспонирования: симметричные матрицы."
   ]
  },
  {
   "cell_type": "markdown",
   "metadata": {},
   "source": [
    "<span style=\"color: orange; font-weight: bold; font-size:16pt\">1.9. 1.10. --> Практика. Базовые действия над матрицами</span>"
   ]
  },
  {
   "cell_type": "markdown",
   "metadata": {},
   "source": [
    "<span style=\"color: red; font-weight: bold; font-size:12pt\">Задание 1.10.2</span>"
   ]
  },
  {
   "cell_type": "code",
   "execution_count": 11,
   "metadata": {},
   "outputs": [],
   "source": [
    "Husband_Income = np.array([100,220,140])\n",
    "Wife_Income = np.array([150,200,130])\n",
    "Mother_In_Law_Income = np.array([90,80,100])\n",
    "\n",
    "Husband_Сonsumption = np.array([50,50,60])\n",
    "Wife_Сonsumption = np.array([100,80,140])\n",
    "Mother_In_Law_Сonsumption = np.array([100,20,140])"
   ]
  },
  {
   "cell_type": "code",
   "execution_count": 22,
   "metadata": {},
   "outputs": [
    {
     "name": "stdout",
     "output_type": "stream",
     "text": [
      "100 200 100\n"
     ]
    }
   ],
   "source": [
    "# Составьте матрицу Inc доходов семьи, расположив доходы мужа, жены и тещи в первый, второй и третий столбцы.\n",
    "inc = np.array([Husband_Income,Wife_Income,Mother_In_Law_Income]).T\n",
    "print(inc[0,0],inc[1,1],inc[2,2])\n"
   ]
  },
  {
   "cell_type": "code",
   "execution_count": 26,
   "metadata": {},
   "outputs": [
    {
     "name": "stdout",
     "output_type": "stream",
     "text": [
      "100 80 60\n"
     ]
    }
   ],
   "source": [
    "# Составьте матрицу Cons расходов семьи, расположив расходы мужа, жены и тещи в первый, второй и третий столбцы.\n",
    "Cons = np.array([Husband_Сonsumption,Wife_Сonsumption,Mother_In_Law_Сonsumption]).T\n",
    "print(Cons[0,2],Cons[1,1],Cons[2,0])"
   ]
  },
  {
   "cell_type": "markdown",
   "metadata": {},
   "source": [
    "<span style=\"color: red; font-weight: bold; font-size:12pt\">Задание 1.10.3</span>\n",
    "\n",
    "Доходы представлены до уплаты налогов. Налоговая ставка - 13%. Вычислите матрицу доходов семьи Ивановых после уплаты налогов."
   ]
  },
  {
   "cell_type": "code",
   "execution_count": 30,
   "metadata": {},
   "outputs": [
    {
     "data": {
      "text/plain": [
       "array([[ 87. , 130.5,  78.3],\n",
       "       [191.4, 174. ,  69.6],\n",
       "       [121.8, 113.1,  87. ]])"
      ]
     },
     "execution_count": 30,
     "metadata": {},
     "output_type": "execute_result"
    }
   ],
   "source": [
    "inc_tax = inc - (inc*0.13)\n",
    "inc_tax"
   ]
  },
  {
   "cell_type": "markdown",
   "metadata": {},
   "source": [
    "<span style=\"color: red; font-weight: bold; font-size:12pt\">Задание 1.10.4</span>\n",
    "Вычислите матрицу P, которая покажет баланс семьи Ивановых за один месяц (то есть разницу между доходами и расходами)"
   ]
  },
  {
   "cell_type": "code",
   "execution_count": 32,
   "metadata": {},
   "outputs": [
    {
     "data": {
      "text/plain": [
       "array([[ 37. ,  30.5, -21.7],\n",
       "       [141.4,  94. ,  49.6],\n",
       "       [ 61.8, -26.9, -53. ]])"
      ]
     },
     "execution_count": 32,
     "metadata": {},
     "output_type": "execute_result"
    }
   ],
   "source": [
    "P = inc_tax-Cons\n",
    "P"
   ]
  },
  {
   "cell_type": "markdown",
   "metadata": {},
   "source": [
    "<span style=\"color: orange; font-weight: bold; font-size:16pt\">1.11. Умножение матриц</span>"
   ]
  },
  {
   "cell_type": "markdown",
   "metadata": {},
   "source": [
    "<img src=\"https://lms.skillfactory.ru/assets/courseware/v1/48cc0922ef79077b53aca4471d62a0de/asset-v1:Skillfactory+DST-PRO+15APR2020+type@asset+block/MAT_1_%D0%BC%D0%BE%D0%B4%D1%83%D0%BB%D1%8C_55_5.png\" width=\"800px\">\n",
    "\n",
    "<img src=\"https://lms.skillfactory.ru/assets/courseware/v1/804b7c2be4542096f68b8a0b477538f1/asset-v1:Skillfactory+DST-PRO+15APR2020+type@asset+block/MAT_1_%D0%BC%D0%BE%D0%B4%D1%83%D0%BB%D1%8C_55_6.png\" width=\"800px\">\n"
   ]
  },
  {
   "cell_type": "markdown",
   "metadata": {},
   "source": [
    "Операция умножения двух матриц возможна только в том случае, если число столбцов в первой матрице равно числу строк во второй."
   ]
  },
  {
   "cell_type": "markdown",
   "metadata": {},
   "source": [
    "**Размер итоговой матрицы**\n",
    "\n",
    "Если матрица A содержит m строк, а матрица B содержит n столбцов, то результатом их умножения будет матрица С размера  m × n.\n",
    "\n",
    "<img src=\"https://lms.skillfactory.ru/assets/courseware/v1/f65df3b812e8127375a24ff697f669e7/asset-v1:Skillfactory+DST-PRO+15APR2020+type@asset+block/MAT_1_%D0%BC%D0%BE%D0%B4%D1%83%D0%BB%D1%8C_55_2.png\" width=\"600px\">"
   ]
  },
  {
   "cell_type": "markdown",
   "metadata": {},
   "source": [
    "Умножение матриц **некоммутативно**, то есть  AB ≠ BA.\n",
    "\n",
    "<img src=\"https://lms.skillfactory.ru/assets/courseware/v1/052f6e7889db85831b43cf14b502a2e1/asset-v1:Skillfactory+DST-PRO+15APR2020+type@asset+block/MAT_1_%D0%BC%D0%BE%D0%B4%D1%83%D0%BB%D1%8C_55_3.png\" width=\"600px\">\n",
    "\n",
    "<img src=\"https://lms.skillfactory.ru/assets/courseware/v1/df2bc6a5cd9170b4046da8bd9f8f0d62/asset-v1:Skillfactory+DST-PRO+15APR2020+type@asset+block/MAT_1_%D0%BC%D0%BE%D0%B4%D1%83%D0%BB%D1%8C_55_4.png\" width=\"800px\">\n",
    "\n",
    "Ответ: результаты умножения не только отличаются численно, но и имеют разный размер."
   ]
  },
  {
   "cell_type": "markdown",
   "metadata": {},
   "source": [
    "**Умножение вектора и матрицы** \n",
    "\n",
    "<img src=\"https://lms.skillfactory.ru/assets/courseware/v1/2a36d095ee64fd01084f3d171ef6a64a/asset-v1:Skillfactory+DST-PRO+15APR2020+type@asset+block/MAT_1_%D0%BC%D0%BE%D0%B4%D1%83%D0%BB%D1%8C_55_8.png\" width=\"800px\">\n",
    "\n",
    "<img src=\"https://lms.skillfactory.ru/assets/courseware/v1/413f8e7b44b7f7aaf72fce7ca3c405c9/asset-v1:Skillfactory+DST-PRO+15APR2020+type@asset+block/MAT_1_%D0%BC%D0%BE%D0%B4%D1%83%D0%BB%D1%8C_55_10.png\" width=\"800px\">"
   ]
  },
  {
   "cell_type": "markdown",
   "metadata": {},
   "source": [
    "<img src=\"https://lms.skillfactory.ru/assets/courseware/v1/73fd6b2a9d45a802b4b538d6f033a5b1/asset-v1:Skillfactory+DST-PRO+15APR2020+type@asset+block/MAT_1_%D0%BC%D0%BE%D0%B4%D1%83%D0%BB%D1%8C_56.png\" width=\"800px\">\n",
    "\n",
    "<img src=\"https://lms.skillfactory.ru/assets/courseware/v1/ceddf05e9091e7293a9349115e673b25/asset-v1:Skillfactory+DST-PRO+15APR2020+type@asset+block/MAT_1_%D0%BC%D0%BE%D0%B4%D1%83%D0%BB%D1%8C_56_1.png\" width=\"400px\">"
   ]
  },
  {
   "cell_type": "markdown",
   "metadata": {},
   "source": [
    "**Тензорное произведение векторов**\n",
    "\n",
    "<img src=\"https://lms.skillfactory.ru/assets/courseware/v1/8da78293ed72c5dc06fed5eaf93ed89f/asset-v1:Skillfactory+DST-PRO+15APR2020+type@asset+block/MAT_1_%D0%BC%D0%BE%D0%B4%D1%83%D0%BB%D1%8C_56_2.png\" width=\"600px\">\n",
    "\n",
    "<img src=\"https://lms.skillfactory.ru/assets/courseware/v1/1139574a4ff70e02160e5ac6916a7f23/asset-v1:Skillfactory+DST-PRO+15APR2020+type@asset+block/MAT_1_%D0%BC%D0%BE%D0%B4%D1%83%D0%BB%D1%8C_56_3.png\" width=\"800px\">"
   ]
  },
  {
   "cell_type": "markdown",
   "metadata": {},
   "source": [
    "<img src=\"https://lms.skillfactory.ru/assets/courseware/v1/4ce0b03b2b0afde90da7060f91e9b623/asset-v1:Skillfactory+DST-PRO+15APR2020+type@asset+block/MAT_1_%D0%BC%D0%BE%D0%B4%D1%83%D0%BB%D1%8C_56_4.png\" width=\"600px\">"
   ]
  },
  {
   "cell_type": "code",
   "execution_count": 42,
   "metadata": {},
   "outputs": [
    {
     "data": {
      "text/plain": [
       "0"
      ]
     },
     "execution_count": 42,
     "metadata": {},
     "output_type": "execute_result"
    }
   ],
   "source": [
    "A = np.matrix('1,-1,2,4,0;8,2,0,5,3;0,1,2,1,2')\n",
    "B = np.matrix('1,0,1,1;0,0,2,-1;1,0,1,1;0,1,1,1;1,1,0,-1')\n",
    "C=A*B\n",
    "C[2,3]"
   ]
  },
  {
   "cell_type": "markdown",
   "metadata": {},
   "source": [
    "<span style=\"color: orange; font-weight: bold; font-size:16pt\">Умножение на специальные матрицы</span>"
   ]
  },
  {
   "cell_type": "markdown",
   "metadata": {},
   "source": [
    "**Умножение на нулевую матрицу**\n",
    "\n",
    "\n",
    "<img src=\"https://lms.skillfactory.ru/assets/courseware/v1/a61384f7fc646f58f31feb4d36817ce4/asset-v1:Skillfactory+DST-PRO+15APR2020+type@asset+block/MAT_1_%D0%BC%D0%BE%D0%B4%D1%83%D0%BB%D1%8C_57.png\" width=\"600px\">\n",
    "\n",
    "<img src=\"https://lms.skillfactory.ru/assets/courseware/v1/660d85528b31647af7fd85c67399d42d/asset-v1:Skillfactory+DST-PRO+15APR2020+type@asset+block/MAT_1_%D0%BC%D0%BE%D0%B4%D1%83%D0%BB%D1%8C_57_1.png\" width=\"800px\">\n",
    "\n",
    "Нулевая матрица играет роль нуля не только в сложении, но в умножении матриц (независимо от порядка)."
   ]
  },
  {
   "cell_type": "markdown",
   "metadata": {},
   "source": [
    "**Умножение на единичную и шаровую матрицу**\n",
    "\n",
    "\n",
    "<img src=\"https://lms.skillfactory.ru/assets/courseware/v1/15038376a6188b1ec31388433d437829/asset-v1:Skillfactory+DST-PRO+15APR2020+type@asset+block/MAT_1_%D0%BC%D0%BE%D0%B4%D1%83%D0%BB%D1%8C_0003.png\" width=\"600px\">\n",
    "\n",
    "<img src=\"https://lms.skillfactory.ru/assets/courseware/v1/20522d61840b0652f9e3e29edcb01625/asset-v1:Skillfactory+DST-PRO+15APR2020+type@asset+block/MAT_1_%D0%BC%D0%BE%D0%B4%D1%83%D0%BB%D1%8C_57_4.png\" width=\"800px\">\n",
    "\n",
    "Единичная матрица играет роль единицы: при умножении на неё ничего не меняется. При умножении на шаровую матрицу каждый элемент матрицы A умножился на 2, что равносильно умножению матрицы A  на число 2.\n",
    "\n",
    "Единичная и шаровая матрицы перестановочны с любой квадратной матрицей, результат не зависит от порядка умножения."
   ]
  },
  {
   "cell_type": "markdown",
   "metadata": {},
   "source": [
    "**Умножение на диагональную матрицу**\n",
    "\n",
    "\n",
    "<img src=\"https://lms.skillfactory.ru/assets/courseware/v1/568919b8eed29adba2c040bd09e2ae47/asset-v1:Skillfactory+DST-PRO+15APR2020+type@asset+block/MAT_1_%D0%BC%D0%BE%D0%B4%D1%83%D0%BB%D1%8C_57_2.png\" width=\"600px\">\n",
    "\n",
    "<img src=\"https://lms.skillfactory.ru/assets/courseware/v1/87459b217a027912860ce73109c1b81f/asset-v1:Skillfactory+DST-PRO+15APR2020+type@asset+block/MAT_1_%D0%BC%D0%BE%D0%B4%D1%83%D0%BB%D1%8C_57_5.png\" width=\"800px\">\n",
    "\n",
    "\n",
    "Пример 2\n",
    "\n",
    "<img src=\"https://lms.skillfactory.ru/assets/courseware/v1/9da1c2384517e230729dc9960745af42/asset-v1:Skillfactory+DST-PRO+15APR2020+type@asset+block/MAT_1_%D0%BC%D0%BE%D0%B4%D1%83%D0%BB%D1%8C_0005.png\" width=\"600px\">\n",
    "\n",
    "<img src=\"https://lms.skillfactory.ru/assets/courseware/v1/7f2410ac742766d6608ac0e52e18bdfd/asset-v1:Skillfactory+DST-PRO+15APR2020+type@asset+block/MAT_1_%D0%BC%D0%BE%D0%B4%D1%83%D0%BB%D1%8C_57_7.png\" width=\"800px\">\n",
    "\n",
    "Диагональные матрицы неперестановочны с другими в общем случае. Но перестановочны между собой. Это их свойство будет активно использоваться при работе с матрицами ковариаций многомерных нормальных распределений."
   ]
  },
  {
   "cell_type": "markdown",
   "metadata": {},
   "source": [
    "Нулевая и единичная матрица играют роль нуля и единицы в матричном умножении.\n",
    "\n",
    "Умножение на шаровую матрицу — то же самое, что умножение на скаляр\n",
    "\n",
    " Умножение на диагональную матрицу даёт растяжение каждого столбца или строки в зависимости от порядка.\n",
    " \n",
    " Диагональные матрицы коммутируют между собой."
   ]
  },
  {
   "cell_type": "markdown",
   "metadata": {},
   "source": [
    "<span style=\"color: orange; font-weight: bold; font-size:16pt\">Делители нуля</span>"
   ]
  },
  {
   "cell_type": "markdown",
   "metadata": {},
   "source": []
  }
 ],
 "metadata": {
  "kernelspec": {
   "display_name": "Python 3",
   "language": "python",
   "name": "python3"
  },
  "language_info": {
   "codemirror_mode": {
    "name": "ipython",
    "version": 3
   },
   "file_extension": ".py",
   "mimetype": "text/x-python",
   "name": "python",
   "nbconvert_exporter": "python",
   "pygments_lexer": "ipython3",
   "version": "3.8.3"
  }
 },
 "nbformat": 4,
 "nbformat_minor": 4
}
