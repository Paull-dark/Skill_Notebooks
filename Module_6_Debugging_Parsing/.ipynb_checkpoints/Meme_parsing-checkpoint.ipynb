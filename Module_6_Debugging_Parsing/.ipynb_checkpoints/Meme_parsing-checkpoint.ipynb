{
 "cells": [
  {
   "cell_type": "code",
   "execution_count": 11,
   "metadata": {},
   "outputs": [],
   "source": [
    "import requests      # Библиотека для отправки запросов\n",
    "import numpy as np   # Библиотека для матриц, векторов и линала\n",
    "import pandas as pd  # Библиотека для табличек\n",
    "import time          # Библиотека для тайм-менеджмента\n",
    "from bs4 import BeautifulSoup"
   ]
  },
  {
   "cell_type": "code",
   "execution_count": 2,
   "metadata": {},
   "outputs": [
    {
     "data": {
      "text/plain": [
       "<Response [403]>"
      ]
     },
     "execution_count": 2,
     "metadata": {},
     "output_type": "execute_result"
    }
   ],
   "source": [
    "page_link = 'http://knowyourmeme.com/memes/all/page/1'\n",
    "response = requests.get(page_link)\n",
    "response"
   ]
  },
  {
   "cell_type": "markdown",
   "metadata": {},
   "source": [
    "Попробуем выяснить, почему. Для этого проверим, как выглядел финальный запрос, отправленный нами на сервер, а конкретнее — как выглядел наш User-Agent в глазах сервера"
   ]
  },
  {
   "cell_type": "code",
   "execution_count": 4,
   "metadata": {},
   "outputs": [
    {
     "name": "stdout",
     "output_type": "stream",
     "text": [
      "Key: User-Agent Value: python-requests/2.24.0\n",
      "Key: Accept-Encoding Value: gzip, deflate\n",
      "Key: Accept Value: */*\n",
      "Key: Connection Value: keep-alive\n"
     ]
    }
   ],
   "source": [
    "for key,value in response.request.headers.items():\n",
    "    print(f'Key: {key} Value: {value}')"
   ]
  },
  {
   "cell_type": "code",
   "execution_count": 7,
   "metadata": {},
   "outputs": [
    {
     "data": {
      "text/plain": [
       "'Mozilla/5.0 (X11; Linux x86_64) AppleWebKit/537.36 (KHTML, like Gecko) Chrome/33.0.1750.517 Safari/537.36'"
      ]
     },
     "execution_count": 7,
     "metadata": {},
     "output_type": "execute_result"
    }
   ],
   "source": [
    "from fake_useragent import UserAgent\n",
    "UserAgent().chrome"
   ]
  },
  {
   "cell_type": "markdown",
   "metadata": {},
   "source": [
    "Попробуем прогнать наш запрос еще раз, уже со сгенерированным агентом"
   ]
  },
  {
   "cell_type": "code",
   "execution_count": 9,
   "metadata": {},
   "outputs": [
    {
     "data": {
      "text/plain": [
       "<Response [200]>"
      ]
     },
     "execution_count": 9,
     "metadata": {},
     "output_type": "execute_result"
    }
   ],
   "source": [
    "response = requests.get(page_link, headers = {'User-Agent': UserAgent().chrome})\n",
    "response"
   ]
  },
  {
   "cell_type": "code",
   "execution_count": 10,
   "metadata": {},
   "outputs": [
    {
     "data": {
      "text/plain": [
       "b'<!DOCTYPE html>\\n<html xmlns:fb=\\'https://www.facebook.com/2008/fbml\\' xmlns=\\'https://www.w3.org/1999/xhtml\\'>\\n<head>\\n<meta content=\\'text/html; charset=utf-8\\' http-equiv=\\'Content-Type\\'>\\n<script type=\"text/javascript\">window.NREUM||(NREUM={});NREUM.info={\"beacon\":\"bam-cell.nr-data.net\",\"errorBeacon\":\"bam-cell.nr-data.net\",\"licenseKey\":\"c1a6d52f38\",\"applicationID\":\"31165848\",\"transactionName\":\"dFdfRUpeWglTQB8GDUNKWFRLHlcJWg==\",\"queueTime\":0,\"applicationTime\":54,\"agent\":\"\"}</script>\\n<script type=\"text/javascript\">(window.NREUM||(NREUM={})).loader_config={licenseKey:\"c1a6d52f38\",applicationID:\"31165848\"};window.NREUM||(NREUM={}),__nr_require=function(e,t,n){function r(n){if(!t[n]){var i=t[n]={exports:{}};e[n][0].call(i.exports,function(t){var i=e[n][1][t];return r(i||t)},i,i.exports)}return t[n].exports}if(\"function\"==typeof __nr_require)return __nr_require;for(var i=0;i<n.length;i++)r(n[i]);return r}({1:[function(e,t,n){function r(){}function i(e,t,n){return function(){return o(e,[u.now()].co'"
      ]
     },
     "execution_count": 10,
     "metadata": {},
     "output_type": "execute_result"
    }
   ],
   "source": [
    "html = response.content\n",
    "html[:1000]"
   ]
  },
  {
   "cell_type": "code",
   "execution_count": 12,
   "metadata": {},
   "outputs": [],
   "source": [
    "soup = BeautifulSoup(html,'html.parser')"
   ]
  },
  {
   "cell_type": "code",
   "execution_count": 13,
   "metadata": {},
   "outputs": [
    {
     "data": {
      "text/plain": [
       "<!DOCTYPE html>\n",
       "\n",
       "<html xmlns=\"https://www.w3.org/1999/xhtml\" xmlns:fb=\"https://www.facebook.com/2008/fbml\">\n",
       "<head>\n",
       "<meta content=\"text/html; charset=utf-8\" http-equiv=\"Content-Type\"/>\n",
       "<script type=\"text/javascript\">window.NREUM||(NREUM={});NREUM.info={\"beacon\":\"bam-cell.nr-data.net\",\"errorBeacon\":\"bam-cell.nr-data.net\",\"licenseKey\":\"c1a6d52f38\",\"applicationID\":\"31165848\",\"transactionName\":\"dFdfRUpeWglTQB8GDUNKWFRLHlcJWg==\",\"queueTime\":0,\"applicationTime\":54,\"agent\":\"\"}</script>\n",
       "<script type=\"text/javascript\">(window.NREUM||(NREUM={})).loader_config={licenseKey:\"c1a6d52f38\",applicationID:\"31165848\"};window.NREUM||(NREUM={}),__nr_require=function(e,t,n){function r(n){if(!t[n]){var i=t[n]={exports:{}};e[n][0].call(i.exports,function(t){var i=e[n][1][t];return r(i||t)},i,i.exports)}return t[n].exports}if(\"function\"==typeof __nr_require)return __nr_require;for(var i=0;i<n.length;i++)r(n[i]);return r}({1:[function(e,t,n){function r(){}function i(e,t,n){return function(){return o(e,[u.now()].concat(c(arguments)),t?null:this,n),t?void 0:this}}var o=e(\"handle\"),a=e(7),c=e(8),f=e(\"ee\").get(\"tracer\"),u=e(\"loader\"),s=NREUM;\"undefined\"==typeof window.newrelic&&(newrelic=s);var d=[\"setPageViewName\",\"setCustomAttribute\",\"setErrorHandler\",\"finished\",\"addToTrace\",\"inlineHit\",\"addRelease\"],p=\"api-\",l=p+\"ixn-\";a(d,function(e,t){s[t]=i(p+t,!0,\"api\")}),s.addPageAction=i(p+\"addPageAction\",!0),s.setCurrentRouteName=i(p+\"routeName\",!0),t.exports=newrelic,s.interaction=function(){return(new r).get()};var m=r.prototype={createTracer:function(e,t){var n={},r=this,i=\"function\"==typeof t;return o(l+\"tracer\",[u.now(),e,n],r),function(){if(f.emit((i?\"\":\"no-\")+\"fn-start\",[u.now(),r,i],n),i)try{return t.apply(this,arguments)}catch(e){throw f.emit(\"fn-err\",[arguments,this,e],n),e}finally{f.emit(\"fn-end\",[u.now()],n)}}}};a(\"actionText,setName,setAttribute,save,ignore,onEnd,getContext,end,get\".split(\",\"),function(e,t){m[t]=i(l+t)}),newrelic.noticeError=function(e,t){\"string\"==typeof e&&(e=new Error(e)),o(\"err\",[e,u.now(),!1,t])}},{}],2:[function(e,t,n){function r(){return c.exists&&performance.now?Math.round(performance.now()):(o=Math.max((new Date).getTime(),o))-a}function i(){return o}var o=(new Date).getTime(),a=o,c=e(9);t.exports=r,t.exports.offset=a,t.exports.getLastTimestamp=i},{}],3:[function(e,t,n){function r(e){return!(!e||!e.protocol||\"file:\"===e.protocol)}t.exports=r},{}],4:[function(e,t,n){function r(e,t){var n=e.getEntries();n.forEach(function(e){\"first-paint\"===e.name?d(\"timing\",[\"fp\",Math.floor(e.startTime)]):\"first-contentful-paint\"===e.name&&d(\"timing\",[\"fcp\",Math.floor(e.startTime)])})}function i(e,t){var n=e.getEntries();n.length>0&&d(\"lcp\",[n[n.length-1]])}function o(e){e.getEntries().forEach(function(e){e.hadRecentInput||d(\"cls\",[e])})}function a(e){if(e instanceof m&&!g){var t=Math.round(e.timeStamp),n={type:e.type};t<=p.now()?n.fid=p.now()-t:t>p.offset&&t<=Date.now()?(t-=p.offset,n.fid=p.now()-t):t=p.now(),g=!0,d(\"timing\",[\"fi\",t,n])}}function c(e){d(\"pageHide\",[p.now(),e])}if(!(\"init\"in NREUM&&\"page_view_timing\"in NREUM.init&&\"enabled\"in NREUM.init.page_view_timing&&NREUM.init.page_view_timing.enabled===!1)){var f,u,s,d=e(\"handle\"),p=e(\"loader\"),l=e(6),m=NREUM.o.EV;if(\"PerformanceObserver\"in window&&\"function\"==typeof window.PerformanceObserver){f=new PerformanceObserver(r);try{f.observe({entryTypes:[\"paint\"]})}catch(v){}u=new PerformanceObserver(i);try{u.observe({entryTypes:[\"largest-contentful-paint\"]})}catch(v){}s=new PerformanceObserver(o);try{s.observe({type:\"layout-shift\",buffered:!0})}catch(v){}}if(\"addEventListener\"in document){var g=!1,w=[\"click\",\"keydown\",\"mousedown\",\"pointerdown\",\"touchstart\"];w.forEach(function(e){document.addEventListener(e,a,!1)})}l(c)}},{}],5:[function(e,t,n){function r(e,t){if(!i)return!1;if(e!==i)return!1;if(!t)return!0;if(!o)return!1;for(var n=o.split(\".\"),r=t.split(\".\"),a=0;a<r.length;a++)if(r[a]!==n[a])return!1;return!0}var i=null,o=null,a=/Version\\/(\\S+)\\s+Safari/;if(navigator.userAgent){var c=navigator.userAgent,f=c.match(a);f&&c.indexOf(\"Chrome\")===-1&&c.indexOf(\"Chromium\")===-1&&(i=\"Safari\",o=f[1])}t.exports={agent:i,version:o,match:r}},{}],6:[function(e,t,n){function r(e){function t(){e(a&&document[a]?document[a]:document[i]?\"hidden\":\"visible\")}\"addEventListener\"in document&&o&&document.addEventListener(o,t,!1)}t.exports=r;var i,o,a;\"undefined\"!=typeof document.hidden?(i=\"hidden\",o=\"visibilitychange\",a=\"visibilityState\"):\"undefined\"!=typeof document.msHidden?(i=\"msHidden\",o=\"msvisibilitychange\"):\"undefined\"!=typeof document.webkitHidden&&(i=\"webkitHidden\",o=\"webkitvisibilitychange\",a=\"webkitVisibilityState\")},{}],7:[function(e,t,n){function r(e,t){var n=[],r=\"\",o=0;for(r in e)i.call(e,r)&&(n[o]=t(r,e[r]),o+=1);return n}var i=Object.prototype.hasOwnProperty;t.exports=r},{}],8:[function(e,t,n){function r(e,t,n){t||(t=0),\"undefined\"==typeof n&&(n=e?e.length:0);for(var r=-1,i=n-t||0,o=Array(i<0?0:i);++r<i;)o[r]=e[t+r];return o}t.exports=r},{}],9:[function(e,t,n){t.exports={exists:\"undefined\"!=typeof window.performance&&window.performance.timing&&\"undefined\"!=typeof window.performance.timing.navigationStart}},{}],ee:[function(e,t,n){function r(){}function i(e){function t(e){return e&&e instanceof r?e:e?u(e,f,a):a()}function n(n,r,i,o,a){if(a!==!1&&(a=!0),!l.aborted||o){e&&a&&e(n,r,i);for(var c=t(i),f=v(n),u=f.length,s=0;s<u;s++)f[s].apply(c,r);var p=d[h[n]];return p&&p.push([b,n,r,c]),c}}function o(e,t){y[e]=v(e).concat(t)}function m(e,t){var n=y[e];if(n)for(var r=0;r<n.length;r++)n[r]===t&&n.splice(r,1)}function v(e){return y[e]||[]}function g(e){return p[e]=p[e]||i(n)}function w(e,t){s(e,function(e,n){t=t||\"feature\",h[n]=t,t in d||(d[t]=[])})}var y={},h={},b={on:o,addEventListener:o,removeEventListener:m,emit:n,get:g,listeners:v,context:t,buffer:w,abort:c,aborted:!1};return b}function o(e){return u(e,f,a)}function a(){return new r}function c(){(d.api||d.feature)&&(l.aborted=!0,d=l.backlog={})}var f=\"nr@context\",u=e(\"gos\"),s=e(7),d={},p={},l=t.exports=i();t.exports.getOrSetContext=o,l.backlog=d},{}],gos:[function(e,t,n){function r(e,t,n){if(i.call(e,t))return e[t];var r=n();if(Object.defineProperty&&Object.keys)try{return Object.defineProperty(e,t,{value:r,writable:!0,enumerable:!1}),r}catch(o){}return e[t]=r,r}var i=Object.prototype.hasOwnProperty;t.exports=r},{}],handle:[function(e,t,n){function r(e,t,n,r){i.buffer([e],r),i.emit(e,t,n)}var i=e(\"ee\").get(\"handle\");t.exports=r,r.ee=i},{}],id:[function(e,t,n){function r(e){var t=typeof e;return!e||\"object\"!==t&&\"function\"!==t?-1:e===window?0:a(e,o,function(){return i++})}var i=1,o=\"nr@id\",a=e(\"gos\");t.exports=r},{}],loader:[function(e,t,n){function r(){if(!E++){var e=x.info=NREUM.info,t=l.getElementsByTagName(\"script\")[0];if(setTimeout(u.abort,3e4),!(e&&e.licenseKey&&e.applicationID&&t))return u.abort();f(h,function(t,n){e[t]||(e[t]=n)});var n=a();c(\"mark\",[\"onload\",n+x.offset],null,\"api\"),c(\"timing\",[\"load\",n]);var r=l.createElement(\"script\");r.src=\"https://\"+e.agent,t.parentNode.insertBefore(r,t)}}function i(){\"complete\"===l.readyState&&o()}function o(){c(\"mark\",[\"domContent\",a()+x.offset],null,\"api\")}var a=e(2),c=e(\"handle\"),f=e(7),u=e(\"ee\"),s=e(5),d=e(3),p=window,l=p.document,m=\"addEventListener\",v=\"attachEvent\",g=p.XMLHttpRequest,w=g&&g.prototype;if(d(p.location)){NREUM.o={ST:setTimeout,SI:p.setImmediate,CT:clearTimeout,XHR:g,REQ:p.Request,EV:p.Event,PR:p.Promise,MO:p.MutationObserver};var y=\"\"+location,h={beacon:\"bam.nr-data.net\",errorBeacon:\"bam.nr-data.net\",agent:\"js-agent.newrelic.com/nr-1208.min.js\"},b=g&&w&&w[m]&&!/CriOS/.test(navigator.userAgent),x=t.exports={offset:a.getLastTimestamp(),now:a,origin:y,features:{},xhrWrappable:b,userAgent:s};e(1),e(4),l[m]?(l[m](\"DOMContentLoaded\",o,!1),p[m](\"load\",r,!1)):(l[v](\"onreadystatechange\",i),p[v](\"onload\",r)),c(\"mark\",[\"firstbyte\",a.getLastTimestamp()],null,\"api\");var E=0}},{}],\"wrap-function\":[function(e,t,n){function r(e,t){function n(t,n,r,f,u){function nrWrapper(){var o,a,s,p;try{a=this,o=d(arguments),s=\"function\"==typeof r?r(o,a):r||{}}catch(l){i([l,\"\",[o,a,f],s],e)}c(n+\"start\",[o,a,f],s,u);try{return p=t.apply(a,o)}catch(m){throw c(n+\"err\",[o,a,m],s,u),m}finally{c(n+\"end\",[o,a,p],s,u)}}return a(t)?t:(n||(n=\"\"),nrWrapper[p]=t,o(t,nrWrapper,e),nrWrapper)}function r(e,t,r,i,o){r||(r=\"\");var c,f,u,s=\"-\"===r.charAt(0);for(u=0;u<t.length;u++)f=t[u],c=e[f],a(c)||(e[f]=n(c,s?f+r:r,i,f,o))}function c(n,r,o,a){if(!m||t){var c=m;m=!0;try{e.emit(n,r,o,t,a)}catch(f){i([f,n,r,o],e)}m=c}}return e||(e=s),n.inPlace=r,n.flag=p,n}function i(e,t){t||(t=s);try{t.emit(\"internal-error\",e)}catch(n){}}function o(e,t,n){if(Object.defineProperty&&Object.keys)try{var r=Object.keys(e);return r.forEach(function(n){Object.defineProperty(t,n,{get:function(){return e[n]},set:function(t){return e[n]=t,t}})}),t}catch(o){i([o],n)}for(var a in e)l.call(e,a)&&(t[a]=e[a]);return t}function a(e){return!(e&&e instanceof Function&&e.apply&&!e[p])}function c(e,t){var n=t(e);return n[p]=e,o(e,n,s),n}function f(e,t,n){var r=e[t];e[t]=c(r,n)}function u(){for(var e=arguments.length,t=new Array(e),n=0;n<e;++n)t[n]=arguments[n];return t}var s=e(\"ee\"),d=e(8),p=\"nr@original\",l=Object.prototype.hasOwnProperty,m=!1;t.exports=r,t.exports.wrapFunction=c,t.exports.wrapInPlace=f,t.exports.argsToArray=u},{}]},{},[\"loader\"]);</script>\n",
       "<meta content=\"All Entries\" property=\"og:title\">\n",
       "<meta content=\"Know Your Meme\" property=\"og:site_name\"/>\n",
       "<meta content=\"https://s.kym-cdn.com/assets/kym-logo-large.png\" property=\"og:image\"/>\n",
       "<meta content=\"600\" property=\"og:image:width\"/>\n",
       "<meta content=\"315\" property=\"og:image:height\"/>\n",
       "<meta content=\"article\" property=\"og:type\"/>\n",
       "<meta content=\"104675392961482\" property=\"fb:app_id\"/>\n",
       "<meta content=\"88519108736\" property=\"fb:pages\"/>\n",
       "<meta content=\"https://www.facebook.com/knowyourmeme\" property=\"article:publisher\"/>\n",
       "<meta content=\"summary_large_image\" name=\"twitter:card\"/>\n",
       "<meta content=\"@knowyourmeme\" name=\"twitter:site\"/>\n",
       "<meta content=\"@knowyourmeme\" name=\"twitter:creator\"/>\n",
       "<meta content=\"All Entries\" name=\"twitter:title\"/>\n",
       "<meta content=\"Know Your Meme | Our confirmed section features over 1,000 entries on a wide range of Internet-related topics carefully researched and verified by the research staff.\" name=\"twitter:description\"/>\n",
       "<meta content=\"https://s.kym-cdn.com/assets/kym-logo-large.png\" name=\"twitter:image\"/>\n",
       "<meta content=\"Know Your Meme | Our confirmed section features over 1,000 entries on a wide range of Internet-related topics carefully researched and verified by the research staff.\" name=\"description\"/>\n",
       "<meta content=\"https://knowyourmeme.com/memes/all/page/1\" property=\"og:url\"/>\n",
       "<meta content=\"Know Your Meme | Our confirmed section features over 1,000 entries on a wide range of Internet-related topics carefully researched and verified by the research staff.\" property=\"og:description\"/>\n",
       "<meta content=\"unsafe-url\" name=\"referrer\"/>\n",
       "<link href=\"/assets/favicons/apple-icon-57x57.png\" rel=\"apple-touch-icon\" sizes=\"57x57\"/><link href=\"/assets/favicons/apple-icon-60x60.png\" rel=\"apple-touch-icon\" sizes=\"60x60\"/><link href=\"/assets/favicons/apple-icon-72x72.png\" rel=\"apple-touch-icon\" sizes=\"72x72\"/><link href=\"/assets/favicons/apple-icon-76x76.png\" rel=\"apple-touch-icon\" sizes=\"76x76\"/><link href=\"/assets/favicons/apple-icon-114x114.png\" rel=\"apple-touch-icon\" sizes=\"114x114\"/><link href=\"/assets/favicons/apple-icon-120x120.png\" rel=\"apple-touch-icon\" sizes=\"120x120\"/><link href=\"/assets/favicons/apple-icon-144x144.png\" rel=\"apple-touch-icon\" sizes=\"144x144\"/><link href=\"/assets/favicons/apple-icon-152x152.png\" rel=\"apple-touch-icon\" sizes=\"152x152\"/><link href=\"/assets/favicons/apple-icon-180x180.png\" rel=\"apple-touch-icon\" sizes=\"180x180\"/><link href=\"/assets/favicons/android-icon-192x192.png\" rel=\"icon\" sizes=\"192x192\" type=\"image/png\"/><link href=\"/assets/favicons/favicon-32x32.png\" rel=\"icon\" sizes=\"32x32\" type=\"image/png\"/><link href=\"/assets/favicons/favicon-96x96.png\" rel=\"icon\" sizes=\"96x96\" type=\"image/png\"/><link href=\"/assets/favicons/favicon-16x16.png\" rel=\"icon\" sizes=\"16x16\" type=\"image/png\"/>\n",
       "<title>All Entries | Know Your Meme</title>\n",
       "<link href=\"https://s.kym-cdn.com/assets/desktop-34ab2ceab2480e243efd4ebf81a5435a.css\" media=\"screen\" rel=\"stylesheet\" type=\"text/css\"/>\n",
       "<script src=\"https://s.kym-cdn.com/assets/desktop-9b2d9c4737a260fc28f4fc082979442e.js\" type=\"text/javascript\"></script>\n",
       "<script> (function(i,s,o,g,r,a,m){i['GoogleAnalyticsObject']=r;i[r]=i[r]||function(){ (i[r].q=i[r].q||[]).push(arguments)},i[r].l=1*new Date();a=s.createElement(o), m=s.getElementsByTagName(o)[0];a.async=1;a.src=g;m.parentNode.insertBefore(a,m) })(window,document,'script','https://www.google-analytics.com/analytics.js','ga'); ga('create', 'UA-15176568-9', 'auto', { 'useAmpClientId': true }); ga('set', 'dimension1', \"entries-all\"); ga('set', 'dimension2', \"false\"); ga('set', 'dimension3', \"false\"); ga('set', 'dimension4', \"false\"); ga('set', 'dimension5', \"false\"); ga('set', 'dimension6', \"\"); ga('send', 'pageview'); </script>\n",
       "<script type=\"text/javascript\">\n",
       "(function(w,d,s,l,i){w[l]=w[l]||[];w[l].push({'gtm.start':\n",
       "new Date().getTime(),event:'gtm.js'});var f=d.getElementsByTagName(s)[0],\n",
       "j=d.createElement(s),dl=l!='dataLayer'?'&l='+l:'';j.async=true;j.src=\n",
       "'https://www.googletagmanager.com/gtm.js?id='+i+dl;f.parentNode.insertBefore(j,f);\n",
       "})(window,document,'script','dataLayer','GTM-W7N8H86');\n",
       "</script>\n",
       "<link href=\"/newsfeed.rss\" rel=\"alternate\" title=\"Know Your Meme News Feed\" type=\"application/rss+xml\"/>\n",
       "<link href=\"/news.rss\" rel=\"alternate\" title=\"Know Your Meme News\" type=\"application/rss+xml\"/>\n",
       "<link href=\"/editorials.rss\" rel=\"alternate\" title=\"Know Your Meme Blog\" type=\"application/rss+xml\"/>\n",
       "<link href=\"/memes.rss\" rel=\"alternate\" title=\"Know Your Meme Latest Featured Entries\" type=\"application/rss+xml\"/>\n",
       "<link href=\"/memes/submissions.rss\" rel=\"alternate\" title=\"Know Your Meme Latest Submitted Entries\" type=\"application/rss+xml\"/>\n",
       "<link href=\"/photos.rss\" rel=\"alternate\" title=\"Know Your Meme Latest Images\" type=\"application/rss+xml\"/>\n",
       "<link href=\"https://knowyourmeme.com/memes/all/page/1\" rel=\"canonical\"/>\n",
       "<script type=\"text/javascript\">\n",
       "    (function() {\n",
       "      var _sf_async_config = window._sf_async_config = (window._sf_async_config || {});\n",
       "\n",
       "      _sf_async_config.uid = 6425;\n",
       "      \n",
       "        _sf_async_config.domain = 'knowyourmeme.com';\n",
       "      _sf_async_config.useCanonical = true;\n",
       "      _sf_async_config.useCanonicalDomain = true;\n",
       "\n",
       "      _sf_async_config.flickerControl = false;\n",
       "      _sf_async_config.sections = 'Entry Galleries';\n",
       "      _sf_async_config.authors = '';\n",
       "\n",
       "      var _cbq = window._cbq = (window._cbq || []);\n",
       "      _cbq.push(['_acct', 'anon']);\n",
       "\n",
       "      function loadChartbeat() {\n",
       "        var e = document.createElement('script');\n",
       "        var n = document.getElementsByTagName('script')[0];\n",
       "        e.type = 'text/javascript';\n",
       "        e.async = true;\n",
       "        e.src = '//static.chartbeat.com/js/chartbeat.js';\n",
       "        n.parentNode.insertBefore(e, n);\n",
       "      }\n",
       "\n",
       "      loadChartbeat();\n",
       "    })();\n",
       "  </script>\n",
       "<script src=\"https://www.zergnet.com/zerg-inf-multi.js\" type=\"text/javascript\"></script>\n",
       "<script> (function(h,o,t,j,a,r){ h.hj=h.hj||function(){(h.hj.q=h.hj.q||[]).push(arguments)}; h._hjSettings={hjid:1004046,hjsv:6}; a=o.getElementsByTagName('head')[0]; r=o.createElement('script');r.async=1; r.src=t+h._hjSettings.hjid+j+h._hjSettings.hjsv; a.appendChild(r); })(window,document,'https://static.hotjar.com/c/hotjar-','.js?sv='); </script>\n",
       "<meta content=\"3fa925d06e2f3c4af076ced1e6e951cf\" name=\"p:domain_verify\"/>\n",
       "<script async=\"true\" type=\"text/javascript\"> var elem = document.createElement('script'); elem.src = 'https://quantcast.mgr.consensu.org/cmp.js'; elem.async = true; elem.type = 'text/javascript'; var scpt = document.getElementsByTagName('script')[0]; scpt.parentNode.insertBefore(elem, scpt); (function() { var gdprAppliesGlobally = true; function addFrame() { if (!window.frames['__cmpLocator']) { if (document.body) { var body = document.body; var iframe = document.createElement('iframe'); iframe.style = 'display:none'; iframe.name = '__cmpLocator'; body.appendChild(iframe); } else { setTimeout(addFrame, 5); } } } addFrame(); function cmpMsgHandler(event) { var msgIsString = typeof event.data === 'string'; var json; if (msgIsString) { json = event.data.indexOf('__cmpCall') != -1 ? JSON.parse(event.data) : {}; } else { json = event.data; } if (json.__cmpCall) { var i = json.__cmpCall; window.__cmp(i.command, i.parameter, function(retValue, success) { var returnMsg = { '__cmpReturn': { 'returnValue': retValue, 'success': success, 'callId': i.callId } }; event.source.postMessage(msgIsString ? JSON.stringify(returnMsg) : returnMsg, '*'); }); } } window.__cmp = function(c) { var b = arguments; if (!b.length) { return __cmp.a; } else if (b[0] === 'ping') { b[2]({ 'gdprAppliesGlobally': gdprAppliesGlobally, 'cmpLoaded': false }, true); } else if (c == '__cmp') { return false; } else { if (typeof __cmp.a === 'undefined') { __cmp.a = []; } __cmp.a.push([].slice.apply(b)); } }; window.__cmp.gdprAppliesGlobally = gdprAppliesGlobally; window.__cmp.msgHandler = cmpMsgHandler; if (window.addEventListener) { window.addEventListener('message', cmpMsgHandler, false); } else { window.attachEvent('onmessage', cmpMsgHandler); } })(); window.__cmp('init', { 'Language': 'en', 'Initial Screen Reject Button Text': 'I do not accept', 'Initial Screen Accept Button Text': 'I accept', 'Purpose Screen Body Text': 'You can set your consent preferences and determine how you want your data to be used based on the purposes below. You may set your preferences for us independently from those of third-party partners. Each purpose has a description so that you know how we and partners use your data.', 'Vendor Screen Body Text': 'You can set consent preferences for each individual third-party company below. Expand each company list item to see what purposes they use data for to help make your choices. In some cases, companies may disclose that they use your data without asking for your consent, based on their legitimate interests. You can click on their privacy policies for more information and to opt out.', 'Vendor Screen Accept All Button Text': 'Accept all', 'Vendor Screen Reject All Button Text': 'Reject all', 'Initial Screen Body Text': 'We and our partners use technology such as cookies on our site to personalise content and ads, provide social media features, and analyse our traffic. Click below to consent to the use of this technology across the web. You can change your mind and change your consent choices at anytime by returning to this site.', 'Initial Screen Body Text Option': 1, 'Publisher Name': 'Know Your Meme', 'Publisher Logo': 'https://s.kym-cdn.com/assets/kym-logo-large.png', 'Publisher Purpose IDs': [1, 2, 3, 5], 'Publisher Purpose Legitimate Interest IDs': [1, 2, 5], 'Display UI': 'inEU', 'No Option': false, 'Display Persistent Consent Link': false }); </script>\n",
       "<script type=\"text/javascript\">\n",
       "window.suggestmeyes_loaded = true;\n",
       "</script>\n",
       "</meta></head>\n",
       "<body class=\"cols guest entries entries_all production\" data-ad-page-type=\"Misc\" data-controller-action=\"entries-all\" data-demonetized=\"false\" data-layout=\"desktop\" data-nsfw=\"false\">\n",
       "<div data-exclude=\"ugc\" data-script=\"https://media.complex.com/common/cmnUNT.js\" data-silo=\"s_pop\" data-site=\"knowyourmeme\" data-tier=\"to,t2,subhome\" data-zone=\"misc\" id=\"complex-data\"></div>\n",
       "<div data-headerscript=\"https://ads.blogherads.com/sk/12/122/1226456/26277/header.js\" data-script=\"https://ads.blogherads.com/static/blogherads.js\" id=\"shemedia-data\"></div>\n",
       "<div data-sticky=\"kym_ros_sticky\" id=\"dfp-data\"></div>\n",
       "<script type=\"text/javascript\"> (function() { function async_load(script_url) { var protocol = ('https:' == document.location.protocol ? 'https://' : 'http://'); var scr = document.createElement('script'); scr.src = protocol + script_url; var position = document.getElementsByTagName('script')[0]; position.parentNode.insertBefore(scr, position); } jQuery(document).ready(function() { async_load('literally-media.videoplayerhub.com/galleryplayer.js'); }); })(); </script>\n",
       "<noscript>\n",
       "<iframe height=\"0\" src=\"https://www.googletagmanager.com/ns.html?id=GTM-W7N8H86\" style=\"display:none;visibility:hidden\" width=\"0\"></iframe>\n",
       "</noscript>\n",
       "<div id=\"container\">\n",
       "<div class=\"longcat wrap\">\n",
       "<div class=\"rel\" id=\"omgkym\">\n",
       "<script type=\"text/javascript\"> window.fbAsyncInit = function() { FB.init({ appId: '104675392961482', status: false, xfbml: true, version: 'v3.3' }); $(document).trigger('fb-loaded'); }; (function(d, s, id) { var js, fjs = d.getElementsByTagName(s)[0]; if (d.getElementById(id)) return; js = d.createElement(s); js.id = id; js.src = 'https://connect.facebook.net/en_US/sdk.js'; fjs.parentNode.insertBefore(js, fjs); }(document, 'script', 'facebook-jssdk')); </script> <script type=\"text/javascript\"> (function() { var po = document.createElement('script'); po.type = 'text/javascript'; po.async = true; po.src = 'https://apis.google.com/js/plusone.js'; var s = document.getElementsByTagName('script')[0]; s.parentNode.insertBefore(po, s); })(); </script> <script async=\"\" data-pin-build=\"parsePins\" defer=\"\" src=\"https://assets.pinterest.com/js/pinit.js\" type=\"text/javascript\"></script> <script> window.twttr = (function(d, s, id) { var js, fjs = d.getElementsByTagName(s)[0], t = window.twttr || {}; if (d.getElementById(id)) return t; js = d.createElement(s); js.id = id; js.src = 'https://platform.twitter.com/widgets.js'; fjs.parentNode.insertBefore(js, fjs); t._e = []; t.ready = function(f) { t._e.push(f); }; return t; }(document, 'script', 'twitter-wjs')); </script> <header class=\"c\" id=\"mast\"> <div class=\"left\" id=\"logo\"> <a href=\"/\" title=\"Know Your Meme\"></a> </div> <div class=\"right\" id=\"search\"> <form action=\"/search\" id=\"search_form\" method=\"get\"> <input id=\"sort\" name=\"sort\" type=\"hidden\" value=\"newest\"/> <input autocapitalize=\"off\" autocorrect=\"off\" class=\"search-box\" id=\"search_box\" name=\"q\" placeholder=\"Search the database…\" type=\"text\" value=\"\"/><button id=\"search-submit\" type=\"submit\"></button></form> <div class=\"advanced-search-protips\"> <a href=\"/editorials/kym-database-search-operators\">Advanced Search Protips</a> </div> </div> <div class=\"right rel\" id=\"mast_links\"> <nav class=\"abs\" id=\"secondary_nav\"> <ul class=\"horiz\"> <li> <a href=\"/about\" rel=\"nofollow\">About</a> </li> <li> <a href=\"/editorials/rules-and-guidelines/\" id=\"rules_link\" rel=\"nofollow\"> <strong>Rules</strong> </a> </li> <li> <a href=\"/chat\" rel=\"nofollow\">Chat</a> </li> <li> <a class=\"random_button\" href=\"/random\" rel=\"nofollow\">Random</a> </li> <li> <a href=\"/activity\" rel=\"nofollow\">Activity</a> </li> </ul> </nav> <aside class=\"x_brt6 c abs\"> <p class=\"welcome\"> Welcome! <a class=\"b\" href=\"/login\" rel=\"nofollow\">Login</a> or <a class=\"b\" href=\"/signup\" rel=\"nofollow\">signup</a> now! </p> </aside> </div> </header>\n",
       "<nav id=\"navigation\"> <ul id=\"navigation-links\"> <li class=\"top-level\"> <a href=\"/\">Home</a> </li> <li class=\"top-level\"> <a href=\"/memes\">Memes</a> <ul class=\"dropdown\"> <li> <a href=\"/memes\">Confirmed</a> </li> <li> <a href=\"/memes/submissions\">Submissions</a> </li> <li> <a href=\"/memes/researching\">Researching</a> </li> <li> <a href=\"/memes/newsworthy\">Newsworthy</a> </li> <li> <a href=\"/memes/popular\">Popular</a> </li> <li> <a href=\"/memes/deadpool\">Deadpool</a> </li> <li> <a href=\"/memes/all\">All</a> </li> <li> <hr/> </li> <li> <a href=\"/memes/new?guidelines=1\" rel=\"nofollow\">Submit an Entry</a> </li> </ul> </li> <li class=\"top-level\"> <a href=\"/categories\">Categories</a> <ul class=\"dropdown\"> <li> <a href=\"/categories/culture\">Cultures</a> </li> <li> <a href=\"/categories/event\">Events</a> </li> <li> <a href=\"/categories/meme\">Memes</a> </li> <li> <a href=\"/categories/person\">People</a> </li> <li> <a href=\"/categories/site\">Sites</a> </li> <li> <a href=\"/categories/subculture\">Subcultures</a> </li> </ul> </li> <li class=\"top-level\"> <a href=\"//news.knowyourmeme.com:443/news\">News</a> </li> <li class=\"top-level\"> <a href=\"/photos\">Images</a> <ul class=\"dropdown\"> <li> <a href=\"/photos/trending\">Trending</a> </li> <li> <a href=\"/photos/most-commented\">Most Commented</a> </li> <li> <a href=\"/photos/most-favorited\">Most Favorited</a> </li> <li> <a href=\"/photos/most-liked\">Most Liked</a> </li> <li> <a href=\"/photos/least-liked\">Least Liked</a> </li> <li> <a href=\"/photos/most-viewed\">Most Viewed</a> </li> <li> <a href=\"/photos\">All</a> </li> <li> <hr/> </li> <li> <a href=\"/photos/templates\">Templates</a> </li> <li> <hr/> </li> <li> <a href=\"/photos/new\" rel=\"nofollow\">Upload an Image</a> </li> </ul> </li> <li class=\"top-level\"> <a href=\"/videos\">Videos</a> <ul class=\"dropdown\"> <li> <a href=\"/videos/trending\">Trending</a> </li> <li> <a href=\"/videos/most-commented\">Most Commented</a> </li> <li> <a href=\"/videos/most-favorited\">Most Favorited</a> </li> <li> <a href=\"/videos/most-liked\">Most Liked</a> </li> <li> <a href=\"/videos/most-viewed\">Most Viewed</a> </li> <li> <a href=\"/videos\">All</a> </li> <li> <hr/> </li> <li> <a href=\"/videos/new\" rel=\"nofollow\">Upload a Video</a> </li> </ul> </li> <li class=\"top-level\"> <a href=\"/forums\">Forums</a> <ul class=\"dropdown\"> <li> <a href=\"/forums/section/discussion\" rel=\"nofollow\">Discussion</a> </li> <li> <a href=\"/forums/general\">   General </a></li> <li> <a href=\"/forums/meme-research\">   Meme Research </a></li> <li> <a href=\"/forums/serious-debate\">   Serious Debate </a></li> <li> <a href=\"/forums/q-a\">   Q &amp; A </a></li> <li> <hr/> </li> <li> <a href=\"/forums/section/media\" rel=\"nofollow\">Media</a> </li> <li> <a href=\"/forums/video-games\">   Video Games </a></li> <li> <a href=\"/forums/moving-images\">   Moving Images </a></li> <li> <a href=\"/forums/books-comics\">   Books &amp; Comics </a></li> <li> <a href=\"/forums/music\">   Music </a></li> <li> <a href=\"/forums/websites\">   Websites </a></li> <li> <hr/> </li> <li> <a href=\"/forums/section/fun\" rel=\"nofollow\">Fun!</a> </li> <li> <a href=\"/forums/creative\">   Creative </a></li> <li> <a href=\"/forums/forum-games\">   Forum Games </a></li> <li> <a href=\"/forums/just-for-fun\">   Just For Fun </a></li> <li> <a href=\"/forums/riff-raff\">   Riff-Raff </a></li> <li> <a href=\"/forums/memeory-lane\">   Memeory Lane </a></li> <li> <hr/> </li> <li> <a href=\"/forums/section/maintenance\" rel=\"nofollow\">Maintenance</a> </li> <li> <a href=\"/forums/report-problems\">   Report Problems </a></li> <li> <a href=\"/forums/announcements\">   Announcements </a></li> <li> <a href=\"/forums/suggest-ideas\">   Suggest Ideas </a></li> <li> <hr/> </li> <li> <a href=\"/forums/all\" rel=\"nofollow\">All</a> </li> </ul> </li> <li class=\"top-level\"> <a href=\"/editorials\">Editorials</a> <ul class=\"dropdown\"> <li> <a href=\"/editorials/interviews\">Interviews</a> </li> <li> <a href=\"/editorials/in-the-media\">In the Media</a> </li> <li> <a href=\"/editorials/white-papers\">White Papers</a> </li> <li> <a href=\"/editorials/episode-notes\">Episode Notes</a> </li> <li> <a href=\"/editorials/behind-the-scenes\">Behind the Scenes</a> </li> <li> <a href=\"/editorials/meme-review\">Meme Review</a> </li> <li> <a href=\"/editorials/collections\">Collections</a> </li> <li> <a href=\"/editorials/poll\">Poll</a> </li> <li> <a href=\"/editorials/guides\">Guides</a> </li> <li> <a href=\"/editorials/meme-insider\">Meme Insider</a> </li> <li> <a href=\"/editorials/insights\">Insights</a> </li> <li> <a href=\"/editorials\">All</a> </li> </ul> </li> <li class=\"top-level\"> <a href=\"/episodes\">Episodes</a> </li> <li class=\"top-level\"> <a href=\"https://memeinsider.com/?utm_source=knowyourmeme.com&amp;utm_medium=header\" target=\"blank\">Meme Insider</a> </li> <li class=\"top-level\"> <a data-custom=\"Specials Links\" href=\"https://knowyourmeme.com/search?context=editorials&amp;q=tags%3A%28%222020+review%22%29\" style=\"color: green;\">Memes of 2020 </a><ul class=\"dropdown\"> <li> <a data-custom=\"Specials Links\" href=\"https://knowyourmeme.com/editorials/meme-review/kym-review-the-top-10-memes-of-2020\">Top 10 Memes</a> </li> <li> <a data-custom=\"Specials Links\" href=\"https://knowyourmeme.com/editorials/meme-review/kym-review-breakthrough-formats-of-the-year\">Breakthrough Formats</a> </li> <li> <a data-custom=\"Specials Links\" href=\"https://knowyourmeme.com/editorials/meme-review/kym-review-best-meme-creators-of-2020\">Meme Creators</a> </li> <li> <a data-custom=\"Specials Links\" href=\"https://knowyourmeme.com/editorials/meme-review/kym-review-the-most-2020-stories-of-2020\">Most Bizarre Stories</a> </li> <li> <a data-custom=\"Specials Links\" href=\"https://knowyourmeme.com/editorials/meme-review/the-memes-that-defined-the-coronavirus-pandemic-in-2020\">Coronavirus Memes</a> </li> <li> <a data-custom=\"Specials Links\" href=\"https://knowyourmeme.com/editorials/meme-review/kym-review-the-top-10-gaming-memes-of-2020\">Gaming Memes</a> </li> <li> <a data-custom=\"Specials Links\" href=\"https://knowyourmeme.com/editorials/meme-review/kym-review-top-wojaks-of-the-year\">Wojaks</a> </li> <li> <a data-custom=\"Specials Links\" href=\"https://knowyourmeme.com/editorials/meme-review/kym-review-the-top-meme-revivals-of-2020\">Meme Revivals</a> </li> <li> <a data-custom=\"Specials Links\" href=\"https://knowyourmeme.com/editorials/meme-review/kym-review-the-horny-bewildering-slang-of-2020\">Slang Terms</a> </li> <li> <a data-custom=\"Specials Links\" href=\"https://knowyourmeme.com/editorials/collections/kym-review-10-best-tiktoks-of-2020\">TikToks</a> </li> </ul> </li> </ul> </nav>\n",
       "<section id=\"leaderboard\"> <ul> <li data-index=\"1\"> <article class=\"rel c entry\" id=\"newsfeed_lb_12813\"> <a class=\"photo left\" href=\"/memes/i-need-an-adult\" target=\"_self\"><img alt=\"'I Need An Adult' Is A Call From Meme Culture Past\" data-src=\"https://i.kym-cdn.com/featured_items/icons/wide/000/012/813/i_need_an_adult_by_tsurugikage-d30hncf.jpeg\" height=\"112\" src=\"https://s.kym-cdn.com/assets/blank-b3f96f160b75b1b49b426754ba188fe8.gif\" title=\"'I Need An Adult' Is A Call From Meme Culture Past\" width=\"198\"/> <div class=\"info abs\"> <div class=\"c\"> 'I Need An Adult' Is A Call From Meme Culture Past </div> </div> </a></article> </li> <li data-index=\"2\"> <article class=\"rel c entry\" id=\"newsfeed_lb_12812\"> <a class=\"photo left\" href=\"/memes/chris-redfield-punching-a-boulder\" target=\"_self\"><img alt=\"When Chris Redfield Punched A Boulder, He Sealed His Place In 'Resident Evil' Canon\" data-src=\"https://i.kym-cdn.com/featured_items/icons/wide/000/012/812/448.gif\" height=\"112\" src=\"https://s.kym-cdn.com/assets/blank-b3f96f160b75b1b49b426754ba188fe8.gif\" title=\"When Chris Redfield Punched A Boulder, He Sealed His Place In 'Resident Evil' Canon\" width=\"198\"/> <div class=\"info abs\"> <div class=\"c\"> When Chris Redfield Punched A Boulder, He Sealed His Place In 'Resident Evil' Canon </div> </div> </a></article> </li> <li data-index=\"3\"> <article class=\"rel c entry\" id=\"newsfeed_lb_12811\"> <a class=\"photo left\" href=\"/memes/people/kanye-east\" target=\"_self\"><img alt=\"Bizarro World Kanye West 'Kanye East' Hits Big With 'Fortnite Balls' Rap\" data-src=\"https://i.kym-cdn.com/featured_items/icons/wide/000/012/811/a44.jpg\" height=\"112\" src=\"https://s.kym-cdn.com/assets/blank-b3f96f160b75b1b49b426754ba188fe8.gif\" title=\"Bizarro World Kanye West 'Kanye East' Hits Big With 'Fortnite Balls' Rap\" width=\"198\"/> <div class=\"info abs\"> <div class=\"c\"> Bizarro World Kanye West 'Kanye East' Hits Big With 'Fortnite Balls' Rap </div> </div> </a></article> </li> <li data-index=\"4\"> <article class=\"rel c entry\" id=\"newsfeed_lb_12810\"> <a class=\"photo left\" href=\"/memes/if-it-was-written-by-joss-whedon\" target=\"_self\"><img alt=\"Film Twitter Is Sending Up Joss Whedon With 'If It Was Written By Whedon' Parodies\" data-src=\"https://i.kym-cdn.com/featured_items/icons/wide/000/012/810/E1AKLZAXMAIVoAC.jpeg\" height=\"112\" src=\"https://s.kym-cdn.com/assets/blank-b3f96f160b75b1b49b426754ba188fe8.gif\" title=\"Film Twitter Is Sending Up Joss Whedon With 'If It Was Written By Whedon' Parodies\" width=\"198\"/> <div class=\"info abs\"> <div class=\"c\"> Film Twitter Is Sending Up Joss Whedon With 'If It Was Written By Whedon' Parodies </div> </div> </a></article> </li> <li data-index=\"5\"> <article class=\"rel c entry\" id=\"newsfeed_lb_12809\"> <a class=\"photo left\" href=\"/memes/cultures/liminal-spaces-images-with-elegiac-auras\" target=\"_self\"><img alt=\"Ever Since The Backrooms Went Viral, The Internet Had A Strange Obsession With Liminal Spaces\" data-src=\"https://i.kym-cdn.com/featured_items/icons/wide/000/012/809/cover2.jpg\" height=\"112\" src=\"https://s.kym-cdn.com/assets/blank-b3f96f160b75b1b49b426754ba188fe8.gif\" title=\"Ever Since The Backrooms Went Viral, The Internet Had A Strange Obsession With Liminal Spaces\" width=\"198\"/> <div class=\"info abs\"> <div class=\"c\"> Ever Since The Backrooms Went Viral, The Internet Had A Strange Obsession With Liminal Spaces </div> </div> </a></article> </li> </ul> </section> <section id=\"trending-bar\"> <h5 class=\"left\"> Also Trending: </h5> <a href=\"/memes/nobody-wants-to-work-anymore\" title=\"Nobody Wants To Work Anymore\">Nobody Wants To Work Anymore</a> <a href=\"/memes/if-it-was-written-by-joss-whedon\" title=\"If It Was Written By Joss Whedon\">If It Was Written By Joss Whedon</a> </section>\n",
       "</div>\n",
       "</div>\n",
       "</div>\n",
       "<div class=\"header-unit-wrapper shemedia-ad-wrapper\"> <div class=\"ad-container-div\"> <div class=\"shemedia-header-unit shemedia-ad\" data-name=\"kym_entry_top_leaderboard_desktop\" data-shemedia-size=\"flexbanner\" id=\"kym_entry_top_leaderboard_desktop\"> <div id=\"kym_entry_top_leaderboard_desktop\"></div> </div> </div> </div>\n",
       "<div class=\"x_brb6 c\" id=\"content\">\n",
       "<div class=\"\" id=\"maru\">\n",
       "<div class=\"c\" id=\"section_header_wrap\">\n",
       "<header class=\"c\" id=\"section_header\">\n",
       "<hgroup class=\"left\"> <h1> All Entries </h1> <br/> <p>Browsing all 28,126 meme entries.</p> <br/> </hgroup> <p class=\"right\"> <a class=\"button large red\" href=\"/memes/new?guidelines=1\" rel=\"nofollow\">+ Add an Entry</a> </p> <div class=\"homepage-share\"> <div class=\"facebook-homepage-like\"> <div class=\"like-text\">Like us on Facebook!</div> <div class=\"fb-like\" data-href=\"https://facebook.com/knowyourmeme\" data-position=\"header\" data-ref=\"page-like\" data-send=\"false\" data-show-faces=\"false\" data-width=\"475\"></div> </div> </div>\n",
       "</header>\n",
       "</div>\n",
       "<div id=\"flashes\"> </div>\n",
       "<nav>\n",
       "<ul class=\"tabs\" id=\"entry-gallery-tabs\">\n",
       "<li>\n",
       "<a href=\"/memes\">Confirmed</a>\n",
       "</li>\n",
       "<li>\n",
       "<a href=\"/memes/submissions\">Submissions</a>\n",
       "</li>\n",
       "<li>\n",
       "<a href=\"/memes/researching\">Researching</a>\n",
       "</li>\n",
       "<li>\n",
       "<a href=\"/memes/newsworthy\">Newsworthy</a>\n",
       "</li>\n",
       "<li>\n",
       "<a href=\"/memes/popular\">Most Popular</a>\n",
       "</li>\n",
       "<li>\n",
       "<a href=\"/memes/deadpool\">Deadpool</a>\n",
       "</li>\n",
       "<li class=\"current\">\n",
       "<a href=\"/memes/all\">All Entries</a>\n",
       "</li>\n",
       "</ul>\n",
       "</nav>\n",
       "<div id=\"infinite-scroll-wrapper\">\n",
       "<section id=\"entries\">\n",
       "<div class=\"entry-sort-options\">\n",
       "<p>\n",
       "<span class=\"entry-sort-link-text\">Sorted by:</span>\n",
       "<a class=\"type-sort-link selected sort-link-tooltip\" href=\"/memes/all\" title=\"Show newest entries added to the site first\">Newest</a>\n",
       "<a class=\"type-sort-link sort-link-tooltip\" href=\"/memes/all?sort=oldest\" title=\"Show oldest entries added to the site first\">Oldest</a>\n",
       "<a class=\"type-sort-link\" href=\"/memes/all?sort=views\">Views</a>\n",
       "<a class=\"type-sort-link sort-link-tooltip\" href=\"/memes/all?sort=chronological\" title=\"Show oldest entries by year first\">Chronological</a>\n",
       "<a class=\"type-sort-link sort-link-tooltip\" href=\"/memes/all?sort=reverse-chronological\" title=\"Show newest entries by year first\">Reverse Chronological</a>\n",
       "<a class=\"type-sort-link\" href=\"/memes/all?sort=comments\">Comments</a>\n",
       "<a class=\"type-sort-link\" href=\"/memes/all?sort=images\">Images</a>\n",
       "<a class=\"type-sort-link\" href=\"/memes/all?sort=videos\">Videos</a>\n",
       "</p>\n",
       "</div>\n",
       "<div class=\"item_listings\" id=\"entries_list\">\n",
       "<table class=\"entry_list\"> <tbody class=\"entry-grid-body infinite\"> <tr> <td class=\"entry_37240\"> <a class=\"photo\" href=\"/memes/nobody-asks-how-is-x\"><img alt='Nobody Asks \"How is X?\"' data-src=\"https://i.kym-cdn.com/entries/icons/medium/000/037/240/howiswaldo16x9.jpg\" src=\"https://s.kym-cdn.com/assets/blank-b3f96f160b75b1b49b426754ba188fe8.gif\" title='Nobody Asks \"How is X?\"'/> <div class=\"entry-labels\"> <span class=\"label label-submission\"> Submission </span> </div> </a><h2> <a href=\"/memes/nobody-asks-how-is-x\">Nobody Asks \"How is X?\"</a> </h2> </td> <td class=\"entry_37239\"> <a class=\"photo\" href=\"/memes/kanyeiplier\"><img alt=\"Kanye and markiplier surrounded by hearts referencing the meme.\" data-src=\"https://i.kym-cdn.com/entries/icons/medium/000/037/239/Kanyeiplier_Banner.jpg\" src=\"https://s.kym-cdn.com/assets/blank-b3f96f160b75b1b49b426754ba188fe8.gif\" title=\"#Kanyeiplier\"/> <div class=\"entry-labels\"> <span class=\"label label-submission\"> Submission </span> </div> </a><h2> <a href=\"/memes/kanyeiplier\">#Kanyeiplier</a> </h2> </td> <td class=\"entry_37238\"> <a class=\"photo\" href=\"/memes/doing-numbers\"><img alt=\"Doing Numbers meme example showing a guy sarcastically reacting to a low-engagement tweet.\" data-src=\"https://i.kym-cdn.com/entries/icons/medium/000/037/238/cover1.jpg\" src=\"https://s.kym-cdn.com/assets/blank-b3f96f160b75b1b49b426754ba188fe8.gif\" title=\"Doing Numbers\"/> <div class=\"entry-labels\"> <span class=\"label label-submission\"> Submission </span> </div> </a><h2> <a href=\"/memes/doing-numbers\">Doing Numbers</a> </h2> </td> <td class=\"entry_37237\"> <a class=\"photo\" href=\"/memes/wurmple\"><img alt=\"wurmple pokemon snap\" data-src=\"https://i.kym-cdn.com/entries/icons/medium/000/037/237/Screen_Shot_2021-05-13_at_2.17.47_PM.png\" src=\"https://s.kym-cdn.com/assets/blank-b3f96f160b75b1b49b426754ba188fe8.gif\" title=\"Wurmple\"/> <div class=\"entry-labels\"> <span class=\"label label-submission\"> Submission </span> </div> </a><h2> <a href=\"/memes/wurmple\">Wurmple</a> </h2> </td> </tr> <tr> <td class=\"entry_37236\"> <a class=\"photo\" href=\"/memes/youre-doin-good-lad\"><img alt=\"You're Doin' Good Lad meme featuring the Demoman character from Team Fortress 2 and his dialogue &quot;You're doin' good, lad.&quot;\" data-src=\"https://i.kym-cdn.com/entries/icons/medium/000/037/236/coverdoin.jpg\" src=\"https://s.kym-cdn.com/assets/blank-b3f96f160b75b1b49b426754ba188fe8.gif\" title=\"You're Doin' Good Lad\"/> <div class=\"entry-labels\"> <span class=\"label label-submission\"> Submission </span> </div> </a><h2> <a href=\"/memes/youre-doin-good-lad\">You're Doin' Good Lad</a> </h2> </td> <td class=\"entry_37235\"> <a class=\"photo\" href=\"/memes/events/2021-israel-palestine-crisis\"><img alt=\"2021 Israel–Palestine crisis\" data-src=\"https://i.kym-cdn.com/entries/icons/medium/000/037/235/1C052A84-E77B-41E0-AB6B-8AE2E8D0F7C6.jpeg\" src=\"https://s.kym-cdn.com/assets/blank-b3f96f160b75b1b49b426754ba188fe8.gif\" title=\"2021 Israel–Palestine crisis\"/> <div class=\"entry-labels\"> <span class=\"label label-deadpool\"> Deadpool </span> <span class=\"label\" style=\"background: #0b6a40; color: white;\">Event</span> </div> </a><h2> <a href=\"/memes/events/2021-israel-palestine-crisis\">2021 Israel–Palestine crisis</a> </h2> </td> <td class=\"entry_37234\"> <a class=\"photo\" href=\"/memes/nobody-wants-to-work-anymore\"><img alt=\"business signs saying they're closed \" data-src=\"https://i.kym-cdn.com/entries/icons/medium/000/037/234/workers-making-own-no-one-wants-work-business-signs-memes.jpeg\" src=\"https://s.kym-cdn.com/assets/blank-b3f96f160b75b1b49b426754ba188fe8.gif\" title=\"Nobody Wants To Work Anymore\"/> <div class=\"entry-labels\"> <span class=\"label label-submission\"> Submission </span> </div> </a><h2> <a href=\"/memes/nobody-wants-to-work-anymore\">Nobody Wants To Work Anymore</a> </h2> </td> <td class=\"entry_37233\"> <a class=\"photo\" href=\"/memes/pain-hub\"><img alt=\"Pain Hub parody logo of the PornHub logo.\" data-src=\"https://i.kym-cdn.com/entries/icons/medium/000/037/233/coverpain.jpg\" src=\"https://s.kym-cdn.com/assets/blank-b3f96f160b75b1b49b426754ba188fe8.gif\" title=\"Pain Hub\"/> <div class=\"entry-labels\"> <span class=\"label label-submission\"> Submission </span> </div> </a><h2> <a href=\"/memes/pain-hub\">Pain Hub</a> </h2> </td> </tr> <tr> <td colspan=\"4\"> <div class=\"combo-wrapper\"> <div class=\"combo-left\"> <a class=\"promotion-widget\" data-name=\"Youtooz Promo\" href=\"https://youtooz.com/collections/meme?utm_source=knowyourmeme&amp;utm_medium=banner&amp;utm_campaign=memecollection\" target=\"_blank\"><img alt=\"Youtooz Promo\" data-src=\"https://i.kym-cdn.com/promotions/images/wide/000/000/023/132.png\" height=\"250\" src=\"https://s.kym-cdn.com/assets/blank-b3f96f160b75b1b49b426754ba188fe8.gif\" title=\"Youtooz Promo\" width=\"350\"/> </a></div> <div class=\"combo-right\"> <div class=\"rectangle-unit-wrapper shemedia-ad-wrapper\"> <div class=\"ad-container-div\"> <div class=\"shemedia-rectangle-unit shemedia-ad\" data-name=\"kym_entry_incontent_mediumrect_desktop_01\" data-options='{\"containerId\":\"kym_entry_incontent_mediumrect_desktop_01\",\"lazyLoad\":false}' data-shemedia-size=\"medrec\" id=\"kym_entry_incontent_mediumrect_desktop_01\"></div> </div> </div> </div> <div class=\"clearfix\"></div> </div> </td> </tr> <tr> <td class=\"entry_37232\"> <a class=\"photo\" href=\"/memes/antonymic-misinterpretation-x-implies-the-existence-of-y\"><img alt=\"Antonymic Misinterpretation / X Implies the Existence of Y meme example from Twitter.\" data-src=\"https://i.kym-cdn.com/entries/icons/medium/000/037/232/cover4.jpg\" src=\"https://s.kym-cdn.com/assets/blank-b3f96f160b75b1b49b426754ba188fe8.gif\" title=\"Antonymic Misinterpretation / X Implies the Existence of Y\"/> <div class=\"entry-labels\"> <span class=\"label label-submission\"> Submission </span> </div> </a><h2> <a href=\"/memes/antonymic-misinterpretation-x-implies-the-existence-of-y\">Antonymic Misinterpretation / X Implies the Existence of Y</a> </h2> </td> <td class=\"entry_37231\"> <a class=\"photo\" href=\"/memes/second-breakfast\"><img alt=\"Pippin the hobbit from Lord of the Rings\" data-src=\"https://i.kym-cdn.com/entries/icons/medium/000/037/231/Untitled.jpg\" src=\"https://s.kym-cdn.com/assets/blank-b3f96f160b75b1b49b426754ba188fe8.gif\" title=\"Second Breakfast\"/> <div class=\"entry-labels\"> <span class=\"label label-submission\"> Submission </span> </div> </a><h2> <a href=\"/memes/second-breakfast\">Second Breakfast</a> </h2> </td> <td class=\"entry_37230\"> <a class=\"photo\" href=\"/memes/i-guide-others-to-a-treasure-i-cannot-possess\"><img alt=\"Red Skull facing away from Thanos and Gamora\" data-src=\"https://i.kym-cdn.com/entries/icons/medium/000/037/230/vlcsnap-2021-05-13-11h26m25s192.png\" src=\"https://s.kym-cdn.com/assets/blank-b3f96f160b75b1b49b426754ba188fe8.gif\" title=\"I Guide Others to a Treasure I Cannot Possess\"/> <div class=\"entry-labels\"> <span class=\"label label-submission\"> Submission </span> </div> </a><h2> <a href=\"/memes/i-guide-others-to-a-treasure-i-cannot-possess\">I Guide Others to a Treasure I Cannot Possess</a> </h2> </td> <td class=\"entry_37229\"> <a class=\"photo\" href=\"/memes/only-a-sith-deals-in-absolutes\"><img alt=\"Obi Wan Kenobi in Star Wars III\" data-src=\"https://i.kym-cdn.com/entries/icons/medium/000/037/229/onlyasith.jpg\" src=\"https://s.kym-cdn.com/assets/blank-b3f96f160b75b1b49b426754ba188fe8.gif\" title=\"Only a Sith Deals in Absolutes\"/> <div class=\"entry-labels\"> <span class=\"label label-submission\"> Submission </span> </div> </a><h2> <a href=\"/memes/only-a-sith-deals-in-absolutes\">Only a Sith Deals in Absolutes</a> </h2> </td> </tr> <tr> <td class=\"entry_37228\"> <a class=\"photo\" href=\"/memes/what-about-very-old-friends\"><img alt=\"Gandalf in Lord of the Rings\" data-src=\"https://i.kym-cdn.com/entries/icons/medium/000/037/228/veryoldfriends.jpg\" src=\"https://s.kym-cdn.com/assets/blank-b3f96f160b75b1b49b426754ba188fe8.gif\" title=\"What About Very Old Friends?\"/> <div class=\"entry-labels\"> <span class=\"label label-submission\"> Submission </span> </div> </a><h2> <a href=\"/memes/what-about-very-old-friends\">What About Very Old Friends?</a> </h2> </td> <td class=\"entry_37227\"> <a class=\"photo\" href=\"/memes/this-is-crap\"><img alt=\"This is crap!\" data-src=\"https://i.kym-cdn.com/entries/icons/medium/000/037/227/4hj02c.jpg\" src=\"https://s.kym-cdn.com/assets/blank-b3f96f160b75b1b49b426754ba188fe8.gif\" title=\"This is crap!\"/> <div class=\"entry-labels\"> <span class=\"label label-deadpool\"> Deadpool </span> </div> </a><h2> <a href=\"/memes/this-is-crap\">This is crap!</a> </h2> </td> <td class=\"entry_37226\"> <a class=\"photo\" href=\"/memes/nintendo-switch-calculator\"><img alt=\"An image of the Nintendo Switch Calculator.\" data-src=\"https://i.kym-cdn.com/entries/icons/medium/000/037/226/E1Gyz-6UYAExoyd.jpg\" src=\"https://s.kym-cdn.com/assets/blank-b3f96f160b75b1b49b426754ba188fe8.gif\" title=\"Nintendo Switch Calculator\"/> <div class=\"entry-labels\"> <span class=\"label label-submission\"> Submission </span> </div> </a><h2> <a href=\"/memes/nintendo-switch-calculator\">Nintendo Switch Calculator</a> </h2> </td> <td class=\"entry_37225\"> <a class=\"photo\" href=\"/memes/subcultures/ratatouille\"><img alt=\"The title card from the disney and pixar movie Ratatouille.\" data-src=\"https://i.kym-cdn.com/entries/icons/medium/000/037/225/maxresdefault.jpg\" src=\"https://s.kym-cdn.com/assets/blank-b3f96f160b75b1b49b426754ba188fe8.gif\" title=\"Ratatouille\"/> <div class=\"entry-labels\"> <span class=\"label label-submission\"> Submission </span> <span class=\"label\" style=\"background: #5d1cb1; color: white;\">Subculture</span> </div> </a><h2> <a href=\"/memes/subcultures/ratatouille\">Ratatouille</a> </h2> </td> </tr> </tbody> </table>\n",
       "</div>\n",
       "<aside><div class=\"pagination_bottom c\"><div class=\"pagination\"><span class=\"previous_page disabled\">Previous</span> <em class=\"current\">1</em> <a href=\"/memes/all/page/2\" rel=\"next\">2</a> <a href=\"/memes/all/page/3\">3</a> <a href=\"/memes/all/page/4\">4</a> <a href=\"/memes/all/page/5\">5</a> <a href=\"/memes/all/page/6\">6</a> <a href=\"/memes/all/page/7\">7</a> <a href=\"/memes/all/page/8\">8</a> <a href=\"/memes/all/page/9\">9</a> <span class=\"gap\"></span> <a href=\"/memes/all/page/1757\">1757</a> <a href=\"/memes/all/page/1758\">1758</a> <a class=\"next_page\" href=\"/memes/all/page/2\" rel=\"next\">Next</a></div></div></aside>\n",
       "</section>\n",
       "</div>\n",
       "</div>\n",
       "<aside class=\"right\" id=\"sidebar\">\n",
       "<div class=\"sidebar_box c\" id=\"entry-categories-sidebar\"> <h3> <a data-category=\"Heading\" href=\"/categories\">Entry Categories</a> </h3> <a class=\"sidebar-category-badge\" data-category=\"Events\" href=\"/categories/event\" style=\"background: #0b6a40; color: white;\">Events <span>2,348</span></a> <a class=\"sidebar-category-badge\" data-category=\"Memes\" href=\"/categories/meme\" style=\"background: #220a51; color: white;\">Memes <span>20,974</span></a> <a class=\"sidebar-category-badge\" data-category=\"People\" href=\"/categories/person\" style=\"background: #d32f2e; color: white;\">People <span>1,845</span></a> <a class=\"sidebar-category-badge\" data-category=\"Sites\" href=\"/categories/site\" style=\"background: #e09f02; color: white;\">Sites <span>615</span></a> <a class=\"sidebar-category-badge\" data-category=\"Subcultures\" href=\"/categories/subculture\" style=\"background: #5d1cb1; color: white;\">Subcultures <span>2,133</span></a> </div> <div class=\"rectangle-unit-wrapper shemedia-ad-wrapper\"> <div class=\"ad-container-div\"> <div class=\"shemedia-rectangle-unit shemedia-ad\" data-name=\"kym_entry_mediumrect_desktop_1\" data-options='{\"containerId\":\"kym_entry_mediumrect_desktop_1\",\"lazyLoad\":true}' data-shemedia-size=\"flexrec\" id=\"kym_entry_mediumrect_desktop_1\"></div> </div> </div> <div class=\"sidebar_box c\" id=\"popular_galleries\"> <h3> Today's Top Image Galleries </h3> <table> <tr class=\"row-1\"> <td> <a href=\"/memes/think-mark/photos/trending\" rel=\"nofollow\"><img alt=\"Omni-man standing over the beaten body of Invincible and lecturing him.\" class=\"top-gallery-thumbnail\" data-src=\"https://i.kym-cdn.com/entries/icons/mobile/000/037/158/thinkmarkthumbnail.jpg\" height=\"90\" src=\"https://s.kym-cdn.com/assets/blank-b3f96f160b75b1b49b426754ba188fe8.gif\" width=\"144\"/></a> <h4> <a href=\"/memes/think-mark/photos/trending\" rel=\"nofollow\">Think, Mark</a> </h4> </td> <td> <a href=\"/memes/the-onion/photos/trending\" rel=\"nofollow\"><img alt=\"The Onion\" class=\"top-gallery-thumbnail\" data-src=\"https://i.kym-cdn.com/entries/icons/mobile/000/010/280/onion.jpg\" height=\"90\" src=\"https://s.kym-cdn.com/assets/blank-b3f96f160b75b1b49b426754ba188fe8.gif\" width=\"144\"/></a> <h4> <a href=\"/memes/the-onion/photos/trending\" rel=\"nofollow\">The Onion</a> </h4> </td> </tr> <tr class=\"row-2\"> <td> <a href=\"/memes/where-are-her-organs/photos/trending\" rel=\"nofollow\"><img alt=\"cartoon character in a grey beanie looking upset where are her organs? her boobs are too big! this is terrible anatomy!\" class=\"top-gallery-thumbnail\" data-src=\"https://i.kym-cdn.com/entries/icons/mobile/000/034/072/cover1.jpg\" height=\"90\" src=\"https://s.kym-cdn.com/assets/blank-b3f96f160b75b1b49b426754ba188fe8.gif\" width=\"144\"/></a> <h4> <a href=\"/memes/where-are-her-organs/photos/trending\" rel=\"nofollow\">Where Are Her Organs?</a> </h4> </td> <td> <a href=\"/memes/lady-dimitrescu/photos/trending\" rel=\"nofollow\"><img alt=\"Tall woman in a wide brimmed hat and a bold lip from Resident Evil\" class=\"top-gallery-thumbnail\" data-src=\"https://i.kym-cdn.com/entries/icons/mobile/000/036/299/Resident_Evil_Village_-_3rd_Trailer_1-49_screenshot.jpg\" height=\"90\" src=\"https://s.kym-cdn.com/assets/blank-b3f96f160b75b1b49b426754ba188fe8.gif\" width=\"144\"/></a> <h4> <a href=\"/memes/lady-dimitrescu/photos/trending\" rel=\"nofollow\">Lady Dimitrescu</a> </h4> </td> </tr> </table> </div> <div class=\"sidebar_box c\" id=\"researching-entries\"> <h3> <a href=\"/memes/researching\">Researching Now</a> </h3> <a href=\"/memes/bracket-explanations\" rel=\"nofollow\"><img alt=\"Cover4\" class=\"gallery_icon\" data-src=\"https://i.kym-cdn.com/entries/icons/tiny/000/037/179/cover4.jpg\" height=\"42\" src=\"https://s.kym-cdn.com/assets/blank-b3f96f160b75b1b49b426754ba188fe8.gif\" width=\"42\"/></a> <div class=\"topic\"> <h6> <a href=\"/memes/bracket-explanations\" rel=\"nofollow\">Bracket Explanations</a> </h6> <div class=\"stats\"> <dl> <dd class=\"views\" title=\"366 views\"> <a href=\"/memes/bracket-explanations\" rel=\"nofollow\">366 views</a> </dd> </dl> </div> </div> <div class=\"c\"></div> <a href=\"/memes/its-x-weekday\" rel=\"nofollow\"><img alt=\"It%e2%80%99s_thresher_shark_thursday_0-9_screenshot\" class=\"gallery_icon\" data-src=\"https://i.kym-cdn.com/entries/icons/tiny/000/037/039/it%E2%80%99s_thresher_shark_thursday_0-9_screenshot.png\" height=\"42\" src=\"https://s.kym-cdn.com/assets/blank-b3f96f160b75b1b49b426754ba188fe8.gif\" width=\"42\"/></a> <div class=\"topic\"> <h6> <a href=\"/memes/its-x-weekday\" rel=\"nofollow\">It's X [Weekday]</a> </h6> <div class=\"stats\"> <dl> <dd class=\"views\" title=\"552 views\"> <a href=\"/memes/its-x-weekday\" rel=\"nofollow\">552 views</a> </dd> </dl> </div> </div> <div class=\"c\"></div> <a href=\"/memes/doom-soundtrack\" rel=\"nofollow\"><img alt=\"Capsule_616x353\" class=\"gallery_icon\" data-src=\"https://i.kym-cdn.com/entries/icons/tiny/000/036/954/capsule_616x353.jpg\" height=\"42\" src=\"https://s.kym-cdn.com/assets/blank-b3f96f160b75b1b49b426754ba188fe8.gif\" width=\"42\"/></a> <div class=\"topic\"> <h6> <a href=\"/memes/doom-soundtrack\" rel=\"nofollow\">Doom Soundtrack</a> </h6> <div class=\"stats\"> <dl> <dd class=\"views\" title=\"742 views\"> <a href=\"/memes/doom-soundtrack\" rel=\"nofollow\">742 views</a> </dd> </dl> </div> </div> <div class=\"c\"></div> <a href=\"/memes/people/mohammad-rajab-wali-joe-biden-wake-up\" rel=\"nofollow\"><img alt=\"Cover12\" class=\"gallery_icon\" data-src=\"https://i.kym-cdn.com/entries/icons/tiny/000/036/911/cover12.png\" height=\"42\" src=\"https://s.kym-cdn.com/assets/blank-b3f96f160b75b1b49b426754ba188fe8.gif\" width=\"42\"/></a> <div class=\"topic\"> <h6> <a href=\"/memes/people/mohammad-rajab-wali-joe-biden-wake-up\" rel=\"nofollow\">Mohammad Rajab Wali / Joe Biden Wake Up</a> </h6> <div class=\"stats\"> <dl> <dd class=\"views\" title=\"13,340 views\"> <a href=\"/memes/people/mohammad-rajab-wali-joe-biden-wake-up\" rel=\"nofollow\">13,340 views</a> </dd> </dl> </div> </div> <div class=\"c\"></div> <a href=\"/memes/all-of-the-lights\" rel=\"nofollow\"><img alt=\"Untitled\" class=\"gallery_icon\" data-src=\"https://i.kym-cdn.com/entries/icons/tiny/000/036/909/Untitled.png\" height=\"42\" src=\"https://s.kym-cdn.com/assets/blank-b3f96f160b75b1b49b426754ba188fe8.gif\" width=\"42\"/></a> <div class=\"topic\"> <h6> <a href=\"/memes/all-of-the-lights\" rel=\"nofollow\">All Of The Lights</a> </h6> <div class=\"stats\"> <dl> <dd class=\"views\" title=\"1,286 views\"> <a href=\"/memes/all-of-the-lights\" rel=\"nofollow\">1,286 views</a> </dd> </dl> </div> </div> <div class=\"c\"></div> </div> <div class=\"sticky-sidebar\"> <div class=\"rectangle-unit-wrapper shemedia-ad-wrapper\"> <div class=\"ad-container-div\"> <div class=\"shemedia-rectangle-unit shemedia-ad\" data-name=\"kym_entry_mediumrect_sticky_desktop\" data-options='{\"lazyLoad\":true}' data-shemedia-size=\"flexrec\" id=\"kym_entry_mediumrect_sticky_desktop\"></div> </div> </div> <div class=\"like_box\"> <div class=\"fb-page fb-page-like-sidebar\" data-adapt-container-width=\"false\" data-hide-cover=\"true\" data-href=\"https://www.facebook.com/knowyourmeme\" data-position=\"like-box\" data-show-facepile=\"false\" data-small-header=\"true\" data-width=\"300\"></div> </div> <div id=\"disable-infinite-scroll-button\"> <a class=\"large green button\" href=\"javascript:;\">Infinite Scroll <i class=\"fa fa-check-square-o\"></i> </a></div> <div class=\"privacy-policy\"> <a href=\"/privacy\" rel=\"nofollow\" target=\"_blank\">Privacy Policy</a> </div> </div>\n",
       "</aside>\n",
       "</div>\n",
       "<script id=\"44972b8b1c3142478b59b73e21224fbc\"></script>\n",
       "<script async=\"\" data-cfasync=\"false\" src=\"https://api.b2c.com/api/init-40069ffybbzfqiynrkd.js\"></script> <noscript> <img src=\"https://api.b2c.com/api/noscript-40069ffybbzfqiynrkd.gif\"/> </noscript>\n",
       "<footer id=\"footer\"> <div class=\"wrap\"> <table id=\"footer_boxes\"> <tr> <td class=\"footer_box\"> <h5>About KYM</h5> <ul> <li> <a href=\"/about\">Our Story</a> </li> <li> <a href=\"/editorials/rules-and-guidelines/\">Site Rules</a> </li> <li> <a href=\"/credits\">Credits</a> </li> <li> <a href=\"/contact\">Contact</a> </li> </ul> </td> <td class=\"footer_box\"> <h5>Meme DB</h5> <ul> <li> <a href=\"/memes\">Memes</a> </li> <li> <a href=\"/episodes\">Episodes</a> </li> <li> <a href=\"/editorials\">Editorials</a> </li> <li> <a href=\"/photos\">Images</a> </li> <li> <a href=\"/videos\">Videos</a> </li> </ul> </td> <td class=\"footer_box\"> <h5>KYM News</h5> <ul> <li> <a href=\"/news\">Newsfeed</a> </li> <li> <a href=\"/news/staff\">Staff</a> </li> <li> <a href=\"/news/contact\">Contact</a> </li> </ul> </td> <td class=\"footer_box\"> <h5>Extras!</h5> <ul> <li> <a href=\"/chat\" rel=\"nofollow\">Chat</a> </li> <li> <a href=\"/forums\">Forums</a> </li> <li> <a href=\"/editorials/the-style-guide\">Style Guide</a> </li> <li> <a href=\"/subscribe\">RSS Feeds</a> </li> </ul> </td> <td class=\"footer_box\"> <h5>KYM Social</h5> <ul> <li> <a href=\"https://www.facebook.com/knowyourmeme\" rel=\"nofollow\" target=\"_blank\">Facebook</a> </li> <li> <a href=\"https://www.pinterest.com/knowyourmeme/\" rel=\"nofollow\" target=\"_blank\">Pinterest</a> </li> <li> <a href=\"https://twitter.com/knowyourmeme\" rel=\"nofollow\" target=\"_blank\">Twitter</a> </li> <li> <a href=\"https://www.youtube.com/user/KnowYourMeme\" rel=\"nofollow\" target=\"_blank\">YouTube</a> </li> <li> <a href=\"http://tumblr.knowyourmeme.com\" rel=\"nofollow\" target=\"_blank\">Tumblr</a> </li> </ul> </td> </tr> </table> </div> </footer> <div id=\"sub_network_footer_wrapper\"> <div id=\"subnetworkfooter\"> <p class=\"footerlinks\"> <strong> Legal Information: </strong> <a href=\"/\" rel=\"nofollow\" target=\"_blank\">Know Your Meme ®</a> is a trademark of <a href=\"http://literally.media\" rel=\"nofollow\" target=\"_blank\">Literally Media Ltd.</a> By using this site, you are agreeing by the site's <a href=\"/terms-of-service\" rel=\"nofollow\" target=\"_blank\">terms of use</a> and <a href=\"/privacy\" rel=\"nofollow\" target=\"_blank\">privacy policy</a> and <a href=\"/dmca\" rel=\"nofollow\" target=\"_blank\">DMCA policy</a>. <br/> © 2007-2021 <a href=\"http://literally.media\" target=\"_blank\">Literally Media Ltd.</a> </p> </div> </div>\n",
       "<div class=\"hide\"> <div id=\"login_signup_form\"> <h3>Hey! You must login or signup first!</h3> <table> <tr> <td class=\"login\"> <h6>Already a memeber?</h6> <p><a class=\"large red button\" href=\"/login\" rel=\"nofollow\">Login Now!</a></p> </td> <td class=\"signup\"> <h6>Don't have an account?</h6> <p><a class=\"large red button\" href=\"/signup\" rel=\"nofollow\">Sign up Now!</a></p> </td> </tr> </table> </div> </div> <div class=\"hide\"> <div id=\"abm\"> <a href=\"/whitelist-us\" id=\"abm-image-link\" rel=\"nofollow\" target=\"_blank\"><img alt=\"Abm\" data-src=\"https://s.kym-cdn.com/assets/abm-5e4f6f4a89609dcba11dbc32772815cc.png\" height=\"800\" id=\"abm-image\" src=\"https://s.kym-cdn.com/assets/blank-b3f96f160b75b1b49b426754ba188fe8.gif\" width=\"800\"> </img></a><p> <a href=\"javascript:;\" id=\"abm-close-text\" rel=\"nofollow\">No thanks, take me back to the meme zone!</a> </p> </div> </div> <script type=\"text/javascript\">var _qevents = _qevents || []; (function() { var elem = document.createElement('script'); elem.src = (document.location.protocol == \"https:\" ? \"https://secure\" : \"http://edge\") + \".quantserve.com/quant.js\"; elem.async = true; elem.type = \"text/javascript\"; var scpt = document.getElementsByTagName('script')[0]; scpt.parentNode.insertBefore(elem, scpt); })(); _qevents.push([{ qacct:\"p-byLmeZUvD2jyq\" }]);</script> <noscript> <div style=\"display: none;\"> <img alt=\"Quantcast\" border=\"0\" height=\"1\" src=\"https://pixel.quantserve.com/pixel?a.1=p-75z9nhQwNH4Ek&amp;a.2=p-149W7Ang9fLCQ\" style=\"display: none;\" width=\"1\"/> </div> </noscript> <script type=\"text/javascript\">var _comscore = _comscore || []; _comscore.push({ c1: \"2\", c2: \"6685975\" }); (function() { var s = document.createElement(\"script\"), el = document.getElementsByTagName(\"script\")[0]; s.async = true; s.src = (document.location.protocol == \"https:\" ? \"https://sb\" : \"http://b\") + \".scorecardresearch.com/beacon.js\"; el.parentNode.insertBefore(s, el); })();</script> <noscript> <img src=\"https://sb.scorecardresearch.com/p?c1=2&amp;c2=6685975&amp;cv=2.0&amp;cj=1\"/> </noscript> <div class=\"chartbeat-sections\" data-sections=\"Entry Galleries\"></div> <script> function sendToGoogleAnalytics({name, delta, id}) { console.log(name); ga('send', 'event', { eventCategory: 'Web Vitals', eventAction: name, eventLabel: id, eventValue: Math.round(name === 'CLS' ? delta * 1000 : delta), nonInteraction: true, transport: 'beacon', }); } (function() { var script = document.createElement('script'); script.src = 'https://unpkg.com/web-vitals'; script.onload = function() { webVitals.getCLS(sendToGoogleAnalytics); webVitals.getFID(sendToGoogleAnalytics); webVitals.getLCP(sendToGoogleAnalytics); }; document.getElementsByTagName(\"head\")[0].appendChild(script); }()) </script>\n",
       "<div class=\"social-data\" data-media=\"https://s.kym-cdn.com/assets/kym-logo-large.png\" data-url=\"https://knowyourmeme.com/memes/all/page/1\"></div>\n",
       "<div class=\"complex-ad-wrapper adhesion hide\"> <div class=\"adhesion-dismissal\"> <a href=\"#\" id=\"adhesion_dismiss\">Close [X]</a> </div> <div class=\"complex-ad\" data-complex=\"false\" data-dfp-name=\"kym_adhesion_desktop\" data-dfp-size=\"[728, 90]\" data-options='{\"containerId\":\"kym_adhesion\",\"keywords\":\"userLoggedIn\"}' id=\"kym_adhesion\"></div> </div>\n",
       "<div class=\"complex-ad-wrapper\"> <div class=\"complex-ad\" data-complex=\"false\" data-dfp-name=\"kym_richmedia\" data-dfp-size=\"[1, 1]\" data-options='{\"containerId\":\"kym_richmedia\"}' id=\"kym_richmedia\"></div> </div>\n",
       "<script async=\"\" src=\"https://confiant-integrations.global.ssl.fastly.net/1LTHH6xASXMDHFRDP1KqXZl59ww/gpt_and_prebid/config.js\"></script>\n",
       "</body>\n",
       "</html>"
      ]
     },
     "execution_count": 13,
     "metadata": {},
     "output_type": "execute_result"
    }
   ],
   "source": [
    "soup"
   ]
  },
  {
   "cell_type": "code",
   "execution_count": 14,
   "metadata": {},
   "outputs": [
    {
     "data": {
      "text/plain": [
       "<title>All Entries | Know Your Meme</title>"
      ]
     },
     "execution_count": 14,
     "metadata": {},
     "output_type": "execute_result"
    }
   ],
   "source": [
    "soup.html.head.title"
   ]
  },
  {
   "cell_type": "markdown",
   "metadata": {},
   "source": [
    "Более того, зная адрес элемента, мы сразу можем найти его. Например, можно сделать это по классу. Следующая команда должна найти элемент, который лежит внутри тега a и имеет класс photo."
   ]
  },
  {
   "cell_type": "code",
   "execution_count": 15,
   "metadata": {},
   "outputs": [
    {
     "data": {
      "text/plain": [
       "<a class=\"photo\" href=\"/memes/nobody-asks-how-is-x\"><img alt='Nobody Asks \"How is X?\"' data-src=\"https://i.kym-cdn.com/entries/icons/medium/000/037/240/howiswaldo16x9.jpg\" src=\"https://s.kym-cdn.com/assets/blank-b3f96f160b75b1b49b426754ba188fe8.gif\" title='Nobody Asks \"How is X?\"'/> <div class=\"entry-labels\"> <span class=\"label label-submission\"> Submission </span> </div> </a>"
      ]
     },
     "execution_count": 15,
     "metadata": {},
     "output_type": "execute_result"
    }
   ],
   "source": [
    "obj = soup.find(lambda tag: tag.name == 'a' and tag.get('class') == ['photo'])\n",
    "obj"
   ]
  },
  {
   "cell_type": "markdown",
   "metadata": {},
   "source": [
    "Полученный после поиска объект также обладает структурой bs4. Поэтому можно продолжить искать нужные нам объекты уже в нём! Вытащим ссылку на этот мем. Сделать это можно по атрибуту href, в котором лежит наша ссылка."
   ]
  },
  {
   "cell_type": "code",
   "execution_count": 16,
   "metadata": {},
   "outputs": [
    {
     "data": {
      "text/plain": [
       "'/memes/nobody-asks-how-is-x'"
      ]
     },
     "execution_count": 16,
     "metadata": {},
     "output_type": "execute_result"
    }
   ],
   "source": [
    "obj.attrs['href']"
   ]
  },
  {
   "cell_type": "markdown",
   "metadata": {},
   "source": [
    "Если несколько элементов на странице обладают указанным адресом, то метод find вернёт только самый первый. Чтобы найти все элементы с таким адресом, нужно использовать метод findAll, и на выход будет выдан список. Таким образом, мы можем получить одним поиском сразу все объекты, содержащие ссылки на страницы с мемами."
   ]
  },
  {
   "cell_type": "code",
   "execution_count": 17,
   "metadata": {},
   "outputs": [
    {
     "data": {
      "text/plain": [
       "[<a class=\"photo\" href=\"/memes/nobody-asks-how-is-x\"><img alt='Nobody Asks \"How is X?\"' data-src=\"https://i.kym-cdn.com/entries/icons/medium/000/037/240/howiswaldo16x9.jpg\" src=\"https://s.kym-cdn.com/assets/blank-b3f96f160b75b1b49b426754ba188fe8.gif\" title='Nobody Asks \"How is X?\"'/> <div class=\"entry-labels\"> <span class=\"label label-submission\"> Submission </span> </div> </a>,\n",
       " <a class=\"photo\" href=\"/memes/kanyeiplier\"><img alt=\"Kanye and markiplier surrounded by hearts referencing the meme.\" data-src=\"https://i.kym-cdn.com/entries/icons/medium/000/037/239/Kanyeiplier_Banner.jpg\" src=\"https://s.kym-cdn.com/assets/blank-b3f96f160b75b1b49b426754ba188fe8.gif\" title=\"#Kanyeiplier\"/> <div class=\"entry-labels\"> <span class=\"label label-submission\"> Submission </span> </div> </a>,\n",
       " <a class=\"photo\" href=\"/memes/doing-numbers\"><img alt=\"Doing Numbers meme example showing a guy sarcastically reacting to a low-engagement tweet.\" data-src=\"https://i.kym-cdn.com/entries/icons/medium/000/037/238/cover1.jpg\" src=\"https://s.kym-cdn.com/assets/blank-b3f96f160b75b1b49b426754ba188fe8.gif\" title=\"Doing Numbers\"/> <div class=\"entry-labels\"> <span class=\"label label-submission\"> Submission </span> </div> </a>]"
      ]
     },
     "execution_count": 17,
     "metadata": {},
     "output_type": "execute_result"
    }
   ],
   "source": [
    "meme_links = soup.findAll(lambda tag: tag.name == 'a' and tag.get('class')==['photo'])\n",
    "meme_links[:3]"
   ]
  },
  {
   "cell_type": "markdown",
   "metadata": {},
   "source": [
    "Осталось очистить полученный список от мусора:"
   ]
  },
  {
   "cell_type": "code",
   "execution_count": 19,
   "metadata": {},
   "outputs": [
    {
     "data": {
      "text/plain": [
       "['/memes/nobody-asks-how-is-x',\n",
       " '/memes/kanyeiplier',\n",
       " '/memes/doing-numbers',\n",
       " '/memes/wurmple',\n",
       " '/memes/youre-doin-good-lad',\n",
       " '/memes/events/2021-israel-palestine-crisis',\n",
       " '/memes/nobody-wants-to-work-anymore',\n",
       " '/memes/pain-hub',\n",
       " '/memes/antonymic-misinterpretation-x-implies-the-existence-of-y',\n",
       " '/memes/second-breakfast']"
      ]
     },
     "execution_count": 19,
     "metadata": {},
     "output_type": "execute_result"
    }
   ],
   "source": [
    "meme_links = [link.attrs['href'] for link in meme_links]\n",
    "meme_links[:10]"
   ]
  },
  {
   "cell_type": "code",
   "execution_count": 20,
   "metadata": {},
   "outputs": [],
   "source": [
    "def getPageLinks(page_number):\n",
    "    \"\"\"\n",
    "        Возвращает список ссылок на мемы, полученный с текущей страницы\n",
    "\n",
    "        page_number: int/string\n",
    "            номер страницы для парсинга\n",
    "\n",
    "    \"\"\"\n",
    "    # составляем ссылку на страницу поиска\n",
    "    page_link = 'http://knowyourmeme.com/memes/all/page/{}'.format(page_number)\n",
    "\n",
    "    # запрашиваем данные по ней\n",
    "    response = requests.get(page_link, headers={'User-Agent': UserAgent().chrome})\n",
    "\n",
    "    if not response.ok:\n",
    "        # если сервер нам отказал, вернем пустой лист для текущей страницы\n",
    "        return []\n",
    "\n",
    "    # получаем содержимое страницы и переводим в суп\n",
    "    html = response.content\n",
    "    soup = BeautifulSoup(html,'html.parser')\n",
    "\n",
    "    # наконец, ищем ссылки на мемы и очищаем их от ненужных тэгов\n",
    "    meme_links = soup.findAll(lambda tag: tag.name == 'a' and tag.get('class') == ['photo'])\n",
    "    meme_links = ['http://knowyourmeme.com' + link.attrs['href'] for link in meme_links]\n",
    "\n",
    "    return meme_links"
   ]
  },
  {
   "cell_type": "code",
   "execution_count": 21,
   "metadata": {},
   "outputs": [
    {
     "data": {
      "text/plain": [
       "['http://knowyourmeme.com/memes/nobody-asks-how-is-x',\n",
       " 'http://knowyourmeme.com/memes/kanyeiplier']"
      ]
     },
     "execution_count": 21,
     "metadata": {},
     "output_type": "execute_result"
    }
   ],
   "source": [
    "meme_links = getPageLinks(1)\n",
    "meme_links[:2]"
   ]
  },
  {
   "cell_type": "code",
   "execution_count": null,
   "metadata": {},
   "outputs": [],
   "source": []
  }
 ],
 "metadata": {
  "kernelspec": {
   "display_name": "Python 3",
   "language": "python",
   "name": "python3"
  },
  "language_info": {
   "codemirror_mode": {
    "name": "ipython",
    "version": 3
   },
   "file_extension": ".py",
   "mimetype": "text/x-python",
   "name": "python",
   "nbconvert_exporter": "python",
   "pygments_lexer": "ipython3",
   "version": "3.8.5"
  },
  "toc": {
   "base_numbering": 1,
   "nav_menu": {},
   "number_sections": true,
   "sideBar": true,
   "skip_h1_title": false,
   "title_cell": "Table of Contents",
   "title_sidebar": "Contents",
   "toc_cell": false,
   "toc_position": {},
   "toc_section_display": true,
   "toc_window_display": false
  },
  "varInspector": {
   "cols": {
    "lenName": 16,
    "lenType": 16,
    "lenVar": 40
   },
   "kernels_config": {
    "python": {
     "delete_cmd_postfix": "",
     "delete_cmd_prefix": "del ",
     "library": "var_list.py",
     "varRefreshCmd": "print(var_dic_list())"
    },
    "r": {
     "delete_cmd_postfix": ") ",
     "delete_cmd_prefix": "rm(",
     "library": "var_list.r",
     "varRefreshCmd": "cat(var_dic_list()) "
    }
   },
   "types_to_exclude": [
    "module",
    "function",
    "builtin_function_or_method",
    "instance",
    "_Feature"
   ],
   "window_display": false
  }
 },
 "nbformat": 4,
 "nbformat_minor": 4
}
