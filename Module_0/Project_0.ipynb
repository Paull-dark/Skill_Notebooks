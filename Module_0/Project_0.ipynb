{
 "cells": [
  {
   "cell_type": "code",
   "execution_count": null,
   "metadata": {},
   "outputs": [],
   "source": [
    "import numpy as np\n",
    "number = np.random.randint(1,101)    # загадали число\n",
    "print (\"Загадано число от 1 до 100\")\n",
    "for count in range(1,101):         # более компактный вариант счетчика\n",
    "    if number == count: break    # выход из цикла, если угадали      \n",
    "print (f\"Вы угадали число {number} за {count} попыток.\")"
   ]
  },
  {
   "cell_type": "code",
   "execution_count": null,
   "metadata": {},
   "outputs": [],
   "source": [
    "def game_core_v1(number):\n",
    "    '''Просто угадываем на random, никак не используя информацию о больше или меньше.\n",
    "       Функция принимает загаданное число и возвращает число попыток'''\n",
    "    count = 0\n",
    "    while True:\n",
    "        count+=1\n",
    "        predict = np.random.randint(1,101) # предполагаемое число\n",
    "        if number == predict: \n",
    "            return(count) # выход из цикла, если угадали\n",
    "        \n",
    "        \n",
    "def score_game(game_core):\n",
    "    '''Запускаем игру 1000 раз, чтобы узнать, как быстро игра угадывает число'''\n",
    "    count_ls = []\n",
    "    np.random.seed(1)  # фиксируем RANDOM SEED, чтобы ваш эксперимент был воспроизводим!\n",
    "    random_array = np.random.randint(1,101, size=(1000))\n",
    "    print (random_array)\n",
    "    for number in random_array:\n",
    "        count_ls.append(game_core(number))\n",
    "    score = int(np.mean(count_ls))\n",
    "    print(f\"Ваш алгоритм угадывает число в среднем за {score} попыток\")\n",
    "    return(score)\n",
    "    print(count_ls)\n",
    "score_game(game_core_v1)\n"
   ]
  },
  {
   "cell_type": "code",
   "execution_count": null,
   "metadata": {},
   "outputs": [],
   "source": [
    "def binary_search(listok, item):\n",
    "  # в low и high хранятся границы части списка, где выполняется поиск\n",
    "  low = 0\n",
    "  high = len(listok) - 1\n",
    "  i = 0\n",
    "  # Пока не останется один элемент\n",
    "  while low <= high:\n",
    "    # Проверяем средний элемент\n",
    "    mid = (low + high) // 2\n",
    "    guess = listok[mid]\n",
    "    # Значение найдено\n",
    "    if guess == item:\n",
    "      return mid\n",
    "    # Значение велико\n",
    "    if guess > item:\n",
    "      high = mid - 1\n",
    "    # Значение мало\n",
    "    else:\n",
    "      low = mid + 1\n",
    "    i=i+1\n",
    "    print(i)\n",
    "\n",
    "  # Значение не найдено\n",
    "  return None\n",
    "\n",
    "my_list = [1, 3, 5, 7, 9,9,23,5,67]\n",
    "print(binary_search(my_list, 23)) # => 1 (позиция элемента в списке)"
   ]
  },
  {
   "cell_type": "code",
   "execution_count": null,
   "metadata": {},
   "outputs": [],
   "source": [
    "import numpy as np\n",
    "\n",
    "\n",
    "def find_number(random_number):\n",
    "    '''Function Searechs the hidden number\n",
    "    Input: Hidden number\n",
    "    Output: Number of attemts or None if number not found'''\n",
    "    low = 1\n",
    "    high = 100\n",
    "    count = 0\n",
    "    range_list = [x for x in range(1,101)]\n",
    "    predict = np.random.randint(1,101) #Shoots at random\n",
    "    print(predict)\n",
    "    # Until there is one element left\n",
    "    while low <= high:\n",
    "        count += 1\n",
    "        if predict == random_number: #broke the looping if we guessed\n",
    "            return (count) \n",
    "            break\n",
    "        if predict >= random_number:\n",
    "            high = predict - 1\n",
    "        if predict <= random_number:\n",
    "            low = predict +1\n",
    "        mid = (low+high) // 2\n",
    "        predict = range_list[mid-1]\n",
    "\n",
    "            "
   ]
  },
  {
   "cell_type": "code",
   "execution_count": null,
   "metadata": {},
   "outputs": [],
   "source": [
    "mid = (low+high) // 2\n",
    "        predict = range_list[mid]"
   ]
  },
  {
   "cell_type": "code",
   "execution_count": 9,
   "metadata": {},
   "outputs": [
    {
     "name": "stdout",
     "output_type": "stream",
     "text": [
      "Ваш алгоритм угадывает число в среднем за 6 попыток\n"
     ]
    },
    {
     "data": {
      "text/plain": [
       "6"
      ]
     },
     "execution_count": 9,
     "metadata": {},
     "output_type": "execute_result"
    }
   ],
   "source": [
    "import numpy as np\n",
    "\n",
    "\n",
    "def find_number(random_number):\n",
    "    '''Function Searechs the hidden number\n",
    "    Input: Hidden number\n",
    "    Output: Number of attempts or None if number not found'''\n",
    "    lower_bound = 1\n",
    "    upper_bound = 100\n",
    "    count = 0\n",
    "    range_list = [x for x in range(1, 101)]\n",
    "    predict = np.random.randint(1, 101)  # Shoots at random\n",
    "    # Until there is one element left\n",
    "    while True: \n",
    "        count += 1\n",
    "        if predict == random_number:  # broke the looping if we guessed\n",
    "            return (count)\n",
    "            break\n",
    "        if predict > random_number:  #  in case the predicted number is > hidden number \n",
    "            upper_bound = predict - 1\n",
    "        if predict < random_number:  #  in case the predicted number is < hidden number \n",
    "            lower_bound = predict + 1\n",
    "        mid = (lower_bound+upper_bound) // 2\n",
    "        predict = range_list[mid-1]  #  new predicted number is in the middle of range \n",
    "\n",
    "\n",
    "\n",
    "def score_game(game_core):\n",
    "    '''Function is determining the average quantity of attempts\n",
    "    Input: Function find_number\n",
    "    Output: Average squantity of attempt'''\n",
    "    \n",
    "    count_attempt = []\n",
    "    np.random.seed(1)  # фиксируем RANDOM SEED, чтобы ваш эксперимент был воспроизводим!\n",
    "    random_array = np.random.randint(1,101, size=(1000))\n",
    "    for random_number in random_array:\n",
    "        count_attempt.append(game_core(random_number))\n",
    "    score = int(np.mean(count_attempt))\n",
    "    print(f\"Ваш алгоритм угадывает число в среднем за {score} попыток\")\n",
    "    return(score)\n",
    "score_game(find_number)\n"
   ]
  },
  {
   "cell_type": "code",
   "execution_count": 7,
   "metadata": {},
   "outputs": [
    {
     "name": "stdout",
     "output_type": "stream",
     "text": [
      "[1, 2, 3, 4, 5, 6, 7, 8, 9, 10, 11, 12, 13, 14, 15, 16, 17, 18, 19, 20, 21, 22, 23, 24, 25, 26, 27, 28, 29, 30, 31, 32, 33, 34, 35, 36, 37, 38, 39, 40, 41, 42, 43, 44, 45, 46, 47, 48, 49, 50, 51, 52, 53, 54, 55, 56, 57, 58, 59, 60, 61, 62, 63, 64, 65, 66, 67, 68, 69, 70, 71, 72, 73, 74, 75, 76, 77, 78, 79, 80, 81, 82, 83, 84, 85, 86, 87, 88, 89, 90, 91, 92, 93, 94, 95, 96, 97, 98, 99, 100]\n",
      "array sorted\n",
      "-1\n",
      "end Time 0:00:00\n"
     ]
    }
   ],
   "source": [
    "#VER/2\n",
    "from random import randint\n",
    "import numpy\n",
    "import datetime\n",
    "\n",
    "def binary_search(array,key):\n",
    "    count = 0\n",
    "    lower_bound = 0\n",
    "    upper_bound = len(array) - 1\n",
    "    while lower_bound < upper_bound:\n",
    "        count = count+1\n",
    "        center = (lower_bound +upper_bound) // 2\n",
    "        \n",
    "        if array[center] == key:\n",
    "            return count\n",
    "        elif array[center] > key:\n",
    "            upper_bound = center - 1\n",
    "        elif array[center] < key:\n",
    "            lower_bound = center +1\n",
    "    return -1\n",
    "\n",
    "\n",
    "x = [n for n in range(1,101)]\n",
    "print(x)\n",
    "x = sorted(x)\n",
    "print('array sorted')\n",
    "\n",
    "start = datetime.datetime.now()\n",
    "print(binary_search(x,24))\n",
    "\n",
    "print(\"end Time\",datetime.datetime.now() - start)"
   ]
  },
  {
   "cell_type": "code",
   "execution_count": 12,
   "metadata": {},
   "outputs": [
    {
     "name": "stdout",
     "output_type": "stream",
     "text": [
      "Ваш алгоритм угадывает число в среднем за 5 попыток\n"
     ]
    },
    {
     "data": {
      "text/plain": [
       "5"
      ]
     },
     "execution_count": 12,
     "metadata": {},
     "output_type": "execute_result"
    }
   ],
   "source": [
    "import numpy as np\n",
    "\n",
    "\n",
    "def find_number(random_number):\n",
    "    '''Function Searechs the hidden number\n",
    "    Input: Hidden number\n",
    "    Output: Number of attempts or None if number not found'''\n",
    "    count = 0\n",
    "    array = [x for x in range(1,101)]\n",
    "    lower_bound = 1\n",
    "    upper_bound = len(array) - 1\n",
    "    \n",
    "     # Until there is one element left\n",
    "        \n",
    "    while lower_bound <= upper_bound:\n",
    "        count+=1\n",
    "        center = (lower_bound + upper_bound) // 2\n",
    "        if array[center] == random_number:\n",
    "            return (count) \n",
    "        # broke the looping if we guessed\n",
    "        elif array[center] > random_number:  #  in case the predicted number is > hidden number\n",
    "            upper_bound = center - 1\n",
    "        elif array[center] < random_number:  #  in case the predicted number is < hidden number\n",
    "            lower_bound = center + 1\n",
    "    return -1\n",
    "\n",
    "def score_game(game_core):\n",
    "    '''Function is determining the average quantity of attempts\n",
    "    Input: Function find_number\n",
    "    Output: Average squantity of attempt'''\n",
    "    \n",
    "    count_attempt = []\n",
    "    np.random.seed(1)  # фиксируем RANDOM SEED, чтобы ваш эксперимент был воспроизводим!\n",
    "    random_array = np.random.randint(1,101, size=(1000))\n",
    "    for random_number in random_array:\n",
    "        count_attempt.append(game_core(random_number))\n",
    "    score = int(np.mean(count_attempt))\n",
    "    print(f\"Ваш алгоритм угадывает число в среднем за {score} попыток\")\n",
    "    return(score)\n",
    "score_game(find_number)"
   ]
  },
  {
   "cell_type": "code",
   "execution_count": null,
   "metadata": {},
   "outputs": [],
   "source": []
  }
 ],
 "metadata": {
  "kernelspec": {
   "display_name": "Python 3",
   "language": "python",
   "name": "python3"
  },
  "language_info": {
   "codemirror_mode": {
    "name": "ipython",
    "version": 3
   },
   "file_extension": ".py",
   "mimetype": "text/x-python",
   "name": "python",
   "nbconvert_exporter": "python",
   "pygments_lexer": "ipython3",
   "version": "3.8.3"
  }
 },
 "nbformat": 4,
 "nbformat_minor": 4
}
