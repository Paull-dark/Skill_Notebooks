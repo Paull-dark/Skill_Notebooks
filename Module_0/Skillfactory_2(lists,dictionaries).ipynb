{
 "cells": [
  {
   "cell_type": "code",
   "execution_count": 8,
   "metadata": {},
   "outputs": [
    {
     "name": "stdout",
     "output_type": "stream",
     "text": [
      "Wall time: 0 ns\n",
      "408\n"
     ]
    }
   ],
   "source": [
    "#Напишите программу, которая создаёт список, содержащий целые, кратные трём числа в интервале от 1 до 50. \n",
    "#Найдите сумму элементов этого списка. Результат вычислений сохраните в переменной с именем result.\n",
    "%time\n",
    "my_list = []\n",
    "result = 0\n",
    "for i in range(1,51):\n",
    "    if i%3 == 0:\n",
    "        my_list.append(i)\n",
    "for j in my_list:\n",
    "    result+=j\n",
    "print(result)"
   ]
  },
  {
   "cell_type": "code",
   "execution_count": 13,
   "metadata": {},
   "outputs": [
    {
     "name": "stdout",
     "output_type": "stream",
     "text": [
      "15\n"
     ]
    }
   ],
   "source": [
    "#Напишите программу, которая создаёт список my_list, содержащий длины слов из списка raw_list \n",
    "#(дан в начале кода), и находит сумму минимального и максимального элементов нового списка (my_list). \n",
    "#Результат вычислений (сумма минимального и максимального элементов списка my_list) присвойте переменной result.\n",
    "raw_list = ['переменные', 'циклы', 'условия', 'списки', 'словари', 'файлы', 'функции']\n",
    "my_list = []\n",
    "result = 0\n",
    "for i in raw_list:\n",
    "    my_list.append(len(i))\n",
    "result = max(my_list)+min(my_list)\n",
    "print(\"{}\".format(result))    \n"
   ]
  },
  {
   "cell_type": "code",
   "execution_count": 20,
   "metadata": {},
   "outputs": [
    {
     "name": "stdout",
     "output_type": "stream",
     "text": [
      "5041\n"
     ]
    }
   ],
   "source": [
    "#Дан список raw_list (содержимое списка приведено в начале кода). Найдите минимальное (x_min) и\n",
    "#максимальное (x_max) значения элементов данного списка.\n",
    "#Создайте новый список my_list, состоящий из элементов списка raw_list, умноженных на x_min, \n",
    "#если элемент является чётным числом, и на x_max, в случае если элемент нечётный.\n",
    "#Найдите максимальное значение списка my_list. Результат присвойте переменной result.\n",
    "raw_list = [2, 8, 10, 23, 64, 49, 11, 52, 71, 14]\n",
    "my_list = []\n",
    "x_max = 0\n",
    "x_min = 0\n",
    "for i in raw_list:\n",
    "    if i%2 ==0:\n",
    "        my_list.append(i*min(raw_list))\n",
    "    else:\n",
    "        my_list.append(i*max(raw_list))\n",
    "result = max(my_list)        \n",
    "print(\"{}\".format(result))  "
   ]
  },
  {
   "cell_type": "code",
   "execution_count": 22,
   "metadata": {},
   "outputs": [
    {
     "data": {
      "text/plain": [
       "[15, 30, 45, 60, 75, 90]"
      ]
     },
     "execution_count": 22,
     "metadata": {},
     "output_type": "execute_result"
    }
   ],
   "source": [
    "my_list = [x for x in range(10, 100) if x%3 == 0 and x%5 == 0]\n",
    "my_list"
   ]
  },
  {
   "cell_type": "code",
   "execution_count": 24,
   "metadata": {},
   "outputs": [
    {
     "data": {
      "text/plain": [
       "[1,\n",
       " 1,\n",
       " 4,\n",
       " 1024,\n",
       " 9,\n",
       " 59049,\n",
       " 16,\n",
       " 1048576,\n",
       " 25,\n",
       " 9765625,\n",
       " 36,\n",
       " 60466176,\n",
       " 49,\n",
       " 282475249,\n",
       " 64,\n",
       " 1073741824,\n",
       " 81,\n",
       " 3486784401]"
      ]
     },
     "execution_count": 24,
     "metadata": {},
     "output_type": "execute_result"
    }
   ],
   "source": [
    "powers = [x**y for x in range(1, 10) for y in [2,10]]\n",
    "powers"
   ]
  },
  {
   "cell_type": "code",
   "execution_count": 28,
   "metadata": {},
   "outputs": [
    {
     "name": "stdout",
     "output_type": "stream",
     "text": [
      "['а', 'з', 'и', 'н', 'н', 'о', 'о', 'о', 'р', 'р', 'с', 'т', 'ф', 'х']\n"
     ]
    }
   ],
   "source": [
    "my_list = sorted([x for x in 'синхрофазотрон'])\n",
    "print(my_list)"
   ]
  },
  {
   "cell_type": "code",
   "execution_count": 33,
   "metadata": {},
   "outputs": [
    {
     "name": "stdout",
     "output_type": "stream",
     "text": [
      "[2.6457513110645907, 3.7416573867739413, 4.58257569495584, 5.291502622129181, 5.916079783099616, 6.48074069840786, 7.0]\n"
     ]
    }
   ],
   "source": [
    "#Перепишите привёденный ниже код, используя генератор списков. Полученный в результате работы генератора \n",
    "#список должен иметь имя my_list.\n",
    "#my_list = []\n",
    "#for x in range(1, 50):\n",
    "    #if x%7 == 0:\n",
    "        #my_list.append(x**0.5)\n",
    "my_list = [x**0.5 for x in range(1,50) if x%7 == 0]  \n",
    "print(my_list)"
   ]
  },
  {
   "cell_type": "code",
   "execution_count": 11,
   "metadata": {},
   "outputs": [
    {
     "name": "stdout",
     "output_type": "stream",
     "text": [
      "unknown\n"
     ]
    }
   ],
   "source": [
    "#Напишите код, который по названию страны country присваивает переменной group название \n",
    "#группы по результатам жеребьевки. Если страны нет в словаре draw_dict, то переменной group присваивается \n",
    "#значение 'unknown'. Выполните код для значения country = 'Италия'.\n",
    "country = [\"Италия\"]\n",
    "draw_dict = {\n",
    "\t'Россия': 'A',\n",
    "\t'Португалия': 'B',\n",
    "\t'Франция': 'C',\n",
    "\t'Дания': 'C',\n",
    "\t'Египет': 'A'\n",
    "}\n",
    "for group in country:\n",
    "    if group in draw_dict:\n",
    "        print(draw_dict[group])\n",
    "    else:\n",
    "        group = 'unknown'\n",
    "    print(group)\n"
   ]
  },
  {
   "cell_type": "code",
   "execution_count": 27,
   "metadata": {},
   "outputs": [
    {
     "name": "stdout",
     "output_type": "stream",
     "text": [
      "{'Россия': 'A', 'Португалия': 'B', 'Франция': 'C', 'Дания': 'C', 'Египет': 'A'}\n"
     ]
    }
   ],
   "source": [
    "draw_dict = {\n",
    "\t'Россия': 'A',\n",
    "\t'Португалия': 'B',\n",
    "\t'Франция': 'C',\n",
    "\t'Дания': 'C',\n",
    "\t'Египет': 'A'\n",
    "}\n",
    "group = \"unknown\"\n",
    "country = \"Италия\"\n",
    "if country in draw_dict:\n",
    "    draw_dict.setdefault(country, group)\n",
    "print(draw_dict)    "
   ]
  },
  {
   "cell_type": "code",
   "execution_count": 58,
   "metadata": {},
   "outputs": [
    {
     "name": "stdout",
     "output_type": "stream",
     "text": [
      "{'Россия': 'A', 'Египет': 'A'}\n"
     ]
    }
   ],
   "source": [
    "#Отфильтруйте словарь draw_dict, оставив в нем только страны группы A. \n",
    "#Отфильтрованный результат запишите в новый словарь draw_new\n",
    "draw_dict = {\n",
    "    'Россия': 'A',\n",
    "    'Португалия': 'B',\n",
    "    'Франция': 'C',\n",
    "    'Дания': 'C',\n",
    "    'Египет': 'A'\n",
    "}\n",
    "draw_new={}\n",
    "for country in draw_dict:\n",
    "    if draw_dict [country] == 'A':\n",
    "        draw_new.setdefault(country,'A' )\n",
    "print(draw_new)        "
   ]
  },
  {
   "cell_type": "code",
   "execution_count": 60,
   "metadata": {},
   "outputs": [
    {
     "name": "stdout",
     "output_type": "stream",
     "text": [
      "{'Россия': 'A', 'Египет': 'A'}\n"
     ]
    }
   ],
   "source": [
    "#Отфильтруйте словарь draw_dict с помощью метода items, оставив в нем только страны группы A.\n",
    "#Отфильтрованный результат запишите в новый словарь draw_new\n",
    "draw_dict = {\n",
    "\t'Россия': 'A',\n",
    "\t'Португалия': 'B',\n",
    "\t'Франция': 'C',\n",
    "\t'Дания': 'C',\n",
    "\t'Египет': 'A'\n",
    "}\n",
    "draw_new = {}\n",
    "for i,j in draw_dict.items():\n",
    "    if j == 'A':\n",
    "        draw_new.setdefault(i,j)\n",
    "print(draw_new)        "
   ]
  },
  {
   "cell_type": "code",
   "execution_count": 76,
   "metadata": {},
   "outputs": [
    {
     "name": "stdout",
     "output_type": "stream",
     "text": [
      "13841\n"
     ]
    }
   ],
   "source": [
    "#Сотрудник ведет запись ежедневных расходов по партнерам. Он мог бы записывать суммы за 1-3 апреля в \n",
    "#знакомые нам списки, но это не очень удобно: [2504, 4994, 6343]. Оформите расходы в словарь, \n",
    "#в котором ключами являются даты ('2019-04-01', '2019-04-02', '2019-04-03' апреля), \n",
    "#а значениями — суммы расходов (2504, 4994 и 6343 рублей соответственно).\n",
    "keys = ['2019-04-01', '2019-04-02', '2019-04-03']\n",
    "values = [2504, 4994, 6343]\n",
    "m_dict = dict(zip(keys, values))\n",
    "summa = 0\n",
    "for i in m_dict.values():\n",
    "    summa+=i\n",
    "print(summa)    "
   ]
  },
  {
   "cell_type": "code",
   "execution_count": 78,
   "metadata": {},
   "outputs": [
    {
     "name": "stdout",
     "output_type": "stream",
     "text": [
      "100934\n"
     ]
    }
   ],
   "source": [
    "csv_file = [\n",
    "    ['100412', 'Ботинки для горных лыж ATOMIC Hawx Prime 100', 9],\n",
    "    ['100728', 'Скейтборд Jdbug RT03', 32],\n",
    "    ['100732', 'Роллерсерф Razor RipStik Bright', 11],\n",
    "    ['100803', 'Ботинки для сноуборда DC Tucknee', 20],\n",
    "    ['100898', 'Шагомер Omron HJA-306', 2],\n",
    "    ['100934', 'Пульсометр Beurer PM62', 17],\n",
    "]\n",
    "\n",
    "pulsometer_id = csv_file[5][0]\n",
    "print(pulsometer_id)"
   ]
  },
  {
   "cell_type": "code",
   "execution_count": 80,
   "metadata": {},
   "outputs": [
    {
     "name": "stdout",
     "output_type": "stream",
     "text": [
      "[['100728', 'Скейтборд Jdbug RT03', 32], ['100732', 'Роллерсерф Razor RipStik Bright', 11], ['100803', 'Ботинки для сноуборда DC Tucknee', 20], ['100934', 'Пульсометр Beurer PM62', 17]]\n"
     ]
    }
   ],
   "source": [
    "#Отфильтруйте список товарных позиций csv_file, оставив только те позиции, у которых количество штук на складе больше 10. \n",
    "#Результат запишите в переменную csv_file_filtered\n",
    "csv_file = [\n",
    "    ['100412', 'Ботинки для горных лыж ATOMIC Hawx Prime 100', 9],\n",
    "    ['100728', 'Скейтборд Jdbug RT03', 32],\n",
    "    ['100732', 'Роллерсерф Razor RipStik Bright', 11],\n",
    "    ['100803', 'Ботинки для сноуборда DC Tucknee', 20],\n",
    "    ['100898', 'Шагомер Omron HJA-306', 2],\n",
    "    ['100934', 'Пульсометр Beurer PM62', 17],\n",
    "]\n",
    "csv_file_filtered = []\n",
    "for i in csv_file:\n",
    "    if i[2]>10:\n",
    "        csv_file_filtered.append(i)\n",
    "print(csv_file_filtered)        "
   ]
  },
  {
   "cell_type": "code",
   "execution_count": 88,
   "metadata": {},
   "outputs": [
    {
     "name": "stdout",
     "output_type": "stream",
     "text": [
      "[{'id': '100412', 'position': 'Ботинки для горных лыж ATOMIC Hawx Prime 100', 'count': 9}, {'id': '100803', 'position': 'Ботинки для сноуборда DC Tucknee', 'count': 20}]\n"
     ]
    }
   ],
   "source": [
    "#Разработчики поменяли формат выгрузки из базы данных товарных позиций. Теперь это список словарей, \n",
    "#каждый столбец в котором имеет имя. Напишите код, который оставляет только те товары, в названии которых есть слово \"Ботинки\". \n",
    "#Результат запишите в переменную csv_dict_boots\n",
    "csv_dict = [\n",
    "    {'id': '100412', 'position': 'Ботинки для горных лыж ATOMIC Hawx Prime 100', 'count': 9},\n",
    "    {'id': '100728', 'position': 'Скейтборд Jdbug RT03', 'count': 32},\n",
    "    {'id': '100732', 'position': 'Роллерсерф Razor RipStik Bright', 'count': 11},\n",
    "    {'id': '100803', 'position': 'Ботинки для сноуборда DC Tucknee', 'count': 20},\n",
    "    {'id': '100898', 'position': 'Шагомер Omron HJA-306', 'count': 2},\n",
    "    {'id': '100934', 'position': 'Пульсометр Beurer PM62', 'count': 17},\n",
    "]\n",
    "csv_dict_boots = []\n",
    "for i in csv_dict:\n",
    "    if 'Ботинки' in i['position']:\n",
    "        csv_dict_boots.append(i)\n",
    "print(csv_dict_boots)"
   ]
  },
  {
   "cell_type": "code",
   "execution_count": 92,
   "metadata": {},
   "outputs": [
    {
     "name": "stdout",
     "output_type": "stream",
     "text": [
      "98\n"
     ]
    }
   ],
   "source": [
    "#Напишите код, который ищет минимальное значение ключа cost в этом словаре. Укажите это значение в качестве ответа\n",
    "results = [\n",
    "\t{'cost': 98, 'source': 'vk'},\n",
    "\t{'cost': 153, 'source': 'yandex'},\n",
    "\t{'cost': 110, 'source': 'facebook'},\n",
    "]\n",
    "t=1000\n",
    "for i in results:\n",
    "    if i['cost']<t:\n",
    "        t=i['cost']\n",
    "print(t)        "
   ]
  },
  {
   "cell_type": "code",
   "execution_count": 96,
   "metadata": {},
   "outputs": [
    {
     "name": "stdout",
     "output_type": "stream",
     "text": [
      "5\n"
     ]
    }
   ],
   "source": [
    "#На каждом этапе производственной линии закладываются отклонения от исходных размеров, ведущие к деформации, т. е. \n",
    "#после каждого этапа размер детали умножается на значение ключа damage:\n",
    "#Если исходный размер детали принять за 100%, то на каком шаге повреждения приведут к размеру менее 90%?\n",
    "defect_stats = [\n",
    "\t{'step number': 1, 'damage': 0.98},\n",
    "\t{'step number': 2, 'damage': 0.99},\n",
    "\t{'step number': 3, 'damage': 0.99},\n",
    "\t{'step number': 4, 'damage': 0.96},\n",
    "\t{'step number': 5, 'damage': 0.97},\n",
    "\t{'step number': 6, 'damage': 0.97},\n",
    "]\n",
    "det=100\n",
    "step = 0\n",
    "for i in defect_stats:\n",
    "    det = i['damage']*det   \n",
    "    if det<90:\n",
    "        step = i['step number']\n",
    "        break\n",
    "print(step)        "
   ]
  },
  {
   "cell_type": "code",
   "execution_count": 116,
   "metadata": {},
   "outputs": [
    {
     "name": "stdout",
     "output_type": "stream",
     "text": [
      "AMD\n"
     ]
    }
   ],
   "source": [
    "#Имеется статистика курсов валют. Какая валюта имеет минимальный курс по отношению к рублю за 1 единицу? \n",
    "#Для определения курса валюты необходимо значение ключа 'Value' разделить на значение ключа 'Nominal'. \n",
    "#В качестве ответа укажите код валюты (например, AUD)\n",
    "\n",
    "currency = {\n",
    "\t'AMD': {\n",
    "\t\t'Name': 'Армянских драмов',\n",
    "\t\t'Nominal': 100,\n",
    "\t\t'Value': 13.121\n",
    "\t},\n",
    "\n",
    "\t'AUD': {\n",
    "\t\t'Name': 'Австралийский доллар',\n",
    "\t\t'Nominal': 1,\n",
    "\t\t'Value': 45.5309\n",
    "\t},\n",
    "\n",
    "\t'INR': {\n",
    "\t\t'Name': 'Индийских рупий',\n",
    "\t\t'Nominal': 100,\n",
    "\t\t'Value': 92.9658\n",
    "\t},\n",
    "\n",
    "\t'MDL': {\n",
    "\t\t'Name': 'Молдавских леев',\n",
    "\t\t'Nominal': 10,\n",
    "\t\t'Value': 36.9305\n",
    "\t},\n",
    "}\n",
    "minim=10000\n",
    "min_currency = []\n",
    "for i,j in currency.items(): # так как currency вложеный словарь, то ключ к нему это (AMD) а значение {остальное}. соответсвенно ключ и значение нужно записать в разные переменные\n",
    "    if j['Value']/ j['Nominal']<minim:\n",
    "        minim = j['Value']/ j['Nominal']\n",
    "        min_currency = i\n",
    "print(min_currency)"
   ]
  },
  {
   "cell_type": "code",
   "execution_count": 4,
   "metadata": {},
   "outputs": [
    {
     "name": "stdout",
     "output_type": "stream",
     "text": [
      "225\n",
      "225\n"
     ]
    }
   ],
   "source": [
    "#Согласно сайту www.bodycounters.com в четырех частях фильма “Пираты Карибского моря” было довольно много погибших. \n",
    "#Вот их статистика:   \n",
    "#Напишите скрипт, который считает общее число погибших живых существ во всех сериях. \n",
    "#Укажите итоговое число в качестве ответа. Пиратов-зомби в последней части тоже считайте живыми.\n",
    "bodycount = {\n",
    "\t'Проклятие Черной жемчужины': {\n",
    "\t\t'человек': 17\n",
    "\t}, \n",
    "\n",
    "\t'Сундук мертвеца': {\n",
    "\t\t'человек': 56,\n",
    "\t\t'раков-отшельников': 1\n",
    "\t},\n",
    "\n",
    "\t'На краю света': {\n",
    "\t\t'человек': 88\n",
    "\t},\n",
    "\n",
    "\t'На странных берегах': {\n",
    "\t\t'человек': 56,\n",
    "\t\t'русалок': 2,\n",
    "\t\t'ядовитых жаб': 3,\n",
    "\t\t'пиратов зомби': 2\n",
    "\t}\n",
    "}\n",
    "alive = []\n",
    "for i,j in bodycount.items():\n",
    "    for k in j.values():\n",
    "        alive.append(k)\n",
    "b=sum(alive)\n",
    "print(b)\n",
    "\n",
    "#VAR.2\n",
    "\n",
    "print(sum([bodycount[i][j] for i in bodycount for j in bodycount[i]]))\n",
    "           \n",
    "            "
   ]
  },
  {
   "cell_type": "code",
   "execution_count": 156,
   "metadata": {
    "scrolled": true
   },
   "outputs": [
    {
     "name": "stdout",
     "output_type": "stream",
     "text": [
      "98\n"
     ]
    }
   ],
   "source": [
    "results = [\n",
    "\t{'cost': 98, 'source': 'vk'},\n",
    "\t{'cost': 153, 'source': 'yandex'},\n",
    "\t{'cost': 110, 'source': 'facebook'},\n",
    "]\n",
    "otvet=[]\n",
    "min_otvet=0\n",
    "for i in results:\n",
    "    otvet.append(i['cost'])\n",
    "min_otvet=min(otvet)\n",
    "print(min_otvet)"
   ]
  },
  {
   "cell_type": "code",
   "execution_count": null,
   "metadata": {},
   "outputs": [],
   "source": [
    ">>> d = {320:1, 321:0, 322:3}\n",
    ">>> d.items()\n",
    "[(320, 1), (321, 0), (322, 3)]\n",
    ">>> # find the minimum by comparing the second element of each tuple\n",
    ">>> min(d.items(), key=lambda x: x[1]) \n",
    "(321, 0)\n"
   ]
  },
  {
   "cell_type": "code",
   "execution_count": 1,
   "metadata": {},
   "outputs": [
    {
     "ename": "SyntaxError",
     "evalue": "invalid syntax (<ipython-input-1-ea7030706cc2>, line 1)",
     "output_type": "error",
     "traceback": [
      "\u001b[1;36m  File \u001b[1;32m\"<ipython-input-1-ea7030706cc2>\"\u001b[1;36m, line \u001b[1;32m1\u001b[0m\n\u001b[1;33m    lambda x: return x\u001b[0m\n\u001b[1;37m              ^\u001b[0m\n\u001b[1;31mSyntaxError\u001b[0m\u001b[1;31m:\u001b[0m invalid syntax\n"
     ]
    }
   ],
   "source": [
    "lambda x: return x"
   ]
  },
  {
   "cell_type": "code",
   "execution_count": 2,
   "metadata": {},
   "outputs": [
    {
     "ename": "SyntaxError",
     "evalue": "invalid syntax (<ipython-input-2-0e7700aec6fc>, line 1)",
     "output_type": "error",
     "traceback": [
      "\u001b[1;36m  File \u001b[1;32m\"<ipython-input-2-0e7700aec6fc>\"\u001b[1;36m, line \u001b[1;32m1\u001b[0m\n\u001b[1;33m    func = lambada value: value ** 2\u001b[0m\n\u001b[1;37m                   ^\u001b[0m\n\u001b[1;31mSyntaxError\u001b[0m\u001b[1;31m:\u001b[0m invalid syntax\n"
     ]
    }
   ],
   "source": [
    "func = lambada value: value ** 2"
   ]
  },
  {
   "cell_type": "code",
   "execution_count": 3,
   "metadata": {},
   "outputs": [],
   "source": [
    "func = lambda x: x"
   ]
  },
  {
   "cell_type": "code",
   "execution_count": 4,
   "metadata": {},
   "outputs": [],
   "source": [
    "func = lambda x, y, z : 7*x+2*y-3"
   ]
  },
  {
   "cell_type": "code",
   "execution_count": null,
   "metadata": {},
   "outputs": [],
   "source": []
  }
 ],
 "metadata": {
  "kernelspec": {
   "display_name": "Python 3",
   "language": "python",
   "name": "python3"
  },
  "language_info": {
   "codemirror_mode": {
    "name": "ipython",
    "version": 3
   },
   "file_extension": ".py",
   "mimetype": "text/x-python",
   "name": "python",
   "nbconvert_exporter": "python",
   "pygments_lexer": "ipython3",
   "version": "3.8.3"
  }
 },
 "nbformat": 4,
 "nbformat_minor": 4
}
