{
 "cells": [
  {
   "cell_type": "code",
   "execution_count": null,
   "metadata": {},
   "outputs": [],
   "source": [
    "def square(x):\n",
    "    return x**2\n",
    "square_result = square(20)\n",
    "print(square_result)\n"
   ]
  },
  {
   "cell_type": "code",
   "execution_count": null,
   "metadata": {},
   "outputs": [],
   "source": [
    "# Дополните аргументы и код функции\n",
    "def sum_2(x, y):\n",
    "    result = x+y\n",
    "    return result\n",
    "print(sum_2(42,73))"
   ]
  },
  {
   "cell_type": "code",
   "execution_count": null,
   "metadata": {},
   "outputs": [],
   "source": [
    "#Напишите функцию power, которая возводит первый аргумент в степень второго аргумента. Например, power(2, 3) \n",
    "#должен вернуть 8, а power(4, 2) - 16\n",
    "def power(x,y):\n",
    "    result = x**y\n",
    "    return result\n",
    "print(power(2,3))"
   ]
  },
  {
   "cell_type": "code",
   "execution_count": null,
   "metadata": {},
   "outputs": [],
   "source": [
    "#Постройте функцию get_median, которая принимает на вход список чисел и возвращает медиану, например, для этого списка.\n",
    "def get_median(x):\n",
    "    sorted_lst = sorted(x)\n",
    "    xlen = len(x)\n",
    "    index = (xlen - 1)//2\n",
    "    if (xlen % 2):# если выражение истина (т.е. 1)\n",
    "        return sorted_lst[index]\n",
    "    else:\n",
    "        return (sorted_lst[index] + sorted_lst[index+1])/2\n",
    "y=[5, 2, 1, 3, 4]\n",
    "print(get_median(y))\n"
   ]
  },
  {
   "cell_type": "code",
   "execution_count": null,
   "metadata": {},
   "outputs": [],
   "source": [
    "#Перепишите код ниже, определив функцию avg_orders(user_db), которая возвращает среднее число заказов по данным в базе. \n",
    "#Затем выведите на экран результат вызова этой функции для user_db\n",
    "user_db = [{'orders': 12}, {'orders': 30}, {'orders': 45}]\n",
    "def avg_orders(user_db):\n",
    "    order_sum = sum(user['orders'] for user in user_db)\n",
    "    return order_sum/len(user_db)\n",
    "print(avg_orders(user_db))\n",
    "# перепишите эту часть\n",
    "#order_sum = sum([user['orders'] for user in user_db])\n",
    "#orders_per_user = order_sum/len(user_db)\n",
    "#print(orders_per_user)"
   ]
  },
  {
   "cell_type": "code",
   "execution_count": 12,
   "metadata": {},
   "outputs": [
    {
     "name": "stdout",
     "output_type": "stream",
     "text": [
      "67.91351870757084\n",
      "€6\n"
     ]
    }
   ],
   "source": [
    "#Определите функцию get_euro_rate, которая возвращает случайное число от 65 до 85. Перепишите to_euro из примера выше, \n",
    "#чтобы вместо постоянного exchange_rate 70 она использовала get_euro_rate\n",
    "#Для выполнения задания вам потребуется функция random() из модуля random, которая возвращает случайное число от 0 до 1\n",
    "\n",
    "from random import random\n",
    "def get_euro_rate ():\n",
    "    exchange_rate = random() * (85-65)+65 \n",
    "    return exchange_rate\n",
    "def to_euro (price):\n",
    "    exchange_rate = get_euro_rate()\n",
    "    rounded = round(price/exchange_rate)\n",
    "    return '€' + str(rounded)\n",
    "print(get_euro_rate())\n",
    "print(to_euro(400))\n",
    "\n",
    "# Пояснения к генератору чисел\n",
    "#Чтобы получать случайные вещественные числа в иных пределах, отличных от [0; 1), прибегают к математическим приемам. \n",
    "#Так если умножить полученное из random() число на любое целое, то получится вещественное в диапазоне от 0 до этого целого, \n",
    "#не включая его\n",
    "#Если нижняя граница должна быть отличной от нуля, то число из random() надо умножать на разницу между верхней \n",
    "#и нижней границами, после чего прибавить нижнюю:\n",
    "# random.random() * (10 - 4) + 4 (диапазон от 4 до 10 не включая 10)"
   ]
  },
  {
   "cell_type": "code",
   "execution_count": null,
   "metadata": {},
   "outputs": [],
   "source": [
    "#При анализе данных бывает полезно «подвинуть» числа так, \n",
    "#чтобы среднее значение было нулевым: так удобнее анализировать \n",
    "#их распределение.\n",
    "\n",
    "#Напишите выражение c map, которое из каждого элемента values \n",
    "#вычитает среднее значение mean. \n",
    "#Результирующий список положите в переменную result.\n",
    "\n",
    "values = [4, 8, 15, 16, 23, 42]\n",
    "mean = 18\n",
    "\n",
    "result = list(map(lambda x:x-mean,values))\n",
    "print(result)"
   ]
  },
  {
   "cell_type": "code",
   "execution_count": null,
   "metadata": {},
   "outputs": [],
   "source": [
    "#Для заданных чисел values и среднего значения mean напишите такой filter, \n",
    "#который оставляет только элементы больше среднего значения.\n",
    "values = [4, 8, 15, 16, 23, 42]\n",
    "mean = 18\n",
    "result = list(filter(lambda x:x>mean,values))\n",
    "print(result)"
   ]
  },
  {
   "cell_type": "code",
   "execution_count": null,
   "metadata": {},
   "outputs": [],
   "source": [
    "#Что выведет программа?\n",
    "std = 42 \n",
    "\n",
    "def normalize(value):\n",
    "    result = value/std\n",
    "    return result \n",
    "    \n",
    "print(normalize(21)) "
   ]
  },
  {
   "cell_type": "code",
   "execution_count": null,
   "metadata": {},
   "outputs": [],
   "source": [
    "def solution(number):\n",
    "    my_list = []\n",
    "    result = 0\n",
    "    for i in range(1,number):\n",
    "        if i%3 ==0 or i%5 == 0:\n",
    "            my_list.append(i)\n",
    "    for j in my_list:\n",
    "        result+=j\n",
    "    return(result)\n",
    "print(solution(10))"
   ]
  },
  {
   "cell_type": "code",
   "execution_count": null,
   "metadata": {},
   "outputs": [],
   "source": [
    "def solution (number):\n",
    "    return sum(x for x in range(number) if x%3 == 0 or x%5 == 0)\n",
    "print(solution(10))"
   ]
  },
  {
   "cell_type": "code",
   "execution_count": 4,
   "metadata": {},
   "outputs": [
    {
     "name": "stdout",
     "output_type": "stream",
     "text": [
      "[10, 20]\n",
      "[5, 10]\n",
      "[-5, 5]\n"
     ]
    }
   ],
   "source": [
    "#Определите функцию normalize с тремя аргументами:\n",
    "\n",
    "#numbers — список чисел;\n",
    "#mean — число, необязательный аргумент, по умолчанию 0;\n",
    "#std — число, необязательный аргумент, по умолчанию 1.\n",
    "#Функция должна для каждого числа из numbers вычитать mean и полученный результат делить на std. \n",
    "#На выходе ожидается список из этих новых чисел.\n",
    "\n",
    "chislo = [10,20]\n",
    "def normalize(num,mean = 0,std = 1):\n",
    "    return list(map(lambda x:int((x-mean)/std),num))\n",
    "\n",
    "\n",
    "print(normalize(chislo))\n",
    "\n",
    "print(normalize(chislo,std = 2))\n",
    "\n",
    "print(normalize(chislo,mean = 15))\n"
   ]
  },
  {
   "cell_type": "code",
   "execution_count": 19,
   "metadata": {},
   "outputs": [
    {
     "data": {
      "text/plain": [
       "21"
      ]
     },
     "execution_count": 19,
     "metadata": {},
     "output_type": "execute_result"
    }
   ],
   "source": [
    "#Теперь немного практики для закрепления. Определите функцию sum_args, которая суммирует все свои аргументы. \n",
    "#Например, sum_args(10, 15, -4) должна возвращать 21\n",
    "\n",
    "def sum_args(*args):\n",
    "    summa = 0\n",
    "    for i in args:\n",
    "        summa+=i\n",
    "    return summa\n",
    "sum_args(10,15,-4)"
   ]
  },
  {
   "cell_type": "code",
   "execution_count": 20,
   "metadata": {},
   "outputs": [
    {
     "name": "stdout",
     "output_type": "stream",
     "text": [
      "verbose mode\n"
     ]
    }
   ],
   "source": [
    "def show_keys(**kwargs):\n",
    "    print(' '.join(kwargs.keys()))\n",
    "\n",
    "show_keys(verbose=True, mode='constant')"
   ]
  },
  {
   "cell_type": "code",
   "execution_count": 19,
   "metadata": {},
   "outputs": [
    {
     "name": "stdout",
     "output_type": "stream",
     "text": [
      "66.73569769929654\n",
      "€6\n"
     ]
    }
   ],
   "source": [
    "from random import random\n",
    "def get_euro_rate ():\n",
    "    return random() * (85-65)+65 \n",
    "def to_euro (price):\n",
    "    exchange_rate = get_euro_rate()\n",
    "    rounded = str(round(price/exchange_rate))\n",
    "    return (f'€{rounded}') \n",
    "print(get_euro_rate())\n",
    "print(to_euro(400))"
   ]
  },
  {
   "cell_type": "code",
   "execution_count": 29,
   "metadata": {},
   "outputs": [
    {
     "name": "stdout",
     "output_type": "stream",
     "text": [
      "3.4285714285714284\n",
      "24\n"
     ]
    }
   ],
   "source": [
    "#Определите функцию count_letters(sentence, average), которая считает количество букв в строке без учёта пробелов. \n",
    "#У функции должен быть необязательный булевый аргумент average, который по умолчанию равен False. \n",
    "#Если он равен True, то функция должна возвращать количество букв в среднем на слово.\n",
    "\n",
    "word_string = \"I will build my own theme park\"\n",
    "def count_letters (sentence, average = False):\n",
    "    if average:\n",
    "        summa = 0\n",
    "        for letter in sentence:\n",
    "            if letter!= ' ':\n",
    "                  summa+=1\n",
    "        return summa            \n",
    "    else:\n",
    "        a = sentence.split()\n",
    "        c = 0\n",
    "        summa = 0\n",
    "        for i in a:\n",
    "            c+= len(i)\n",
    "            summa +=1\n",
    "        return c/summa\n",
    "var_1 = count_letters(word_string)\n",
    "var_2 = count_letters(word_string,True)\n",
    "print(var_1)\n",
    "print(var_2)"
   ]
  },
  {
   "cell_type": "code",
   "execution_count": 30,
   "metadata": {},
   "outputs": [
    {
     "name": "stdout",
     "output_type": "stream",
     "text": [
      "24\n",
      "3.4285714285714284\n"
     ]
    }
   ],
   "source": [
    "word_string = \"I will build my own theme park\"\n",
    "def count_letters (sentence, average = False):\n",
    "    if average:\n",
    "        a = sentence.split()\n",
    "        c = 0\n",
    "        summa = 0\n",
    "        for i in a:\n",
    "            c+= len(i)\n",
    "            summa +=1\n",
    "        return c/summa           \n",
    "    else:\n",
    "        summa = 0\n",
    "        for letter in sentence:\n",
    "            if letter!= ' ':\n",
    "                  summa+=1\n",
    "        return summa\n",
    "var_1 = count_letters(word_string)\n",
    "var_2 = count_letters(word_string,True)\n",
    "print(var_1)\n",
    "print(var_2)"
   ]
  },
  {
   "cell_type": "code",
   "execution_count": 31,
   "metadata": {},
   "outputs": [
    {
     "data": {
      "text/plain": [
       "'a'"
      ]
     },
     "execution_count": 31,
     "metadata": {},
     "output_type": "execute_result"
    }
   ],
   "source": [
    "words = [\"sofa\", \"suitcase\", \"valise\", \"picture\", \"basket\", \"carton\", \"doggie\"]\n",
    "list(map(lambda w: sorted(w)[0], words))[5]"
   ]
  },
  {
   "cell_type": "code",
   "execution_count": 32,
   "metadata": {},
   "outputs": [
    {
     "data": {
      "text/plain": [
       "5"
      ]
     },
     "execution_count": 32,
     "metadata": {},
     "output_type": "execute_result"
    }
   ],
   "source": [
    "def always(n):\n",
    "    return lambda:n\n",
    "a=always(5)\n",
    "a()"
   ]
  },
  {
   "cell_type": "code",
   "execution_count": 2,
   "metadata": {},
   "outputs": [
    {
     "name": "stdout",
     "output_type": "stream",
     "text": [
      "Загадано число от 1 до 100\n",
      "50\n",
      "Угадываемое число меньше 50 \n",
      "25\n",
      "Угадываемое число больше 25 \n",
      "35\n",
      "Угадываемое число больше 35 \n",
      "42\n",
      "Угадываемое число больше 42 \n",
      "46\n",
      "Угадываемое число больше 46 \n",
      "48\n",
      "Угадываемое число больше 48 \n",
      "49\n",
      "Вы угадали число 49 за 7 попыток.\n"
     ]
    }
   ],
   "source": [
    "import numpy as np\n",
    "count = 0                            # счетчик попыток\n",
    "number = np.random.randint(1,101)    # загадали число\n",
    "print (\"Загадано число от 1 до 100\")\n",
    "\n",
    "while True:                        # бесконечный цикл\n",
    "    predict = int(input())         # предполагаемое число\n",
    "    count += 1                     # плюсуем попытку\n",
    "    if number == predict: break    # выход из цикла, если угадали\n",
    "    elif number > predict: print (f\"Угадываемое число больше {predict} \")\n",
    "    elif number < predict: print (f\"Угадываемое число меньше {predict} \")\n",
    "        \n",
    "print (f\"Вы угадали число {number} за {count} попыток.\")"
   ]
  },
  {
   "cell_type": "code",
   "execution_count": 3,
   "metadata": {},
   "outputs": [
    {
     "name": "stdout",
     "output_type": "stream",
     "text": [
      "Загадано число от 1 до 100\n",
      "Вы угадали число 21 за 21 попыток.\n"
     ]
    }
   ],
   "source": [
    "number = np.random.randint(1,101)    # загадали число\n",
    "print (\"Загадано число от 1 до 100\")\n",
    "for count in range(1,101):         # более компактный вариант счетчика\n",
    "    if number == count: break    # выход из цикла, если угадали      \n",
    "print (f\"Вы угадали число {number} за {count} попыток.\")"
   ]
  },
  {
   "cell_type": "code",
   "execution_count": null,
   "metadata": {},
   "outputs": [],
   "source": []
  }
 ],
 "metadata": {
  "kernelspec": {
   "display_name": "Python 3",
   "language": "python",
   "name": "python3"
  },
  "language_info": {
   "codemirror_mode": {
    "name": "ipython",
    "version": 3
   },
   "file_extension": ".py",
   "mimetype": "text/x-python",
   "name": "python",
   "nbconvert_exporter": "python",
   "pygments_lexer": "ipython3",
   "version": "3.8.3"
  }
 },
 "nbformat": 4,
 "nbformat_minor": 4
}
