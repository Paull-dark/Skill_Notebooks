{
 "cells": [
  {
   "cell_type": "code",
   "execution_count": 2,
   "metadata": {},
   "outputs": [
    {
     "name": "stdout",
     "output_type": "stream",
     "text": [
      "key,pickup_datetime,pickup_longitude,pickup_latitude,dropoff_longitude,dropoff_latitude,passenger_count\n",
      "\n",
      "2015-01-27 13:08:24.0000002,2015-01-27 13:08:24 UTC,-73.973320007324219,40.7638053894043,-73.981430053710938,40.74383544921875,1\n",
      "\n",
      "2015-01-27 13:08:24.0000003,2015-01-27 13:08:24 UTC,-73.986862182617188,40.719383239746094,-73.998886108398438,40.739200592041016,1\n",
      "\n",
      "2011-10-08 11:53:44.0000002,2011-10-08 11:53:44 UTC,-73.982524,40.75126,-73.979654,40.746139,1\n",
      "\n",
      "2012-12-01 21:12:12.0000002,2012-12-01 21:12:12 UTC,-73.98116,40.767807,-73.990448,40.751635,1\n",
      "\n"
     ]
    }
   ],
   "source": [
    "# Посчитать среднее количество пассажиров в такси в будние дни и в выходные\n",
    "with open('test-PY-func.csv') as f:\n",
    "    counter = 0\n",
    "    for line in f:\n",
    "        counter+=1\n",
    "        print(line)\n",
    "        if counter == 5: break"
   ]
  },
  {
   "cell_type": "code",
   "execution_count": 17,
   "metadata": {},
   "outputs": [],
   "source": [
    "# Вытаскивание информации будний или рабочий день\n",
    "from datetime import datetime \n",
    "\n",
    "#Пишем функцию, определяющую по дате, является ли день выходным или нет\n",
    "\n",
    "def detect_weekend(date_str):\n",
    "    date = datetime.strptime(date_str,\"%Y-%m-%d %H:%M:%S %Z\")#strptime переводит строковую велечину в величину в формате дата-время\n",
    "    if date.weekday()>=5:\n",
    "        return 'weekend'\n",
    "    return 'weekday'\n",
    "     "
   ]
  },
  {
   "cell_type": "code",
   "execution_count": 10,
   "metadata": {},
   "outputs": [
    {
     "name": "stdout",
     "output_type": "stream",
     "text": [
      "2015-01-27 13:08:24 UTC weekday\n",
      "2015-01-27 13:08:24 UTC weekday\n",
      "2011-10-08 11:53:44 UTC weekend\n",
      "2012-12-01 21:12:12 UTC weekend\n",
      "2012-12-01 21:12:12 UTC weekend\n",
      "2012-12-01 21:12:12 UTC weekend\n"
     ]
    }
   ],
   "source": [
    "#Проверим, как работает функция\n",
    "with open('test-PY-func.csv') as f:\n",
    "    counter = 0\n",
    "    started = True\n",
    "    for line in f:\n",
    "        if started: #Пропуск первой строки\n",
    "            started = False\n",
    "            continue\n",
    "        counter += 1\n",
    "        date = line.split(',')[1]\n",
    "        print(date,detect_weekend(date))\n",
    "        if counter > 5:\n",
    "            break"
   ]
  },
  {
   "cell_type": "code",
   "execution_count": 22,
   "metadata": {},
   "outputs": [],
   "source": [
    "#Соберем из файла информацию отдельно о поездках в будний и выходной день\n",
    "# ВАЖНО!!! В коде нобходимо выполнить доп.обработку даных о количестве пассажиров\n",
    "rides = {'weekday':[],'weekend':[]}\n",
    "with open ('test-PY-func.csv') as f:\n",
    "    next(f) # пропуск строки (еще одни вариант перевода строки)\n",
    "    for line in f:\n",
    "        date = line.split(',')[1]\n",
    "        day_of_week = detect_weekend(date)\n",
    "        pass_count = int(line.split(',')[6].strip())\n",
    "        rides[day_of_week].append(pass_count)\n"
   ]
  },
  {
   "cell_type": "code",
   "execution_count": 23,
   "metadata": {},
   "outputs": [
    {
     "name": "stdout",
     "output_type": "stream",
     "text": [
      "Выходные: 1.7044864664441972\n",
      "Будни: 1.6588610225855618\n"
     ]
    }
   ],
   "source": [
    "print('Выходные:', sum(rides['weekend'])/len(rides['weekend'])) #average quantity of passengers\n",
    "print('Будни:', sum(rides['weekday'])/len(rides['weekday']))"
   ]
  },
  {
   "cell_type": "code",
   "execution_count": 31,
   "metadata": {},
   "outputs": [],
   "source": [
    "#VAR.2\n",
    "def detect_weekend(date_str, specific = False):\n",
    "    date = datetime.strptime(date_str,\"%Y-%m-%d %H:%M:%S %Z\")\n",
    "    if specific == False:\n",
    "        if date.weekday()>=5:\n",
    "            return 'weekend'\n",
    "        return 'weekday'\n",
    "    week = 'Monday Tuesday Wednesday Thursday Friday Sutturday Sunday'.split() \n",
    "    return week[date.weekday()]"
   ]
  },
  {
   "cell_type": "code",
   "execution_count": 32,
   "metadata": {},
   "outputs": [],
   "source": [
    "rides = {}\n",
    "with open ('test-PY-func.csv') as f:\n",
    "    next(f) # пропуск строки (еще одни вариант перевода строки)\n",
    "    for line in f\n",
    "        date = line.split(',')[1]\n",
    "        day_of_week = detect_weekend(date,specific = True)\n",
    "        rides.setdefault(day_of_week,[])\n",
    "        pass_count = int(line.split(',')[6].strip())\n",
    "        rides[day_of_week].append(pass_count)"
   ]
  },
  {
   "cell_type": "code",
   "execution_count": 33,
   "metadata": {},
   "outputs": [
    {
     "name": "stdout",
     "output_type": "stream",
     "text": [
      "Day of Week:Tuesday, passengers:1.7310874704491725\n",
      "Day of Week:Sutturday, passengers:1.7071186440677966\n",
      "Day of Week:Thursday, passengers:1.522108843537415\n",
      "Day of Week:Monday, passengers:1.625171939477304\n",
      "Day of Week:Sunday, passengers:1.7013093289689034\n",
      "Day of Week:Wednesday, passengers:1.7096774193548387\n",
      "Day of Week:Friday, passengers:1.6632891660171474\n"
     ]
    }
   ],
   "source": [
    "for day, passengers in rides.items():\n",
    "    print(\"Day of Week:{}, passengers:{}\".format(day,sum(passengers)/len(passengers)))"
   ]
  },
  {
   "cell_type": "code",
   "execution_count": null,
   "metadata": {},
   "outputs": [],
   "source": []
  }
 ],
 "metadata": {
  "kernelspec": {
   "display_name": "Python 3",
   "language": "python",
   "name": "python3"
  },
  "language_info": {
   "codemirror_mode": {
    "name": "ipython",
    "version": 3
   },
   "file_extension": ".py",
   "mimetype": "text/x-python",
   "name": "python",
   "nbconvert_exporter": "python",
   "pygments_lexer": "ipython3",
   "version": "3.8.3"
  }
 },
 "nbformat": 4,
 "nbformat_minor": 4
}
