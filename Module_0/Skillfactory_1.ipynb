{
 "cells": [
  {
   "cell_type": "code",
   "execution_count": 2,
   "metadata": {},
   "outputs": [
    {
     "name": "stdout",
     "output_type": "stream",
     "text": [
      "Insert wordhf\n",
      "Это слово короткое.\n"
     ]
    }
   ],
   "source": [
    "word=input(\"Insert word\")\n",
    "if len(word)>7:\n",
    "    print(\"Это слово длинное.\")\n",
    "else:\n",
    "    print(\"Это слово короткое.\")\n",
    "    "
   ]
  },
  {
   "cell_type": "code",
   "execution_count": 3,
   "metadata": {},
   "outputs": [
    {
     "name": "stdout",
     "output_type": "stream",
     "text": [
      "Insert word:\n",
      "kg\n",
      "Эх, это не очень редкое слово...\n"
     ]
    }
   ],
   "source": [
    "#4 Редкая буква\n",
    "word=input(\"Insert word:\\n\")\n",
    "if 'ф' in word:\n",
    "    print(\"Ого! Вы ввели редкое слово!\")\n",
    "else:\n",
    "    print(\"Эх, это не очень редкое слово...\")"
   ]
  },
  {
   "cell_type": "code",
   "execution_count": 4,
   "metadata": {},
   "outputs": [
    {
     "name": "stdout",
     "output_type": "stream",
     "text": [
      "Insert word:\n",
      "hj,\n",
      "Insert letter:\n",
      "kh\n",
      "Выбранной буквы нет в введённом слове\n"
     ]
    }
   ],
   "source": [
    "#5 Редкая буква 2\n",
    "word=input(\"Insert word:\\n\")\n",
    "letter=input(\"Insert letter:\\n\")\n",
    "if letter in word:\n",
    "    print(\"Выбранная буква есть в введённом слове\")\n",
    "else:\n",
    "    print(\"Выбранной буквы нет в введённом слове\")"
   ]
  },
  {
   "cell_type": "code",
   "execution_count": 5,
   "metadata": {},
   "outputs": [
    {
     "name": "stdout",
     "output_type": "stream",
     "text": [
      "Квадратный корень из 4 - целое число\n"
     ]
    }
   ],
   "source": [
    "#6\n",
    "number=int(4)\n",
    "b=int(number**(1/2))\n",
    "#Остаток от деления на 1\n",
    "if b % 1==0:\n",
    "    print(\"Квадратный корень из\",int(number),\"- целое число\" )\n",
    "else:\n",
    "    print(\"Квадратный корень из\",int(number),\"- не целое число\")"
   ]
  },
  {
   "cell_type": "code",
   "execution_count": 6,
   "metadata": {},
   "outputs": [
    {
     "name": "stdout",
     "output_type": "stream",
     "text": [
      "Квадратный корень из 4 - целое число\n"
     ]
    }
   ],
   "source": [
    "number=int(4)\n",
    "b=int(number**(1/2))\n",
    "if b % 1==0:\n",
    "    print(\"Квадратный корень из\",int(number),\"- целое число\" )\n",
    "else:\n",
    "    print(\"Квадратный корень из\",int(number),\"- не целое число\")"
   ]
  },
  {
   "cell_type": "code",
   "execution_count": 7,
   "metadata": {},
   "outputs": [
    {
     "name": "stdout",
     "output_type": "stream",
     "text": [
      "He is \"Bad\" guy\n",
      "He is \"Bad\" guy\n",
      "Hello\n",
      "World\n"
     ]
    }
   ],
   "source": [
    "#int\n",
    "a = 5\n",
    "#float\n",
    "b = 5.4\n",
    "#string\n",
    "name = \"Paul\"\n",
    "#bool\n",
    "status = True\n",
    "\n",
    "#Экранирование\n",
    "\n",
    "print(\"He is \\\"Bad\\\" guy\")\n",
    "print('He is \"Bad\" guy')\n",
    "\n",
    "#перевод строки\n",
    "print(\"Hello\\nWorld\")"
   ]
  },
  {
   "cell_type": "code",
   "execution_count": 8,
   "metadata": {},
   "outputs": [
    {
     "name": "stdout",
     "output_type": "stream",
     "text": [
      "insert weight:\n",
      "60\n",
      "insert height:\n",
      "9\n",
      "insert color:\n",
      "red\n",
      "Попробуем поискать ещё...\n"
     ]
    }
   ],
   "source": [
    "weight = int(input('insert weight:\\n'))\n",
    "height = int(input(\"insert height:\\n\"))\n",
    "color = input(\"insert color:\\n\")\n",
    "if weight < 80 and height > 170 and color == \"красный\":\n",
    "    print(\"Ваша половинка нашлась!\")\n",
    "else:\n",
    "    print(\"Попробуем поискать ещё...\")\n",
    "    "
   ]
  },
  {
   "cell_type": "code",
   "execution_count": 10,
   "metadata": {},
   "outputs": [
    {
     "name": "stdout",
     "output_type": "stream",
     "text": [
      "insert number7\n",
      "Вова, в этот раз ты не попал\n"
     ]
    }
   ],
   "source": [
    "a = int(input(\"insert number\"))\n",
    "if a % 2 == 0 or a % 5 == 0 or a % 173 == 0 or a % 821 == 0:\n",
    "    print(\"Вова, это нужное число\")\n",
    "else:\n",
    "    print(\"Вова, в этот раз ты не попал\")"
   ]
  },
  {
   "cell_type": "code",
   "execution_count": null,
   "metadata": {},
   "outputs": [],
   "source": [
    "fav_word = input(\"insert word:\\n\")\n",
    "if fav_word == \"рептилия\" or fav_word == \"питон\" or fav_word ==  \"змея\":\n",
    "    print(\"Python\")\n",
    "elif fav_word == \"плюс\" or fav_word ==  \"плюсы\":\n",
    "    print(\"C++\")\n",
    "elif  fav_word == \"рубин\" or fav_word ==  \"кристалл\":\n",
    "    print(\"Ruby\")\n",
    "else:\n",
    "    print(\"Python\")"
   ]
  },
  {
   "cell_type": "code",
   "execution_count": 11,
   "metadata": {},
   "outputs": [
    {
     "name": "stdout",
     "output_type": "stream",
     "text": [
      "input hour:\n",
      "17\n",
      "input minute:\n",
      "00\n",
      "Преподаватель свободен.\n"
     ]
    }
   ],
   "source": [
    "hour = int(input(\"input hour:\\n\"))\n",
    "minute = int(input(\"input minute:\\n\"))\n",
    "hm = hour*60+minute\n",
    "fr_1 = 10*60\n",
    "fr_2 = 20*60\n",
    "bsy1=10*60+30\n",
    "bsy2=12*60\n",
    "bsy3=13*60+40\n",
    "bsy4=15*60\n",
    "bsy5=18*60\n",
    "bsy6=19*60+30\n",
    "if bsy1<=hm<=bsy2 or bsy3<=hm<=bsy4 or bsy5<=hm<=bsy6 or hm<fr_1 or hm>fr_2:\n",
    "    print(\"Преподаватель занят.\")\n",
    "else:\n",
    "    print(\"Преподаватель свободен.\")"
   ]
  },
  {
   "cell_type": "code",
   "execution_count": 12,
   "metadata": {},
   "outputs": [
    {
     "name": "stdout",
     "output_type": "stream",
     "text": [
      "2\n"
     ]
    }
   ],
   "source": [
    "names = ['Андрей', 'Илья', 'Александр', 'Ипполит', 'Анна', 'Константин', 'Елена', 'Мария']\n",
    "my_list = []\n",
    "for name in names:\n",
    "    my_list.append(len(name))\n",
    "name_length = min(my_list)\n",
    "result = my_list.count(name_length)\n",
    "print(result)"
   ]
  },
  {
   "cell_type": "code",
   "execution_count": 13,
   "metadata": {},
   "outputs": [
    {
     "name": "stdout",
     "output_type": "stream",
     "text": [
      "п\n",
      "д\n",
      "и\n",
      "н\n",
      "к\n"
     ]
    }
   ],
   "source": [
    "#1\n",
    "word = 'подшипник'\n",
    "for i,letter in enumerate(word):\n",
    "    if i%2 == 0:\n",
    "        print(letter)"
   ]
  },
  {
   "cell_type": "code",
   "execution_count": 14,
   "metadata": {},
   "outputs": [
    {
     "name": "stdout",
     "output_type": "stream",
     "text": [
      "2013 год невисокосный\n",
      "2014 год невисокосный\n",
      "2015 год невисокосный\n",
      "2016 год високосный\n",
      "2017 год невисокосный\n",
      "2018 год невисокосный\n",
      "2019 год невисокосный\n",
      "2020 год високосный\n"
     ]
    }
   ],
   "source": [
    "year_1 =  2013\n",
    "year_2 = 2020\n",
    "for j in range(year_1,year_2+1):\n",
    "    if j%4 == 0:\n",
    "        print(j, \"год високосный\")\n",
    "    else:\n",
    "        print(j,\"год невисокосный\")"
   ]
  },
  {
   "cell_type": "code",
   "execution_count": null,
   "metadata": {},
   "outputs": [],
   "source": [
    "#Напишите программу, которая принимает на вход слово (word) и последовательно выводит все русские гласные из этого слова. \n",
    "#Для проверки используйте word = 'Зимушка-зима\n",
    "result = [] # хранит результат\n",
    "word = input(\"input word\") # входное слово\n",
    "vowel = list('ауоыиэяюёе') # набор гласных\n",
    "for ch in word:            # перебираем все буквы входного слова\n",
    "    if ch in vowel:        # проверяем, есть ли буква с писке главных\n",
    "        result.append(ch)  # добавляем в результат\n",
    "print (result)"
   ]
  },
  {
   "cell_type": "code",
   "execution_count": null,
   "metadata": {},
   "outputs": [],
   "source": [
    "#Напишите программу, которая принимает на вход слово (word) и последовательно выводит все русские гласные из этого слова. \n",
    "#Для проверки используйте word = 'Зимушка-зима\n",
    "word = 'Зимушка-зима'\n",
    "vowels = list('ауоыиэяюёе')\n",
    "for ch in word:\n",
    "    if ch in vowels:\n",
    "        print (ch)"
   ]
  },
  {
   "cell_type": "code",
   "execution_count": null,
   "metadata": {},
   "outputs": [],
   "source": [
    "# Попросите пользователя ввести своё имя (name) и с помощью цикла выведите каждую букву этого имени на экран,\n",
    "# порядковым номером с помощью фразы: \"Буква ... в этом имени - ...\" (например, \"Буква 1 в этом имени - С\").\n",
    "# Для проверки используйте name = 'Сергей'\n",
    "name = \"gosha\"\n",
    "for i, letter in enumerate(name): # enumerate возвращает номер символа в строке\n",
    "    print(\"Буква\", i+1, \"в этом имени -\", letter)"
   ]
  },
  {
   "cell_type": "code",
   "execution_count": null,
   "metadata": {},
   "outputs": [],
   "source": [
    "num_1 = int(input('insert No1:\\n'))\n",
    "num_2 = int(input('insert No2:\\n'))\n",
    "for j in range(num_1,num_2+1):\n",
    "    if j%3 == 0 or j%5 == 0 :\n",
    "        if j%2 != 0:\n",
    "            print (j)\n",
    "        "
   ]
  },
  {
   "cell_type": "code",
   "execution_count": null,
   "metadata": {},
   "outputs": [],
   "source": [
    "sum_squares = 0\n",
    "for i in range(20, 30):\n",
    "    sum_squares += i**(1/2)\n",
    "print(sum_squares)"
   ]
  },
  {
   "cell_type": "code",
   "execution_count": null,
   "metadata": {},
   "outputs": [],
   "source": [
    "#Выведите таблицу квадратов и кубов для чисел от 1 до 10 включительно. \n",
    "#(Каждая новая строчка распечатывается через print() и \n",
    "#имеет формат '2 4 8', то есть число, затем его квадрат, а затем его куб)\n",
    "square = 0\n",
    "cube = 0\n",
    "for i in range(1,10+1):\n",
    "    square = i**2\n",
    "    cube = i**3\n",
    "    print(i,square,cube)"
   ]
  },
  {
   "cell_type": "code",
   "execution_count": null,
   "metadata": {},
   "outputs": [],
   "source": [
    "#Напишите программу, которая получает на вход число (number) и последовательно в порядке \n",
    "#возрастания выводит все его делители на экран (само число тоже является своим делителем).\n",
    "\n",
    "number = int(input(\"input No:\\n\"))\n",
    "\n",
    "for i in range(1,number+1):\n",
    "    if number % i == 0:\n",
    "        print (i)"
   ]
  },
  {
   "cell_type": "code",
   "execution_count": null,
   "metadata": {},
   "outputs": [],
   "source": [
    "#Написать программу, которая ищет все общие (не равные 1) делители двух чисел (num_1 и num_2), \n",
    "#введённых пользователем, и последовательно в порядке возрастания выводит их на экран. \n",
    "#Если общих делителей нет, не выводит на экран ничего.\n",
    "num_1 = 12\n",
    "num_2 = 38\n",
    "for i in range (1,num_1+1):\n",
    "    if num_1 % i == 0:\n",
    "        for j in range (1, num_2 + 1):\n",
    "            if num_2 % j == 0 and j == i and j != 1:\n",
    "                print (j)\n",
    "               "
   ]
  },
  {
   "cell_type": "code",
   "execution_count": null,
   "metadata": {},
   "outputs": [],
   "source": [
    "#Написать программу, которая ищет все общие (не равные 1) делители двух чисел (num_1 и num_2), \n",
    "#введённых пользователем, и последовательно в порядке возрастания выводит их на экран. \n",
    "#Если общих делителей нет, не выводит на экран ничего.\n",
    "num_1 = 12\n",
    "num_2 = 38\n",
    "d = [num_1, num_2]\n",
    "for i in range (2,min(list(d))):\n",
    "    if num_1 % i ==0  and num_2 % i ==0:\n",
    "        print(i)"
   ]
  },
  {
   "cell_type": "code",
   "execution_count": null,
   "metadata": {},
   "outputs": [],
   "source": [
    "# Fibonacci\n",
    "f1=f2=1\n",
    "n=int(input('input n'))\n",
    "if n<2:\n",
    "    print (f1,f2)    \n",
    "for i in range(2,n):\n",
    "    f1,f2 = f2,f1+f2\n",
    "print(f2)"
   ]
  },
  {
   "cell_type": "code",
   "execution_count": null,
   "metadata": {},
   "outputs": [],
   "source": [
    "number = int(input())\n",
    "\n",
    "factorial = 1\n",
    "for i in range(1, number + 1):\n",
    "    factorial = factorial*i \n",
    "else:\n",
    "    print('Факториал числа', number, 'равен', factorial)"
   ]
  },
  {
   "cell_type": "code",
   "execution_count": null,
   "metadata": {},
   "outputs": [],
   "source": [
    "f1=1\n",
    "f2=1\n",
    "n=20\n",
    "for i in range(3, n + 1):\n",
    "    f = f1 + f2\n",
    "    f1, f2 = f2, f\n",
    "print(f)"
   ]
  },
  {
   "cell_type": "code",
   "execution_count": null,
   "metadata": {},
   "outputs": [],
   "source": [
    "#Напишите программу, которая выводит таблицу умножения от 1 до 10 для выбранного целого числа (number). Если number = 15, \n",
    "#то строка таблицы имеет вид \"15 X 3 = 45\"\n",
    "number = int(input('input number'))\n",
    "for i in range(1,11):\n",
    "    b=number*i\n",
    "    print(number, \"X\", i, \"=\",b)"
   ]
  },
  {
   "cell_type": "code",
   "execution_count": null,
   "metadata": {},
   "outputs": [],
   "source": [
    "#num_1 = int(input())\n",
    "#num_2 = int(input())\n",
    "num_1 = 1812\n",
    "num_2 = 2500\n",
    "main_list = [num_1,num_2]\n",
    "for i in range(min(main_list),2,-1):\n",
    "    if num_1%i == 0 and num_2%i == 0:\n",
    "        n=i\n",
    "        print(n)\n",
    "        break\n",
    "if n == 0:\n",
    "    print(\"Общих делителей нет\")"
   ]
  },
  {
   "cell_type": "code",
   "execution_count": null,
   "metadata": {},
   "outputs": [],
   "source": [
    "#Напишите программу с использованием оператора continue, которая принимает на вход строку (string), после чего выводит её \n",
    "#посимвольно, но без букв \"а\", \"б\", \"в\". Пример: ввод \"арбуз\", вывод \"руз\"\n",
    "string = \"абстракция\"\n",
    "ex = (\"а\",\"б\",\"в\")\n",
    "for z in (string):\n",
    "    if z in ex:\n",
    "        continue\n",
    "    print(z, end='')"
   ]
  },
  {
   "cell_type": "code",
   "execution_count": null,
   "metadata": {},
   "outputs": [],
   "source": [
    "#Напишите программу, которая анализирует ответы пользователя на вопрос \"Любите ли вы Python?\". \n",
    "#Если ответ пользователя (string) — \"Да\", то программа отвечает: \"Это отлично!\", иначе программа отвечает: \n",
    "#\"Увы, это неправильный ответ\". Программа должна \"спросить\" пользователя максимум 5 раз. \n",
    "#При пяти ответах \"Нет\" выводит: \"Это безнадёжно!\".\n",
    "string = 'нет'\n",
    "y=0\n",
    "for i in range(5):\n",
    "    if string == \"да\"\n",
    "\n",
    "\n",
    "if string in positive:\n",
    "    print(\"Это отлично!\")\n",
    "else:\n",
    "    for i in range(5):\n",
    "        y+=1\n",
    "        if y<5:\n",
    "            print(\"Lp\")\n",
    "        else:\n",
    "            print(\"niii\")"
   ]
  },
  {
   "cell_type": "code",
   "execution_count": null,
   "metadata": {},
   "outputs": [],
   "source": [
    "#Напишите программу, которая анализирует ответы пользователя на вопрос \"Любите ли вы Python?\". \n",
    "#Если ответ пользователя (string) — \"Да\", то программа отвечает: \"Это отлично!\", иначе программа отвечает: \n",
    "#\"Увы, это неправильный ответ\". Программа должна \"спросить\" пользователя максимум 5 раз. \n",
    "#При пяти ответах \"Нет\" выводит: \"Это безнадёжно!\".\n",
    "string = 'нет'\n",
    "positive = \"да\"\n",
    "negative = \"нет\"\n",
    "y=0\n",
    "for i in range(6):\n",
    "    if string == positive:\n",
    "        print(\"Это отлично!\")\n",
    "        break\n",
    "    else:\n",
    "            y+=1\n",
    "            if y<6:\n",
    "                print(\"Увы, это неправильный ответ\")\n",
    "            else:\n",
    "                print(\"Это безнадёжно!\")\n",
    "                break"
   ]
  },
  {
   "cell_type": "code",
   "execution_count": null,
   "metadata": {},
   "outputs": [],
   "source": [
    "number = 173\n",
    "for i in range(2,number):\n",
    "    if number%i == 0:\n",
    "        print(\"Не является простым\")\n",
    "        break\n",
    "else:\n",
    "    print(\"Простое\")"
   ]
  },
  {
   "cell_type": "code",
   "execution_count": null,
   "metadata": {},
   "outputs": [],
   "source": [
    "#Напишите программу, которая проверяет введённую пользователем строку (string) на соответствие правилу: \n",
    "#у строки нет ни одной гласной русской маленькой буквы на каждой чётной позиции. Пример подходящей строки: \n",
    "#\"пока!\" (в Python первый символ является нулевым, поэтому мы считаем первый символ чётным). \n",
    "#Если строка подходит, программа выводит на экран \"Какая хорошая строка!\", а иначе — \"Строка мне не нравится!\".\n",
    "\n",
    "string = \"прелестная строка\"\n",
    "vowels = list('ауоыиэяюёе')\n",
    "for p, letter in enumerate(string):\n",
    "    if p%2 == 0 and letter in vowels:\n",
    "        print(\"Строка мне не нравится!\")\n",
    "        break\n",
    "else:\n",
    "    print(\"Какая хорошая строка!\")"
   ]
  },
  {
   "cell_type": "code",
   "execution_count": null,
   "metadata": {},
   "outputs": [],
   "source": [
    "Y=170000\n",
    "Z=1000000\n",
    "multiplier = 1.1\n",
    "year = 0\n",
    "while Y<Z:\n",
    "    Y=Y*multiplier\n",
    "    year +=1\n",
    "else:\n",
    "    print(year)\n",
    "    "
   ]
  },
  {
   "cell_type": "code",
   "execution_count": null,
   "metadata": {},
   "outputs": [],
   "source": [
    "h_weight = 77\n",
    "permiss_weight = 400\n",
    "act_load= 0\n",
    "while act_load<permiss_weight:\n",
    "    act_load+=h_weight\n",
    "else:\n",
    "    print('Перевес', act_load - permiss_weight, 'кг')"
   ]
  },
  {
   "cell_type": "code",
   "execution_count": null,
   "metadata": {},
   "outputs": [],
   "source": [
    "weight = 77\n",
    "carrying = 400\n",
    "i = 0\n",
    "while weight < carrying:\n",
    "    i += 1\n",
    "    s = i * weight\n",
    "    if s > carrying:\n",
    "        break\n",
    "print('Перевес', s - carrying, 'кг')"
   ]
  },
  {
   "cell_type": "code",
   "execution_count": null,
   "metadata": {},
   "outputs": [],
   "source": []
  }
 ],
 "metadata": {
  "kernelspec": {
   "display_name": "Python 3",
   "language": "python",
   "name": "python3"
  },
  "language_info": {
   "codemirror_mode": {
    "name": "ipython",
    "version": 3
   },
   "file_extension": ".py",
   "mimetype": "text/x-python",
   "name": "python",
   "nbconvert_exporter": "python",
   "pygments_lexer": "ipython3",
   "version": "3.8.3"
  }
 },
 "nbformat": 4,
 "nbformat_minor": 4
}
