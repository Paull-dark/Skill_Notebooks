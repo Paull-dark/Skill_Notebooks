{
 "cells": [
  {
   "cell_type": "code",
   "execution_count": 1,
   "metadata": {},
   "outputs": [],
   "source": [
    "import numpy as np\n",
    "import matplotlib.pyplot as plt\n",
    "import math\n",
    "from mpl_toolkits.mplot3d import Axes3D\n",
    "import pandas as pd\n",
    "import cvxpy\n",
    "\n",
    "import seaborn as sns # библиотека для визуализации статистических данных\n",
    "import matplotlib.pyplot as plt \n",
    "from sympy import *"
   ]
  },
  {
   "cell_type": "code",
   "execution_count": 3,
   "metadata": {},
   "outputs": [
    {
     "name": "stdout",
     "output_type": "stream",
     "text": [
      "Vector b [[ 0  0 10]]\n",
      "Projection: [[8.8817842e-16 8.8817842e-16 1.0000000e+01]]\n",
      "Magnitide of projected vector: 10.0\n",
      "[[5.]\n",
      " [5.]\n",
      " [5.]]\n"
     ]
    }
   ],
   "source": [
    "# vector b\n",
    "b = np.array([[0],[0],[10]])\n",
    "\n",
    "# matrix A\n",
    "A = np.array([[0,-1,1],[-1,0,1],[1,1,0]])\n",
    "\n",
    "\n",
    "# find vector Ax (projection of vector b)\n",
    "x = np.linalg.solve(A.T@A,A.T@b)\n",
    "Ax = A@x\n",
    "\n",
    "print(f'Vector b {b.T}')\n",
    "print(f'Projection: {Ax.T}')\n",
    "# Magnitude of vector projected vector Ax\n",
    "print(f'Magnitide of projected vector: {np.linalg.norm(Ax)}')\n",
    "print(x)"
   ]
  },
  {
   "cell_type": "code",
   "execution_count": 4,
   "metadata": {},
   "outputs": [],
   "source": [
    "import sympy as sp"
   ]
  },
  {
   "cell_type": "markdown",
   "metadata": {},
   "source": [
    "Задание 2.3 Прямоугольный параллелепипед имеет объем 1 м\n",
    "\n",
    "Какова минимальная площадь его поверхности?"
   ]
  },
  {
   "cell_type": "code",
   "execution_count": 5,
   "metadata": {},
   "outputs": [
    {
     "name": "stderr",
     "output_type": "stream",
     "text": [
      "C:\\Users\\wangshu202040\\Anaconda3\\lib\\site-packages\\sympy\\__init__.py:672: SymPyDeprecationWarning: \n",
      "\n",
      "importing sympy.solvers.solvers with 'from sympy import *' has been\n",
      "deprecated since SymPy 1.6. Use import sympy.solvers.solvers instead.\n",
      "See https://github.com/sympy/sympy/issues/18245 for more info.\n",
      "\n",
      "  self.Warn(\n"
     ]
    },
    {
     "data": {
      "text/plain": [
       "[(1, 1, 1, -4),\n",
       " (-1/2 - sqrt(3)*I/2, -1/2 - sqrt(3)*I/2, -1/2 - sqrt(3)*I/2, 2 - 2*sqrt(3)*I),\n",
       " (-1/2 + sqrt(3)*I/2, -1/2 + sqrt(3)*I/2, -1/2 + sqrt(3)*I/2, 2 + 2*sqrt(3)*I)]"
      ]
     },
     "execution_count": 5,
     "metadata": {},
     "output_type": "execute_result"
    }
   ],
   "source": [
    "a, b, c, λ = sp.symbols('a, b, c, λ')\n",
    "\n",
    "f1 = 2*b + 2*c + λ*b*c\n",
    "f2 = 2*a + 2*c + λ*a*c\n",
    "f3 = 2*a + 2*b + λ*a*b\n",
    "f4 = a*b*c - 1\n",
    "\n",
    "sp.solvers.solve((f1, f2, f3, f4), (a, b, c, λ))"
   ]
  },
  {
   "cell_type": "code",
   "execution_count": 8,
   "metadata": {},
   "outputs": [
    {
     "name": "stderr",
     "output_type": "stream",
     "text": [
      "C:\\Users\\wangshu202040\\Anaconda3\\lib\\site-packages\\sympy\\__init__.py:672: SymPyDeprecationWarning: \n",
      "\n",
      "importing sympy.solvers.solvers with 'from sympy import *' has been\n",
      "deprecated since SymPy 1.6. Use import sympy.solvers.solvers instead.\n",
      "See https://github.com/sympy/sympy/issues/18245 for more info.\n",
      "\n",
      "  self.Warn(\n"
     ]
    },
    {
     "data": {
      "text/plain": [
       "[(5, 5, 5, 0, -I), (5, 5, 5, 0, I), (6, 4, 6, 2, 0)]"
      ]
     },
     "execution_count": 8,
     "metadata": {},
     "output_type": "execute_result"
    }
   ],
   "source": [
    "x1,x2,l1,l2,x1t = sp.symbols('x1,x2,l1,l2,x1t')\n",
    "f1 = -x2+l1-l2\n",
    "f2 = -x1+l1\n",
    "f3 = 2*l2*x1t\n",
    "f4 = x1+x2-10\n",
    "f5 = -x1+6+(x1t**2)\n",
    "sp.solvers.solve((f1,f2,f3,f4,f5),(x1,x2,l1,l2,x1t))"
   ]
  },
  {
   "cell_type": "markdown",
   "metadata": {},
   "source": [
    "Допустим, у нас есть $n$ товаров с заданными стоимостями $v_i$ и массой $w_i$. В сумку убирается $С$ кг. Сколько какого товара взять, чтобы сумма всех стоимостей товаров была наибольшей?"
   ]
  },
  {
   "cell_type": "code",
   "execution_count": 11,
   "metadata": {},
   "outputs": [],
   "source": [
    "values = [4, 2, 1, 7, 3, 6]\n",
    "weights = [5, 9, 8, 2, 6, 5]\n",
    "C = 15\n",
    "n = 6"
   ]
  },
  {
   "cell_type": "markdown",
   "metadata": {},
   "source": [
    "Сформулируем задачу:\n",
    "$$\\max\\sum v_i x_i$$\n",
    "$$\\sum w_i x_i \\leq C $$"
   ]
  },
  {
   "cell_type": "markdown",
   "metadata": {},
   "source": [
    "Как должна выглядеть задача:\n",
    "$$\\min c^T x$$\n",
    "$$A x \\leq b $$"
   ]
  },
  {
   "cell_type": "markdown",
   "metadata": {},
   "source": [
    "Получается, что $c=-v$, $A=w^T$, $b=(C)$"
   ]
  },
  {
   "cell_type": "code",
   "execution_count": 17,
   "metadata": {},
   "outputs": [],
   "source": [
    "c = - np.array(values)     # cost of products\n",
    "A = np.array((weights))         #shape = (6,)\n",
    "A = np.expand_dims(A, 0)      #shape = (1,6)\n",
    "b = np.array([C])"
   ]
  },
  {
   "cell_type": "code",
   "execution_count": 19,
   "metadata": {},
   "outputs": [],
   "source": [
    "from scipy.optimize import linprog"
   ]
  },
  {
   "cell_type": "code",
   "execution_count": 20,
   "metadata": {},
   "outputs": [
    {
     "data": {
      "text/plain": [
       "     con: array([], dtype=float64)\n",
       "     fun: -52.50000000003077\n",
       " message: 'Optimization terminated successfully.'\n",
       "     nit: 5\n",
       "   slack: array([-2.2495783e-11])\n",
       "  status: 0\n",
       " success: True\n",
       "       x: array([6.18738532e-14, 1.05853306e-12, 1.21475943e-13, 7.50000000e+00,\n",
       "       4.00246692e-13, 4.71394162e-13])"
      ]
     },
     "execution_count": 20,
     "metadata": {},
     "output_type": "execute_result"
    }
   ],
   "source": [
    "linprog(c=c, A_ub=A, b_ub=b)"
   ]
  },
  {
   "cell_type": "code",
   "execution_count": 10,
   "metadata": {},
   "outputs": [
    {
     "data": {
      "text/plain": [
       "1900.0000000102355"
      ]
     },
     "execution_count": 10,
     "metadata": {},
     "output_type": "execute_result"
    }
   ],
   "source": [
    "c = np.array([2, 5, 3, 7, 7, 6])\n",
    "x = cvxpy.Variable(shape=6, integer=True)\n",
    "A = np.array([[1, 1, 1, 0, 0, 0], [0, 0, 0, 1, 1, 1]])\n",
    "b = np.array([180, 220])\n",
    "\n",
    "constraint = [(A@x <= b),\n",
    "              x[0]+x[3] == 110,\n",
    "              x[1]+x[4] == 150,\n",
    "              x[2]+x[5] == 140,\n",
    "              x >= 0]\n",
    "\n",
    "total_value = c@x\n",
    "problem = cvxpy.Problem(cvxpy.Minimize(total_value),constraints=constraint)\n",
    "problem.solve(solver='ECOS_BB')\n",
    "\n",
    "\n",
    "# c = np.array([2, 5, 3, 7, 7, 6])\n",
    "# x = cvxpy.Variable(shape=6, integer=True)\n",
    "# A = np.array([[1, 1, 1, 0, 0, 0], [0, 0, 0, 1, 1, 1]])\n",
    "# b = np.array([180, 220])\n",
    "\n",
    "# constraint = [(A @ x <= b), \n",
    "#                x[0] + x[3] == 110, \n",
    "#                x[1] + x[4] == 150, \n",
    "#                x[2] + x[5] == 140, \n",
    "#                x >= 0]\n",
    "\n",
    "# total_value = c @ x\n",
    "\n",
    "# problem = cvxpy.Problem(cvxpy.Minimize(total_value), constraints=constraint)\n",
    "# problem.solve(solver='ECOS_BB')"
   ]
  },
  {
   "cell_type": "code",
   "execution_count": 12,
   "metadata": {},
   "outputs": [
    {
     "data": {
      "text/plain": [
       "1900.0000000102355"
      ]
     },
     "execution_count": 12,
     "metadata": {},
     "output_type": "execute_result"
    }
   ],
   "source": [
    "c = np.array([2, 5, 3, 7, 7, 6])\n",
    "x = cvxpy.Variable(shape=6, integer=True)\n",
    "A = np.array([[1, 1, 1, 0, 0, 0], [0, 0, 0, 1, 1, 1]])\n",
    "b = np.array([180, 220])\n",
    "\n",
    "constraint = [(A @ x <= b), \n",
    "               x[0] + x[3] == 110, \n",
    "               x[1] + x[4] == 150, \n",
    "               x[2] + x[5] == 140, \n",
    "               x >= 0]\n",
    "\n",
    "total_value = c @ x\n",
    "\n",
    "problem = cvxpy.Problem(cvxpy.Minimize(total_value), constraints=constraint)\n",
    "problem.solve(solver='ECOS_BB')"
   ]
  },
  {
   "cell_type": "code",
   "execution_count": 13,
   "metadata": {},
   "outputs": [
    {
     "data": {
      "text/plain": [
       "Variable((6,), integer=True)"
      ]
     },
     "execution_count": 13,
     "metadata": {},
     "output_type": "execute_result"
    }
   ],
   "source": [
    "x"
   ]
  },
  {
   "cell_type": "code",
   "execution_count": null,
   "metadata": {},
   "outputs": [],
   "source": []
  }
 ],
 "metadata": {
  "kernelspec": {
   "display_name": "Python 3",
   "language": "python",
   "name": "python3"
  },
  "language_info": {
   "codemirror_mode": {
    "name": "ipython",
    "version": 3
   },
   "file_extension": ".py",
   "mimetype": "text/x-python",
   "name": "python",
   "nbconvert_exporter": "python",
   "pygments_lexer": "ipython3",
   "version": "3.8.3"
  }
 },
 "nbformat": 4,
 "nbformat_minor": 4
}
